{
 "cells": [
  {
   "cell_type": "markdown",
   "metadata": {},
   "source": [
    "S&P500 stock data:\n",
    "http://pages.swcp.com/stocks/\n",
    "\n",
    "\n",
    "n = pd.read_csv('http://chart.finance.yahoo.com/table.csv?s=ACIU&a=7&b=9&c=1996&d=10&e=19&f=2016&g=d&ignore=.csv')\n",
    "\n",
    "http://www.eoddata.com/download.aspx"
   ]
  },
  {
   "cell_type": "code",
   "execution_count": 703,
   "metadata": {
    "collapsed": true
   },
   "outputs": [],
   "source": [
    "from sqlalchemy.orm import sessionmaker\n",
    "from sqlalchemy import Table\n",
    "from sqlalchemy import create_engine, inspect\n",
    "from sqlalchemy import MetaData\n",
    "from edgerdb import helper_functions as hlp\n",
    "import pandas as pd\n",
    "import numpy as np\n",
    "import matplotlib.pyplot as plt\n",
    "import os\n",
    "import requests\n",
    "from yahoo_finance import Share\n",
    "from pprint import pprint\n",
    "\n",
    "\n",
    "meta = MetaData()\n",
    "\n",
    "engine = create_engine('postgresql://analyst:@localhost:5432/edgar')\n",
    "\n",
    "messages = Table('filings', meta, autoload=True, autoload_with=engine)\n",
    "\n",
    "def sql_to_df(query, connection, *args, **kwargs):\n",
    "    df = pd.read_sql(query, connection, *args, **kwargs)\n",
    "    connection.close()\n",
    "    return df"
   ]
  },
  {
   "cell_type": "code",
   "execution_count": 704,
   "metadata": {
    "collapsed": true
   },
   "outputs": [],
   "source": [
    "%matplotlib inline"
   ]
  },
  {
   "cell_type": "markdown",
   "metadata": {},
   "source": [
    "<h2>Load table containing cik_symbol matches from database</h2>"
   ]
  },
  {
   "cell_type": "code",
   "execution_count": 2,
   "metadata": {
    "collapsed": false
   },
   "outputs": [],
   "source": [
    "cik_and_tickers = sql_to_df('select * from temp_cik_to_ticker;', engine.connect()).set_index(keys='index')"
   ]
  },
  {
   "cell_type": "code",
   "execution_count": 3,
   "metadata": {
    "collapsed": false
   },
   "outputs": [
    {
     "data": {
      "text/html": [
       "<div>\n",
       "<table border=\"1\" class=\"dataframe\">\n",
       "  <thead>\n",
       "    <tr style=\"text-align: right;\">\n",
       "      <th></th>\n",
       "      <th>cik</th>\n",
       "      <th>company_name</th>\n",
       "      <th>exchange</th>\n",
       "      <th>isactive</th>\n",
       "      <th>symbol</th>\n",
       "    </tr>\n",
       "    <tr>\n",
       "      <th>index</th>\n",
       "      <th></th>\n",
       "      <th></th>\n",
       "      <th></th>\n",
       "      <th></th>\n",
       "      <th></th>\n",
       "    </tr>\n",
       "  </thead>\n",
       "  <tbody>\n",
       "    <tr>\n",
       "      <th>0</th>\n",
       "      <td>1591890</td>\n",
       "      <td>1347 PROPERTY INSURANCE HOLDINGS, INC.</td>\n",
       "      <td>NASDAQ</td>\n",
       "      <td>1</td>\n",
       "      <td>PIH</td>\n",
       "    </tr>\n",
       "    <tr>\n",
       "      <th>1</th>\n",
       "      <td>1508475</td>\n",
       "      <td>21VIANET GROUP, INC.</td>\n",
       "      <td>NASDAQ</td>\n",
       "      <td>1</td>\n",
       "      <td>VNET</td>\n",
       "    </tr>\n",
       "    <tr>\n",
       "      <th>2</th>\n",
       "      <td>1459417</td>\n",
       "      <td>2U, INC.</td>\n",
       "      <td>NASDAQ</td>\n",
       "      <td>1</td>\n",
       "      <td>TWOU</td>\n",
       "    </tr>\n",
       "    <tr>\n",
       "      <th>3</th>\n",
       "      <td>1295484</td>\n",
       "      <td>51JOB, INC.</td>\n",
       "      <td>NASDAQ</td>\n",
       "      <td>1</td>\n",
       "      <td>JOBS</td>\n",
       "    </tr>\n",
       "    <tr>\n",
       "      <th>4</th>\n",
       "      <td>1295484</td>\n",
       "      <td>51JOB, INC.</td>\n",
       "      <td>NASDAQ</td>\n",
       "      <td>1</td>\n",
       "      <td>JOBS</td>\n",
       "    </tr>\n",
       "  </tbody>\n",
       "</table>\n",
       "</div>"
      ],
      "text/plain": [
       "           cik                            company_name exchange  isactive  \\\n",
       "index                                                                       \n",
       "0      1591890  1347 PROPERTY INSURANCE HOLDINGS, INC.   NASDAQ         1   \n",
       "1      1508475                    21VIANET GROUP, INC.   NASDAQ         1   \n",
       "2      1459417                                2U, INC.   NASDAQ         1   \n",
       "3      1295484                             51JOB, INC.   NASDAQ         1   \n",
       "4      1295484                             51JOB, INC.   NASDAQ         1   \n",
       "\n",
       "      symbol  \n",
       "index         \n",
       "0        PIH  \n",
       "1       VNET  \n",
       "2       TWOU  \n",
       "3       JOBS  \n",
       "4       JOBS  "
      ]
     },
     "execution_count": 3,
     "metadata": {},
     "output_type": "execute_result"
    }
   ],
   "source": [
    "cik_and_tickers.head()"
   ]
  },
  {
   "cell_type": "markdown",
   "metadata": {
    "collapsed": true
   },
   "source": [
    "<h2>The below cell is for storing functions</h2>"
   ]
  },
  {
   "cell_type": "code",
   "execution_count": 1069,
   "metadata": {
    "collapsed": false
   },
   "outputs": [],
   "source": [
    "def in_both(first_li, second_li):\n",
    "    both = []\n",
    "    for x in second_li:\n",
    "        if x in first_li:\n",
    "            both.append(x)\n",
    "    return both\n",
    "\n",
    "\n",
    "def find_csv_files_in_dir(directory):\n",
    "    paths = []\n",
    "    for subdir, dirs, files in os.walk(directory):\n",
    "        for file in files:\n",
    "            filepath = subdir + os.sep + file\n",
    "            if filepath.endswith(\".csv\"):\n",
    "                paths.append(filepath)\n",
    "    return paths\n",
    "\n",
    "\n",
    "def concat_eod_data(list_of_paths):\n",
    "    '''\n",
    "        This functions takes as input a list of paths to csv files containg eod stock data and join the files\n",
    "        into a single dataframe.\n",
    "    '''\n",
    "    df = pd.DataFrame(columns=['Symbol', 'Open', 'High', 'Low', 'Close', 'Volume'])\n",
    "    for path in list_of_paths:\n",
    "        temp_df = pd.read_csv(path, index_col='Date',\n",
    "                             parse_dates=True)\n",
    "        df = pd.concat([df, temp_df])\n",
    "    return df\n",
    "\n",
    "\n",
    "def insert(df, entries):\n",
    "    \"\"\"\n",
    "        Takes a set of values and inserts them into a dataframe sequentially where the index is\n",
    "        sequential and continuous.\n",
    "    \"\"\"\n",
    "    try:\n",
    "        df.loc[max(df.index) + 1] = entries\n",
    "    except ValueError:\n",
    "        df.loc[0] = entries\n",
    "        \n",
    "        \n",
    "def create_spy_df(start_date, end_date):\n",
    "    spy = Share('SPY')\n",
    "    spy_5_year = spy.get_historical(start_date, end_date)        \n",
    "    spy_df = pd.DataFrame(columns=['Adj_Close', 'Open','High', 'Close', 'Symbol', 'Volume', 'Low', 'Date'])\n",
    "\n",
    "    for val in range(len(spy_5_year)):\n",
    "        values = []\n",
    "        for x in spy_5_year[val]:\n",
    "            values.append(spy_5_year[val][x])\n",
    "        insert(spy_df, values)\n",
    "        \n",
    "    spy_df = spy_df.set_index(spy_df['Date'])\n",
    "    spy_df = spy_df[['Symbol', 'Open', 'High', 'Low', 'Adj_Close', 'Volume']]\n",
    "    spy_df = spy_df.rename(columns={'Adj_Close': 'Close'})\n",
    "    return spy_df"
   ]
  },
  {
   "cell_type": "markdown",
   "metadata": {},
   "source": [
    "<h2> Create spy_df from yahoo data </h2>"
   ]
  },
  {
   "cell_type": "code",
   "execution_count": null,
   "metadata": {
    "collapsed": true
   },
   "outputs": [],
   "source": [
    "spy_df = create_spy_df('2011-01-01', '2016-11-03')\n",
    "spy_df.to_csv('data/spy2011-2016.csv')"
   ]
  },
  {
   "cell_type": "markdown",
   "metadata": {},
   "source": [
    "<h2>Create five_year_nasdaq_df from directory of csv's</h2>"
   ]
  },
  {
   "cell_type": "code",
   "execution_count": 1086,
   "metadata": {
    "collapsed": false
   },
   "outputs": [],
   "source": [
    "five_year_nasdaq_files = find_csv_files_in_dir('data/5_YEAR_NASDAQ')\n",
    "five_year_nasdaq_df = concat_eod_data(five_year_nasdaq_files)\n",
    "#five_year_nasdaq_df['Date'] = five_year_nasdaq_df['Date'].apply(lambda x: x.replace(x[3:6], months[x[3:6]]))\n",
    "#five_year_nasdaq_df['Date'] = five_year_nasdaq_df['Date'].apply(lambda x: x.split('-')[2] + x.split('-')[1] + x.split('-')[0])\n"
   ]
  },
  {
   "cell_type": "markdown",
   "metadata": {},
   "source": [
    "<h2>Add SPY data to five_year_nasdaq_df as a baseline</h2>"
   ]
  },
  {
   "cell_type": "code",
   "execution_count": 1087,
   "metadata": {
    "collapsed": false
   },
   "outputs": [
    {
     "data": {
      "text/html": [
       "<div>\n",
       "<table border=\"1\" class=\"dataframe\">\n",
       "  <thead>\n",
       "    <tr style=\"text-align: right;\">\n",
       "      <th></th>\n",
       "      <th>Symbol</th>\n",
       "      <th>Open</th>\n",
       "      <th>High</th>\n",
       "      <th>Low</th>\n",
       "      <th>Close</th>\n",
       "      <th>Volume</th>\n",
       "    </tr>\n",
       "  </thead>\n",
       "  <tbody>\n",
       "    <tr>\n",
       "      <th>2016-11-03</th>\n",
       "      <td>SPY</td>\n",
       "      <td>209.990005</td>\n",
       "      <td>210.240005</td>\n",
       "      <td>208.460007</td>\n",
       "      <td>208.779999</td>\n",
       "      <td>88939300</td>\n",
       "    </tr>\n",
       "    <tr>\n",
       "      <th>2016-11-02</th>\n",
       "      <td>SPY</td>\n",
       "      <td>210.649994</td>\n",
       "      <td>211.100006</td>\n",
       "      <td>209.229996</td>\n",
       "      <td>209.740005</td>\n",
       "      <td>103330800</td>\n",
       "    </tr>\n",
       "    <tr>\n",
       "      <th>2016-11-01</th>\n",
       "      <td>SPY</td>\n",
       "      <td>212.929993</td>\n",
       "      <td>212.990005</td>\n",
       "      <td>209.600006</td>\n",
       "      <td>211.009995</td>\n",
       "      <td>122781800</td>\n",
       "    </tr>\n",
       "    <tr>\n",
       "      <th>2016-10-31</th>\n",
       "      <td>SPY</td>\n",
       "      <td>212.929993</td>\n",
       "      <td>213.190002</td>\n",
       "      <td>212.360001</td>\n",
       "      <td>212.550003</td>\n",
       "      <td>61272500</td>\n",
       "    </tr>\n",
       "    <tr>\n",
       "      <th>2016-10-28</th>\n",
       "      <td>SPY</td>\n",
       "      <td>213.139999</td>\n",
       "      <td>213.929993</td>\n",
       "      <td>211.710007</td>\n",
       "      <td>212.539993</td>\n",
       "      <td>140623200</td>\n",
       "    </tr>\n",
       "  </tbody>\n",
       "</table>\n",
       "</div>"
      ],
      "text/plain": [
       "           Symbol        Open        High         Low       Close     Volume\n",
       "2016-11-03    SPY  209.990005  210.240005  208.460007  208.779999   88939300\n",
       "2016-11-02    SPY  210.649994  211.100006  209.229996  209.740005  103330800\n",
       "2016-11-01    SPY  212.929993  212.990005  209.600006  211.009995  122781800\n",
       "2016-10-31    SPY  212.929993  213.190002  212.360001  212.550003   61272500\n",
       "2016-10-28    SPY  213.139999  213.929993  211.710007  212.539993  140623200"
      ]
     },
     "execution_count": 1087,
     "metadata": {},
     "output_type": "execute_result"
    }
   ],
   "source": [
    "five_year_nasdaq_df = pd.concat([five_year_nasdaq_df, spy_df])\n",
    "five_year_nasdaq_df[five_year_nasdaq_df['Symbol'] == 'SPY'].head()"
   ]
  },
  {
   "cell_type": "markdown",
   "metadata": {},
   "source": [
    "<h2>Look for tickers in both cik_symbol list and nasdaq_df</h2>\n",
    "\n",
    "<p>This will help to narrow down data to use when running analysis on the filings.</p>"
   ]
  },
  {
   "cell_type": "code",
   "execution_count": 710,
   "metadata": {
    "collapsed": false
   },
   "outputs": [],
   "source": [
    "tickers = cik_and_tickers['symbol'].tolist()\n",
    "tickers_in_df = five_year_nasdaq_df['Symbol'].unique().tolist()\n",
    "tickers_in_both = in_both(tickers_in_df, tickers)\n",
    "tickers_cik_in_both = cik_and_tickers[cik_and_tickers['symbol'].isin(tickers_in_both)]"
   ]
  },
  {
   "cell_type": "markdown",
   "metadata": {},
   "source": [
    "<h2>Load filings table to a pandas dataframe</h2>"
   ]
  },
  {
   "cell_type": "code",
   "execution_count": 1112,
   "metadata": {
    "collapsed": false
   },
   "outputs": [],
   "source": [
    "filings = sql_to_df('select * from filings where cik in {};'.format(tuple(tickers_cik_in_both['cik'])), engine.connect(), index_col='date')\n",
    "#filings.index = filings.index.map(lambda x: x[0:4] + '-' + x[4:6] + '-' + x[6:8])"
   ]
  },
  {
   "cell_type": "code",
   "execution_count": 1113,
   "metadata": {
    "collapsed": false
   },
   "outputs": [
    {
     "data": {
      "text/plain": [
       "1307357"
      ]
     },
     "execution_count": 1113,
     "metadata": {},
     "output_type": "execute_result"
    }
   ],
   "source": [
    "len(filings)"
   ]
  },
  {
   "cell_type": "markdown",
   "metadata": {},
   "source": [
    "<h2>Create dataframe of both companies in both sets of data</h2>\n",
    "\n",
    "<p>This will need to be corrected because the data is useless without a date.</p>"
   ]
  },
  {
   "cell_type": "code",
   "execution_count": 860,
   "metadata": {
    "collapsed": false
   },
   "outputs": [],
   "source": [
    "tickers_cik = pd.DataFrame(tickers_cik_in_both, columns=['cik', 'symbol'])\n",
    "symbol_to_filings = pd.merge(left=filings, right=tickers_cik[tickers_cik['cik'].isin(\n",
    "            tickers_cik['cik'].unique())], left_on='cik', right_on='cik')\n",
    "#symbol_to_filings = pd.DataFrame(symbol_to_filings, columns=['cik', 'symbol', 'company_name', 'type', 'date', 'path'])"
   ]
  },
  {
   "cell_type": "code",
   "execution_count": 861,
   "metadata": {
    "collapsed": false
   },
   "outputs": [
    {
     "data": {
      "text/html": [
       "<div>\n",
       "<table border=\"1\" class=\"dataframe\">\n",
       "  <thead>\n",
       "    <tr style=\"text-align: right;\">\n",
       "      <th></th>\n",
       "      <th>cik</th>\n",
       "      <th>company_name</th>\n",
       "      <th>type</th>\n",
       "      <th>path</th>\n",
       "      <th>symbol</th>\n",
       "    </tr>\n",
       "  </thead>\n",
       "  <tbody>\n",
       "    <tr>\n",
       "      <th>0</th>\n",
       "      <td>2034</td>\n",
       "      <td>ACETO CORP</td>\n",
       "      <td>10-K</td>\n",
       "      <td>edgar/data/2034/0000002034-95-000005.txt</td>\n",
       "      <td>ACET</td>\n",
       "    </tr>\n",
       "    <tr>\n",
       "      <th>1</th>\n",
       "      <td>2034</td>\n",
       "      <td>ACETO CORP</td>\n",
       "      <td>10-K</td>\n",
       "      <td>edgar/data/2034/0000002034-96-000004.txt</td>\n",
       "      <td>ACET</td>\n",
       "    </tr>\n",
       "    <tr>\n",
       "      <th>2</th>\n",
       "      <td>2034</td>\n",
       "      <td>ACETO CORP</td>\n",
       "      <td>10-K</td>\n",
       "      <td>edgar/data/2034/0000002034-97-000005.txt</td>\n",
       "      <td>ACET</td>\n",
       "    </tr>\n",
       "    <tr>\n",
       "      <th>3</th>\n",
       "      <td>2034</td>\n",
       "      <td>ACETO CORP</td>\n",
       "      <td>10-K</td>\n",
       "      <td>edgar/data/2034/0000002034-98-000003.txt</td>\n",
       "      <td>ACET</td>\n",
       "    </tr>\n",
       "    <tr>\n",
       "      <th>4</th>\n",
       "      <td>2034</td>\n",
       "      <td>ACETO CORP</td>\n",
       "      <td>10-K</td>\n",
       "      <td>edgar/data/2034/0000002034-99-000008.txt</td>\n",
       "      <td>ACET</td>\n",
       "    </tr>\n",
       "  </tbody>\n",
       "</table>\n",
       "</div>"
      ],
      "text/plain": [
       "    cik company_name  type                                      path symbol\n",
       "0  2034   ACETO CORP  10-K  edgar/data/2034/0000002034-95-000005.txt   ACET\n",
       "1  2034   ACETO CORP  10-K  edgar/data/2034/0000002034-96-000004.txt   ACET\n",
       "2  2034   ACETO CORP  10-K  edgar/data/2034/0000002034-97-000005.txt   ACET\n",
       "3  2034   ACETO CORP  10-K  edgar/data/2034/0000002034-98-000003.txt   ACET\n",
       "4  2034   ACETO CORP  10-K  edgar/data/2034/0000002034-99-000008.txt   ACET"
      ]
     },
     "execution_count": 861,
     "metadata": {},
     "output_type": "execute_result"
    }
   ],
   "source": [
    "symbol_to_filings.head()"
   ]
  },
  {
   "cell_type": "markdown",
   "metadata": {},
   "source": [
    "<h2>Example of date splicing</h2>"
   ]
  },
  {
   "cell_type": "code",
   "execution_count": 1107,
   "metadata": {
    "collapsed": false
   },
   "outputs": [
    {
     "data": {
      "text/html": [
       "<div>\n",
       "<table border=\"1\" class=\"dataframe\">\n",
       "  <thead>\n",
       "    <tr style=\"text-align: right;\">\n",
       "      <th></th>\n",
       "      <th>cik</th>\n",
       "      <th>company_name</th>\n",
       "      <th>type</th>\n",
       "      <th>date</th>\n",
       "      <th>path</th>\n",
       "    </tr>\n",
       "  </thead>\n",
       "  <tbody>\n",
       "  </tbody>\n",
       "</table>\n",
       "</div>"
      ],
      "text/plain": [
       "Empty DataFrame\n",
       "Columns: [cik, company_name, type, date, path]\n",
       "Index: []"
      ]
     },
     "execution_count": 1107,
     "metadata": {},
     "output_type": "execute_result"
    }
   ],
   "source": [
    "dates = pd.date_range('1994-01-22', '1994-04-26')\n",
    "df = pd.DataFrame(index=dates)\n",
    "temp_df = pd.DataFrame(filings)\n",
    "df = df.join(temp_df)\n",
    "df = df.dropna()\n",
    "df.head()"
   ]
  },
  {
   "cell_type": "markdown",
   "metadata": {},
   "source": [
    "<h2>Example analysis with Apple INC</h2>"
   ]
  },
  {
   "cell_type": "code",
   "execution_count": 1105,
   "metadata": {
    "collapsed": false
   },
   "outputs": [
    {
     "data": {
      "text/html": [
       "<div>\n",
       "<table border=\"1\" class=\"dataframe\">\n",
       "  <thead>\n",
       "    <tr style=\"text-align: right;\">\n",
       "      <th></th>\n",
       "      <th>Close</th>\n",
       "    </tr>\n",
       "  </thead>\n",
       "  <tbody>\n",
       "    <tr>\n",
       "      <th>2011-01-03</th>\n",
       "      <td>47.0814</td>\n",
       "    </tr>\n",
       "    <tr>\n",
       "      <th>2011-01-04</th>\n",
       "      <td>47.3271</td>\n",
       "    </tr>\n",
       "    <tr>\n",
       "      <th>2011-01-05</th>\n",
       "      <td>47.7143</td>\n",
       "    </tr>\n",
       "    <tr>\n",
       "      <th>2011-01-06</th>\n",
       "      <td>47.6757</td>\n",
       "    </tr>\n",
       "    <tr>\n",
       "      <th>2011-01-07</th>\n",
       "      <td>48.0171</td>\n",
       "    </tr>\n",
       "  </tbody>\n",
       "</table>\n",
       "</div>"
      ],
      "text/plain": [
       "              Close\n",
       "2011-01-03  47.0814\n",
       "2011-01-04  47.3271\n",
       "2011-01-05  47.7143\n",
       "2011-01-06  47.6757\n",
       "2011-01-07  48.0171"
      ]
     },
     "execution_count": 1105,
     "metadata": {},
     "output_type": "execute_result"
    }
   ],
   "source": [
    "dates = pd.date_range('2011-01-02', '2011-01-26')\n",
    "aapl_stock_price = pd.DataFrame(index=dates)\n",
    "temp_df = pd.DataFrame(five_year_nasdaq_df[five_year_nasdaq_df['Symbol'] ==\"AAPL\"], columns=['Close'])\n",
    "aapl_stock_price = aapl_stock_price.join(temp_df)\n",
    "aapl_stock_price = aapl_stock_price.dropna()\n",
    "aapl_stock_price.head()"
   ]
  },
  {
   "cell_type": "code",
   "execution_count": 1096,
   "metadata": {
    "collapsed": false
   },
   "outputs": [
    {
     "name": "stdout",
     "output_type": "stream",
     "text": [
      "          cik company_name exchange  isactive symbol\n",
      "index                                               \n",
      "6580   320193    APPLE INC   NASDAQ         1   AAPL\n"
     ]
    }
   ],
   "source": [
    "aapl_cik = cik_and_tickers[cik_and_tickers['symbol'] == 'AAPL']\n",
    "print(aapl_cik)"
   ]
  },
  {
   "cell_type": "code",
   "execution_count": 1110,
   "metadata": {
    "collapsed": false
   },
   "outputs": [
    {
     "data": {
      "text/html": [
       "<div>\n",
       "<table border=\"1\" class=\"dataframe\">\n",
       "  <thead>\n",
       "    <tr style=\"text-align: right;\">\n",
       "      <th></th>\n",
       "      <th>cik</th>\n",
       "      <th>company_name</th>\n",
       "      <th>type</th>\n",
       "      <th>path</th>\n",
       "    </tr>\n",
       "  </thead>\n",
       "  <tbody>\n",
       "    <tr>\n",
       "      <th>2011-01-07</th>\n",
       "      <td>320193</td>\n",
       "      <td>APPLE INC</td>\n",
       "      <td>DEF 14A</td>\n",
       "      <td>edgar/data/320193/0001193125-11-003231.txt</td>\n",
       "    </tr>\n",
       "    <tr>\n",
       "      <th>2011-01-07</th>\n",
       "      <td>320193</td>\n",
       "      <td>APPLE INC</td>\n",
       "      <td>DEFA14A</td>\n",
       "      <td>edgar/data/320193/0001193125-11-003232.txt</td>\n",
       "    </tr>\n",
       "    <tr>\n",
       "      <th>2011-01-12</th>\n",
       "      <td>320193</td>\n",
       "      <td>APPLE INC</td>\n",
       "      <td>4</td>\n",
       "      <td>edgar/data/320193/0001181431-11-003352.txt</td>\n",
       "    </tr>\n",
       "    <tr>\n",
       "      <th>2011-01-18</th>\n",
       "      <td>320193</td>\n",
       "      <td>APPLE INC</td>\n",
       "      <td>8-K</td>\n",
       "      <td>edgar/data/320193/0001181431-11-003847.txt</td>\n",
       "    </tr>\n",
       "    <tr>\n",
       "      <th>2011-01-18</th>\n",
       "      <td>320193</td>\n",
       "      <td>APPLE INC</td>\n",
       "      <td>8-K</td>\n",
       "      <td>edgar/data/320193/0001193125-11-009392.txt</td>\n",
       "    </tr>\n",
       "  </tbody>\n",
       "</table>\n",
       "</div>"
      ],
      "text/plain": [
       "               cik company_name     type  \\\n",
       "2011-01-07  320193    APPLE INC  DEF 14A   \n",
       "2011-01-07  320193    APPLE INC  DEFA14A   \n",
       "2011-01-12  320193    APPLE INC        4   \n",
       "2011-01-18  320193    APPLE INC      8-K   \n",
       "2011-01-18  320193    APPLE INC      8-K   \n",
       "\n",
       "                                                  path  \n",
       "2011-01-07  edgar/data/320193/0001193125-11-003231.txt  \n",
       "2011-01-07  edgar/data/320193/0001193125-11-003232.txt  \n",
       "2011-01-12  edgar/data/320193/0001181431-11-003352.txt  \n",
       "2011-01-18  edgar/data/320193/0001181431-11-003847.txt  \n",
       "2011-01-18  edgar/data/320193/0001193125-11-009392.txt  "
      ]
     },
     "execution_count": 1110,
     "metadata": {},
     "output_type": "execute_result"
    }
   ],
   "source": [
    "dates = pd.date_range('2011-01-02', '2011-01-26')\n",
    "aapl_filings = pd.DataFrame(index=dates)\n",
    "temp_df = pd.DataFrame(filings[filings['cik'] ==\"320193\"])\n",
    "aapl_filings = aapl_filings.join(temp_df)\n",
    "aapl_filings = aapl_filings.dropna()\n",
    "aapl_filings.head()"
   ]
  },
  {
   "cell_type": "code",
   "execution_count": null,
   "metadata": {
    "collapsed": false
   },
   "outputs": [],
   "source": []
  },
  {
   "cell_type": "code",
   "execution_count": null,
   "metadata": {
    "collapsed": false
   },
   "outputs": [],
   "source": []
  },
  {
   "cell_type": "code",
   "execution_count": 759,
   "metadata": {
    "collapsed": true
   },
   "outputs": [],
   "source": [
    "def get_data(symbols, dates, eod_df):\n",
    "    \"\"\"Read stock data (adjusted close) for given symbols from CSV files.\"\"\"\n",
    "    df = pd.DataFrame(index=dates)\n",
    "    count = 0\n",
    "    for symbol in symbols:\n",
    "        # TODO: Read and join data for each symbol\n",
    "        temp_df = pd.DataFrame(eod_df[eod_df['Symbol'] == symbol], columns=['Close'])\n",
    "        temp_df = temp_df.rename(columns={'Close': symbol})\n",
    "        df = df.join(temp_df)\n",
    "        df = df.dropna()\n",
    "    return df"
   ]
  },
  {
   "cell_type": "markdown",
   "metadata": {},
   "source": [
    "<h2>AAPL Rolling Mean</h2>"
   ]
  },
  {
   "cell_type": "code",
   "execution_count": 1088,
   "metadata": {
    "collapsed": false
   },
   "outputs": [
    {
     "data": {
      "image/png": "[encoded data removed]",
      "text/plain": [
       "<matplotlib.figure.Figure at 0x14106d160>"
      ]
     },
     "metadata": {},
     "output_type": "display_data"
    }
   ],
   "source": [
    "def plot_data(df, title='Stock Prices', ylabel=\"Price\", xlabel=\"Date\"):\n",
    "    \"\"\"Plot stock prices with a custom title and meaningful axis labels.\"\"\"\n",
    "    ax = df.plot(title=title, fontsize=12)\n",
    "    ax.set_xlabel(xlabel)\n",
    "    ax.set_ylabel(ylabel)\n",
    "    plt.show()\n",
    "    \n",
    "    \n",
    "def test_run():\n",
    "    # Read data\n",
    "    dates = pd.date_range('2011-01-01', '2016-12-31')\n",
    "    symbols = ['AAPL']\n",
    "    df = get_data(symbols, dates, five_year_nasdaq_df)\n",
    "    \n",
    "    # Plot SPY data, retain matplotlib axis object\n",
    "    ax = df['AAPL'].plot(title='2012 Apple rolling mean', label='AAPL')\n",
    "    \n",
    "    # Compute the rolling mean using a 20 day window\n",
    "    rm_AAPL = pd.rolling_mean(df['AAPL'], window=20)\n",
    "    \n",
    "    # Add rolling mean to same plot\n",
    "    rm_AAPL.plot(label='Rolling mean', ax=ax)\n",
    "    \n",
    "    # Add axis labels and legend\n",
    "    ax.set_xlabel('Date')\n",
    "    ax.set_ylabel('Price')\n",
    "    ax.legend(loc='upper left')\n",
    "    plt.show()\n",
    "    \n",
    "    \n",
    "    \n",
    "if __name__ == \"__main__\":\n",
    "    test_run()"
   ]
  },
  {
   "cell_type": "code",
   "execution_count": 763,
   "metadata": {
    "collapsed": false
   },
   "outputs": [
    {
     "data": {
      "text/html": [
       "<div>\n",
       "<table border=\"1\" class=\"dataframe\">\n",
       "  <thead>\n",
       "    <tr style=\"text-align: right;\">\n",
       "      <th></th>\n",
       "      <th>AAPL</th>\n",
       "      <th>ACET</th>\n",
       "    </tr>\n",
       "  </thead>\n",
       "  <tbody>\n",
       "    <tr>\n",
       "      <th>2011-01-24</th>\n",
       "      <td>48.2071</td>\n",
       "      <td>9.02</td>\n",
       "    </tr>\n",
       "    <tr>\n",
       "      <th>2011-01-25</th>\n",
       "      <td>48.7714</td>\n",
       "      <td>9.07</td>\n",
       "    </tr>\n",
       "    <tr>\n",
       "      <th>2011-01-26</th>\n",
       "      <td>49.1214</td>\n",
       "      <td>8.98</td>\n",
       "    </tr>\n",
       "    <tr>\n",
       "      <th>2011-01-27</th>\n",
       "      <td>49.0300</td>\n",
       "      <td>9.03</td>\n",
       "    </tr>\n",
       "    <tr>\n",
       "      <th>2011-01-28</th>\n",
       "      <td>48.0143</td>\n",
       "      <td>8.57</td>\n",
       "    </tr>\n",
       "  </tbody>\n",
       "</table>\n",
       "</div>"
      ],
      "text/plain": [
       "               AAPL  ACET\n",
       "2011-01-24  48.2071  9.02\n",
       "2011-01-25  48.7714  9.07\n",
       "2011-01-26  49.1214  8.98\n",
       "2011-01-27  49.0300  9.03\n",
       "2011-01-28  48.0143  8.57"
      ]
     },
     "execution_count": 763,
     "metadata": {},
     "output_type": "execute_result"
    }
   ],
   "source": [
    "dates = pd.date_range('2011-01-22', '2011-04-26')\n",
    "get_data(['AAPL', 'ACET'], dates, five_year_nasdaq_df).head()"
   ]
  },
  {
   "cell_type": "code",
   "execution_count": null,
   "metadata": {
    "collapsed": false
   },
   "outputs": [],
   "source": []
  },
  {
   "cell_type": "markdown",
   "metadata": {},
   "source": [
    "<h2>CELLS FROM HERE TO GOAL WILL BE REMOVED AFTER NEXT COMMIT</h2>"
   ]
  },
  {
   "cell_type": "code",
   "execution_count": 870,
   "metadata": {
    "collapsed": false
   },
   "outputs": [
    {
     "data": {
      "text/plain": [
       "621710"
      ]
     },
     "execution_count": 870,
     "metadata": {},
     "output_type": "execute_result"
    }
   ],
   "source": [
    "len(filings[filings.index > '20110000'])"
   ]
  },
  {
   "cell_type": "code",
   "execution_count": null,
   "metadata": {
    "collapsed": false
   },
   "outputs": [],
   "source": [
    "tickers_cik = pd.DataFrame(tickers_cik_in_both, columns=['cik', 'symbol'])\n",
    "symbol_to_filings = pd.merge(left=filings, right=tickers_cik[tickers_cik['cik'].isin(\n",
    "            tickers_cik['cik'].unique())], left_on='cik', right_on='cik')\n",
    "#symbol_to_filings = pd.DataFrame(symbol_to_filings, columns=['cik', 'symbol', 'company_name', 'type', 'date', 'path'])"
   ]
  },
  {
   "cell_type": "code",
   "execution_count": 877,
   "metadata": {
    "collapsed": false
   },
   "outputs": [],
   "source": [
    "t_fil = sql_to_df('select * from filings where cik in {} limit 5;'.format(tuple(tickers_cik_in_both['cik'])), engine.connect())\n"
   ]
  },
  {
   "cell_type": "code",
   "execution_count": 880,
   "metadata": {
    "collapsed": false
   },
   "outputs": [
    {
     "data": {
      "text/html": [
       "<div>\n",
       "<table border=\"1\" class=\"dataframe\">\n",
       "  <thead>\n",
       "    <tr style=\"text-align: right;\">\n",
       "      <th></th>\n",
       "      <th>cik</th>\n",
       "      <th>company_name</th>\n",
       "      <th>type</th>\n",
       "      <th>date</th>\n",
       "      <th>path</th>\n",
       "    </tr>\n",
       "  </thead>\n",
       "  <tbody>\n",
       "    <tr>\n",
       "      <th>1</th>\n",
       "      <td>2034</td>\n",
       "      <td>ACETO CORP</td>\n",
       "      <td>10-K</td>\n",
       "      <td>19960927</td>\n",
       "      <td>edgar/data/2034/0000002034-96-000004.txt</td>\n",
       "    </tr>\n",
       "    <tr>\n",
       "      <th>2</th>\n",
       "      <td>2034</td>\n",
       "      <td>ACETO CORP</td>\n",
       "      <td>10-K</td>\n",
       "      <td>19970929</td>\n",
       "      <td>edgar/data/2034/0000002034-97-000005.txt</td>\n",
       "    </tr>\n",
       "    <tr>\n",
       "      <th>3</th>\n",
       "      <td>2034</td>\n",
       "      <td>ACETO CORP</td>\n",
       "      <td>10-K</td>\n",
       "      <td>19980929</td>\n",
       "      <td>edgar/data/2034/0000002034-98-000003.txt</td>\n",
       "    </tr>\n",
       "    <tr>\n",
       "      <th>4</th>\n",
       "      <td>2034</td>\n",
       "      <td>ACETO CORP</td>\n",
       "      <td>10-K</td>\n",
       "      <td>19990928</td>\n",
       "      <td>edgar/data/2034/0000002034-99-000008.txt</td>\n",
       "    </tr>\n",
       "  </tbody>\n",
       "</table>\n",
       "</div>"
      ],
      "text/plain": [
       "    cik company_name  type      date                                      path\n",
       "1  2034   ACETO CORP  10-K  19960927  edgar/data/2034/0000002034-96-000004.txt\n",
       "2  2034   ACETO CORP  10-K  19970929  edgar/data/2034/0000002034-97-000005.txt\n",
       "3  2034   ACETO CORP  10-K  19980929  edgar/data/2034/0000002034-98-000003.txt\n",
       "4  2034   ACETO CORP  10-K  19990928  edgar/data/2034/0000002034-99-000008.txt"
      ]
     },
     "execution_count": 880,
     "metadata": {},
     "output_type": "execute_result"
    }
   ],
   "source": [
    "t_fil[t_fil['date'] > '19950927']"
   ]
  },
  {
   "cell_type": "markdown",
   "metadata": {},
   "source": [
    "<h2>Goal:</h2>\n",
    "\n",
    "<p>\n",
    "The goal is to find out which forms affect stock price.  My idea is to to look at the price the day before and day of a form being filed.  To do this start with one stock, make it work then switch to many stocks.  To meausre the change in price to the the mean error (standard deviation).\n",
    "</p>"
   ]
  },
  {
   "cell_type": "code",
   "execution_count": 916,
   "metadata": {
    "collapsed": false
   },
   "outputs": [],
   "source": [
    "first_day = 70\n",
    "second_day = 56\n",
    "change = pow(second_day - first_day, 2)\n"
   ]
  },
  {
   "cell_type": "code",
   "execution_count": 920,
   "metadata": {
    "collapsed": false
   },
   "outputs": [],
   "source": [
    "mean = five_year_nasdaq_df[five_year_nasdaq_df['Symbol'] =='AAME']['Close'].mean()\n",
    "std = five_year_nasdaq_df[five_year_nasdaq_df['Symbol'] =='AAME']['Close'].std()"
   ]
  },
  {
   "cell_type": "code",
   "execution_count": 931,
   "metadata": {
    "collapsed": false
   },
   "outputs": [
    {
     "data": {
      "text/plain": [
       "2011-01-03    2.06\n",
       "2011-01-04    2.07\n",
       "2011-01-05    2.06\n",
       "2011-01-06    2.10\n",
       "2011-01-07    2.06\n",
       "2011-01-10    2.06\n",
       "2011-01-11    1.98\n",
       "2011-01-12    2.00\n",
       "2011-01-13    2.00\n",
       "2011-01-14    2.19\n",
       "Name: Close, dtype: float64"
      ]
     },
     "execution_count": 931,
     "metadata": {},
     "output_type": "execute_result"
    }
   ],
   "source": [
    "five_year_nasdaq_df[five_year_nasdaq_df['Symbol'] =='AAME']['Close'][0:10]"
   ]
  },
  {
   "cell_type": "code",
   "execution_count": null,
   "metadata": {
    "collapsed": false
   },
   "outputs": [],
   "source": []
  },
  {
   "cell_type": "code",
   "execution_count": null,
   "metadata": {
    "collapsed": false
   },
   "outputs": [],
   "source": []
  },
  {
   "cell_type": "code",
   "execution_count": null,
   "metadata": {
    "collapsed": false
   },
   "outputs": [],
   "source": []
  },
  {
   "cell_type": "code",
   "execution_count": null,
   "metadata": {
    "collapsed": false
   },
   "outputs": [],
   "source": []
  },
  {
   "cell_type": "code",
   "execution_count": null,
   "metadata": {
    "collapsed": false
   },
   "outputs": [],
   "source": []
  },
  {
   "cell_type": "code",
   "execution_count": null,
   "metadata": {
    "collapsed": false
   },
   "outputs": [],
   "source": []
  },
  {
   "cell_type": "code",
   "execution_count": null,
   "metadata": {
    "collapsed": false
   },
   "outputs": [],
   "source": []
  },
  {
   "cell_type": "code",
   "execution_count": null,
   "metadata": {
    "collapsed": false
   },
   "outputs": [],
   "source": []
  },
  {
   "cell_type": "code",
   "execution_count": null,
   "metadata": {
    "collapsed": false
   },
   "outputs": [],
   "source": []
  },
  {
   "cell_type": "code",
   "execution_count": null,
   "metadata": {
    "collapsed": true
   },
   "outputs": [],
   "source": []
  },
  {
   "cell_type": "code",
   "execution_count": null,
   "metadata": {
    "collapsed": true
   },
   "outputs": [],
   "source": []
  },
  {
   "cell_type": "code",
   "execution_count": null,
   "metadata": {
    "collapsed": true
   },
   "outputs": [],
   "source": []
  },
  {
   "cell_type": "code",
   "execution_count": null,
   "metadata": {
    "collapsed": true
   },
   "outputs": [],
   "source": []
  },
  {
   "cell_type": "code",
   "execution_count": null,
   "metadata": {
    "collapsed": true
   },
   "outputs": [],
   "source": []
  },
  {
   "cell_type": "code",
   "execution_count": null,
   "metadata": {
    "collapsed": true
   },
   "outputs": [],
   "source": []
  },
  {
   "cell_type": "code",
   "execution_count": null,
   "metadata": {
    "collapsed": true
   },
   "outputs": [],
   "source": []
  },
  {
   "cell_type": "code",
   "execution_count": null,
   "metadata": {
    "collapsed": true
   },
   "outputs": [],
   "source": []
  },
  {
   "cell_type": "code",
   "execution_count": null,
   "metadata": {
    "collapsed": true
   },
   "outputs": [],
   "source": []
  },
  {
   "cell_type": "code",
   "execution_count": null,
   "metadata": {
    "collapsed": true
   },
   "outputs": [],
   "source": []
  },
  {
   "cell_type": "code",
   "execution_count": null,
   "metadata": {
    "collapsed": true
   },
   "outputs": [],
   "source": []
  },
  {
   "cell_type": "code",
   "execution_count": null,
   "metadata": {
    "collapsed": true
   },
   "outputs": [],
   "source": []
  },
  {
   "cell_type": "code",
   "execution_count": null,
   "metadata": {
    "collapsed": true
   },
   "outputs": [],
   "source": []
  },
  {
   "cell_type": "code",
   "execution_count": null,
   "metadata": {
    "collapsed": true
   },
   "outputs": [],
   "source": []
  },
  {
   "cell_type": "code",
   "execution_count": null,
   "metadata": {
    "collapsed": true
   },
   "outputs": [],
   "source": []
  },
  {
   "cell_type": "code",
   "execution_count": null,
   "metadata": {
    "collapsed": true
   },
   "outputs": [],
   "source": []
  }
 ],
 "metadata": {
  "kernelspec": {
   "display_name": "Python 3",
   "language": "python",
   "name": "python3"
  },
  "language_info": {
   "codemirror_mode": {
    "name": "ipython",
    "version": 3
   },
   "file_extension": ".py",
   "mimetype": "text/x-python",
   "name": "python",
   "nbconvert_exporter": "python",
   "pygments_lexer": "ipython3",
   "version": "3.5.1"
  }
 },
 "nbformat": 4,
 "nbformat_minor": 1
}
