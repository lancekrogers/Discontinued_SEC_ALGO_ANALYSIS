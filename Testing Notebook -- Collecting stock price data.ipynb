{
 "cells": [
  {
   "cell_type": "markdown",
   "metadata": {},
   "source": [
    "S&P500 stock data:\n",
    "http://pages.swcp.com/stocks/\n",
    "\n",
    "\n",
    "n = pd.read_csv('http://chart.finance.yahoo.com/table.csv?s=ACIU&a=7&b=9&c=1996&d=10&e=19&f=2016&g=d&ignore=.csv')\n",
    "\n",
    "http://www.eoddata.com/download.aspx"
   ]
  },
  {
   "cell_type": "code",
   "execution_count": 267,
   "metadata": {
    "collapsed": true
   },
   "outputs": [],
   "source": [
    "from sqlalchemy.orm import sessionmaker\n",
    "from sqlalchemy import Table\n",
    "from sqlalchemy import create_engine, inspect\n",
    "from sqlalchemy import MetaData\n",
    "from edgerdb import helper_functions as hlp\n",
    "import pandas as pd\n",
    "import numpy as np\n",
    "import os\n",
    "\n",
    "\n",
    "meta = MetaData()\n",
    "\n",
    "engine = create_engine('postgresql://analyst:@localhost:5432/edgar')\n",
    "\n",
    "messages = Table('filings', meta, autoload=True, autoload_with=engine)\n",
    "\n",
    "def sql_to_df(query, connection, index=None):\n",
    "    df = pd.read_sql(query, connection)\n",
    "    connection.close()\n",
    "    return df"
   ]
  },
  {
   "cell_type": "code",
   "execution_count": 2,
   "metadata": {
    "collapsed": false
   },
   "outputs": [],
   "source": [
    "cik_and_tickers = sql_to_df('select * from temp_cik_to_ticker;', engine.connect()).set_index(keys='index')"
   ]
  },
  {
   "cell_type": "code",
   "execution_count": 3,
   "metadata": {
    "collapsed": false
   },
   "outputs": [
    {
     "data": {
      "text/html": [
       "<div>\n",
       "<table border=\"1\" class=\"dataframe\">\n",
       "  <thead>\n",
       "    <tr style=\"text-align: right;\">\n",
       "      <th></th>\n",
       "      <th>cik</th>\n",
       "      <th>company_name</th>\n",
       "      <th>exchange</th>\n",
       "      <th>isactive</th>\n",
       "      <th>symbol</th>\n",
       "    </tr>\n",
       "    <tr>\n",
       "      <th>index</th>\n",
       "      <th></th>\n",
       "      <th></th>\n",
       "      <th></th>\n",
       "      <th></th>\n",
       "      <th></th>\n",
       "    </tr>\n",
       "  </thead>\n",
       "  <tbody>\n",
       "    <tr>\n",
       "      <th>0</th>\n",
       "      <td>1591890</td>\n",
       "      <td>1347 PROPERTY INSURANCE HOLDINGS, INC.</td>\n",
       "      <td>NASDAQ</td>\n",
       "      <td>1</td>\n",
       "      <td>PIH</td>\n",
       "    </tr>\n",
       "    <tr>\n",
       "      <th>1</th>\n",
       "      <td>1508475</td>\n",
       "      <td>21VIANET GROUP, INC.</td>\n",
       "      <td>NASDAQ</td>\n",
       "      <td>1</td>\n",
       "      <td>VNET</td>\n",
       "    </tr>\n",
       "    <tr>\n",
       "      <th>2</th>\n",
       "      <td>1459417</td>\n",
       "      <td>2U, INC.</td>\n",
       "      <td>NASDAQ</td>\n",
       "      <td>1</td>\n",
       "      <td>TWOU</td>\n",
       "    </tr>\n",
       "    <tr>\n",
       "      <th>3</th>\n",
       "      <td>1295484</td>\n",
       "      <td>51JOB, INC.</td>\n",
       "      <td>NASDAQ</td>\n",
       "      <td>1</td>\n",
       "      <td>JOBS</td>\n",
       "    </tr>\n",
       "    <tr>\n",
       "      <th>4</th>\n",
       "      <td>1295484</td>\n",
       "      <td>51JOB, INC.</td>\n",
       "      <td>NASDAQ</td>\n",
       "      <td>1</td>\n",
       "      <td>JOBS</td>\n",
       "    </tr>\n",
       "  </tbody>\n",
       "</table>\n",
       "</div>"
      ],
      "text/plain": [
       "           cik                            company_name exchange  isactive  \\\n",
       "index                                                                       \n",
       "0      1591890  1347 PROPERTY INSURANCE HOLDINGS, INC.   NASDAQ         1   \n",
       "1      1508475                    21VIANET GROUP, INC.   NASDAQ         1   \n",
       "2      1459417                                2U, INC.   NASDAQ         1   \n",
       "3      1295484                             51JOB, INC.   NASDAQ         1   \n",
       "4      1295484                             51JOB, INC.   NASDAQ         1   \n",
       "\n",
       "      symbol  \n",
       "index         \n",
       "0        PIH  \n",
       "1       VNET  \n",
       "2       TWOU  \n",
       "3       JOBS  \n",
       "4       JOBS  "
      ]
     },
     "execution_count": 3,
     "metadata": {},
     "output_type": "execute_result"
    }
   ],
   "source": [
    "cik_and_tickers.head()"
   ]
  },
  {
   "cell_type": "code",
   "execution_count": 4,
   "metadata": {
    "collapsed": false
   },
   "outputs": [],
   "source": [
    "tickers = cik_and_tickers['symbol'].tolist()\n"
   ]
  },
  {
   "cell_type": "code",
   "execution_count": 57,
   "metadata": {
    "collapsed": false
   },
   "outputs": [],
   "source": [
    "import requests\n",
    "from yahoo_finance import Share\n",
    "from pprint import pprint"
   ]
  },
  {
   "cell_type": "code",
   "execution_count": 58,
   "metadata": {
    "collapsed": false
   },
   "outputs": [
    {
     "name": "stdout",
     "output_type": "stream",
     "text": [
      "None\n",
      "41.45\n",
      "[{'Adj_Close': '35.830002',\n",
      "  'Close': '35.830002',\n",
      "  'Date': '2014-04-29',\n",
      "  'High': '35.889999',\n",
      "  'Low': '34.119999',\n",
      "  'Open': '34.369999',\n",
      "  'Symbol': 'YHOO',\n",
      "  'Volume': '28736000'},\n",
      " {'Adj_Close': '33.990002',\n",
      "  'Close': '33.990002',\n",
      "  'Date': '2014-04-28',\n",
      "  'High': '35.00',\n",
      "  'Low': '33.650002',\n",
      "  'Open': '34.669998',\n",
      "  'Symbol': 'YHOO',\n",
      "  'Volume': '31019200'},\n",
      " {'Adj_Close': '34.48',\n",
      "  'Close': '34.48',\n",
      "  'Date': '2014-04-25',\n",
      "  'High': '35.099998',\n",
      "  'Low': '34.290001',\n",
      "  'Open': '35.029999',\n",
      "  'Symbol': 'YHOO',\n",
      "  'Volume': '19401600'}]\n"
     ]
    }
   ],
   "source": [
    "yahoo = Share('YHOO')\n",
    "print(yahoo.get_open())\n",
    "print(yahoo.get_price())\n",
    "pprint(yahoo.get_historical('2014-04-25', '2014-04-29'))"
   ]
  },
  {
   "cell_type": "code",
   "execution_count": null,
   "metadata": {
    "collapsed": false
   },
   "outputs": [],
   "source": []
  },
  {
   "cell_type": "code",
   "execution_count": 97,
   "metadata": {
    "collapsed": false
   },
   "outputs": [],
   "source": [
    "# Columns will need to be added to top of file after download\n",
    "sp500 = pd.read_csv('data/sp500hst.txt')"
   ]
  },
  {
   "cell_type": "code",
   "execution_count": 99,
   "metadata": {
    "collapsed": false
   },
   "outputs": [
    {
     "data": {
      "text/plain": [
       "524"
      ]
     },
     "execution_count": 99,
     "metadata": {},
     "output_type": "execute_result"
    }
   ],
   "source": [
    "len(sp500['symbol'].unique())"
   ]
  },
  {
   "cell_type": "code",
   "execution_count": 191,
   "metadata": {
    "collapsed": false
   },
   "outputs": [
    {
     "data": {
      "text/plain": [
       "['PIH',\n",
       " 'VNET',\n",
       " 'TWOU',\n",
       " 'JOBS',\n",
       " 'JOBS',\n",
       " 'CAFD',\n",
       " 'ABEO',\n",
       " 'ABEOW',\n",
       " 'ABIL',\n",
       " 'ACIU']"
      ]
     },
     "execution_count": 191,
     "metadata": {},
     "output_type": "execute_result"
    }
   ],
   "source": [
    "tickers[0:10]"
   ]
  },
  {
   "cell_type": "code",
   "execution_count": 268,
   "metadata": {
    "collapsed": false
   },
   "outputs": [],
   "source": [
    "r2016 = pd.read_csv('data/5_YEAR_NASDAQ/NASDAQ_20160101.csv')"
   ]
  },
  {
   "cell_type": "code",
   "execution_count": 270,
   "metadata": {
    "collapsed": false
   },
   "outputs": [
    {
     "name": "stdout",
     "output_type": "stream",
     "text": [
      "2812\n",
      "13534\n"
     ]
    }
   ],
   "source": [
    "print(len(r2016['Symbol'].tolist()))\n",
    "print(len(set(r2016['Symbol'].tolist() + tickers)))"
   ]
  },
  {
   "cell_type": "code",
   "execution_count": 288,
   "metadata": {
    "collapsed": false
   },
   "outputs": [],
   "source": [
    "def in_both(first_li, second_li):\n",
    "    both = []\n",
    "    for x in second_li:\n",
    "        if x in first_li:\n",
    "            both.append(x)\n",
    "    return both\n",
    "\n",
    "\n",
    "def find_csv_files_in_dir(directory):\n",
    "    paths = []\n",
    "    for subdir, dirs, files in os.walk(directory):\n",
    "        for file in files:\n",
    "            filepath = subdir + os.sep + file\n",
    "            if filepath.endswith(\".csv\"):\n",
    "                paths.append(filepath)\n",
    "    return paths\n",
    "\n",
    "\n",
    "def concat_eod_data(list_of_paths):\n",
    "    '''\n",
    "        This functions takes as input a list of paths to csv files containg eod stock data and join the files\n",
    "        into a single dataframe.\n",
    "    '''\n",
    "    df = pd.DataFrame(columns=['Symbol', 'Date', 'Open', 'High', 'Low', 'Close', 'Volume'])\n",
    "    for path in list_of_paths:\n",
    "        temp_df = pd.read_csv(path)\n",
    "        df = pd.concat([df, temp_df])\n",
    "    return df"
   ]
  },
  {
   "cell_type": "code",
   "execution_count": 272,
   "metadata": {
    "collapsed": false
   },
   "outputs": [],
   "source": [
    "five_year_nasdaq_files = find_csv_files_in_dir('data/5_YEAR_NASDAQ')"
   ]
  },
  {
   "cell_type": "code",
   "execution_count": null,
   "metadata": {
    "collapsed": false
   },
   "outputs": [],
   "source": [
    "concat_eod_data(five_year_nasdaq_files)"
   ]
  },
  {
   "cell_type": "code",
   "execution_count": null,
   "metadata": {
    "collapsed": false
   },
   "outputs": [],
   "source": []
  },
  {
   "cell_type": "code",
   "execution_count": null,
   "metadata": {
    "collapsed": false
   },
   "outputs": [],
   "source": []
  },
  {
   "cell_type": "code",
   "execution_count": null,
   "metadata": {
    "collapsed": false
   },
   "outputs": [],
   "source": []
  },
  {
   "cell_type": "code",
   "execution_count": null,
   "metadata": {
    "collapsed": false
   },
   "outputs": [],
   "source": []
  },
  {
   "cell_type": "code",
   "execution_count": null,
   "metadata": {
    "collapsed": false
   },
   "outputs": [],
   "source": []
  },
  {
   "cell_type": "code",
   "execution_count": null,
   "metadata": {
    "collapsed": false
   },
   "outputs": [],
   "source": []
  },
  {
   "cell_type": "code",
   "execution_count": null,
   "metadata": {
    "collapsed": false
   },
   "outputs": [],
   "source": []
  },
  {
   "cell_type": "code",
   "execution_count": null,
   "metadata": {
    "collapsed": true
   },
   "outputs": [],
   "source": []
  },
  {
   "cell_type": "code",
   "execution_count": null,
   "metadata": {
    "collapsed": true
   },
   "outputs": [],
   "source": []
  },
  {
   "cell_type": "code",
   "execution_count": null,
   "metadata": {
    "collapsed": true
   },
   "outputs": [],
   "source": []
  },
  {
   "cell_type": "code",
   "execution_count": null,
   "metadata": {
    "collapsed": true
   },
   "outputs": [],
   "source": []
  },
  {
   "cell_type": "code",
   "execution_count": null,
   "metadata": {
    "collapsed": true
   },
   "outputs": [],
   "source": []
  },
  {
   "cell_type": "code",
   "execution_count": null,
   "metadata": {
    "collapsed": true
   },
   "outputs": [],
   "source": []
  },
  {
   "cell_type": "code",
   "execution_count": null,
   "metadata": {
    "collapsed": true
   },
   "outputs": [],
   "source": []
  },
  {
   "cell_type": "code",
   "execution_count": null,
   "metadata": {
    "collapsed": true
   },
   "outputs": [],
   "source": []
  }
 ],
 "metadata": {
  "kernelspec": {
   "display_name": "Python 3",
   "language": "python",
   "name": "python3"
  },
  "language_info": {
   "codemirror_mode": {
    "name": "ipython",
    "version": 3
   },
   "file_extension": ".py",
   "mimetype": "text/x-python",
   "name": "python",
   "nbconvert_exporter": "python",
   "pygments_lexer": "ipython3",
   "version": "3.5.1"
  }
 },
 "nbformat": 4,
 "nbformat_minor": 1
}
