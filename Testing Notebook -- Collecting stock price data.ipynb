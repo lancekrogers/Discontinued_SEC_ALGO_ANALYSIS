{
 "cells": [
  {
   "cell_type": "markdown",
   "metadata": {},
   "source": [
    "S&P500 stock data:\n",
    "http://pages.swcp.com/stocks/\n",
    "\n",
    "\n",
    "n = pd.read_csv('http://chart.finance.yahoo.com/table.csv?s=ACIU&a=7&b=9&c=1996&d=10&e=19&f=2016&g=d&ignore=.csv')\n",
    "\n",
    "http://www.eoddata.com/download.aspx\n",
    "\n",
    "<p>SEC new https url format:</p>\n",
    "https://www.sec.gov/Archives/edgar/data/320193/0000000000-11-005950.txt"
   ]
  },
  {
   "cell_type": "code",
   "execution_count": 1,
   "metadata": {
    "collapsed": true
   },
   "outputs": [],
   "source": [
    "from sqlalchemy.orm import sessionmaker\n",
    "from sqlalchemy import Table\n",
    "from sqlalchemy import create_engine, inspect\n",
    "from sqlalchemy import MetaData\n",
    "from edgerdb import helper_functions as hlp\n",
    "import pandas as pd\n",
    "import numpy as np\n",
    "import matplotlib.pyplot as plt\n",
    "import os\n",
    "import requests\n",
    "from yahoo_finance import Share\n",
    "from pprint import pprint\n",
    "\n",
    "\n",
    "meta = MetaData()\n",
    "\n",
    "engine = create_engine('postgresql://analyst:@localhost:5432/edgar')\n",
    "\n",
    "messages = Table('filings', meta, autoload=True, autoload_with=engine)\n",
    "\n",
    "def sql_to_df(query, connection, *args, **kwargs):\n",
    "    df = pd.read_sql(query, connection, *args, **kwargs)\n",
    "    connection.close()\n",
    "    return df"
   ]
  },
  {
   "cell_type": "code",
   "execution_count": 2,
   "metadata": {
    "collapsed": true
   },
   "outputs": [],
   "source": [
    "%matplotlib inline"
   ]
  },
  {
   "cell_type": "markdown",
   "metadata": {},
   "source": [
    "<h2>Load table containing cik_symbol matches from database</h2>"
   ]
  },
  {
   "cell_type": "code",
   "execution_count": 3,
   "metadata": {
    "collapsed": false
   },
   "outputs": [],
   "source": [
    "cik_and_tickers = sql_to_df('select * from temp_cik_to_ticker;', engine.connect()).set_index(keys='index')"
   ]
  },
  {
   "cell_type": "code",
   "execution_count": 4,
   "metadata": {
    "collapsed": false
   },
   "outputs": [
    {
     "data": {
      "text/html": [
       "<div>\n",
       "<table border=\"1\" class=\"dataframe\">\n",
       "  <thead>\n",
       "    <tr style=\"text-align: right;\">\n",
       "      <th></th>\n",
       "      <th>cik</th>\n",
       "      <th>company_name</th>\n",
       "      <th>exchange</th>\n",
       "      <th>isactive</th>\n",
       "      <th>symbol</th>\n",
       "    </tr>\n",
       "    <tr>\n",
       "      <th>index</th>\n",
       "      <th></th>\n",
       "      <th></th>\n",
       "      <th></th>\n",
       "      <th></th>\n",
       "      <th></th>\n",
       "    </tr>\n",
       "  </thead>\n",
       "  <tbody>\n",
       "    <tr>\n",
       "      <th>0</th>\n",
       "      <td>1591890</td>\n",
       "      <td>1347 PROPERTY INSURANCE HOLDINGS, INC.</td>\n",
       "      <td>NASDAQ</td>\n",
       "      <td>1</td>\n",
       "      <td>PIH</td>\n",
       "    </tr>\n",
       "    <tr>\n",
       "      <th>1</th>\n",
       "      <td>1508475</td>\n",
       "      <td>21VIANET GROUP, INC.</td>\n",
       "      <td>NASDAQ</td>\n",
       "      <td>1</td>\n",
       "      <td>VNET</td>\n",
       "    </tr>\n",
       "    <tr>\n",
       "      <th>2</th>\n",
       "      <td>1459417</td>\n",
       "      <td>2U, INC.</td>\n",
       "      <td>NASDAQ</td>\n",
       "      <td>1</td>\n",
       "      <td>TWOU</td>\n",
       "    </tr>\n",
       "    <tr>\n",
       "      <th>3</th>\n",
       "      <td>1295484</td>\n",
       "      <td>51JOB, INC.</td>\n",
       "      <td>NASDAQ</td>\n",
       "      <td>1</td>\n",
       "      <td>JOBS</td>\n",
       "    </tr>\n",
       "    <tr>\n",
       "      <th>4</th>\n",
       "      <td>1295484</td>\n",
       "      <td>51JOB, INC.</td>\n",
       "      <td>NASDAQ</td>\n",
       "      <td>1</td>\n",
       "      <td>JOBS</td>\n",
       "    </tr>\n",
       "  </tbody>\n",
       "</table>\n",
       "</div>"
      ],
      "text/plain": [
       "           cik                            company_name exchange  isactive  \\\n",
       "index                                                                       \n",
       "0      1591890  1347 PROPERTY INSURANCE HOLDINGS, INC.   NASDAQ         1   \n",
       "1      1508475                    21VIANET GROUP, INC.   NASDAQ         1   \n",
       "2      1459417                                2U, INC.   NASDAQ         1   \n",
       "3      1295484                             51JOB, INC.   NASDAQ         1   \n",
       "4      1295484                             51JOB, INC.   NASDAQ         1   \n",
       "\n",
       "      symbol  \n",
       "index         \n",
       "0        PIH  \n",
       "1       VNET  \n",
       "2       TWOU  \n",
       "3       JOBS  \n",
       "4       JOBS  "
      ]
     },
     "execution_count": 4,
     "metadata": {},
     "output_type": "execute_result"
    }
   ],
   "source": [
    "cik_and_tickers.head()"
   ]
  },
  {
   "cell_type": "markdown",
   "metadata": {
    "collapsed": true
   },
   "source": [
    "<h2>The below cell is for storing functions</h2>"
   ]
  },
  {
   "cell_type": "code",
   "execution_count": 5,
   "metadata": {
    "collapsed": false
   },
   "outputs": [],
   "source": [
    "def in_both(first_li, second_li):\n",
    "    both = []\n",
    "    for x in second_li:\n",
    "        if x in first_li:\n",
    "            both.append(x)\n",
    "    return both\n",
    "\n",
    "\n",
    "def find_csv_files_in_dir(directory):\n",
    "    paths = []\n",
    "    for subdir, dirs, files in os.walk(directory):\n",
    "        for file in files:\n",
    "            filepath = subdir + os.sep + file\n",
    "            if filepath.endswith(\".csv\"):\n",
    "                paths.append(filepath)\n",
    "    return paths\n",
    "\n",
    "\n",
    "def concat_eod_data(list_of_paths):\n",
    "    '''\n",
    "        This functions takes as input a list of paths to csv files containg eod stock data and join the files\n",
    "        into a single dataframe.\n",
    "    '''\n",
    "    df = pd.DataFrame(columns=['Symbol', 'Open', 'High', 'Low', 'Close', 'Volume'])\n",
    "    for path in list_of_paths:\n",
    "        temp_df = pd.read_csv(path, index_col='Date',\n",
    "                             parse_dates=True)\n",
    "        df = pd.concat([df, temp_df])\n",
    "    return df\n",
    "\n",
    "\n",
    "def insert(df, entries):\n",
    "    \"\"\"\n",
    "        Takes a set of values and inserts them into a dataframe sequentially where the index is\n",
    "        sequential and continuous.\n",
    "    \"\"\"\n",
    "    try:\n",
    "        df.loc[max(df.index) + 1] = entries\n",
    "    except ValueError:\n",
    "        df.loc[0] = entries\n",
    "        \n",
    "        \n",
    "def create_spy_df(start_date, end_date, file=None):\n",
    "    if file == None:\n",
    "        spy = Share('SPY')\n",
    "        spy_5_year = spy.get_historical(start_date, end_date)        \n",
    "        spy_df = pd.DataFrame(columns=['Low', 'Date', 'Adj_Close', 'Volume', 'Close', 'Open', 'Symbol', 'High'])\n",
    "\n",
    "        for val in range(len(spy_5_year)):\n",
    "            values = []\n",
    "            for x in spy_5_year[val]:\n",
    "                values.append(spy_5_year[val][x])\n",
    "            insert(spy_df, values)\n",
    "\n",
    "        spy_df = spy_df.set_index(spy_df['Date'])\n",
    "        spy_df = spy_df[['Symbol', 'Open', 'High', 'Low', 'Adj_Close', 'Volume']]\n",
    "        spy_df = spy_df.rename(columns={'Adj_Close': 'Close'})\n",
    "        return spy_df\n",
    "    else:\n",
    "        df = pd.read_csv(file)"
   ]
  },
  {
   "cell_type": "markdown",
   "metadata": {},
   "source": [
    "<h2> Create spy_df from yahoo data </h2>"
   ]
  },
  {
   "cell_type": "code",
   "execution_count": 6,
   "metadata": {
    "collapsed": true
   },
   "outputs": [],
   "source": [
    "try:\n",
    "    spy_df = pd.read_csv('data/spy2011-2016.csv', index_col='Date', parse_dates=True)\n",
    "except:\n",
    "    spy_df = create_spy_df('2011-01-01', '2016-11-03')\n",
    "    spy_df.to_csv('data/spy2011-2016.csv')"
   ]
  },
  {
   "cell_type": "markdown",
   "metadata": {},
   "source": [
    "<h2>Create five_year_nasdaq_df from directory of csv's</h2>"
   ]
  },
  {
   "cell_type": "code",
   "execution_count": 7,
   "metadata": {
    "collapsed": false
   },
   "outputs": [],
   "source": [
    "five_year_nasdaq_files = find_csv_files_in_dir('data/5_YEAR_NASDAQ')\n",
    "five_year_nasdaq_df = concat_eod_data(five_year_nasdaq_files)\n",
    "#five_year_nasdaq_df['Date'] = five_year_nasdaq_df['Date'].apply(lambda x: x.replace(x[3:6], months[x[3:6]]))\n",
    "#five_year_nasdaq_df['Date'] = five_year_nasdaq_df['Date'].apply(lambda x: x.split('-')[2] + x.split('-')[1] + x.split('-')[0])\n"
   ]
  },
  {
   "cell_type": "markdown",
   "metadata": {},
   "source": [
    "<h2>Add SPY data to five_year_nasdaq_df as a baseline</h2>"
   ]
  },
  {
   "cell_type": "code",
   "execution_count": 8,
   "metadata": {
    "collapsed": false
   },
   "outputs": [
    {
     "data": {
      "text/html": [
       "<div>\n",
       "<table border=\"1\" class=\"dataframe\">\n",
       "  <thead>\n",
       "    <tr style=\"text-align: right;\">\n",
       "      <th></th>\n",
       "      <th>symbol</th>\n",
       "      <th>open</th>\n",
       "      <th>high</th>\n",
       "      <th>low</th>\n",
       "      <th>close</th>\n",
       "      <th>volume</th>\n",
       "    </tr>\n",
       "  </thead>\n",
       "  <tbody>\n",
       "    <tr>\n",
       "      <th>2016-11-03</th>\n",
       "      <td>SPY</td>\n",
       "      <td>209.990005</td>\n",
       "      <td>210.240005</td>\n",
       "      <td>208.460007</td>\n",
       "      <td>208.779999</td>\n",
       "      <td>88939300</td>\n",
       "    </tr>\n",
       "    <tr>\n",
       "      <th>2016-11-02</th>\n",
       "      <td>SPY</td>\n",
       "      <td>210.649994</td>\n",
       "      <td>211.100006</td>\n",
       "      <td>209.229996</td>\n",
       "      <td>209.740005</td>\n",
       "      <td>103330800</td>\n",
       "    </tr>\n",
       "    <tr>\n",
       "      <th>2016-11-01</th>\n",
       "      <td>SPY</td>\n",
       "      <td>212.929993</td>\n",
       "      <td>212.990005</td>\n",
       "      <td>209.600006</td>\n",
       "      <td>211.009995</td>\n",
       "      <td>122781800</td>\n",
       "    </tr>\n",
       "    <tr>\n",
       "      <th>2016-10-31</th>\n",
       "      <td>SPY</td>\n",
       "      <td>212.929993</td>\n",
       "      <td>213.190002</td>\n",
       "      <td>212.360001</td>\n",
       "      <td>212.550003</td>\n",
       "      <td>61272500</td>\n",
       "    </tr>\n",
       "    <tr>\n",
       "      <th>2016-10-28</th>\n",
       "      <td>SPY</td>\n",
       "      <td>213.139999</td>\n",
       "      <td>213.929993</td>\n",
       "      <td>211.710007</td>\n",
       "      <td>212.539993</td>\n",
       "      <td>140623200</td>\n",
       "    </tr>\n",
       "  </tbody>\n",
       "</table>\n",
       "</div>"
      ],
      "text/plain": [
       "           symbol        open        high         low       close     volume\n",
       "2016-11-03    SPY  209.990005  210.240005  208.460007  208.779999   88939300\n",
       "2016-11-02    SPY  210.649994  211.100006  209.229996  209.740005  103330800\n",
       "2016-11-01    SPY  212.929993  212.990005  209.600006  211.009995  122781800\n",
       "2016-10-31    SPY  212.929993  213.190002  212.360001  212.550003   61272500\n",
       "2016-10-28    SPY  213.139999  213.929993  211.710007  212.539993  140623200"
      ]
     },
     "execution_count": 8,
     "metadata": {},
     "output_type": "execute_result"
    }
   ],
   "source": [
    "five_year_nasdaq_df = pd.concat([five_year_nasdaq_df, spy_df])\n",
    "five_year_nasdaq_df.columns = map(str.lower, five_year_nasdaq_df.columns)\n",
    "five_year_nasdaq_df[five_year_nasdaq_df['symbol'] == 'SPY'].head()\n"
   ]
  },
  {
   "cell_type": "markdown",
   "metadata": {},
   "source": [
    "<h2>Look for tickers in both cik_symbol list and nasdaq_df</h2>\n",
    "\n",
    "<p>This will help to narrow down data to use when running analysis on the filings.</p>"
   ]
  },
  {
   "cell_type": "code",
   "execution_count": 10,
   "metadata": {
    "collapsed": false
   },
   "outputs": [],
   "source": [
    "tickers = cik_and_tickers['symbol'].tolist()\n",
    "tickers_in_df = five_year_nasdaq_df['symbol'].unique().tolist()\n",
    "tickers_in_both = in_both(tickers_in_df, tickers)\n",
    "tickers_cik_in_both = cik_and_tickers[cik_and_tickers['symbol'].isin(tickers_in_both)]"
   ]
  },
  {
   "cell_type": "markdown",
   "metadata": {},
   "source": [
    "<h2>Load filings table to a pandas dataframe</h2>"
   ]
  },
  {
   "cell_type": "code",
   "execution_count": 11,
   "metadata": {
    "collapsed": false
   },
   "outputs": [],
   "source": [
    "filings = sql_to_df('select * from filings where cik in {};'.format(tuple(tickers_cik_in_both['cik'])), engine.connect(), index_col='date')\n",
    "#filings.index = filings.index.map(lambda x: x[0:4] + '-' + x[4:6] + '-' + x[6:8])"
   ]
  },
  {
   "cell_type": "code",
   "execution_count": 12,
   "metadata": {
    "collapsed": false
   },
   "outputs": [
    {
     "data": {
      "text/plain": [
       "1307357"
      ]
     },
     "execution_count": 12,
     "metadata": {},
     "output_type": "execute_result"
    }
   ],
   "source": [
    "len(filings)"
   ]
  },
  {
   "cell_type": "markdown",
   "metadata": {},
   "source": [
    "<h2>Create dataframe of both companies in both sets of data</h2>\n",
    "\n",
    "<p>This will need to be corrected because the data is useless without a date.</p>"
   ]
  },
  {
   "cell_type": "code",
   "execution_count": 13,
   "metadata": {
    "collapsed": false
   },
   "outputs": [],
   "source": [
    "tickers_cik = pd.DataFrame(tickers_cik_in_both, columns=['cik', 'symbol'])\n",
    "symbol_to_filings = pd.merge(left=filings, right=tickers_cik[tickers_cik['cik'].isin(\n",
    "            tickers_cik['cik'].unique())], left_on='cik', right_on='cik')\n",
    "#symbol_to_filings = pd.DataFrame(symbol_to_filings, columns=['cik', 'symbol', 'company_name', 'type', 'date', 'path'])"
   ]
  },
  {
   "cell_type": "code",
   "execution_count": 14,
   "metadata": {
    "collapsed": false
   },
   "outputs": [
    {
     "data": {
      "text/html": [
       "<div>\n",
       "<table border=\"1\" class=\"dataframe\">\n",
       "  <thead>\n",
       "    <tr style=\"text-align: right;\">\n",
       "      <th></th>\n",
       "      <th>cik</th>\n",
       "      <th>company_name</th>\n",
       "      <th>type</th>\n",
       "      <th>path</th>\n",
       "      <th>symbol</th>\n",
       "    </tr>\n",
       "  </thead>\n",
       "  <tbody>\n",
       "    <tr>\n",
       "      <th>0</th>\n",
       "      <td>2034</td>\n",
       "      <td>ACETO CORP</td>\n",
       "      <td>10-K</td>\n",
       "      <td>edgar/data/2034/0000002034-95-000005.txt</td>\n",
       "      <td>ACET</td>\n",
       "    </tr>\n",
       "    <tr>\n",
       "      <th>1</th>\n",
       "      <td>2034</td>\n",
       "      <td>ACETO CORP</td>\n",
       "      <td>10-K</td>\n",
       "      <td>edgar/data/2034/0000002034-96-000004.txt</td>\n",
       "      <td>ACET</td>\n",
       "    </tr>\n",
       "    <tr>\n",
       "      <th>2</th>\n",
       "      <td>2034</td>\n",
       "      <td>ACETO CORP</td>\n",
       "      <td>10-K</td>\n",
       "      <td>edgar/data/2034/0000002034-97-000005.txt</td>\n",
       "      <td>ACET</td>\n",
       "    </tr>\n",
       "    <tr>\n",
       "      <th>3</th>\n",
       "      <td>2034</td>\n",
       "      <td>ACETO CORP</td>\n",
       "      <td>10-K</td>\n",
       "      <td>edgar/data/2034/0000002034-98-000003.txt</td>\n",
       "      <td>ACET</td>\n",
       "    </tr>\n",
       "    <tr>\n",
       "      <th>4</th>\n",
       "      <td>2034</td>\n",
       "      <td>ACETO CORP</td>\n",
       "      <td>10-K</td>\n",
       "      <td>edgar/data/2034/0000002034-99-000008.txt</td>\n",
       "      <td>ACET</td>\n",
       "    </tr>\n",
       "  </tbody>\n",
       "</table>\n",
       "</div>"
      ],
      "text/plain": [
       "    cik company_name  type                                      path symbol\n",
       "0  2034   ACETO CORP  10-K  edgar/data/2034/0000002034-95-000005.txt   ACET\n",
       "1  2034   ACETO CORP  10-K  edgar/data/2034/0000002034-96-000004.txt   ACET\n",
       "2  2034   ACETO CORP  10-K  edgar/data/2034/0000002034-97-000005.txt   ACET\n",
       "3  2034   ACETO CORP  10-K  edgar/data/2034/0000002034-98-000003.txt   ACET\n",
       "4  2034   ACETO CORP  10-K  edgar/data/2034/0000002034-99-000008.txt   ACET"
      ]
     },
     "execution_count": 14,
     "metadata": {},
     "output_type": "execute_result"
    }
   ],
   "source": [
    "symbol_to_filings.head()"
   ]
  },
  {
   "cell_type": "markdown",
   "metadata": {},
   "source": [
    "<h2>Example of date splicing</h2>"
   ]
  },
  {
   "cell_type": "code",
   "execution_count": 15,
   "metadata": {
    "collapsed": false
   },
   "outputs": [
    {
     "data": {
      "text/html": [
       "<div>\n",
       "<table border=\"1\" class=\"dataframe\">\n",
       "  <thead>\n",
       "    <tr style=\"text-align: right;\">\n",
       "      <th></th>\n",
       "      <th>cik</th>\n",
       "      <th>company_name</th>\n",
       "      <th>type</th>\n",
       "      <th>path</th>\n",
       "    </tr>\n",
       "  </thead>\n",
       "  <tbody>\n",
       "    <tr>\n",
       "      <th>1994-01-24</th>\n",
       "      <td>813828</td>\n",
       "      <td>VIACOM INC</td>\n",
       "      <td>SC 14D1/A</td>\n",
       "      <td>edgar/data/813828/0000950112-94-000152.txt</td>\n",
       "    </tr>\n",
       "    <tr>\n",
       "      <th>1994-01-24</th>\n",
       "      <td>813828</td>\n",
       "      <td>VIACOM INC</td>\n",
       "      <td>SC 14D1/A</td>\n",
       "      <td>edgar/data/813828/0000950112-94-000159.txt</td>\n",
       "    </tr>\n",
       "    <tr>\n",
       "      <th>1994-01-25</th>\n",
       "      <td>106040</td>\n",
       "      <td>WESTERN DIGITAL CORP</td>\n",
       "      <td>10-Q</td>\n",
       "      <td>edgar/data/106040/0000892569-94-000025.txt</td>\n",
       "    </tr>\n",
       "    <tr>\n",
       "      <th>1994-01-25</th>\n",
       "      <td>750577</td>\n",
       "      <td>HANCOCK HOLDING CO</td>\n",
       "      <td>PRE 14A</td>\n",
       "      <td>edgar/data/750577/0000950129-94-000042.txt</td>\n",
       "    </tr>\n",
       "    <tr>\n",
       "      <th>1994-01-25</th>\n",
       "      <td>813828</td>\n",
       "      <td>VIACOM INC</td>\n",
       "      <td>SC 14D1/A</td>\n",
       "      <td>edgar/data/813828/0000950112-94-000163.txt</td>\n",
       "    </tr>\n",
       "  </tbody>\n",
       "</table>\n",
       "</div>"
      ],
      "text/plain": [
       "               cik          company_name       type  \\\n",
       "1994-01-24  813828            VIACOM INC  SC 14D1/A   \n",
       "1994-01-24  813828            VIACOM INC  SC 14D1/A   \n",
       "1994-01-25  106040  WESTERN DIGITAL CORP       10-Q   \n",
       "1994-01-25  750577    HANCOCK HOLDING CO    PRE 14A   \n",
       "1994-01-25  813828            VIACOM INC  SC 14D1/A   \n",
       "\n",
       "                                                  path  \n",
       "1994-01-24  edgar/data/813828/0000950112-94-000152.txt  \n",
       "1994-01-24  edgar/data/813828/0000950112-94-000159.txt  \n",
       "1994-01-25  edgar/data/106040/0000892569-94-000025.txt  \n",
       "1994-01-25  edgar/data/750577/0000950129-94-000042.txt  \n",
       "1994-01-25  edgar/data/813828/0000950112-94-000163.txt  "
      ]
     },
     "execution_count": 15,
     "metadata": {},
     "output_type": "execute_result"
    }
   ],
   "source": [
    "dates = pd.date_range('1994-01-22', '1994-04-26')\n",
    "df = pd.DataFrame(index=dates)\n",
    "temp_df = pd.DataFrame(filings)\n",
    "df = df.join(temp_df)\n",
    "df = df.dropna()\n",
    "df.head()"
   ]
  },
  {
   "cell_type": "code",
   "execution_count": 20,
   "metadata": {
    "collapsed": false
   },
   "outputs": [
    {
     "data": {
      "text/html": [
       "<div>\n",
       "<table border=\"1\" class=\"dataframe\">\n",
       "  <thead>\n",
       "    <tr style=\"text-align: right;\">\n",
       "      <th></th>\n",
       "      <th>symbol</th>\n",
       "      <th>open</th>\n",
       "      <th>high</th>\n",
       "      <th>low</th>\n",
       "      <th>close</th>\n",
       "      <th>volume</th>\n",
       "    </tr>\n",
       "  </thead>\n",
       "  <tbody>\n",
       "    <tr>\n",
       "      <th>2011-01-03</th>\n",
       "      <td>AAPL</td>\n",
       "      <td>46.5200</td>\n",
       "      <td>47.1800</td>\n",
       "      <td>46.4057</td>\n",
       "      <td>47.0814</td>\n",
       "      <td>15897200</td>\n",
       "    </tr>\n",
       "    <tr>\n",
       "      <th>2011-01-04</th>\n",
       "      <td>AAPL</td>\n",
       "      <td>47.4914</td>\n",
       "      <td>47.5000</td>\n",
       "      <td>46.8786</td>\n",
       "      <td>47.3271</td>\n",
       "      <td>11048100</td>\n",
       "    </tr>\n",
       "    <tr>\n",
       "      <th>2011-01-05</th>\n",
       "      <td>AAPL</td>\n",
       "      <td>47.0786</td>\n",
       "      <td>47.7629</td>\n",
       "      <td>47.0714</td>\n",
       "      <td>47.7143</td>\n",
       "      <td>9125500</td>\n",
       "    </tr>\n",
       "    <tr>\n",
       "      <th>2011-01-06</th>\n",
       "      <td>AAPL</td>\n",
       "      <td>47.8157</td>\n",
       "      <td>47.8929</td>\n",
       "      <td>47.5571</td>\n",
       "      <td>47.6757</td>\n",
       "      <td>10729500</td>\n",
       "    </tr>\n",
       "    <tr>\n",
       "      <th>2011-01-07</th>\n",
       "      <td>AAPL</td>\n",
       "      <td>47.7129</td>\n",
       "      <td>48.0500</td>\n",
       "      <td>47.4143</td>\n",
       "      <td>48.0171</td>\n",
       "      <td>11140300</td>\n",
       "    </tr>\n",
       "    <tr>\n",
       "      <th>2011-01-10</th>\n",
       "      <td>AAPL</td>\n",
       "      <td>48.3971</td>\n",
       "      <td>49.0329</td>\n",
       "      <td>48.1671</td>\n",
       "      <td>48.9214</td>\n",
       "      <td>16019900</td>\n",
       "    </tr>\n",
       "    <tr>\n",
       "      <th>2011-01-11</th>\n",
       "      <td>AAPL</td>\n",
       "      <td>49.2686</td>\n",
       "      <td>49.2800</td>\n",
       "      <td>48.4957</td>\n",
       "      <td>48.8057</td>\n",
       "      <td>15859900</td>\n",
       "    </tr>\n",
       "    <tr>\n",
       "      <th>2011-01-12</th>\n",
       "      <td>AAPL</td>\n",
       "      <td>49.0357</td>\n",
       "      <td>49.2043</td>\n",
       "      <td>48.8571</td>\n",
       "      <td>49.2029</td>\n",
       "      <td>10806300</td>\n",
       "    </tr>\n",
       "    <tr>\n",
       "      <th>2011-01-13</th>\n",
       "      <td>AAPL</td>\n",
       "      <td>49.3086</td>\n",
       "      <td>49.5200</td>\n",
       "      <td>49.1214</td>\n",
       "      <td>49.3829</td>\n",
       "      <td>10648000</td>\n",
       "    </tr>\n",
       "    <tr>\n",
       "      <th>2011-01-14</th>\n",
       "      <td>AAPL</td>\n",
       "      <td>49.4129</td>\n",
       "      <td>49.7829</td>\n",
       "      <td>49.2057</td>\n",
       "      <td>49.7829</td>\n",
       "      <td>11029900</td>\n",
       "    </tr>\n",
       "    <tr>\n",
       "      <th>2011-01-17</th>\n",
       "      <td>AAPL</td>\n",
       "      <td>49.7829</td>\n",
       "      <td>49.7829</td>\n",
       "      <td>49.7829</td>\n",
       "      <td>49.7829</td>\n",
       "      <td>0</td>\n",
       "    </tr>\n",
       "    <tr>\n",
       "      <th>2011-01-18</th>\n",
       "      <td>AAPL</td>\n",
       "      <td>47.0743</td>\n",
       "      <td>49.2514</td>\n",
       "      <td>46.5714</td>\n",
       "      <td>48.6643</td>\n",
       "      <td>67178100</td>\n",
       "    </tr>\n",
       "    <tr>\n",
       "      <th>2011-01-19</th>\n",
       "      <td>AAPL</td>\n",
       "      <td>49.7671</td>\n",
       "      <td>49.8000</td>\n",
       "      <td>48.1257</td>\n",
       "      <td>48.4057</td>\n",
       "      <td>40557400</td>\n",
       "    </tr>\n",
       "    <tr>\n",
       "      <th>2011-01-20</th>\n",
       "      <td>AAPL</td>\n",
       "      <td>48.0614</td>\n",
       "      <td>48.3286</td>\n",
       "      <td>47.1600</td>\n",
       "      <td>47.5257</td>\n",
       "      <td>27313900</td>\n",
       "    </tr>\n",
       "    <tr>\n",
       "      <th>2011-01-21</th>\n",
       "      <td>AAPL</td>\n",
       "      <td>47.6814</td>\n",
       "      <td>47.8400</td>\n",
       "      <td>46.6614</td>\n",
       "      <td>46.6743</td>\n",
       "      <td>26942800</td>\n",
       "    </tr>\n",
       "    <tr>\n",
       "      <th>2011-01-24</th>\n",
       "      <td>AAPL</td>\n",
       "      <td>46.6957</td>\n",
       "      <td>48.2071</td>\n",
       "      <td>46.6743</td>\n",
       "      <td>48.2071</td>\n",
       "      <td>20524300</td>\n",
       "    </tr>\n",
       "    <tr>\n",
       "      <th>2011-01-25</th>\n",
       "      <td>AAPL</td>\n",
       "      <td>48.0471</td>\n",
       "      <td>48.7771</td>\n",
       "      <td>47.7957</td>\n",
       "      <td>48.7714</td>\n",
       "      <td>19530900</td>\n",
       "    </tr>\n",
       "    <tr>\n",
       "      <th>2011-01-26</th>\n",
       "      <td>AAPL</td>\n",
       "      <td>48.9943</td>\n",
       "      <td>49.3714</td>\n",
       "      <td>48.7857</td>\n",
       "      <td>49.1214</td>\n",
       "      <td>18102300</td>\n",
       "    </tr>\n",
       "    <tr>\n",
       "      <th>2011-01-27</th>\n",
       "      <td>AAPL</td>\n",
       "      <td>49.1114</td>\n",
       "      <td>49.2414</td>\n",
       "      <td>48.9757</td>\n",
       "      <td>49.0300</td>\n",
       "      <td>10179400</td>\n",
       "    </tr>\n",
       "    <tr>\n",
       "      <th>2011-01-28</th>\n",
       "      <td>AAPL</td>\n",
       "      <td>49.1671</td>\n",
       "      <td>49.2000</td>\n",
       "      <td>47.6471</td>\n",
       "      <td>48.0143</td>\n",
       "      <td>21144800</td>\n",
       "    </tr>\n",
       "    <tr>\n",
       "      <th>2011-01-31</th>\n",
       "      <td>AAPL</td>\n",
       "      <td>47.9714</td>\n",
       "      <td>48.5771</td>\n",
       "      <td>47.7571</td>\n",
       "      <td>48.4743</td>\n",
       "      <td>13473000</td>\n",
       "    </tr>\n",
       "    <tr>\n",
       "      <th>2011-02-01</th>\n",
       "      <td>AAPL</td>\n",
       "      <td>48.7571</td>\n",
       "      <td>49.3786</td>\n",
       "      <td>48.7114</td>\n",
       "      <td>49.2900</td>\n",
       "      <td>15236800</td>\n",
       "    </tr>\n",
       "    <tr>\n",
       "      <th>2011-02-02</th>\n",
       "      <td>AAPL</td>\n",
       "      <td>49.2071</td>\n",
       "      <td>49.3214</td>\n",
       "      <td>49.0786</td>\n",
       "      <td>49.1886</td>\n",
       "      <td>9248400</td>\n",
       "    </tr>\n",
       "    <tr>\n",
       "      <th>2011-02-03</th>\n",
       "      <td>AAPL</td>\n",
       "      <td>49.1143</td>\n",
       "      <td>49.1771</td>\n",
       "      <td>48.3643</td>\n",
       "      <td>49.0629</td>\n",
       "      <td>14064100</td>\n",
       "    </tr>\n",
       "    <tr>\n",
       "      <th>2011-02-04</th>\n",
       "      <td>AAPL</td>\n",
       "      <td>49.0871</td>\n",
       "      <td>49.5286</td>\n",
       "      <td>49.0729</td>\n",
       "      <td>49.5000</td>\n",
       "      <td>11494200</td>\n",
       "    </tr>\n",
       "    <tr>\n",
       "      <th>2011-02-07</th>\n",
       "      <td>AAPL</td>\n",
       "      <td>49.6986</td>\n",
       "      <td>50.4643</td>\n",
       "      <td>49.6629</td>\n",
       "      <td>50.2686</td>\n",
       "      <td>17322100</td>\n",
       "    </tr>\n",
       "    <tr>\n",
       "      <th>2011-02-08</th>\n",
       "      <td>AAPL</td>\n",
       "      <td>50.5257</td>\n",
       "      <td>50.7886</td>\n",
       "      <td>50.3071</td>\n",
       "      <td>50.7429</td>\n",
       "      <td>13608500</td>\n",
       "    </tr>\n",
       "    <tr>\n",
       "      <th>2011-02-09</th>\n",
       "      <td>AAPL</td>\n",
       "      <td>50.7414</td>\n",
       "      <td>51.2857</td>\n",
       "      <td>50.6957</td>\n",
       "      <td>51.1657</td>\n",
       "      <td>17240800</td>\n",
       "    </tr>\n",
       "    <tr>\n",
       "      <th>2011-02-10</th>\n",
       "      <td>AAPL</td>\n",
       "      <td>51.0557</td>\n",
       "      <td>51.4286</td>\n",
       "      <td>49.7143</td>\n",
       "      <td>50.6486</td>\n",
       "      <td>33162400</td>\n",
       "    </tr>\n",
       "    <tr>\n",
       "      <th>2011-02-11</th>\n",
       "      <td>AAPL</td>\n",
       "      <td>50.6786</td>\n",
       "      <td>51.1143</td>\n",
       "      <td>50.5057</td>\n",
       "      <td>50.9786</td>\n",
       "      <td>13127500</td>\n",
       "    </tr>\n",
       "    <tr>\n",
       "      <th>...</th>\n",
       "      <td>...</td>\n",
       "      <td>...</td>\n",
       "      <td>...</td>\n",
       "      <td>...</td>\n",
       "      <td>...</td>\n",
       "      <td>...</td>\n",
       "    </tr>\n",
       "    <tr>\n",
       "      <th>2016-09-23</th>\n",
       "      <td>AAPL</td>\n",
       "      <td>114.4200</td>\n",
       "      <td>114.7900</td>\n",
       "      <td>111.5500</td>\n",
       "      <td>112.7100</td>\n",
       "      <td>52460600</td>\n",
       "    </tr>\n",
       "    <tr>\n",
       "      <th>2016-09-26</th>\n",
       "      <td>AAPL</td>\n",
       "      <td>111.6400</td>\n",
       "      <td>113.3900</td>\n",
       "      <td>111.5500</td>\n",
       "      <td>112.8800</td>\n",
       "      <td>29853200</td>\n",
       "    </tr>\n",
       "    <tr>\n",
       "      <th>2016-09-27</th>\n",
       "      <td>AAPL</td>\n",
       "      <td>113.0000</td>\n",
       "      <td>113.1800</td>\n",
       "      <td>112.3400</td>\n",
       "      <td>113.0900</td>\n",
       "      <td>24605000</td>\n",
       "    </tr>\n",
       "    <tr>\n",
       "      <th>2016-09-28</th>\n",
       "      <td>AAPL</td>\n",
       "      <td>113.6900</td>\n",
       "      <td>114.6400</td>\n",
       "      <td>113.4300</td>\n",
       "      <td>113.9500</td>\n",
       "      <td>29630900</td>\n",
       "    </tr>\n",
       "    <tr>\n",
       "      <th>2016-09-29</th>\n",
       "      <td>AAPL</td>\n",
       "      <td>113.1600</td>\n",
       "      <td>113.8000</td>\n",
       "      <td>111.8000</td>\n",
       "      <td>112.1800</td>\n",
       "      <td>35881900</td>\n",
       "    </tr>\n",
       "    <tr>\n",
       "      <th>2016-09-30</th>\n",
       "      <td>AAPL</td>\n",
       "      <td>112.4600</td>\n",
       "      <td>113.3700</td>\n",
       "      <td>111.8000</td>\n",
       "      <td>113.0500</td>\n",
       "      <td>36370100</td>\n",
       "    </tr>\n",
       "    <tr>\n",
       "      <th>2016-10-03</th>\n",
       "      <td>AAPL</td>\n",
       "      <td>112.7100</td>\n",
       "      <td>113.0500</td>\n",
       "      <td>112.2800</td>\n",
       "      <td>112.5200</td>\n",
       "      <td>21701700</td>\n",
       "    </tr>\n",
       "    <tr>\n",
       "      <th>2016-10-04</th>\n",
       "      <td>AAPL</td>\n",
       "      <td>113.0600</td>\n",
       "      <td>114.3100</td>\n",
       "      <td>112.6300</td>\n",
       "      <td>113.0000</td>\n",
       "      <td>29736800</td>\n",
       "    </tr>\n",
       "    <tr>\n",
       "      <th>2016-10-05</th>\n",
       "      <td>AAPL</td>\n",
       "      <td>113.4000</td>\n",
       "      <td>113.6600</td>\n",
       "      <td>112.6900</td>\n",
       "      <td>113.0500</td>\n",
       "      <td>21453000</td>\n",
       "    </tr>\n",
       "    <tr>\n",
       "      <th>2016-10-06</th>\n",
       "      <td>AAPL</td>\n",
       "      <td>113.7000</td>\n",
       "      <td>114.3400</td>\n",
       "      <td>113.1300</td>\n",
       "      <td>113.8900</td>\n",
       "      <td>28779300</td>\n",
       "    </tr>\n",
       "    <tr>\n",
       "      <th>2016-10-07</th>\n",
       "      <td>AAPL</td>\n",
       "      <td>114.3100</td>\n",
       "      <td>114.5600</td>\n",
       "      <td>113.5100</td>\n",
       "      <td>114.0600</td>\n",
       "      <td>24358400</td>\n",
       "    </tr>\n",
       "    <tr>\n",
       "      <th>2016-10-10</th>\n",
       "      <td>AAPL</td>\n",
       "      <td>115.0200</td>\n",
       "      <td>116.7500</td>\n",
       "      <td>114.7200</td>\n",
       "      <td>116.0500</td>\n",
       "      <td>36235900</td>\n",
       "    </tr>\n",
       "    <tr>\n",
       "      <th>2016-10-11</th>\n",
       "      <td>AAPL</td>\n",
       "      <td>117.7000</td>\n",
       "      <td>118.6900</td>\n",
       "      <td>116.2000</td>\n",
       "      <td>116.3000</td>\n",
       "      <td>64041000</td>\n",
       "    </tr>\n",
       "    <tr>\n",
       "      <th>2016-10-12</th>\n",
       "      <td>AAPL</td>\n",
       "      <td>117.3500</td>\n",
       "      <td>117.9800</td>\n",
       "      <td>116.7500</td>\n",
       "      <td>117.3400</td>\n",
       "      <td>37586700</td>\n",
       "    </tr>\n",
       "    <tr>\n",
       "      <th>2016-10-13</th>\n",
       "      <td>AAPL</td>\n",
       "      <td>116.7900</td>\n",
       "      <td>117.4400</td>\n",
       "      <td>115.7200</td>\n",
       "      <td>116.9800</td>\n",
       "      <td>35192400</td>\n",
       "    </tr>\n",
       "    <tr>\n",
       "      <th>2016-10-14</th>\n",
       "      <td>AAPL</td>\n",
       "      <td>117.8800</td>\n",
       "      <td>118.1700</td>\n",
       "      <td>117.1300</td>\n",
       "      <td>117.6300</td>\n",
       "      <td>35652100</td>\n",
       "    </tr>\n",
       "    <tr>\n",
       "      <th>2016-10-17</th>\n",
       "      <td>AAPL</td>\n",
       "      <td>117.3300</td>\n",
       "      <td>117.8400</td>\n",
       "      <td>116.7800</td>\n",
       "      <td>117.5500</td>\n",
       "      <td>23624800</td>\n",
       "    </tr>\n",
       "    <tr>\n",
       "      <th>2016-10-18</th>\n",
       "      <td>AAPL</td>\n",
       "      <td>118.1800</td>\n",
       "      <td>118.2100</td>\n",
       "      <td>117.4500</td>\n",
       "      <td>117.4700</td>\n",
       "      <td>24553400</td>\n",
       "    </tr>\n",
       "    <tr>\n",
       "      <th>2016-10-19</th>\n",
       "      <td>AAPL</td>\n",
       "      <td>117.2500</td>\n",
       "      <td>117.7600</td>\n",
       "      <td>113.8000</td>\n",
       "      <td>117.1200</td>\n",
       "      <td>20034500</td>\n",
       "    </tr>\n",
       "    <tr>\n",
       "      <th>2016-10-20</th>\n",
       "      <td>AAPL</td>\n",
       "      <td>116.8600</td>\n",
       "      <td>117.3800</td>\n",
       "      <td>116.3300</td>\n",
       "      <td>117.0600</td>\n",
       "      <td>24125800</td>\n",
       "    </tr>\n",
       "    <tr>\n",
       "      <th>2016-10-21</th>\n",
       "      <td>AAPL</td>\n",
       "      <td>116.8100</td>\n",
       "      <td>116.9100</td>\n",
       "      <td>116.2800</td>\n",
       "      <td>116.6000</td>\n",
       "      <td>23192600</td>\n",
       "    </tr>\n",
       "    <tr>\n",
       "      <th>2016-10-24</th>\n",
       "      <td>AAPL</td>\n",
       "      <td>117.1000</td>\n",
       "      <td>117.7400</td>\n",
       "      <td>117.0000</td>\n",
       "      <td>117.6500</td>\n",
       "      <td>23538600</td>\n",
       "    </tr>\n",
       "    <tr>\n",
       "      <th>2016-10-25</th>\n",
       "      <td>AAPL</td>\n",
       "      <td>117.9500</td>\n",
       "      <td>118.3600</td>\n",
       "      <td>117.3100</td>\n",
       "      <td>118.2500</td>\n",
       "      <td>48128900</td>\n",
       "    </tr>\n",
       "    <tr>\n",
       "      <th>2016-10-26</th>\n",
       "      <td>AAPL</td>\n",
       "      <td>114.3100</td>\n",
       "      <td>115.7000</td>\n",
       "      <td>113.3100</td>\n",
       "      <td>115.5900</td>\n",
       "      <td>66134200</td>\n",
       "    </tr>\n",
       "    <tr>\n",
       "      <th>2016-10-27</th>\n",
       "      <td>AAPL</td>\n",
       "      <td>115.3900</td>\n",
       "      <td>115.8600</td>\n",
       "      <td>114.1000</td>\n",
       "      <td>114.4800</td>\n",
       "      <td>34562000</td>\n",
       "    </tr>\n",
       "    <tr>\n",
       "      <th>2016-10-28</th>\n",
       "      <td>AAPL</td>\n",
       "      <td>113.8700</td>\n",
       "      <td>115.2100</td>\n",
       "      <td>113.4500</td>\n",
       "      <td>113.7200</td>\n",
       "      <td>37861600</td>\n",
       "    </tr>\n",
       "    <tr>\n",
       "      <th>2016-10-31</th>\n",
       "      <td>AAPL</td>\n",
       "      <td>113.6500</td>\n",
       "      <td>114.2300</td>\n",
       "      <td>113.2000</td>\n",
       "      <td>113.5400</td>\n",
       "      <td>26419300</td>\n",
       "    </tr>\n",
       "    <tr>\n",
       "      <th>2016-11-01</th>\n",
       "      <td>AAPL</td>\n",
       "      <td>113.4600</td>\n",
       "      <td>113.7700</td>\n",
       "      <td>110.5300</td>\n",
       "      <td>111.4900</td>\n",
       "      <td>43825800</td>\n",
       "    </tr>\n",
       "    <tr>\n",
       "      <th>2016-11-02</th>\n",
       "      <td>AAPL</td>\n",
       "      <td>111.4000</td>\n",
       "      <td>112.3500</td>\n",
       "      <td>111.2300</td>\n",
       "      <td>111.5900</td>\n",
       "      <td>28331700</td>\n",
       "    </tr>\n",
       "    <tr>\n",
       "      <th>2016-11-03</th>\n",
       "      <td>AAPL</td>\n",
       "      <td>110.9800</td>\n",
       "      <td>111.4600</td>\n",
       "      <td>109.5500</td>\n",
       "      <td>109.8300</td>\n",
       "      <td>26120400</td>\n",
       "    </tr>\n",
       "  </tbody>\n",
       "</table>\n",
       "<p>1524 rows × 6 columns</p>\n",
       "</div>"
      ],
      "text/plain": [
       "           symbol      open      high       low     close    volume\n",
       "2011-01-03   AAPL   46.5200   47.1800   46.4057   47.0814  15897200\n",
       "2011-01-04   AAPL   47.4914   47.5000   46.8786   47.3271  11048100\n",
       "2011-01-05   AAPL   47.0786   47.7629   47.0714   47.7143   9125500\n",
       "2011-01-06   AAPL   47.8157   47.8929   47.5571   47.6757  10729500\n",
       "2011-01-07   AAPL   47.7129   48.0500   47.4143   48.0171  11140300\n",
       "2011-01-10   AAPL   48.3971   49.0329   48.1671   48.9214  16019900\n",
       "2011-01-11   AAPL   49.2686   49.2800   48.4957   48.8057  15859900\n",
       "2011-01-12   AAPL   49.0357   49.2043   48.8571   49.2029  10806300\n",
       "2011-01-13   AAPL   49.3086   49.5200   49.1214   49.3829  10648000\n",
       "2011-01-14   AAPL   49.4129   49.7829   49.2057   49.7829  11029900\n",
       "2011-01-17   AAPL   49.7829   49.7829   49.7829   49.7829         0\n",
       "2011-01-18   AAPL   47.0743   49.2514   46.5714   48.6643  67178100\n",
       "2011-01-19   AAPL   49.7671   49.8000   48.1257   48.4057  40557400\n",
       "2011-01-20   AAPL   48.0614   48.3286   47.1600   47.5257  27313900\n",
       "2011-01-21   AAPL   47.6814   47.8400   46.6614   46.6743  26942800\n",
       "2011-01-24   AAPL   46.6957   48.2071   46.6743   48.2071  20524300\n",
       "2011-01-25   AAPL   48.0471   48.7771   47.7957   48.7714  19530900\n",
       "2011-01-26   AAPL   48.9943   49.3714   48.7857   49.1214  18102300\n",
       "2011-01-27   AAPL   49.1114   49.2414   48.9757   49.0300  10179400\n",
       "2011-01-28   AAPL   49.1671   49.2000   47.6471   48.0143  21144800\n",
       "2011-01-31   AAPL   47.9714   48.5771   47.7571   48.4743  13473000\n",
       "2011-02-01   AAPL   48.7571   49.3786   48.7114   49.2900  15236800\n",
       "2011-02-02   AAPL   49.2071   49.3214   49.0786   49.1886   9248400\n",
       "2011-02-03   AAPL   49.1143   49.1771   48.3643   49.0629  14064100\n",
       "2011-02-04   AAPL   49.0871   49.5286   49.0729   49.5000  11494200\n",
       "2011-02-07   AAPL   49.6986   50.4643   49.6629   50.2686  17322100\n",
       "2011-02-08   AAPL   50.5257   50.7886   50.3071   50.7429  13608500\n",
       "2011-02-09   AAPL   50.7414   51.2857   50.6957   51.1657  17240800\n",
       "2011-02-10   AAPL   51.0557   51.4286   49.7143   50.6486  33162400\n",
       "2011-02-11   AAPL   50.6786   51.1143   50.5057   50.9786  13127500\n",
       "...           ...       ...       ...       ...       ...       ...\n",
       "2016-09-23   AAPL  114.4200  114.7900  111.5500  112.7100  52460600\n",
       "2016-09-26   AAPL  111.6400  113.3900  111.5500  112.8800  29853200\n",
       "2016-09-27   AAPL  113.0000  113.1800  112.3400  113.0900  24605000\n",
       "2016-09-28   AAPL  113.6900  114.6400  113.4300  113.9500  29630900\n",
       "2016-09-29   AAPL  113.1600  113.8000  111.8000  112.1800  35881900\n",
       "2016-09-30   AAPL  112.4600  113.3700  111.8000  113.0500  36370100\n",
       "2016-10-03   AAPL  112.7100  113.0500  112.2800  112.5200  21701700\n",
       "2016-10-04   AAPL  113.0600  114.3100  112.6300  113.0000  29736800\n",
       "2016-10-05   AAPL  113.4000  113.6600  112.6900  113.0500  21453000\n",
       "2016-10-06   AAPL  113.7000  114.3400  113.1300  113.8900  28779300\n",
       "2016-10-07   AAPL  114.3100  114.5600  113.5100  114.0600  24358400\n",
       "2016-10-10   AAPL  115.0200  116.7500  114.7200  116.0500  36235900\n",
       "2016-10-11   AAPL  117.7000  118.6900  116.2000  116.3000  64041000\n",
       "2016-10-12   AAPL  117.3500  117.9800  116.7500  117.3400  37586700\n",
       "2016-10-13   AAPL  116.7900  117.4400  115.7200  116.9800  35192400\n",
       "2016-10-14   AAPL  117.8800  118.1700  117.1300  117.6300  35652100\n",
       "2016-10-17   AAPL  117.3300  117.8400  116.7800  117.5500  23624800\n",
       "2016-10-18   AAPL  118.1800  118.2100  117.4500  117.4700  24553400\n",
       "2016-10-19   AAPL  117.2500  117.7600  113.8000  117.1200  20034500\n",
       "2016-10-20   AAPL  116.8600  117.3800  116.3300  117.0600  24125800\n",
       "2016-10-21   AAPL  116.8100  116.9100  116.2800  116.6000  23192600\n",
       "2016-10-24   AAPL  117.1000  117.7400  117.0000  117.6500  23538600\n",
       "2016-10-25   AAPL  117.9500  118.3600  117.3100  118.2500  48128900\n",
       "2016-10-26   AAPL  114.3100  115.7000  113.3100  115.5900  66134200\n",
       "2016-10-27   AAPL  115.3900  115.8600  114.1000  114.4800  34562000\n",
       "2016-10-28   AAPL  113.8700  115.2100  113.4500  113.7200  37861600\n",
       "2016-10-31   AAPL  113.6500  114.2300  113.2000  113.5400  26419300\n",
       "2016-11-01   AAPL  113.4600  113.7700  110.5300  111.4900  43825800\n",
       "2016-11-02   AAPL  111.4000  112.3500  111.2300  111.5900  28331700\n",
       "2016-11-03   AAPL  110.9800  111.4600  109.5500  109.8300  26120400\n",
       "\n",
       "[1524 rows x 6 columns]"
      ]
     },
     "execution_count": 20,
     "metadata": {},
     "output_type": "execute_result"
    }
   ],
   "source": [
    "five_year_nasdaq_df[five_year_nasdaq_df['symbol'] == 'AAPL']"
   ]
  },
  {
   "cell_type": "markdown",
   "metadata": {},
   "source": [
    "<h2>Example analysis with AAPL</h2>"
   ]
  },
  {
   "cell_type": "code",
   "execution_count": 21,
   "metadata": {
    "collapsed": false
   },
   "outputs": [
    {
     "data": {
      "text/html": [
       "<div>\n",
       "<table border=\"1\" class=\"dataframe\">\n",
       "  <thead>\n",
       "    <tr style=\"text-align: right;\">\n",
       "      <th></th>\n",
       "      <th>close</th>\n",
       "    </tr>\n",
       "  </thead>\n",
       "  <tbody>\n",
       "    <tr>\n",
       "      <th>2011-01-03</th>\n",
       "      <td>47.0814</td>\n",
       "    </tr>\n",
       "    <tr>\n",
       "      <th>2011-01-04</th>\n",
       "      <td>47.3271</td>\n",
       "    </tr>\n",
       "    <tr>\n",
       "      <th>2011-01-05</th>\n",
       "      <td>47.7143</td>\n",
       "    </tr>\n",
       "    <tr>\n",
       "      <th>2011-01-06</th>\n",
       "      <td>47.6757</td>\n",
       "    </tr>\n",
       "    <tr>\n",
       "      <th>2011-01-07</th>\n",
       "      <td>48.0171</td>\n",
       "    </tr>\n",
       "  </tbody>\n",
       "</table>\n",
       "</div>"
      ],
      "text/plain": [
       "              close\n",
       "2011-01-03  47.0814\n",
       "2011-01-04  47.3271\n",
       "2011-01-05  47.7143\n",
       "2011-01-06  47.6757\n",
       "2011-01-07  48.0171"
      ]
     },
     "execution_count": 21,
     "metadata": {},
     "output_type": "execute_result"
    }
   ],
   "source": [
    "dates = pd.date_range('2011-01-02', '2011-01-26')\n",
    "aapl_stock_price = pd.DataFrame(index=dates)\n",
    "temp_df = pd.DataFrame(five_year_nasdaq_df[five_year_nasdaq_df['symbol'] ==\"AAPL\"], columns=['close'])\n",
    "aapl_stock_price = aapl_stock_price.join(temp_df)\n",
    "aapl_stock_price = aapl_stock_price.dropna()\n",
    "aapl_stock_price.head()"
   ]
  },
  {
   "cell_type": "code",
   "execution_count": 22,
   "metadata": {
    "collapsed": false
   },
   "outputs": [
    {
     "name": "stdout",
     "output_type": "stream",
     "text": [
      "          cik company_name exchange  isactive symbol\n",
      "index                                               \n",
      "6580   320193    APPLE INC   NASDAQ         1   AAPL\n"
     ]
    }
   ],
   "source": [
    "aapl_cik = cik_and_tickers[cik_and_tickers['symbol'] == 'AAPL']\n",
    "print(aapl_cik)"
   ]
  },
  {
   "cell_type": "code",
   "execution_count": 23,
   "metadata": {
    "collapsed": false
   },
   "outputs": [
    {
     "data": {
      "text/html": [
       "<div>\n",
       "<table border=\"1\" class=\"dataframe\">\n",
       "  <thead>\n",
       "    <tr style=\"text-align: right;\">\n",
       "      <th></th>\n",
       "      <th>cik</th>\n",
       "      <th>company_name</th>\n",
       "      <th>type</th>\n",
       "      <th>path</th>\n",
       "    </tr>\n",
       "  </thead>\n",
       "  <tbody>\n",
       "    <tr>\n",
       "      <th>2011-01-07</th>\n",
       "      <td>320193</td>\n",
       "      <td>APPLE INC</td>\n",
       "      <td>DEF 14A</td>\n",
       "      <td>edgar/data/320193/0001193125-11-003231.txt</td>\n",
       "    </tr>\n",
       "    <tr>\n",
       "      <th>2011-01-07</th>\n",
       "      <td>320193</td>\n",
       "      <td>APPLE INC</td>\n",
       "      <td>DEFA14A</td>\n",
       "      <td>edgar/data/320193/0001193125-11-003232.txt</td>\n",
       "    </tr>\n",
       "    <tr>\n",
       "      <th>2011-01-12</th>\n",
       "      <td>320193</td>\n",
       "      <td>APPLE INC</td>\n",
       "      <td>4</td>\n",
       "      <td>edgar/data/320193/0001181431-11-003352.txt</td>\n",
       "    </tr>\n",
       "    <tr>\n",
       "      <th>2011-01-18</th>\n",
       "      <td>320193</td>\n",
       "      <td>APPLE INC</td>\n",
       "      <td>8-K</td>\n",
       "      <td>edgar/data/320193/0001181431-11-003847.txt</td>\n",
       "    </tr>\n",
       "    <tr>\n",
       "      <th>2011-01-18</th>\n",
       "      <td>320193</td>\n",
       "      <td>APPLE INC</td>\n",
       "      <td>8-K</td>\n",
       "      <td>edgar/data/320193/0001193125-11-009392.txt</td>\n",
       "    </tr>\n",
       "  </tbody>\n",
       "</table>\n",
       "</div>"
      ],
      "text/plain": [
       "               cik company_name     type  \\\n",
       "2011-01-07  320193    APPLE INC  DEF 14A   \n",
       "2011-01-07  320193    APPLE INC  DEFA14A   \n",
       "2011-01-12  320193    APPLE INC        4   \n",
       "2011-01-18  320193    APPLE INC      8-K   \n",
       "2011-01-18  320193    APPLE INC      8-K   \n",
       "\n",
       "                                                  path  \n",
       "2011-01-07  edgar/data/320193/0001193125-11-003231.txt  \n",
       "2011-01-07  edgar/data/320193/0001193125-11-003232.txt  \n",
       "2011-01-12  edgar/data/320193/0001181431-11-003352.txt  \n",
       "2011-01-18  edgar/data/320193/0001181431-11-003847.txt  \n",
       "2011-01-18  edgar/data/320193/0001193125-11-009392.txt  "
      ]
     },
     "execution_count": 23,
     "metadata": {},
     "output_type": "execute_result"
    }
   ],
   "source": [
    "dates = pd.date_range('2011-01-02', '2016-11-03')\n",
    "aapl_filings = pd.DataFrame(index=dates)\n",
    "temp_df = pd.DataFrame(filings[filings['cik'] ==\"320193\"])\n",
    "aapl_filings = aapl_filings.join(temp_df)\n",
    "aapl_filings = aapl_filings.dropna()\n",
    "aapl_filings.head()"
   ]
  },
  {
   "cell_type": "code",
   "execution_count": null,
   "metadata": {
    "collapsed": false
   },
   "outputs": [],
   "source": [
    "#dates = pd.date_range('2011-01-02', '2011-01-26')\n",
    "#aapl_stock_price = pd.DataFrame(index=dates)\n",
    "#temp_df = pd.DataFrame(five_year_nasdaq_df[five_year_nasdaq_df['Symbol'] ==\"AAPL\"], columns=['Close'])\n",
    "#aapl_stock_price = aapl_stock_price.join(temp_df)\n",
    "#aapl_stock_price = aapl_stock_price.dropna()\n",
    "\n",
    "def stock_data_filings(startdate, enddate, symbol, cik_symbol_match_df, stock_data_df):\n",
    "    \"\"\"\n",
    "    Returns two dataframes. The first contains the eod stock price and the other\n",
    "    the filings for the given date period.\n",
    "    \"\"\"\n",
    "    dates = pd.date_range(startdate, enddate)\n",
    "    try:\n",
    "        cik = cik_symbol_match_df[cik_symbol_match_df['symbol'] == symbol]['cik'].values[0]\n",
    "        stock_price = pd.DataFrame(index=dates)\n",
    "        temp_df = pd.DataFrame(stock_data_df[stock_data_df['symbol'] == symbol], columns=['close'])\n",
    "        stock_price = stock_price.join(temp_df)\n",
    "        stock_price = stock_price.dropna()\n",
    "        this_filings = pd.DataFrame(index=dates)\n",
    "        temp_df2 = pd.DataFrame(filings[filings['cik'] == cik])\n",
    "        this_filings = this_filings.join(temp_df2)\n",
    "        this_filings = this_filings.dropna()\n",
    "        return stock_price, this_filings\n",
    "    except IndexError:\n",
    "        return 'Symbol not located in dataset.'\n",
    "    \n"
   ]
  },
  {
   "cell_type": "code",
   "execution_count": null,
   "metadata": {
    "collapsed": false
   },
   "outputs": [],
   "source": [
    "aapl_price, aapl_filings = stock_data_filings('2011-01-02', '2016-11-03', 'AAPL', cik_and_tickers, five_year_nasdaq_df)"
   ]
  },
  {
   "cell_type": "code",
   "execution_count": null,
   "metadata": {
    "collapsed": false
   },
   "outputs": [],
   "source": [
    "stock_price_on_day_of_filing = aapl_filings.join(aapl_price)\n"
   ]
  },
  {
   "cell_type": "code",
   "execution_count": null,
   "metadata": {
    "collapsed": false
   },
   "outputs": [],
   "source": [
    "# Add previous close and next day close to the dataframe\n",
    "stock_price_on_day_of_filing.head()"
   ]
  },
  {
   "cell_type": "markdown",
   "metadata": {},
   "source": [
    "<h2>AAPL Rolling Mean</h2>"
   ]
  },
  {
   "cell_type": "code",
   "execution_count": null,
   "metadata": {
    "collapsed": false
   },
   "outputs": [],
   "source": [
    "def get_data(symbols, dates, eod_df):\n",
    "    \"\"\"Read stock data (adjusted close) for given symbols from CSV files.\"\"\"\n",
    "    df = pd.DataFrame(index=dates)\n",
    "    count = 0\n",
    "    for symbol in symbols:\n",
    "        # TODO: Read and join data for each symbol\n",
    "        temp_df = pd.DataFrame(eod_df[eod_df['Symbol'] == symbol], columns=['Close'])\n",
    "        temp_df = temp_df.rename(columns={'Close': symbol})\n",
    "        df = df.join(temp_df)\n",
    "        df = df.dropna()\n",
    "    return df\n",
    "\n",
    "\n",
    "def plot_data(df, title='Stock Prices', ylabel=\"Price\", xlabel=\"Date\"):\n",
    "    \"\"\"Plot stock prices with a custom title and meaningful axis labels.\"\"\"\n",
    "    ax = df.plot(title=title, fontsize=12)\n",
    "    ax.set_xlabel(xlabel)\n",
    "    ax.set_ylabel(ylabel)\n",
    "    plt.show()\n",
    "    \n",
    "    \n",
    "def test_run():\n",
    "    # Read data\n",
    "    dates = pd.date_range('2011-01-01', '2016-12-31')\n",
    "    symbols = ['AAPL']\n",
    "    df = get_data(symbols, dates, five_year_nasdaq_df)\n",
    "    \n",
    "    # Plot SPY data, retain matplotlib axis object\n",
    "    ax = df['AAPL'].plot(title='2012 Apple rolling mean', label='AAPL')\n",
    "    \n",
    "    # Compute the rolling mean using a 20 day window\n",
    "    rm_AAPL = pd.rolling_mean(df['AAPL'], window=20)\n",
    "    \n",
    "    # Add rolling mean to same plot\n",
    "    rm_AAPL.plot(label='Rolling mean', ax=ax)\n",
    "    \n",
    "    # Add axis labels and legend\n",
    "    ax.set_xlabel('Date')\n",
    "    ax.set_ylabel('Price')\n",
    "    ax.legend(loc='upper left')\n",
    "    plt.show()\n",
    "    \n",
    "    \n",
    "    \n",
    "if __name__ == \"__main__\":\n",
    "    test_run()"
   ]
  },
  {
   "cell_type": "code",
   "execution_count": null,
   "metadata": {
    "collapsed": false
   },
   "outputs": [],
   "source": [
    "dates = pd.date_range('2011-01-22', '2011-04-26')\n",
    "get_data(['AAPL', 'ACET'], dates, five_year_nasdaq_df).head()"
   ]
  },
  {
   "cell_type": "code",
   "execution_count": null,
   "metadata": {
    "collapsed": false
   },
   "outputs": [],
   "source": []
  },
  {
   "cell_type": "markdown",
   "metadata": {},
   "source": [
    "<h2>Goal:</h2>\n",
    "\n",
    "<p>\n",
    "The goal is to find out which forms affect stock price.  My idea is to to look at the price the day before and day of a form being filed.  To do this start with one stock, make it work then switch to many stocks.  To meausre the change in price to the the mean error (standard deviation).\n",
    "</p>"
   ]
  },
  {
   "cell_type": "code",
   "execution_count": null,
   "metadata": {
    "collapsed": false
   },
   "outputs": [],
   "source": [
    "first_day = 70\n",
    "second_day = 56\n",
    "change = pow(second_day - first_day, 2)\n"
   ]
  },
  {
   "cell_type": "code",
   "execution_count": null,
   "metadata": {
    "collapsed": false
   },
   "outputs": [],
   "source": [
    "mean = five_year_nasdaq_df[five_year_nasdaq_df['Symbol'] =='AAME']['Close'].mean()\n",
    "std = five_year_nasdaq_df[five_year_nasdaq_df['Symbol'] =='AAME']['Close'].std()"
   ]
  },
  {
   "cell_type": "code",
   "execution_count": null,
   "metadata": {
    "collapsed": false
   },
   "outputs": [],
   "source": [
    "five_year_nasdaq_df[five_year_nasdaq_df['Symbol'] =='AAME']['Close'][0:10]"
   ]
  },
  {
   "cell_type": "code",
   "execution_count": null,
   "metadata": {
    "collapsed": false
   },
   "outputs": [],
   "source": []
  },
  {
   "cell_type": "code",
   "execution_count": null,
   "metadata": {
    "collapsed": false
   },
   "outputs": [],
   "source": []
  },
  {
   "cell_type": "code",
   "execution_count": null,
   "metadata": {
    "collapsed": false
   },
   "outputs": [],
   "source": []
  },
  {
   "cell_type": "code",
   "execution_count": null,
   "metadata": {
    "collapsed": false
   },
   "outputs": [],
   "source": []
  },
  {
   "cell_type": "code",
   "execution_count": null,
   "metadata": {
    "collapsed": false
   },
   "outputs": [],
   "source": []
  },
  {
   "cell_type": "code",
   "execution_count": null,
   "metadata": {
    "collapsed": false
   },
   "outputs": [],
   "source": []
  },
  {
   "cell_type": "code",
   "execution_count": null,
   "metadata": {
    "collapsed": false
   },
   "outputs": [],
   "source": []
  },
  {
   "cell_type": "code",
   "execution_count": null,
   "metadata": {
    "collapsed": false
   },
   "outputs": [],
   "source": []
  },
  {
   "cell_type": "code",
   "execution_count": null,
   "metadata": {
    "collapsed": false
   },
   "outputs": [],
   "source": []
  },
  {
   "cell_type": "code",
   "execution_count": null,
   "metadata": {
    "collapsed": true
   },
   "outputs": [],
   "source": []
  },
  {
   "cell_type": "code",
   "execution_count": null,
   "metadata": {
    "collapsed": true
   },
   "outputs": [],
   "source": []
  },
  {
   "cell_type": "code",
   "execution_count": null,
   "metadata": {
    "collapsed": true
   },
   "outputs": [],
   "source": []
  },
  {
   "cell_type": "code",
   "execution_count": null,
   "metadata": {
    "collapsed": true
   },
   "outputs": [],
   "source": []
  },
  {
   "cell_type": "code",
   "execution_count": null,
   "metadata": {
    "collapsed": true
   },
   "outputs": [],
   "source": []
  },
  {
   "cell_type": "code",
   "execution_count": null,
   "metadata": {
    "collapsed": true
   },
   "outputs": [],
   "source": []
  },
  {
   "cell_type": "code",
   "execution_count": null,
   "metadata": {
    "collapsed": true
   },
   "outputs": [],
   "source": []
  },
  {
   "cell_type": "code",
   "execution_count": null,
   "metadata": {
    "collapsed": true
   },
   "outputs": [],
   "source": []
  },
  {
   "cell_type": "code",
   "execution_count": null,
   "metadata": {
    "collapsed": true
   },
   "outputs": [],
   "source": []
  },
  {
   "cell_type": "code",
   "execution_count": null,
   "metadata": {
    "collapsed": false
   },
   "outputs": [],
   "source": [
    "\n"
   ]
  },
  {
   "cell_type": "code",
   "execution_count": null,
   "metadata": {
    "collapsed": true
   },
   "outputs": [],
   "source": []
  },
  {
   "cell_type": "code",
   "execution_count": null,
   "metadata": {
    "collapsed": true
   },
   "outputs": [],
   "source": []
  },
  {
   "cell_type": "code",
   "execution_count": null,
   "metadata": {
    "collapsed": true
   },
   "outputs": [],
   "source": []
  },
  {
   "cell_type": "code",
   "execution_count": null,
   "metadata": {
    "collapsed": true
   },
   "outputs": [],
   "source": []
  },
  {
   "cell_type": "code",
   "execution_count": null,
   "metadata": {
    "collapsed": true
   },
   "outputs": [],
   "source": []
  },
  {
   "cell_type": "code",
   "execution_count": null,
   "metadata": {
    "collapsed": true
   },
   "outputs": [],
   "source": []
  }
 ],
 "metadata": {
  "kernelspec": {
   "display_name": "Python 3",
   "language": "python",
   "name": "python3"
  },
  "language_info": {
   "codemirror_mode": {
    "name": "ipython",
    "version": 3
   },
   "file_extension": ".py",
   "mimetype": "text/x-python",
   "name": "python",
   "nbconvert_exporter": "python",
   "pygments_lexer": "ipython3",
   "version": "3.5.1"
  }
 },
 "nbformat": 4,
 "nbformat_minor": 1
}
