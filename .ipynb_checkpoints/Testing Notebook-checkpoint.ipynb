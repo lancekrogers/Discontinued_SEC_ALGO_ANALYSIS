{
 "cells": [
  {
   "cell_type": "markdown",
   "metadata": {},
   "source": [
    "<h1>SEC Filing Analyzer</h1>"
   ]
  },
  {
   "cell_type": "markdown",
   "metadata": {},
   "source": [
    "http://www.quantshare.com/sa-426-6-ways-to-download-free-intraday-and-tick-data-for-the-us-stock-market\n",
    "\n",
    "\n",
    "\n",
    "Google Finance\n",
    "\n",
    "Format: http://www.google.com/finance/getprices?i=[PERIOD]&p=[DAYS]d&f=d,o,h,l,c,v&df=cpct&q=[TICKER]\n",
    "\n",
    "Yahoo Finance\n",
    "\n",
    "Format: http://chartapi.finance.yahoo.com/instrument/1.0/[TICKER]/chartdata;type=quote;range=1d/csv\n",
    "\n",
    "NASDAQ 10 Year historic data\n",
    "http://www.nasdaq.com/symbol/apll/historical\n",
    "\n",
    "\n",
    "CSI End of Day Company Ticker Symbols\n",
    "http://www.csidata.com/factsheets.php?type=stock&format=html\n",
    "\n",
    "CSI End of data csv format:\n",
    "http://www.csidata.com/factsheets.php?type=stock&format=csv\n",
    "\n",
    "Implementation of a securities database:\n",
    "https://github.com/davidkellis/securitiesdb"
   ]
  },
  {
   "cell_type": "markdown",
   "metadata": {},
   "source": [
    "<h3>Add Postgres Trigger Functions to Update Each Dependant Table</h3>\n",
    "\n",
    "http://stackoverflow.com/questions/12343984/insert-trigger-to-update-another-table-using-postgresql"
   ]
  },
  {
   "cell_type": "code",
   "execution_count": 2,
   "metadata": {
    "collapsed": false
   },
   "outputs": [],
   "source": [
    "from edgerdb import helper_functions as hlp\n",
    "import numpy as np\n",
    "import pandas as pd\n",
    "from sqlalchemy import create_engine\n",
    "from fuzzywuzzy import fuzz, process\n"
   ]
  },
  {
   "cell_type": "code",
   "execution_count": 3,
   "metadata": {
    "collapsed": false
   },
   "outputs": [],
   "source": [
    "curl_mobile_browser = \"\"\"curl -A \"Mozilla/5.0 (iPhone; U; CPU iPhone OS 4_3_3 like Mac OS X; en-us) \n",
    "AppleWebKit/533.17.9 (KHTML, like Gecko) Version/5.0.2 Mobile/8J2 Safari/6533.18.5\" \n",
    "http://finance.yahoo.com/webservice/v1/symbols/YHOO,AAPL/quote?format=json&view=detail\"\"\""
   ]
  },
  {
   "cell_type": "markdown",
   "metadata": {},
   "source": [
    "The below two cells will update the database with the latest index files"
   ]
  },
  {
   "cell_type": "code",
   "execution_count": 4,
   "metadata": {
    "collapsed": false
   },
   "outputs": [],
   "source": [
    "# Uncommon the below three rows to run a query that will take a long time to run\n",
    "\n",
    "#last = int(hlp.latest_index_in_db('filings', hlp.db())[0])\n",
    "#daily_files = hlp.generate_daily_file_paths()\n"
   ]
  },
  {
   "cell_type": "code",
   "execution_count": 5,
   "metadata": {
    "collapsed": false
   },
   "outputs": [],
   "source": [
    "#hlp.load_latest_files(daily_files, last_date=last)"
   ]
  },
  {
   "cell_type": "code",
   "execution_count": 6,
   "metadata": {
    "collapsed": false
   },
   "outputs": [],
   "source": [
    "# This file updates daily and changes will need to be added daily as well\n",
    "csi_stock_data = pd.read_csv('http://www.csidata.com/factsheets.php?type=stock&format=csv')\n"
   ]
  },
  {
   "cell_type": "code",
   "execution_count": 7,
   "metadata": {
    "collapsed": false
   },
   "outputs": [
    {
     "data": {
      "text/html": [
       "<div>\n",
       "<table border=\"1\" class=\"dataframe\">\n",
       "  <thead>\n",
       "    <tr style=\"text-align: right;\">\n",
       "      <th></th>\n",
       "      <th>csinumber</th>\n",
       "      <th>symbol</th>\n",
       "      <th>company_name</th>\n",
       "      <th>exchange</th>\n",
       "      <th>isactive</th>\n",
       "      <th>startdate</th>\n",
       "      <th>enddate</th>\n",
       "      <th>conversionfactor</th>\n",
       "      <th>switchcfdate</th>\n",
       "      <th>preswitchcf</th>\n",
       "      <th>subexchange</th>\n",
       "    </tr>\n",
       "  </thead>\n",
       "  <tbody>\n",
       "    <tr>\n",
       "      <th>0</th>\n",
       "      <td>1001</td>\n",
       "      <td>DPS</td>\n",
       "      <td>DR PEPPER/7UP</td>\n",
       "      <td>NYSE</td>\n",
       "      <td>0</td>\n",
       "      <td>1993-01-27</td>\n",
       "      <td>1995-06-06</td>\n",
       "      <td>-4</td>\n",
       "      <td>NONE</td>\n",
       "      <td>NONE</td>\n",
       "      <td>NONE</td>\n",
       "    </tr>\n",
       "    <tr>\n",
       "      <th>1</th>\n",
       "      <td>1002</td>\n",
       "      <td>PTB</td>\n",
       "      <td>PARAGON TRADE BRANDS INC</td>\n",
       "      <td>NYSE</td>\n",
       "      <td>0</td>\n",
       "      <td>1993-01-27</td>\n",
       "      <td>1999-07-07</td>\n",
       "      <td>-4</td>\n",
       "      <td>NONE</td>\n",
       "      <td>NONE</td>\n",
       "      <td>NONE</td>\n",
       "    </tr>\n",
       "    <tr>\n",
       "      <th>2</th>\n",
       "      <td>1003</td>\n",
       "      <td>WLP</td>\n",
       "      <td>WELLPOINT HEALTH NETWORKS INC</td>\n",
       "      <td>NYSE</td>\n",
       "      <td>0</td>\n",
       "      <td>1993-01-28</td>\n",
       "      <td>2004-12-02</td>\n",
       "      <td>2</td>\n",
       "      <td>2001-01-29</td>\n",
       "      <td>-4</td>\n",
       "      <td>NONE</td>\n",
       "    </tr>\n",
       "    <tr>\n",
       "      <th>3</th>\n",
       "      <td>1004</td>\n",
       "      <td>ARN</td>\n",
       "      <td>AMERICAN RE CORP</td>\n",
       "      <td>NYSE</td>\n",
       "      <td>0</td>\n",
       "      <td>1993-01-29</td>\n",
       "      <td>1996-11-25</td>\n",
       "      <td>-4</td>\n",
       "      <td>NONE</td>\n",
       "      <td>NONE</td>\n",
       "      <td>NONE</td>\n",
       "    </tr>\n",
       "    <tr>\n",
       "      <th>4</th>\n",
       "      <td>1005</td>\n",
       "      <td>BWS</td>\n",
       "      <td>BETA WELL SERVICES</td>\n",
       "      <td>AMEX</td>\n",
       "      <td>0</td>\n",
       "      <td>1993-02-01</td>\n",
       "      <td>1994-11-30</td>\n",
       "      <td>-4</td>\n",
       "      <td>NONE</td>\n",
       "      <td>NONE</td>\n",
       "      <td>NONE</td>\n",
       "    </tr>\n",
       "  </tbody>\n",
       "</table>\n",
       "</div>"
      ],
      "text/plain": [
       "   csinumber symbol                   company_name exchange  isactive  \\\n",
       "0       1001    DPS                  DR PEPPER/7UP     NYSE         0   \n",
       "1       1002    PTB       PARAGON TRADE BRANDS INC     NYSE         0   \n",
       "2       1003    WLP  WELLPOINT HEALTH NETWORKS INC     NYSE         0   \n",
       "3       1004    ARN               AMERICAN RE CORP     NYSE         0   \n",
       "4       1005    BWS             BETA WELL SERVICES     AMEX         0   \n",
       "\n",
       "    startdate     enddate  conversionfactor switchcfdate preswitchcf  \\\n",
       "0  1993-01-27  1995-06-06                -4         NONE        NONE   \n",
       "1  1993-01-27  1999-07-07                -4         NONE        NONE   \n",
       "2  1993-01-28  2004-12-02                 2   2001-01-29          -4   \n",
       "3  1993-01-29  1996-11-25                -4         NONE        NONE   \n",
       "4  1993-02-01  1994-11-30                -4         NONE        NONE   \n",
       "\n",
       "  subexchange  \n",
       "0        NONE  \n",
       "1        NONE  \n",
       "2        NONE  \n",
       "3        NONE  \n",
       "4        NONE  "
      ]
     },
     "execution_count": 7,
     "metadata": {},
     "output_type": "execute_result"
    }
   ],
   "source": [
    "csi_stock_data.columns = map(str.lower, csi_stock_data.columns)\n",
    "csi_stock_data = csi_stock_data.rename(columns={'name': 'company_name'})\n",
    "csi_stock_data['company_name'] = csi_stock_data['company_name'].str.upper()\n",
    "csi_stock_data['company_name'] = csi_stock_data['company_name'].str.strip()\n",
    "csi_stock_data = csi_stock_data.fillna(value=\"NONE\")\n",
    "csi_stock_data.head()"
   ]
  },
  {
   "cell_type": "markdown",
   "metadata": {},
   "source": [
    "<h3>The Below 3 Cells Use SQLAlchemy and Pandas to create a table based on the above datafram</h3>"
   ]
  },
  {
   "cell_type": "code",
   "execution_count": 8,
   "metadata": {
    "collapsed": false
   },
   "outputs": [],
   "source": [
    "from sqlalchemy.orm import sessionmaker\n",
    "from sqlalchemy import Table\n",
    "from sqlalchemy import create_engine, inspect\n",
    "from sqlalchemy import MetaData\n",
    "\n",
    "\n",
    "meta = MetaData()\n",
    "\n",
    "engine = create_engine('postgresql://analyst:@localhost:5432/test')\n",
    "\n",
    "messages = Table('filings', meta, autoload=True, autoload_with=engine)\n",
    "\n",
    "def sql_to_df(query, connection):\n",
    "    df = pd.read_sql(query, connection)\n",
    "    connection.close()\n",
    "    return df"
   ]
  },
  {
   "cell_type": "code",
   "execution_count": 9,
   "metadata": {
    "collapsed": false
   },
   "outputs": [],
   "source": [
    "conn = engine.connect()\n",
    "conn.close()\n"
   ]
  },
  {
   "cell_type": "code",
   "execution_count": 10,
   "metadata": {
    "collapsed": true
   },
   "outputs": [],
   "source": [
    "def create_csi_data_table(engine):\n",
    "    '''\n",
    "    Creates a table with the data from csidata.com\n",
    "    '''\n",
    "    conn = engine.connect()\n",
    "    csi_stock_data = pd.read_csv('http://www.csidata.com/factsheets.php?type=stock&format=csv')\n",
    "    csi_stock_data.columns = map(str.lower, csi_stock_data.columns)\n",
    "    csi_stock_data = csi_stock_data.rename(columns={'name': 'company_name'})\n",
    "    csi_stock_data['company_name'] = csi_stock_data['company_name'].str.upper()\n",
    "    csi_stock_data['company_name'] = csi_stock_data['company_name'].str.strip()\n",
    "    csi_stock_data = csi_stock_data.fillna(value=\"NONE\")\n",
    "    csi_stock_data.to_sql('csi_stock_data', engine)\n",
    "    conn.close()\n",
    "    "
   ]
  },
  {
   "cell_type": "markdown",
   "metadata": {},
   "source": [
    "<h3>The below cell uses the newly created table above to create a new table mapping cik to cis data</h3>"
   ]
  },
  {
   "cell_type": "code",
   "execution_count": 11,
   "metadata": {
    "collapsed": false
   },
   "outputs": [
    {
     "data": {
      "text/plain": [
       "'\\n# Below is a query to assosiate the ticker symbol to the cik number\\njoin_ticker_to_cik = \"\"\"select * into cik_to_csi from (select fil.cik, fil.company_name, \\n                            csi.symbol, csi.exchange, \\n                            csi.isactive, csi.startdate, csi.enddate \\n                            from filings fil\\n                            join csi_stock_data csi on fil.company_name = csi.company_name) as foo;\"\"\"\\n\\n\\n\\n# Use This cell to create a table that maps to cik to ticker symbols\\nhlp.clear_sessions(\\'edgar\\', hlp.db())\\nhlp.statement(join_ticker_to_cik, hlp.db(), output=False, commit=True)\\n'"
      ]
     },
     "execution_count": 11,
     "metadata": {},
     "output_type": "execute_result"
    }
   ],
   "source": [
    "'''\n",
    "# Below is a query to assosiate the ticker symbol to the cik number\n",
    "join_ticker_to_cik = \"\"\"select * into cik_to_csi from (select fil.cik, fil.company_name, \n",
    "                            csi.symbol, csi.exchange, \n",
    "                            csi.isactive, csi.startdate, csi.enddate \n",
    "                            from filings fil\n",
    "                            join csi_stock_data csi on fil.company_name = csi.company_name) as foo;\"\"\"\n",
    "\n",
    "\n",
    "\n",
    "# Use This cell to create a table that maps to cik to ticker symbols\n",
    "hlp.clear_sessions('edgar', hlp.db())\n",
    "hlp.statement(join_ticker_to_cik, hlp.db(), output=False, commit=True)\n",
    "'''"
   ]
  },
  {
   "cell_type": "code",
   "execution_count": 12,
   "metadata": {
    "collapsed": true
   },
   "outputs": [],
   "source": [
    "def create_table_with_cik_and_csi_data():\n",
    "    '''\n",
    "        Creates a table called cik_to_csi by joining filings and csi_stock_data tables on company_name\n",
    "    '''\n",
    "    join_ticker_to_cik = \"\"\"select * into temp_cik_to_csi from (select fil.cik, fil.company_name,\n",
    "                            csi.symbol, csi.exchange,\n",
    "                            csi.isactive, csi.startdate, csi.enddate\n",
    "                            from filings fil\n",
    "                            join csi_stock_data csi on fil.company_name = csi.company_name) as foo;\"\"\"\n",
    "    clean_ticker_to_cik_table = \"\"\"select * into cik_to_csi\n",
    "    from (select distinct cik, c.company_name, c.symbol, c.exchange, c.isactive, c.startdate, c.enddate  from temp_cik_to_csi c) as foo;\"\"\"\n",
    "    hlp.clear_sessions('edgar', hlp.db())\n",
    "    hlp.statement(join_ticker_to_cik, hlp.db(), output=False, commit=True)\n",
    "    hlp.statement(clean_ticker_to_cik_table, hlp.db(), output=False, commit=True)\n",
    "    hlp.statement(\"drop table temp_cik_to_csi;\", hlp.db(), output=False, commit=True)\n",
    "    "
   ]
  },
  {
   "cell_type": "code",
   "execution_count": 13,
   "metadata": {
    "collapsed": false
   },
   "outputs": [
    {
     "data": {
      "text/html": [
       "<div>\n",
       "<table border=\"1\" class=\"dataframe\">\n",
       "  <thead>\n",
       "    <tr style=\"text-align: right;\">\n",
       "      <th></th>\n",
       "      <th>csinumber</th>\n",
       "      <th>symbol</th>\n",
       "      <th>company_name</th>\n",
       "      <th>exchange</th>\n",
       "      <th>isactive</th>\n",
       "      <th>startdate</th>\n",
       "      <th>enddate</th>\n",
       "    </tr>\n",
       "  </thead>\n",
       "  <tbody>\n",
       "    <tr>\n",
       "      <th>0</th>\n",
       "      <td>1001</td>\n",
       "      <td>DPS</td>\n",
       "      <td>DR PEPPER/7UP</td>\n",
       "      <td>NYSE</td>\n",
       "      <td>0</td>\n",
       "      <td>1993-01-27</td>\n",
       "      <td>1995-06-06</td>\n",
       "    </tr>\n",
       "    <tr>\n",
       "      <th>1</th>\n",
       "      <td>1002</td>\n",
       "      <td>PTB</td>\n",
       "      <td>PARAGON TRADE BRANDS INC</td>\n",
       "      <td>NYSE</td>\n",
       "      <td>0</td>\n",
       "      <td>1993-01-27</td>\n",
       "      <td>1999-07-07</td>\n",
       "    </tr>\n",
       "    <tr>\n",
       "      <th>2</th>\n",
       "      <td>1003</td>\n",
       "      <td>WLP</td>\n",
       "      <td>WELLPOINT HEALTH NETWORKS INC</td>\n",
       "      <td>NYSE</td>\n",
       "      <td>0</td>\n",
       "      <td>1993-01-28</td>\n",
       "      <td>2004-12-02</td>\n",
       "    </tr>\n",
       "    <tr>\n",
       "      <th>3</th>\n",
       "      <td>1004</td>\n",
       "      <td>ARN</td>\n",
       "      <td>AMERICAN RE CORP</td>\n",
       "      <td>NYSE</td>\n",
       "      <td>0</td>\n",
       "      <td>1993-01-29</td>\n",
       "      <td>1996-11-25</td>\n",
       "    </tr>\n",
       "    <tr>\n",
       "      <th>4</th>\n",
       "      <td>1005</td>\n",
       "      <td>BWS</td>\n",
       "      <td>BETA WELL SERVICES</td>\n",
       "      <td>AMEX</td>\n",
       "      <td>0</td>\n",
       "      <td>1993-02-01</td>\n",
       "      <td>1994-11-30</td>\n",
       "    </tr>\n",
       "  </tbody>\n",
       "</table>\n",
       "</div>"
      ],
      "text/plain": [
       "   csinumber symbol                   company_name exchange  isactive  \\\n",
       "0       1001    DPS                  DR PEPPER/7UP     NYSE         0   \n",
       "1       1002    PTB       PARAGON TRADE BRANDS INC     NYSE         0   \n",
       "2       1003    WLP  WELLPOINT HEALTH NETWORKS INC     NYSE         0   \n",
       "3       1004    ARN               AMERICAN RE CORP     NYSE         0   \n",
       "4       1005    BWS             BETA WELL SERVICES     AMEX         0   \n",
       "\n",
       "    startdate     enddate  \n",
       "0  1993-01-27  1995-06-06  \n",
       "1  1993-01-27  1999-07-07  \n",
       "2  1993-01-28  2004-12-02  \n",
       "3  1993-01-29  1996-11-25  \n",
       "4  1993-02-01  1994-11-30  "
      ]
     },
     "execution_count": 13,
     "metadata": {},
     "output_type": "execute_result"
    }
   ],
   "source": [
    "filings_data = pd.read_sql_query('select * from filings;', con=engine)\n",
    "temp_csi_data = pd.read_sql_query('select * from csi_stock_data;', index_col='index',con=engine)\n",
    "temp_csi_data = temp_csi_data.rename(columns={'name': 'company_name'})\n",
    "filings_data = filings_data.rename(columns={'company': 'company_name'})\n",
    "csi_data = pd.DataFrame(csi_stock_data, columns=['csinumber', 'symbol', 'company_name', 'exchange', 'isactive', 'startdate', 'enddate'])\n",
    "csi_data = csi_data.dropna()\n",
    "csi_data.head()"
   ]
  },
  {
   "cell_type": "code",
   "execution_count": 14,
   "metadata": {
    "collapsed": false
   },
   "outputs": [
    {
     "data": {
      "text/html": [
       "<div>\n",
       "<table border=\"1\" class=\"dataframe\">\n",
       "  <thead>\n",
       "    <tr style=\"text-align: right;\">\n",
       "      <th></th>\n",
       "      <th>csinumber</th>\n",
       "      <th>symbol</th>\n",
       "      <th>company_name</th>\n",
       "      <th>exchange</th>\n",
       "      <th>isactive</th>\n",
       "      <th>startdate</th>\n",
       "      <th>enddate</th>\n",
       "    </tr>\n",
       "  </thead>\n",
       "  <tbody>\n",
       "    <tr>\n",
       "      <th>11</th>\n",
       "      <td>1012</td>\n",
       "      <td>ELS</td>\n",
       "      <td>EQUITY LIFESTYLE PROPERTIES INC</td>\n",
       "      <td>NYSE</td>\n",
       "      <td>1</td>\n",
       "      <td>1993-02-25</td>\n",
       "      <td>2016-10-28</td>\n",
       "    </tr>\n",
       "    <tr>\n",
       "      <th>89</th>\n",
       "      <td>1090</td>\n",
       "      <td>EQR</td>\n",
       "      <td>EQUITY RESIDENTIAL</td>\n",
       "      <td>NYSE</td>\n",
       "      <td>1</td>\n",
       "      <td>1993-08-12</td>\n",
       "      <td>2016-10-28</td>\n",
       "    </tr>\n",
       "    <tr>\n",
       "      <th>254</th>\n",
       "      <td>1255</td>\n",
       "      <td>TYW</td>\n",
       "      <td>TAIWAN EQUITY FUND</td>\n",
       "      <td>NYSE</td>\n",
       "      <td>0</td>\n",
       "      <td>1994-07-19</td>\n",
       "      <td>2000-05-05</td>\n",
       "    </tr>\n",
       "    <tr>\n",
       "      <th>273</th>\n",
       "      <td>1274</td>\n",
       "      <td>KEF</td>\n",
       "      <td>KOREA EQUITY FUND INC</td>\n",
       "      <td>NYSE</td>\n",
       "      <td>1</td>\n",
       "      <td>1994-09-19</td>\n",
       "      <td>2016-10-28</td>\n",
       "    </tr>\n",
       "    <tr>\n",
       "      <th>411</th>\n",
       "      <td>1412</td>\n",
       "      <td>EQU</td>\n",
       "      <td>EQUITY CP INTL</td>\n",
       "      <td>NYSE</td>\n",
       "      <td>0</td>\n",
       "      <td>1994-10-19</td>\n",
       "      <td>1999-01-19</td>\n",
       "    </tr>\n",
       "  </tbody>\n",
       "</table>\n",
       "</div>"
      ],
      "text/plain": [
       "     csinumber symbol                     company_name exchange  isactive  \\\n",
       "11        1012    ELS  EQUITY LIFESTYLE PROPERTIES INC     NYSE         1   \n",
       "89        1090    EQR               EQUITY RESIDENTIAL     NYSE         1   \n",
       "254       1255    TYW               TAIWAN EQUITY FUND     NYSE         0   \n",
       "273       1274    KEF            KOREA EQUITY FUND INC     NYSE         1   \n",
       "411       1412    EQU                   EQUITY CP INTL     NYSE         0   \n",
       "\n",
       "      startdate     enddate  \n",
       "11   1993-02-25  2016-10-28  \n",
       "89   1993-08-12  2016-10-28  \n",
       "254  1994-07-19  2000-05-05  \n",
       "273  1994-09-19  2016-10-28  \n",
       "411  1994-10-19  1999-01-19  "
      ]
     },
     "execution_count": 14,
     "metadata": {},
     "output_type": "execute_result"
    }
   ],
   "source": [
    "csi_data[csi_data['company_name'].str.contains('EQUITY')].head()"
   ]
  },
  {
   "cell_type": "code",
   "execution_count": 19,
   "metadata": {
    "collapsed": false
   },
   "outputs": [],
   "source": [
    "#new_df = csi_data.join(filings_data, on='company_name', how='inner')\n"
   ]
  },
  {
   "cell_type": "code",
   "execution_count": 15,
   "metadata": {
    "collapsed": false
   },
   "outputs": [],
   "source": [
    "engine = create_engine('postgresql://analyst:@localhost:5432/edgar')\n",
    "\n",
    "conn = engine.connect()\n",
    "\n",
    "cik_to_csi_df = pd.read_sql_table('cik_to_csi', conn)\n",
    "conn.close()"
   ]
  },
  {
   "cell_type": "code",
   "execution_count": 16,
   "metadata": {
    "collapsed": false
   },
   "outputs": [
    {
     "data": {
      "text/html": [
       "<div>\n",
       "<table border=\"1\" class=\"dataframe\">\n",
       "  <thead>\n",
       "    <tr style=\"text-align: right;\">\n",
       "      <th></th>\n",
       "      <th>cik</th>\n",
       "      <th>company_name</th>\n",
       "      <th>symbol</th>\n",
       "      <th>exchange</th>\n",
       "      <th>isactive</th>\n",
       "      <th>startdate</th>\n",
       "      <th>enddate</th>\n",
       "    </tr>\n",
       "  </thead>\n",
       "  <tbody>\n",
       "    <tr>\n",
       "      <th>1</th>\n",
       "      <td>1000045</td>\n",
       "      <td>NICHOLAS FINANCIAL INC</td>\n",
       "      <td>NICK</td>\n",
       "      <td>NASDAQ</td>\n",
       "      <td>1</td>\n",
       "      <td>1997-12-29</td>\n",
       "      <td>2016-10-19</td>\n",
       "    </tr>\n",
       "    <tr>\n",
       "      <th>2</th>\n",
       "      <td>1000045</td>\n",
       "      <td>NICHOLAS FINANCIAL INC</td>\n",
       "      <td>NICU</td>\n",
       "      <td>VSE</td>\n",
       "      <td>0</td>\n",
       "      <td>1996-08-08</td>\n",
       "      <td>1998-03-11</td>\n",
       "    </tr>\n",
       "  </tbody>\n",
       "</table>\n",
       "</div>"
      ],
      "text/plain": [
       "       cik            company_name symbol exchange  isactive   startdate  \\\n",
       "1  1000045  NICHOLAS FINANCIAL INC   NICK   NASDAQ         1  1997-12-29   \n",
       "2  1000045  NICHOLAS FINANCIAL INC   NICU      VSE         0  1996-08-08   \n",
       "\n",
       "      enddate  \n",
       "1  2016-10-19  \n",
       "2  1998-03-11  "
      ]
     },
     "execution_count": 16,
     "metadata": {},
     "output_type": "execute_result"
    }
   ],
   "source": [
    "# Equivelent of sql where clause\n",
    "cik_to_csi_df[cik_to_csi_df['cik']  == '1000045']"
   ]
  },
  {
   "cell_type": "code",
   "execution_count": null,
   "metadata": {
    "collapsed": true
   },
   "outputs": [],
   "source": [
    "# What you need to do is figure out which stocks are in the csi data but did not map to a company name from the sec\n",
    "# Some of the names may have been entered different\n",
    "# Natural language processing may help"
   ]
  },
  {
   "cell_type": "code",
   "execution_count": 17,
   "metadata": {
    "collapsed": false
   },
   "outputs": [],
   "source": [
    "def sql_to_df(query, connection):\n",
    "    df = pd.read_sql(query, connection)\n",
    "    connection.close()\n",
    "    return df"
   ]
  },
  {
   "cell_type": "code",
   "execution_count": 18,
   "metadata": {
    "collapsed": false
   },
   "outputs": [],
   "source": [
    "cik_to_csi_symbols = sql_to_df(\"select symbol from cik_to_csi;\", engine.connect())['symbol'].values.tolist()\n"
   ]
  },
  {
   "cell_type": "code",
   "execution_count": 19,
   "metadata": {
    "collapsed": false
   },
   "outputs": [],
   "source": [
    "# Create a table to \n",
    "csi_stock_data_not_found_in_filings = sql_to_df(\"\"\"select distinct symbol, \n",
    "                                company_name, exchange, isactive, \n",
    "                                startdate, enddate \n",
    "                                from csi_stock_data where symbol not in {};\"\"\".format(tuple(cik_to_csi_symbols)), \n",
    "                           engine.connect())"
   ]
  },
  {
   "cell_type": "code",
   "execution_count": 20,
   "metadata": {
    "collapsed": false
   },
   "outputs": [],
   "source": [
    "# Creates a table of the unmatching companies\n",
    "#csi_stock_data_not_found_in_filings.to_sql('unmatching_csi_data', engine)"
   ]
  },
  {
   "cell_type": "code",
   "execution_count": 21,
   "metadata": {
    "collapsed": true
   },
   "outputs": [],
   "source": [
    "csi_stock_data = sql_to_df(\"select * from cik_to_csi;\", engine.connect())"
   ]
  },
  {
   "cell_type": "code",
   "execution_count": 22,
   "metadata": {
    "collapsed": false
   },
   "outputs": [
    {
     "data": {
      "text/html": [
       "<div>\n",
       "<table border=\"1\" class=\"dataframe\">\n",
       "  <thead>\n",
       "    <tr style=\"text-align: right;\">\n",
       "      <th></th>\n",
       "      <th>cik</th>\n",
       "      <th>company_name</th>\n",
       "      <th>symbol</th>\n",
       "      <th>exchange</th>\n",
       "      <th>isactive</th>\n",
       "      <th>startdate</th>\n",
       "      <th>enddate</th>\n",
       "    </tr>\n",
       "  </thead>\n",
       "  <tbody>\n",
       "    <tr>\n",
       "      <th>0</th>\n",
       "      <td>1000015</td>\n",
       "      <td>META GROUP INC</td>\n",
       "      <td>METG</td>\n",
       "      <td>NASDAQ</td>\n",
       "      <td>0</td>\n",
       "      <td>1995-12-01</td>\n",
       "      <td>2005-03-31</td>\n",
       "    </tr>\n",
       "    <tr>\n",
       "      <th>1</th>\n",
       "      <td>1000045</td>\n",
       "      <td>NICHOLAS FINANCIAL INC</td>\n",
       "      <td>NICK</td>\n",
       "      <td>NASDAQ</td>\n",
       "      <td>1</td>\n",
       "      <td>1997-12-29</td>\n",
       "      <td>2016-10-19</td>\n",
       "    </tr>\n",
       "    <tr>\n",
       "      <th>2</th>\n",
       "      <td>1000045</td>\n",
       "      <td>NICHOLAS FINANCIAL INC</td>\n",
       "      <td>NICU</td>\n",
       "      <td>VSE</td>\n",
       "      <td>0</td>\n",
       "      <td>1996-08-08</td>\n",
       "      <td>1998-03-11</td>\n",
       "    </tr>\n",
       "    <tr>\n",
       "      <th>3</th>\n",
       "      <td>1000048</td>\n",
       "      <td>TECHNOLOGY FLAVORS &amp; FRAGRANCES INC</td>\n",
       "      <td>TFF</td>\n",
       "      <td>AMEX</td>\n",
       "      <td>0</td>\n",
       "      <td>1999-07-12</td>\n",
       "      <td>2005-06-28</td>\n",
       "    </tr>\n",
       "    <tr>\n",
       "      <th>4</th>\n",
       "      <td>1000048</td>\n",
       "      <td>TECHNOLOGY FLAVORS &amp; FRAGRANCES INC</td>\n",
       "      <td>TFF</td>\n",
       "      <td>TSX</td>\n",
       "      <td>0</td>\n",
       "      <td>1996-08-13</td>\n",
       "      <td>2002-11-15</td>\n",
       "    </tr>\n",
       "  </tbody>\n",
       "</table>\n",
       "</div>"
      ],
      "text/plain": [
       "       cik                         company_name symbol exchange  isactive  \\\n",
       "0  1000015                       META GROUP INC   METG   NASDAQ         0   \n",
       "1  1000045               NICHOLAS FINANCIAL INC   NICK   NASDAQ         1   \n",
       "2  1000045               NICHOLAS FINANCIAL INC   NICU      VSE         0   \n",
       "3  1000048  TECHNOLOGY FLAVORS & FRAGRANCES INC    TFF     AMEX         0   \n",
       "4  1000048  TECHNOLOGY FLAVORS & FRAGRANCES INC    TFF      TSX         0   \n",
       "\n",
       "    startdate     enddate  \n",
       "0  1995-12-01  2005-03-31  \n",
       "1  1997-12-29  2016-10-19  \n",
       "2  1996-08-08  1998-03-11  \n",
       "3  1999-07-12  2005-06-28  \n",
       "4  1996-08-13  2002-11-15  "
      ]
     },
     "execution_count": 22,
     "metadata": {},
     "output_type": "execute_result"
    }
   ],
   "source": [
    "csi_stock_data.head()"
   ]
  },
  {
   "cell_type": "code",
   "execution_count": 23,
   "metadata": {
    "collapsed": false
   },
   "outputs": [
    {
     "data": {
      "text/html": [
       "<div>\n",
       "<table border=\"1\" class=\"dataframe\">\n",
       "  <thead>\n",
       "    <tr style=\"text-align: right;\">\n",
       "      <th></th>\n",
       "      <th>symbol</th>\n",
       "      <th>company_name</th>\n",
       "      <th>exchange</th>\n",
       "      <th>isactive</th>\n",
       "      <th>startdate</th>\n",
       "      <th>enddate</th>\n",
       "    </tr>\n",
       "  </thead>\n",
       "  <tbody>\n",
       "    <tr>\n",
       "      <th>0</th>\n",
       "      <td>&amp;AGIN</td>\n",
       "      <td>AGI NORTH AMERICA</td>\n",
       "      <td>INDEX</td>\n",
       "      <td>0</td>\n",
       "      <td>2007-06-27</td>\n",
       "      <td>2013-03-21</td>\n",
       "    </tr>\n",
       "    <tr>\n",
       "      <th>1</th>\n",
       "      <td>&amp;AGIZL</td>\n",
       "      <td>ARDOUR GLOBAL INDEX EXTRA LIQUID</td>\n",
       "      <td>INDEX</td>\n",
       "      <td>1</td>\n",
       "      <td>2007-06-27</td>\n",
       "      <td>2016-10-19</td>\n",
       "    </tr>\n",
       "    <tr>\n",
       "      <th>2</th>\n",
       "      <td>&amp;CRSPSCT</td>\n",
       "      <td>CRSP US SMALL CAP TR INDEX</td>\n",
       "      <td>INDEX</td>\n",
       "      <td>1</td>\n",
       "      <td>2015-10-23</td>\n",
       "      <td>2016-10-19</td>\n",
       "    </tr>\n",
       "    <tr>\n",
       "      <th>3</th>\n",
       "      <td>&amp;GSM</td>\n",
       "      <td>S&amp;P GSTI SEMICONDUCTOR INDEX</td>\n",
       "      <td>INDEX</td>\n",
       "      <td>1</td>\n",
       "      <td>1996-07-08</td>\n",
       "      <td>2016-03-04</td>\n",
       "    </tr>\n",
       "    <tr>\n",
       "      <th>4</th>\n",
       "      <td>&amp;GSO</td>\n",
       "      <td>S&amp;P GSTI SOFTWARE INDEX</td>\n",
       "      <td>INDEX</td>\n",
       "      <td>1</td>\n",
       "      <td>1996-07-08</td>\n",
       "      <td>2016-10-19</td>\n",
       "    </tr>\n",
       "  </tbody>\n",
       "</table>\n",
       "</div>"
      ],
      "text/plain": [
       "     symbol                      company_name exchange  isactive   startdate  \\\n",
       "0     &AGIN                 AGI NORTH AMERICA    INDEX         0  2007-06-27   \n",
       "1    &AGIZL  ARDOUR GLOBAL INDEX EXTRA LIQUID    INDEX         1  2007-06-27   \n",
       "2  &CRSPSCT        CRSP US SMALL CAP TR INDEX    INDEX         1  2015-10-23   \n",
       "3      &GSM      S&P GSTI SEMICONDUCTOR INDEX    INDEX         1  1996-07-08   \n",
       "4      &GSO           S&P GSTI SOFTWARE INDEX    INDEX         1  1996-07-08   \n",
       "\n",
       "      enddate  \n",
       "0  2013-03-21  \n",
       "1  2016-10-19  \n",
       "2  2016-10-19  \n",
       "3  2016-03-04  \n",
       "4  2016-10-19  "
      ]
     },
     "execution_count": 23,
     "metadata": {},
     "output_type": "execute_result"
    }
   ],
   "source": [
    "csi_stock_data_not_found_in_filings.head()"
   ]
  },
  {
   "cell_type": "code",
   "execution_count": 466,
   "metadata": {
    "collapsed": false
   },
   "outputs": [],
   "source": [
    "filings_df = sql_to_df(\"select distinct company_name, cik from filings;\", engine.connect())\n",
    "filings_df['company_name'] = filings_df['company_name'].str.upper()\n",
    "filings_df = filings_df[filings_df['company_name'] != \"\"]"
   ]
  },
  {
   "cell_type": "code",
   "execution_count": 45,
   "metadata": {
    "collapsed": false
   },
   "outputs": [
    {
     "name": "stdout",
     "output_type": "stream",
     "text": [
      "CPU times: user 5 µs, sys: 0 ns, total: 5 µs\n",
      "Wall time: 7.87 µs\n"
     ]
    }
   ],
   "source": [
    "%%time\n",
    "\n",
    "\n",
    "def return_matches(first_li, second_li):\n",
    "    return set(first_li) & set(second_li)\n",
    "\n",
    "\n",
    "def remove_ending(company_name, ending):\n",
    "    \"\"\"\n",
    "        Provide a company name and the phrase you are looking to end at.\n",
    "    \"\"\"\n",
    "    a, b, c = company_name.partition(ending)\n",
    "    return a + b\n",
    "\n",
    "\n",
    "def normalized_company_namelist(df):\n",
    "    company_names = {}\n",
    "    common_phrases = ['GROUP', 'INC', 'CORP', 'FUND', 'INTERNATIONAL']\n",
    "    for x in range(len(df['company_name'])):\n",
    "        name = df['company_name'][x]\n",
    "        for word in common_phrases:\n",
    "            if word in name:\n",
    "                no_inc = remove_ending(name, word)\n",
    "                company_names[no_inc] = name\n",
    "    return company_names\n",
    "\n",
    "\n",
    "def insert(df, entries):\n",
    "    \"\"\"\n",
    "        Takes a set of values and inserts them into a dataframe sequentially where the index is\n",
    "        sequential and continuous.\n",
    "    \"\"\"\n",
    "    try:\n",
    "        df.loc[max(df.index) + 1] = entries\n",
    "    except ValueError:\n",
    "        df.loc[0] = entries\n",
    "        \n",
    "        \n",
    "def shorten_to_match(dic, matches):\n",
    "    new_dict = dic.copy()\n",
    "    for key in dic.keys():\n",
    "        if key not in matches:\n",
    "            new_dict.pop(key)\n",
    "    return new_dict\n",
    "    \n",
    "\n",
    "def matches_to_frame():\n",
    "    normalized_csi = normalized_company_namelist(csi_stock_data_not_found_in_filings)\n",
    "    normalized_filings = normalized_company_namelist(filings_df)\n",
    "    new_matches = return_matches(list(normalized_csi.keys()), list(normalized_filing_names.keys()))\n",
    "    matched_csi = shorten_to_match(normalized_csi, new_matches)\n",
    "    matched_filings = shorten_to_match(normalized_filings, new_matches)\n",
    "    \n",
    "    new_matches_df = pd.DataFrame(columns=['filings_name', 'csi_name', 'match'])\n",
    "    \n",
    "    for val in new_matches:\n",
    "        insert(new_matches_df, [matched_filings[val], matched_csi[val], val])\n",
    "        \n",
    "    new_matches_df.head()\n",
    "    \n",
    "    return new_matches_df\n",
    "    "
   ]
  },
  {
   "cell_type": "markdown",
   "metadata": {},
   "source": [
    "<p>For the most part this method seems to return accurate results.  This dataframe can be used to optain the matching CIK using the filings_name and the ticker symbol using the csi_name.  To make this more accurate a function can be implemented that creates a new column with a correct percentage of matching strings in the first two columns as in the match column. This can be accomplished by iterating over each row in the dataframe using df.iterrows()</p>\n",
    "\n",
    "<pre>\n",
    "    # Add column example\n",
    "    \n",
    "    df = pd.DataFrame(columns=['col1', 'col2'])\n",
    "    \n",
    "    # This creates a dataframe with two columns\n",
    "    # to add a third columns imply use:\n",
    "    \n",
    "    df['col3'] = 'NaN'\n",
    "    \n",
    "    # This will create the third column and initialize it with the NaN value.\n",
    "    # The new column can be initialized with any value you want\n",
    "   \n",
    "\n",
    "</pre>"
   ]
  },
  {
   "cell_type": "code",
   "execution_count": 447,
   "metadata": {
    "collapsed": false
   },
   "outputs": [],
   "source": [
    "%%time\n",
    "new_matches_df = matches_to_frame()"
   ]
  },
  {
   "cell_type": "code",
   "execution_count": 468,
   "metadata": {
    "collapsed": false
   },
   "outputs": [
    {
     "name": "stderr",
     "output_type": "stream",
     "text": [
      "/Users/lancerogers/Developer/Python/algo_analysis/.direnv/python-3.5.1/lib/python3.5/site-packages/ipykernel/__main__.py:1: FutureWarning: sort(columns=....) is deprecated, use sort_values(by=.....)\n",
      "  if __name__ == '__main__':\n"
     ]
    },
    {
     "data": {
      "text/html": [
       "<div>\n",
       "<table border=\"1\" class=\"dataframe\">\n",
       "  <thead>\n",
       "    <tr style=\"text-align: right;\">\n",
       "      <th></th>\n",
       "      <th>filings_name</th>\n",
       "      <th>csi_name</th>\n",
       "      <th>match</th>\n",
       "    </tr>\n",
       "  </thead>\n",
       "  <tbody>\n",
       "    <tr>\n",
       "      <th>947</th>\n",
       "      <td>10 GROUP PLC/ADR</td>\n",
       "      <td>10 GROUP GB</td>\n",
       "      <td>10 GROUP</td>\n",
       "    </tr>\n",
       "    <tr>\n",
       "      <th>2713</th>\n",
       "      <td>121MEDIA INC</td>\n",
       "      <td>121MEDIA INC US</td>\n",
       "      <td>121MEDIA INC</td>\n",
       "    </tr>\n",
       "    <tr>\n",
       "      <th>1344</th>\n",
       "      <td>1ST CONSTITUTION BANCORP</td>\n",
       "      <td>1ST CONSTITUTION BANCORP (NJ)</td>\n",
       "      <td>1ST CONSTITUTION BANCORP</td>\n",
       "    </tr>\n",
       "    <tr>\n",
       "      <th>1784</th>\n",
       "      <td>2 I INC/</td>\n",
       "      <td>2 I INC</td>\n",
       "      <td>2 I INC</td>\n",
       "    </tr>\n",
       "    <tr>\n",
       "      <th>1863</th>\n",
       "      <td>360NETWORKS INC</td>\n",
       "      <td>360NETWORKS INC SUB VTG SHS</td>\n",
       "      <td>360NETWORKS INC</td>\n",
       "    </tr>\n",
       "  </tbody>\n",
       "</table>\n",
       "</div>"
      ],
      "text/plain": [
       "                  filings_name                       csi_name  \\\n",
       "947           10 GROUP PLC/ADR                    10 GROUP GB   \n",
       "2713              121MEDIA INC                121MEDIA INC US   \n",
       "1344  1ST CONSTITUTION BANCORP  1ST CONSTITUTION BANCORP (NJ)   \n",
       "1784                  2 I INC/                        2 I INC   \n",
       "1863           360NETWORKS INC    360NETWORKS INC SUB VTG SHS   \n",
       "\n",
       "                         match  \n",
       "947                   10 GROUP  \n",
       "2713              121MEDIA INC  \n",
       "1344  1ST CONSTITUTION BANCORP  \n",
       "1784                   2 I INC  \n",
       "1863           360NETWORKS INC  "
      ]
     },
     "execution_count": 468,
     "metadata": {},
     "output_type": "execute_result"
    }
   ],
   "source": [
    "new_matches_df.sort(columns=['filings_name']).head()"
   ]
  },
  {
   "cell_type": "code",
   "execution_count": 526,
   "metadata": {
    "collapsed": false
   },
   "outputs": [],
   "source": [
    "\n",
    "merged_filings = pd.merge(left=new_matches_df, right=filings_df, right_on='company_name', left_on='filings_name')\n",
    "merged_filings = pd.DataFrame(merged_filings, columns=['filings_name', 'csi_name', 'match', 'cik'])\n",
    "merged_ticker = pd.merge(left= merged_filings, right=csi_stock_data_not_found_in_filings, right_on='company_name', left_on='csi_name')\n",
    "merged_ticker =  pd.DataFrame(merged_ticker, columns=['filings_name', 'csi_name', 'match','percent_match', 'cik', 'symbol'])\n",
    "\n",
    "def update_percent_match(merged_ticker_df):\n",
    "    merged_ticker = merged_ticker_df.copy()\n",
    "    for x in range(len(merged_ticker)):\n",
    "        merged_ticker.loc[x]['percent_match'] = fuzz.ratio(merged_ticker.loc[x]['filings_name'], merged_ticker.loc[x]['csi_name'])\n",
    "        \n",
    "    return merged_ticker_df    "
   ]
  },
  {
   "cell_type": "code",
   "execution_count": null,
   "metadata": {
    "collapsed": false
   },
   "outputs": [],
   "source": [
    "mt = update_percent_match(merged_ticker)"
   ]
  },
  {
   "cell_type": "code",
   "execution_count": null,
   "metadata": {
    "collapsed": false
   },
   "outputs": [],
   "source": []
  },
  {
   "cell_type": "code",
   "execution_count": null,
   "metadata": {
    "collapsed": false
   },
   "outputs": [],
   "source": []
  },
  {
   "cell_type": "code",
   "execution_count": 57,
   "metadata": {
    "collapsed": false
   },
   "outputs": [],
   "source": []
  },
  {
   "cell_type": "code",
   "execution_count": null,
   "metadata": {
    "collapsed": false
   },
   "outputs": [],
   "source": []
  },
  {
   "cell_type": "code",
   "execution_count": 34,
   "metadata": {
    "collapsed": false
   },
   "outputs": [],
   "source": [
    "#companies_in_filings\n",
    "#no_match_csi_companies"
   ]
  },
  {
   "cell_type": "code",
   "execution_count": 25,
   "metadata": {
    "collapsed": false
   },
   "outputs": [],
   "source": [
    "def hash_list(li):\n",
    "    dic = {}\n",
    "    for x in li:\n",
    "        dic[x] = x.split(\" \")\n",
    "    return dic"
   ]
  },
  {
   "cell_type": "code",
   "execution_count": 26,
   "metadata": {
    "collapsed": false
   },
   "outputs": [],
   "source": [
    "hashed_comp_fil = hash_list(companies_in_filings)\n",
    "hashed_no_match = hash_list(no_match_csi_companies)"
   ]
  },
  {
   "cell_type": "code",
   "execution_count": 34,
   "metadata": {
    "collapsed": false
   },
   "outputs": [],
   "source": [
    "keys_no_match = list(hashed_no_match.keys())\n",
    "keys_comp_fil = list(hashed_comp_fil.keys())"
   ]
  },
  {
   "cell_type": "code",
   "execution_count": 40,
   "metadata": {
    "collapsed": false
   },
   "outputs": [
    {
     "data": {
      "text/plain": [
       "['MUNDER', 'FUTURE', 'TECH', 'CL', 'Y']"
      ]
     },
     "execution_count": 40,
     "metadata": {},
     "output_type": "execute_result"
    }
   ],
   "source": [
    "hashed_no_match[keys_no_match[0]]"
   ]
  },
  {
   "cell_type": "code",
   "execution_count": 324,
   "metadata": {
    "collapsed": false
   },
   "outputs": [],
   "source": [
    "# The goal here is to write an algorithm that will find keys that mostly match in both list\n",
    "\n",
    "def return_matches(first_li, second_li):\n",
    "    return set(first_li) & set(second_li)\n",
    "\n",
    "def insert(df, entries):\n",
    "    \"\"\"\n",
    "        Takes a set of values and inserts them into a dataframe sequentially where the index is\n",
    "        sequential and continuous.\n",
    "    \"\"\"\n",
    "    try:\n",
    "        df.loc[max(df.index) + 1] = entries\n",
    "    except ValueError:\n",
    "        df.loc[0] = entries\n",
    "        \n",
    "def check_for_matching_phrases(df, dict1, dict2):\n",
    "    '''\n",
    "        This function takes in two dictionaries and checks which keys contain similar values. \n",
    "        The match percentage is found by dividing the length of the minimum set of values by \n",
    "        the matches. Always put the largest dictionary first.\n",
    "    '''\n",
    "    #df = pd.DataFrame(columns=['filings_name', 'no_match_name', 'percent_match'])\n",
    "    for key1, value1 in dict1.items():\n",
    "        for key2, value2 in dict2.items():\n",
    "            matches = len(return_matches(value1, value2))\n",
    "            denominator = len(max(value1, value2))\n",
    "            perc_match = matches / denominator\n",
    "            if perc_match >= 0.51:\n",
    "                insert(df, [key1, key2, perc_match])\n",
    "    return df\n",
    "\n"
   ]
  },
  {
   "cell_type": "code",
   "execution_count": 385,
   "metadata": {
    "collapsed": false
   },
   "outputs": [
    {
     "name": "stdout",
     "output_type": "stream",
     "text": [
      "CPU times: user 2 µs, sys: 1 µs, total: 3 µs\n",
      "Wall time: 5.96 µs\n"
     ]
    }
   ],
   "source": [
    "%%time\n",
    "# This ran for 8 hours and was only half way finished with 343324 rows in the dataframe\n",
    "#df = pd.DataFrame(columns=['filings_name', 'no_match_name', 'percent_match'])\n",
    "#matching_phrases = check_for_matching_phrases(df, hashed_comp_fil, hashed_no_match)"
   ]
  },
  {
   "cell_type": "code",
   "execution_count": 342,
   "metadata": {
    "collapsed": false
   },
   "outputs": [
    {
     "data": {
      "text/plain": [
       "343324"
      ]
     },
     "execution_count": 342,
     "metadata": {},
     "output_type": "execute_result"
    }
   ],
   "source": [
    "len(df)"
   ]
  },
  {
   "cell_type": "code",
   "execution_count": 384,
   "metadata": {
    "collapsed": false
   },
   "outputs": [],
   "source": [
    "#df[df['percent_match'] > .9]"
   ]
  },
  {
   "cell_type": "code",
   "execution_count": null,
   "metadata": {
    "collapsed": false
   },
   "outputs": [],
   "source": []
  },
  {
   "cell_type": "code",
   "execution_count": 355,
   "metadata": {
    "collapsed": false
   },
   "outputs": [],
   "source": [
    "\n"
   ]
  },
  {
   "cell_type": "code",
   "execution_count": 549,
   "metadata": {
    "collapsed": false
   },
   "outputs": [
    {
     "data": {
      "text/plain": [
       "(None, None)"
      ]
     },
     "execution_count": 549,
     "metadata": {},
     "output_type": "execute_result"
    }
   ],
   "source": [
    "import pyximport; pyximport.install()\n",
    "pyximport.install(pyimport = True)"
   ]
  },
  {
   "cell_type": "code",
   "execution_count": 360,
   "metadata": {
    "collapsed": false
   },
   "outputs": [],
   "source": [
    "from CheckMatches import check_matches as cm"
   ]
  },
  {
   "cell_type": "code",
   "execution_count": 386,
   "metadata": {
    "collapsed": false
   },
   "outputs": [
    {
     "name": "stdout",
     "output_type": "stream",
     "text": [
      "CPU times: user 3 µs, sys: 0 ns, total: 3 µs\n",
      "Wall time: 7.15 µs\n"
     ]
    }
   ],
   "source": [
    "%%time\n",
    "# This should be importing everything in as Cython now\n",
    "\n",
    "df = pd.DataFrame(columns=['filings_name', 'no_match_name', 'percent_match'])\n",
    "matching_phrases = cm.check_for_matching_phrases(df, hashed_comp_fil, hashed_no_match)"
   ]
  },
  {
   "cell_type": "code",
   "execution_count": 387,
   "metadata": {
    "collapsed": false
   },
   "outputs": [
    {
     "data": {
      "text/plain": [
       "262"
      ]
     },
     "execution_count": 387,
     "metadata": {},
     "output_type": "execute_result"
    }
   ],
   "source": [
    "len(df)"
   ]
  },
  {
   "cell_type": "markdown",
   "metadata": {
    "collapsed": false
   },
   "source": [
    "<h2>Look into difflib from the standard library and possibly fuzzywuzzy to look for similar names</h2>\n",
    "\n",
    "<a href='http://stackoverflow.com/questions/10383044/fuzzy-string-comparison'>Stack Overflow Answer</a>\n",
    "\n",
    "<a href='https://en.wikipedia.org/wiki/Approximate_string_matching'>Aproximate String Algorithms</a>"
   ]
  },
  {
   "cell_type": "code",
   "execution_count": null,
   "metadata": {
    "collapsed": true
   },
   "outputs": [],
   "source": []
  },
  {
   "cell_type": "code",
   "execution_count": null,
   "metadata": {
    "collapsed": true
   },
   "outputs": [],
   "source": []
  },
  {
   "cell_type": "code",
   "execution_count": null,
   "metadata": {
    "collapsed": true
   },
   "outputs": [],
   "source": []
  },
  {
   "cell_type": "code",
   "execution_count": null,
   "metadata": {
    "collapsed": true
   },
   "outputs": [],
   "source": []
  },
  {
   "cell_type": "code",
   "execution_count": null,
   "metadata": {
    "collapsed": true
   },
   "outputs": [],
   "source": []
  },
  {
   "cell_type": "code",
   "execution_count": null,
   "metadata": {
    "collapsed": true
   },
   "outputs": [],
   "source": []
  },
  {
   "cell_type": "code",
   "execution_count": null,
   "metadata": {
    "collapsed": true
   },
   "outputs": [],
   "source": []
  },
  {
   "cell_type": "code",
   "execution_count": null,
   "metadata": {
    "collapsed": true
   },
   "outputs": [],
   "source": []
  },
  {
   "cell_type": "code",
   "execution_count": null,
   "metadata": {
    "collapsed": true
   },
   "outputs": [],
   "source": []
  },
  {
   "cell_type": "code",
   "execution_count": null,
   "metadata": {
    "collapsed": true
   },
   "outputs": [],
   "source": []
  },
  {
   "cell_type": "code",
   "execution_count": null,
   "metadata": {
    "collapsed": true
   },
   "outputs": [],
   "source": []
  },
  {
   "cell_type": "code",
   "execution_count": null,
   "metadata": {
    "collapsed": true
   },
   "outputs": [],
   "source": []
  },
  {
   "cell_type": "code",
   "execution_count": null,
   "metadata": {
    "collapsed": true
   },
   "outputs": [],
   "source": []
  },
  {
   "cell_type": "code",
   "execution_count": null,
   "metadata": {
    "collapsed": true
   },
   "outputs": [],
   "source": []
  },
  {
   "cell_type": "code",
   "execution_count": null,
   "metadata": {
    "collapsed": true
   },
   "outputs": [],
   "source": []
  },
  {
   "cell_type": "code",
   "execution_count": null,
   "metadata": {
    "collapsed": true
   },
   "outputs": [],
   "source": []
  }
 ],
 "metadata": {
  "kernelspec": {
   "display_name": "Python 3",
   "language": "python",
   "name": "python3"
  },
  "language_info": {
   "codemirror_mode": {
    "name": "ipython",
    "version": 3
   },
   "file_extension": ".py",
   "mimetype": "text/x-python",
   "name": "python",
   "nbconvert_exporter": "python",
   "pygments_lexer": "ipython3",
   "version": "3.5.1"
  }
 },
 "nbformat": 4,
 "nbformat_minor": 1
}
