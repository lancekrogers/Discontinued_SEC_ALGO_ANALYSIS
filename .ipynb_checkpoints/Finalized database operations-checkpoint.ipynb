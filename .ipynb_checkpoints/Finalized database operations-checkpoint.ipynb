{
 "cells": [
  {
   "cell_type": "code",
   "execution_count": 4,
   "metadata": {
    "collapsed": true
   },
   "outputs": [],
   "source": [
    "from sqlalchemy.orm import sessionmaker\n",
    "from sqlalchemy import Table\n",
    "from sqlalchemy import create_engine, inspect\n",
    "from sqlalchemy import MetaData\n",
    "from edgerdb import helper_functions as hlp\n",
    "import pandas as pd\n",
    "import numpy as np\n",
    "from fuzzywuzzy import fuzz, process\n",
    "import re\n",
    "from requests import get"
   ]
  },
  {
   "cell_type": "code",
   "execution_count": 5,
   "metadata": {
    "collapsed": true
   },
   "outputs": [],
   "source": [
    "meta = MetaData()\n",
    "\n",
    "engine = create_engine('postgresql://analyst:@localhost:5432/edgar')\n",
    "\n",
    "messages = Table('filings', meta, autoload=True, autoload_with=engine)\n",
    "\n",
    "def sql_to_df(query, connection):\n",
    "    df = pd.read_sql(query, connection)\n",
    "    connection.close()\n",
    "    return df\n"
   ]
  },
  {
   "cell_type": "code",
   "execution_count": 6,
   "metadata": {
    "collapsed": true
   },
   "outputs": [],
   "source": [
    "def create_csi_data_table(engine):\n",
    "    '''\n",
    "    Creates a table with the data from csidata.com\n",
    "    '''\n",
    "    conn = engine.connect()\n",
    "    csi_stock_data = pd.read_csv('http://www.csidata.com/factsheets.php?type=stock&format=csv')\n",
    "    csi_stock_data.columns = map(str.lower, csi_stock_data.columns)\n",
    "    csi_stock_data = csi_stock_data.rename(columns={'name': 'company_name'})\n",
    "    csi_stock_data['company_name'] = csi_stock_data['company_name'].str.upper()\n",
    "    csi_stock_data['company_name'] = csi_stock_data['company_name'].str.strip()\n",
    "    csi_stock_data = csi_stock_data.fillna(value=\"NONE\")\n",
    "    csi_stock_data.to_sql('csi_stock_data', engine)\n",
    "    conn.close()\n",
    "    \n",
    "def create_table_with_cik_and_csi_data():\n",
    "    '''\n",
    "        Creates a table called cik_to_csi by joining filings and csi_stock_data tables on company_name\n",
    "    '''\n",
    "    join_ticker_to_cik = \"\"\"select * into temp_cik_to_csi from (select fil.cik, fil.company_name,\n",
    "                            csi.symbol, csi.exchange,\n",
    "                            csi.isactive, csi.startdate, csi.enddate\n",
    "                            from filings fil\n",
    "                            join csi_stock_data csi on fil.company_name = csi.company_name) as foo;\"\"\"\n",
    "    clean_ticker_to_cik_table = \"\"\"select * into cik_to_csi\n",
    "    from (select distinct cik, c.company_name, c.symbol, c.exchange, c.isactive, c.startdate, c.enddate  from temp_cik_to_csi c) as foo;\"\"\"\n",
    "    hlp.clear_sessions('edgar', hlp.db())\n",
    "    hlp.statement(join_ticker_to_cik, hlp.db(), output=False, commit=True)\n",
    "    hlp.statement(clean_ticker_to_cik_table, hlp.db(), output=False, commit=True)\n",
    "    hlp.statement(\"drop table temp_cik_to_csi;\", hlp.db(), output=False, commit=True)\n",
    "    \n"
   ]
  },
  {
   "cell_type": "code",
   "execution_count": null,
   "metadata": {
    "collapsed": false
   },
   "outputs": [],
   "source": [
    "def tickers_to_cik(list_of_tickers):\n",
    "    URL = 'http://www.sec.gov/cgi-bin/browse-edgar?CIK={}&Find=Search&owner=exclude&action=getcompany'\n",
    "    CIK_RE = re.compile('.*CIK=(\\d{10}).*')\n",
    "\n",
    "    cik_dict = {}\n",
    "    for ticker in list_of_tickers:\n",
    "        results = CIK_RE.findall(get(URL.format(ticker)).text)\n",
    "        if len(results):\n",
    "            cik_dict[str(ticker).upper()] = str(results[0]).lstrip('0')\n",
    "        else:\n",
    "            no_matches.append(str(ticker).upper())\n",
    "    return cik_dict\n",
    "\n",
    "def new_nasdaq_tickers_and_names(engine):\n",
    "    \"\"\"\n",
    "        This function queries the cik_to_csi table and returns a dataframe of tickers and company names for companies\n",
    "        not found in our data.\n",
    "    \"\"\"\n",
    "    nasdaq_companies = pd.read_csv(\"http://www.nasdaq.com/screening/companies-by-industry.aspx?exchange=NASDAQ&render=download\")\n",
    "    amex_companies = pd.read_csv(\"http://www.nasdaq.com/screening/companies-by-industry.aspx?exchange=AMEX&render=download\")\n",
    "    nyse_companies = pd.read_csv(\"http://www.nasdaq.com/screening/companies-by-industry.aspx?exchange=NYSE&render=download\")\n",
    "    nasdaq_name_and_ticker = pd.DataFrame(nasdaq_companies, columns=['Symbol', 'Name'])\n",
    "    nasdaq_name_and_ticker['exchange'] = 'NASDAQ'\n",
    "    amex_name_and_ticker = pd.DataFrame(amex_companies, columns=['Symbol', 'Name'])\n",
    "    amex_name_and_ticker['exchange'] = 'AMEX'\n",
    "    nyse_name_and_ticker = pd.DataFrame(nyse_companies, columns=['Symbol', 'Name'])\n",
    "    nyse_name_and_ticker['exchange'] ='NYSE'\n",
    "    companies_and_symbols = pd.concat([nasdaq_name_and_ticker, amex_name_and_ticker, nyse_name_and_ticker])\n",
    "    companies_and_tickers = companies_and_symbols.rename(columns={'Symbol': 'symbol', \"Name\": \"name\"})\n",
    "    companies_and_tickers['isactive'] = 1\n",
    "    list_of_tickers_from_nasdaq = companies_and_tickers['symbol'].values.tolist()\n",
    "    list_of_tickers_in_cik_to_csi_table = pd.read_sql_query('select distinct symbol from cik_to_csi;',con=engine)['symbol'].values.tolist()\n",
    "    not_found_in_db = []\n",
    "    for x in list_of_tickers_from_nasdaq:\n",
    "        if x not in list_of_tickers_in_cik_to_csi_table and x not in not_found_in_db:\n",
    "            not_found_in_db.append(x)\n",
    "    return companies_and_tickers[companies_and_tickers['symbol'].isin(not_found_in_db)]\n",
    "\n",
    "def return_matches(first_li, second_li):\n",
    "    return set(first_li) & set(second_li)\n",
    "\n",
    "def insert(df, entries):\n",
    "    \"\"\"\n",
    "        Takes a set of values and inserts them into a dataframe sequentially where the index is\n",
    "        sequential and continuous.\n",
    "    \"\"\"\n",
    "    try:\n",
    "        df.loc[max(df.index) + 1] = entries\n",
    "    except ValueError:\n",
    "        df.loc[0] = entries\n",
    "        \n",
    "def make_list_of_tickers(csi_dataframe, engine):\n",
    "    tickers_from_nasdaq_site = new_nasdaq_tickers_and_names(engine)\n",
    "    ticker_list1 = tickers_from_nasdaq_site['symbol'].values.tolist()\n",
    "    ticker_list2 = csi_dataframe['symbol'].values.tolist()\n",
    "    return list(set(ticker_list1 + ticker_list2))"
   ]
  },
  {
   "cell_type": "code",
   "execution_count": 3,
   "metadata": {
    "collapsed": false
   },
   "outputs": [
    {
     "ename": "NameError",
     "evalue": "name 'pd' is not defined",
     "output_type": "error",
     "traceback": [
      "\u001b[0;31m---------------------------------------------------------------------------\u001b[0m",
      "\u001b[0;31mNameError\u001b[0m                                 Traceback (most recent call last)",
      "\u001b[0;32m<ipython-input-3-00c44aa2ff4b>\u001b[0m in \u001b[0;36m<module>\u001b[0;34m()\u001b[0m\n\u001b[1;32m      1\u001b[0m \u001b[0;31m# Create a filings dataframe from the edgar database filings table\u001b[0m\u001b[0;34m\u001b[0m\u001b[0;34m\u001b[0m\u001b[0m\n\u001b[0;32m----> 2\u001b[0;31m \u001b[0mfilings_data\u001b[0m \u001b[0;34m=\u001b[0m \u001b[0mpd\u001b[0m\u001b[0;34m.\u001b[0m\u001b[0mread_sql_query\u001b[0m\u001b[0;34m(\u001b[0m\u001b[0;34m'select * from filings;'\u001b[0m\u001b[0;34m,\u001b[0m \u001b[0mcon\u001b[0m\u001b[0;34m=\u001b[0m\u001b[0mengine\u001b[0m\u001b[0;34m)\u001b[0m\u001b[0;34m\u001b[0m\u001b[0m\n\u001b[0m\u001b[1;32m      3\u001b[0m \u001b[0mfilings_data\u001b[0m \u001b[0;34m=\u001b[0m \u001b[0mfilings_data\u001b[0m\u001b[0;34m.\u001b[0m\u001b[0mrename\u001b[0m\u001b[0;34m(\u001b[0m\u001b[0mcolumns\u001b[0m\u001b[0;34m=\u001b[0m\u001b[0;34m{\u001b[0m\u001b[0;34m'company'\u001b[0m\u001b[0;34m:\u001b[0m \u001b[0;34m'company_name'\u001b[0m\u001b[0;34m}\u001b[0m\u001b[0;34m)\u001b[0m\u001b[0;34m\u001b[0m\u001b[0m\n",
      "\u001b[0;31mNameError\u001b[0m: name 'pd' is not defined"
     ]
    }
   ],
   "source": [
    "# Create a filings dataframe from the edgar database filings table\n",
    "filings_data = pd.read_sql_query('select * from filings;', con=engine)\n",
    "filings_data = filings_data.rename(columns={'company': 'company_name'})\n"
   ]
  },
  {
   "cell_type": "code",
   "execution_count": 8,
   "metadata": {
    "collapsed": false
   },
   "outputs": [],
   "source": [
    "# Create a csi_data datagrame from csidata.com\n",
    "csi_stock_data = pd.read_csv('http://www.csidata.com/factsheets.php?type=stock&format=csv')\n",
    "csi_data = pd.DataFrame(csi_stock_data, columns=['csinumber', 'symbol', 'company_name', 'exchange', 'isactive', 'startdate', 'enddate'])\n",
    "csi_data = csi_data.dropna()"
   ]
  },
  {
   "cell_type": "code",
   "execution_count": null,
   "metadata": {
    "collapsed": true
   },
   "outputs": [],
   "source": [
    "tickers_from_nasdaq_site = new_nasdaq_tickers_and_names(engine)\n",
    "tickers_from_nasdaq_site = tickers_from_nasdaq_site.rename(columns={\"name\": \"company_name\"})\n",
    "tickers_from_nasdaq_site['company_name'] = tickers_from_nasdaq_site['company_name'].str.upper()\n",
    "matches_from_exchange_list= pd.merge(left=tickers_from_nasdaq_site, right=filings_df, right_on='company_name', left_on='company_name')\n",
    "conn = engine.connect()\n",
    "csi_to_cik_tick_matches = sql_to_df(\"select cik, company_name, symbol, exchange, isactive from cik_to_csi;\",conn)\n",
    "conn.close()\n",
    "cik_to_ticker = pd.concat([matches_from_exchange_list, csi_to_cik_tick_matches])\n",
    "print(len(cik_to_ticker))\n",
    "cik_to_ticker.head()"
   ]
  },
  {
   "cell_type": "code",
   "execution_count": null,
   "metadata": {
    "collapsed": false
   },
   "outputs": [],
   "source": [
    "import multiprocessing as mp\n",
    "from requests import get\n",
    "import json\n",
    "\n",
    "ticker_list = make_list_of_tickers(csi_data, engine)\n",
    "\n",
    "\n",
    "chunks = lambda lst, sz: [lst[i:i+sz] for i in range(0, len(lst), sz)]\n",
    "        \n",
    "def worker(inq,outq):\n",
    "    list_of_tickers = inq.get()\n",
    "    URL = 'http://www.sec.gov/cgi-bin/browse-edgar?CIK={}&Find=Search&owner=exclude&action=getcompany'\n",
    "    CIK_RE = re.compile('.*CIK=(\\d{10}).*')\n",
    "    no_matches = []\n",
    "    cik_dict = {}\n",
    "    for ticker in list_of_tickers:\n",
    "        results = CIK_RE.findall(get(URL.format(ticker), timeout=(3.05, 27)).text)\n",
    "        if len(results):\n",
    "            cik_dict[str(ticker).upper()] = str(results[0]).lstrip('0')\n",
    "        else:\n",
    "            no_matches.append(str(ticker).upper())\n",
    "    cik_dict['no_matches'] = no_matches\n",
    "    outq.put(cik_dict)\n",
    "\n",
    "def make_ticker_cik_file(ticker_list, n_processes=3):\n",
    "    processes = n_processes\n",
    "    tick_list = ticker_list\n",
    "    chunk_list = chunks(tick_list, int(len(tick_list) / processes))\n",
    "    results_dict = {}\n",
    "    no_matches = []\n",
    "    \n",
    "    for chu in chunk_list:\n",
    "        inq = mp.Queue()\n",
    "        outq = mp.Queue()\n",
    "        p = mp.Process(target=worker, args=(inq,outq))\n",
    "        p.start()\n",
    "    \n",
    "        inq.put(chu)\n",
    "\n",
    "        # Wait for the worker to finish\n",
    "        p.join()\n",
    "        result = outq.get()\n",
    "        for tic in result['no_matches']:\n",
    "            no_matches.append(tic)\n",
    "        result.pop('no_matches')\n",
    "        results_dict.update(result)\n",
    "        p.terminate()\n",
    "    with open('data/ticker_to_cik.json', 'w') as f:\n",
    "        f.write(json.dumps(results_dict))\n",
    "        f.close()\n",
    "    with open('data/no_cik_matches.json', 'w') as f:\n",
    "        f.write(json.dumps({'no_matches': no_matches}))\n",
    "        f.close()"
   ]
  },
  {
   "cell_type": "code",
   "execution_count": 10,
   "metadata": {
    "collapsed": true
   },
   "outputs": [],
   "source": [
    "ticker_list = make_list_of_tickers(csi_data, engine)\n"
   ]
  },
  {
   "cell_type": "code",
   "execution_count": null,
   "metadata": {
    "collapsed": false
   },
   "outputs": [
    {
     "name": "stderr",
     "output_type": "stream",
     "text": [
      "Process Process-588:\n",
      "Traceback (most recent call last):\n",
      "  File \"/Users/lancerogers/Developer/Python/algo_analysis/.direnv/python-3.5.1/lib/python3.5/site-packages/requests/packages/urllib3/connection.py\", line 142, in _new_conn\n",
      "    (self.host, self.port), self.timeout, **extra_kw)\n",
      "  File \"/Users/lancerogers/Developer/Python/algo_analysis/.direnv/python-3.5.1/lib/python3.5/site-packages/requests/packages/urllib3/util/connection.py\", line 98, in create_connection\n",
      "    raise err\n",
      "  File \"/Users/lancerogers/Developer/Python/algo_analysis/.direnv/python-3.5.1/lib/python3.5/site-packages/requests/packages/urllib3/util/connection.py\", line 88, in create_connection\n",
      "    sock.connect(sa)\n",
      "OSError: [Errno 65] No route to host\n",
      "\n",
      "During handling of the above exception, another exception occurred:\n",
      "\n",
      "Traceback (most recent call last):\n",
      "  File \"/Users/lancerogers/Developer/Python/algo_analysis/.direnv/python-3.5.1/lib/python3.5/site-packages/requests/packages/urllib3/connectionpool.py\", line 595, in urlopen\n",
      "    chunked=chunked)\n",
      "  File \"/Users/lancerogers/Developer/Python/algo_analysis/.direnv/python-3.5.1/lib/python3.5/site-packages/requests/packages/urllib3/connectionpool.py\", line 352, in _make_request\n",
      "    self._validate_conn(conn)\n",
      "  File \"/Users/lancerogers/Developer/Python/algo_analysis/.direnv/python-3.5.1/lib/python3.5/site-packages/requests/packages/urllib3/connectionpool.py\", line 831, in _validate_conn\n",
      "    conn.connect()\n",
      "  File \"/Users/lancerogers/Developer/Python/algo_analysis/.direnv/python-3.5.1/lib/python3.5/site-packages/requests/packages/urllib3/connection.py\", line 254, in connect\n",
      "    conn = self._new_conn()\n",
      "  File \"/Users/lancerogers/Developer/Python/algo_analysis/.direnv/python-3.5.1/lib/python3.5/site-packages/requests/packages/urllib3/connection.py\", line 151, in _new_conn\n",
      "    self, \"Failed to establish a new connection: %s\" % e)\n",
      "requests.packages.urllib3.exceptions.NewConnectionError: <requests.packages.urllib3.connection.VerifiedHTTPSConnection object at 0x1094f9198>: Failed to establish a new connection: [Errno 65] No route to host\n",
      "\n",
      "During handling of the above exception, another exception occurred:\n",
      "\n",
      "Traceback (most recent call last):\n",
      "  File \"/Users/lancerogers/Developer/Python/algo_analysis/.direnv/python-3.5.1/lib/python3.5/site-packages/requests/adapters.py\", line 423, in send\n",
      "    timeout=timeout\n",
      "  File \"/Users/lancerogers/Developer/Python/algo_analysis/.direnv/python-3.5.1/lib/python3.5/site-packages/requests/packages/urllib3/connectionpool.py\", line 640, in urlopen\n",
      "    _stacktrace=sys.exc_info()[2])\n",
      "  File \"/Users/lancerogers/Developer/Python/algo_analysis/.direnv/python-3.5.1/lib/python3.5/site-packages/requests/packages/urllib3/util/retry.py\", line 287, in increment\n",
      "    raise MaxRetryError(_pool, url, error or ResponseError(cause))\n",
      "requests.packages.urllib3.exceptions.MaxRetryError: HTTPSConnectionPool(host='www.sec.gov', port=443): Max retries exceeded with url: /cgi-bin/browse-edgar?CIK=FFBC&Find=Search&owner=exclude&action=getcompany (Caused by NewConnectionError('<requests.packages.urllib3.connection.VerifiedHTTPSConnection object at 0x1094f9198>: Failed to establish a new connection: [Errno 65] No route to host',))\n",
      "\n",
      "During handling of the above exception, another exception occurred:\n",
      "\n",
      "Traceback (most recent call last):\n",
      "  File \"/Library/Frameworks/Python.framework/Versions/3.5/lib/python3.5/multiprocessing/process.py\", line 254, in _bootstrap\n",
      "    self.run()\n",
      "  File \"/Library/Frameworks/Python.framework/Versions/3.5/lib/python3.5/multiprocessing/process.py\", line 93, in run\n",
      "    self._target(*self._args, **self._kwargs)\n",
      "  File \"<ipython-input-9-468fdca91347>\", line 16, in worker\n",
      "    results = CIK_RE.findall(get(URL.format(ticker)).text)\n",
      "  File \"/Users/lancerogers/Developer/Python/algo_analysis/.direnv/python-3.5.1/lib/python3.5/site-packages/requests/api.py\", line 70, in get\n",
      "    return request('get', url, params=params, **kwargs)\n",
      "  File \"/Users/lancerogers/Developer/Python/algo_analysis/.direnv/python-3.5.1/lib/python3.5/site-packages/requests/api.py\", line 56, in request\n",
      "    return session.request(method=method, url=url, **kwargs)\n",
      "  File \"/Users/lancerogers/Developer/Python/algo_analysis/.direnv/python-3.5.1/lib/python3.5/site-packages/requests/sessions.py\", line 475, in request\n",
      "    resp = self.send(prep, **send_kwargs)\n",
      "  File \"/Users/lancerogers/Developer/Python/algo_analysis/.direnv/python-3.5.1/lib/python3.5/site-packages/requests/sessions.py\", line 617, in send\n",
      "    history = [resp for resp in gen] if allow_redirects else []\n",
      "  File \"/Users/lancerogers/Developer/Python/algo_analysis/.direnv/python-3.5.1/lib/python3.5/site-packages/requests/sessions.py\", line 617, in <listcomp>\n",
      "    history = [resp for resp in gen] if allow_redirects else []\n",
      "  File \"/Users/lancerogers/Developer/Python/algo_analysis/.direnv/python-3.5.1/lib/python3.5/site-packages/requests/sessions.py\", line 177, in resolve_redirects\n",
      "    **adapter_kwargs\n",
      "  File \"/Users/lancerogers/Developer/Python/algo_analysis/.direnv/python-3.5.1/lib/python3.5/site-packages/requests/sessions.py\", line 596, in send\n",
      "    r = adapter.send(request, **kwargs)\n",
      "  File \"/Users/lancerogers/Developer/Python/algo_analysis/.direnv/python-3.5.1/lib/python3.5/site-packages/requests/adapters.py\", line 487, in send\n",
      "    raise ConnectionError(e, request=request)\n",
      "requests.exceptions.ConnectionError: HTTPSConnectionPool(host='www.sec.gov', port=443): Max retries exceeded with url: /cgi-bin/browse-edgar?CIK=FFBC&Find=Search&owner=exclude&action=getcompany (Caused by NewConnectionError('<requests.packages.urllib3.connection.VerifiedHTTPSConnection object at 0x1094f9198>: Failed to establish a new connection: [Errno 65] No route to host',))\n"
     ]
    }
   ],
   "source": [
    "%%time\n",
    "make_ticker_cik_file(ticker_list, n_processes=1000)\n"
   ]
  },
  {
   "cell_type": "code",
   "execution_count": null,
   "metadata": {
    "collapsed": true
   },
   "outputs": [],
   "source": []
  },
  {
   "cell_type": "code",
   "execution_count": null,
   "metadata": {
    "collapsed": true
   },
   "outputs": [],
   "source": []
  },
  {
   "cell_type": "code",
   "execution_count": null,
   "metadata": {
    "collapsed": true
   },
   "outputs": [],
   "source": []
  },
  {
   "cell_type": "code",
   "execution_count": null,
   "metadata": {
    "collapsed": true
   },
   "outputs": [],
   "source": []
  },
  {
   "cell_type": "code",
   "execution_count": null,
   "metadata": {
    "collapsed": true
   },
   "outputs": [],
   "source": []
  },
  {
   "cell_type": "code",
   "execution_count": null,
   "metadata": {
    "collapsed": true
   },
   "outputs": [],
   "source": []
  },
  {
   "cell_type": "code",
   "execution_count": null,
   "metadata": {
    "collapsed": true
   },
   "outputs": [],
   "source": []
  },
  {
   "cell_type": "code",
   "execution_count": null,
   "metadata": {
    "collapsed": true
   },
   "outputs": [],
   "source": []
  },
  {
   "cell_type": "code",
   "execution_count": null,
   "metadata": {
    "collapsed": true
   },
   "outputs": [],
   "source": []
  }
 ],
 "metadata": {
  "kernelspec": {
   "display_name": "Python 3",
   "language": "python",
   "name": "python3"
  },
  "language_info": {
   "codemirror_mode": {
    "name": "ipython",
    "version": 3
   },
   "file_extension": ".py",
   "mimetype": "text/x-python",
   "name": "python",
   "nbconvert_exporter": "python",
   "pygments_lexer": "ipython3",
   "version": "3.5.1"
  }
 },
 "nbformat": 4,
 "nbformat_minor": 1
}
