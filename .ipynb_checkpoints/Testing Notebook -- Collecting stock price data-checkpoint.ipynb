{
 "cells": [
  {
   "cell_type": "markdown",
   "metadata": {},
   "source": [
    "S&P500 stock data:\n",
    "http://pages.swcp.com/stocks/\n",
    "\n",
    "\n",
    "n = pd.read_csv('http://chart.finance.yahoo.com/table.csv?s=ACIU&a=7&b=9&c=1996&d=10&e=19&f=2016&g=d&ignore=.csv')\n",
    "\n",
    "http://www.eoddata.com/download.aspx"
   ]
  },
  {
   "cell_type": "code",
   "execution_count": 583,
   "metadata": {
    "collapsed": true
   },
   "outputs": [],
   "source": [
    "from sqlalchemy.orm import sessionmaker\n",
    "from sqlalchemy import Table\n",
    "from sqlalchemy import create_engine, inspect\n",
    "from sqlalchemy import MetaData\n",
    "from edgerdb import helper_functions as hlp\n",
    "import pandas as pd\n",
    "import numpy as np\n",
    "import matplotlib.pyplot as plt\n",
    "import os\n",
    "\n",
    "\n",
    "meta = MetaData()\n",
    "\n",
    "engine = create_engine('postgresql://analyst:@localhost:5432/edgar')\n",
    "\n",
    "messages = Table('filings', meta, autoload=True, autoload_with=engine)\n",
    "\n",
    "def sql_to_df(query, connection, *args, **kwargs):\n",
    "    df = pd.read_sql(query, connection, *args, **kwargs)\n",
    "    connection.close()\n",
    "    return df"
   ]
  },
  {
   "cell_type": "code",
   "execution_count": 387,
   "metadata": {
    "collapsed": true
   },
   "outputs": [],
   "source": [
    "%matplotlib inline"
   ]
  },
  {
   "cell_type": "code",
   "execution_count": 2,
   "metadata": {
    "collapsed": false
   },
   "outputs": [],
   "source": [
    "cik_and_tickers = sql_to_df('select * from temp_cik_to_ticker;', engine.connect()).set_index(keys='index')"
   ]
  },
  {
   "cell_type": "code",
   "execution_count": 3,
   "metadata": {
    "collapsed": false
   },
   "outputs": [
    {
     "data": {
      "text/html": [
       "<div>\n",
       "<table border=\"1\" class=\"dataframe\">\n",
       "  <thead>\n",
       "    <tr style=\"text-align: right;\">\n",
       "      <th></th>\n",
       "      <th>cik</th>\n",
       "      <th>company_name</th>\n",
       "      <th>exchange</th>\n",
       "      <th>isactive</th>\n",
       "      <th>symbol</th>\n",
       "    </tr>\n",
       "    <tr>\n",
       "      <th>index</th>\n",
       "      <th></th>\n",
       "      <th></th>\n",
       "      <th></th>\n",
       "      <th></th>\n",
       "      <th></th>\n",
       "    </tr>\n",
       "  </thead>\n",
       "  <tbody>\n",
       "    <tr>\n",
       "      <th>0</th>\n",
       "      <td>1591890</td>\n",
       "      <td>1347 PROPERTY INSURANCE HOLDINGS, INC.</td>\n",
       "      <td>NASDAQ</td>\n",
       "      <td>1</td>\n",
       "      <td>PIH</td>\n",
       "    </tr>\n",
       "    <tr>\n",
       "      <th>1</th>\n",
       "      <td>1508475</td>\n",
       "      <td>21VIANET GROUP, INC.</td>\n",
       "      <td>NASDAQ</td>\n",
       "      <td>1</td>\n",
       "      <td>VNET</td>\n",
       "    </tr>\n",
       "    <tr>\n",
       "      <th>2</th>\n",
       "      <td>1459417</td>\n",
       "      <td>2U, INC.</td>\n",
       "      <td>NASDAQ</td>\n",
       "      <td>1</td>\n",
       "      <td>TWOU</td>\n",
       "    </tr>\n",
       "    <tr>\n",
       "      <th>3</th>\n",
       "      <td>1295484</td>\n",
       "      <td>51JOB, INC.</td>\n",
       "      <td>NASDAQ</td>\n",
       "      <td>1</td>\n",
       "      <td>JOBS</td>\n",
       "    </tr>\n",
       "    <tr>\n",
       "      <th>4</th>\n",
       "      <td>1295484</td>\n",
       "      <td>51JOB, INC.</td>\n",
       "      <td>NASDAQ</td>\n",
       "      <td>1</td>\n",
       "      <td>JOBS</td>\n",
       "    </tr>\n",
       "  </tbody>\n",
       "</table>\n",
       "</div>"
      ],
      "text/plain": [
       "           cik                            company_name exchange  isactive  \\\n",
       "index                                                                       \n",
       "0      1591890  1347 PROPERTY INSURANCE HOLDINGS, INC.   NASDAQ         1   \n",
       "1      1508475                    21VIANET GROUP, INC.   NASDAQ         1   \n",
       "2      1459417                                2U, INC.   NASDAQ         1   \n",
       "3      1295484                             51JOB, INC.   NASDAQ         1   \n",
       "4      1295484                             51JOB, INC.   NASDAQ         1   \n",
       "\n",
       "      symbol  \n",
       "index         \n",
       "0        PIH  \n",
       "1       VNET  \n",
       "2       TWOU  \n",
       "3       JOBS  \n",
       "4       JOBS  "
      ]
     },
     "execution_count": 3,
     "metadata": {},
     "output_type": "execute_result"
    }
   ],
   "source": [
    "cik_and_tickers.head()"
   ]
  },
  {
   "cell_type": "code",
   "execution_count": 4,
   "metadata": {
    "collapsed": false
   },
   "outputs": [],
   "source": [
    "tickers = cik_and_tickers['symbol'].tolist()\n"
   ]
  },
  {
   "cell_type": "code",
   "execution_count": 57,
   "metadata": {
    "collapsed": false
   },
   "outputs": [],
   "source": [
    "import requests\n",
    "from yahoo_finance import Share\n",
    "from pprint import pprint"
   ]
  },
  {
   "cell_type": "code",
   "execution_count": 58,
   "metadata": {
    "collapsed": false
   },
   "outputs": [
    {
     "name": "stdout",
     "output_type": "stream",
     "text": [
      "None\n",
      "41.45\n",
      "[{'Adj_Close': '35.830002',\n",
      "  'Close': '35.830002',\n",
      "  'Date': '2014-04-29',\n",
      "  'High': '35.889999',\n",
      "  'Low': '34.119999',\n",
      "  'Open': '34.369999',\n",
      "  'Symbol': 'YHOO',\n",
      "  'Volume': '28736000'},\n",
      " {'Adj_Close': '33.990002',\n",
      "  'Close': '33.990002',\n",
      "  'Date': '2014-04-28',\n",
      "  'High': '35.00',\n",
      "  'Low': '33.650002',\n",
      "  'Open': '34.669998',\n",
      "  'Symbol': 'YHOO',\n",
      "  'Volume': '31019200'},\n",
      " {'Adj_Close': '34.48',\n",
      "  'Close': '34.48',\n",
      "  'Date': '2014-04-25',\n",
      "  'High': '35.099998',\n",
      "  'Low': '34.290001',\n",
      "  'Open': '35.029999',\n",
      "  'Symbol': 'YHOO',\n",
      "  'Volume': '19401600'}]\n"
     ]
    }
   ],
   "source": [
    "yahoo = Share('YHOO')\n",
    "print(yahoo.get_open())\n",
    "print(yahoo.get_price())\n",
    "pprint(yahoo.get_historical('2014-04-25', '2014-04-29'))"
   ]
  },
  {
   "cell_type": "code",
   "execution_count": null,
   "metadata": {
    "collapsed": false
   },
   "outputs": [],
   "source": []
  },
  {
   "cell_type": "code",
   "execution_count": 97,
   "metadata": {
    "collapsed": false
   },
   "outputs": [],
   "source": [
    "# Columns will need to be added to top of file after download\n",
    "sp500 = pd.read_csv('data/sp500hst.txt')"
   ]
  },
  {
   "cell_type": "code",
   "execution_count": 99,
   "metadata": {
    "collapsed": false
   },
   "outputs": [
    {
     "data": {
      "text/plain": [
       "524"
      ]
     },
     "execution_count": 99,
     "metadata": {},
     "output_type": "execute_result"
    }
   ],
   "source": [
    "len(sp500['symbol'].unique())"
   ]
  },
  {
   "cell_type": "code",
   "execution_count": 191,
   "metadata": {
    "collapsed": false
   },
   "outputs": [
    {
     "data": {
      "text/plain": [
       "['PIH',\n",
       " 'VNET',\n",
       " 'TWOU',\n",
       " 'JOBS',\n",
       " 'JOBS',\n",
       " 'CAFD',\n",
       " 'ABEO',\n",
       " 'ABEOW',\n",
       " 'ABIL',\n",
       " 'ACIU']"
      ]
     },
     "execution_count": 191,
     "metadata": {},
     "output_type": "execute_result"
    }
   ],
   "source": [
    "tickers[0:10]"
   ]
  },
  {
   "cell_type": "code",
   "execution_count": 268,
   "metadata": {
    "collapsed": false
   },
   "outputs": [],
   "source": [
    "r2016 = pd.read_csv('data/5_YEAR_NASDAQ/NASDAQ_20160101.csv')"
   ]
  },
  {
   "cell_type": "code",
   "execution_count": 270,
   "metadata": {
    "collapsed": false
   },
   "outputs": [
    {
     "name": "stdout",
     "output_type": "stream",
     "text": [
      "2812\n",
      "13534\n"
     ]
    }
   ],
   "source": [
    "print(len(r2016['Symbol'].tolist()))\n",
    "print(len(set(r2016['Symbol'].tolist() + tickers)))"
   ]
  },
  {
   "cell_type": "code",
   "execution_count": 577,
   "metadata": {
    "collapsed": false
   },
   "outputs": [],
   "source": [
    "def in_both(first_li, second_li):\n",
    "    both = []\n",
    "    for x in second_li:\n",
    "        if x in first_li:\n",
    "            both.append(x)\n",
    "    return both\n",
    "\n",
    "\n",
    "def find_csv_files_in_dir(directory):\n",
    "    paths = []\n",
    "    for subdir, dirs, files in os.walk(directory):\n",
    "        for file in files:\n",
    "            filepath = subdir + os.sep + file\n",
    "            if filepath.endswith(\".csv\"):\n",
    "                paths.append(filepath)\n",
    "    return paths\n",
    "\n",
    "\n",
    "def concat_eod_data(list_of_paths):\n",
    "    '''\n",
    "        This functions takes as input a list of paths to csv files containg eod stock data and join the files\n",
    "        into a single dataframe.\n",
    "    '''\n",
    "    df = pd.DataFrame(columns=['Symbol', 'Date', 'Open', 'High', 'Low', 'Close', 'Volume'])\n",
    "    for path in list_of_paths:\n",
    "        temp_df = pd.read_csv(path, index_col='Date',\n",
    "                             parse_dates=True)\n",
    "        df = pd.concat([df, temp_df])\n",
    "    return df"
   ]
  },
  {
   "cell_type": "code",
   "execution_count": 578,
   "metadata": {
    "collapsed": false
   },
   "outputs": [],
   "source": [
    "months = {'Jan': '01', \n",
    "          'Feb': '02', \n",
    "          'Mar': '03', \n",
    "          'Apr': '04', \n",
    "          'May': '05', \n",
    "          'Jun': '06',\n",
    "          'Jul': '07',\n",
    "          'Aug': '08', \n",
    "          'Sep': '09', \n",
    "          'Oct': '10',\n",
    "          'Nov': '11', \n",
    "          'Dec': '12'}\n",
    "\n",
    "five_year_nasdaq_files = find_csv_files_in_dir('data/5_YEAR_NASDAQ')\n",
    "five_year_nasdaq_df = concat_eod_data(five_year_nasdaq_files)\n",
    "#five_year_nasdaq_df['Date'] = five_year_nasdaq_df['Date'].apply(lambda x: x.replace(x[3:6], months[x[3:6]]))\n",
    "#five_year_nasdaq_df['Date'] = five_year_nasdaq_df['Date'].apply(lambda x: x.split('-')[2] + x.split('-')[1] + x.split('-')[0])\n"
   ]
  },
  {
   "cell_type": "code",
   "execution_count": 551,
   "metadata": {
    "collapsed": false
   },
   "outputs": [
    {
     "data": {
      "text/html": [
       "<div>\n",
       "<table border=\"1\" class=\"dataframe\">\n",
       "  <thead>\n",
       "    <tr style=\"text-align: right;\">\n",
       "      <th></th>\n",
       "      <th>Symbol</th>\n",
       "      <th>Date</th>\n",
       "      <th>Open</th>\n",
       "      <th>High</th>\n",
       "      <th>Low</th>\n",
       "      <th>Close</th>\n",
       "      <th>Volume</th>\n",
       "    </tr>\n",
       "  </thead>\n",
       "  <tbody>\n",
       "    <tr>\n",
       "      <th>6</th>\n",
       "      <td>AAPL</td>\n",
       "      <td>20161103</td>\n",
       "      <td>110.98</td>\n",
       "      <td>111.46</td>\n",
       "      <td>109.55</td>\n",
       "      <td>109.83</td>\n",
       "      <td>26120400</td>\n",
       "    </tr>\n",
       "    <tr>\n",
       "      <th>4</th>\n",
       "      <td>AAPL</td>\n",
       "      <td>20161102</td>\n",
       "      <td>111.40</td>\n",
       "      <td>112.35</td>\n",
       "      <td>111.23</td>\n",
       "      <td>111.59</td>\n",
       "      <td>28331700</td>\n",
       "    </tr>\n",
       "    <tr>\n",
       "      <th>5</th>\n",
       "      <td>AAPL</td>\n",
       "      <td>20161101</td>\n",
       "      <td>113.46</td>\n",
       "      <td>113.77</td>\n",
       "      <td>110.53</td>\n",
       "      <td>111.49</td>\n",
       "      <td>43825800</td>\n",
       "    </tr>\n",
       "    <tr>\n",
       "      <th>5</th>\n",
       "      <td>AAPL</td>\n",
       "      <td>20161031</td>\n",
       "      <td>113.65</td>\n",
       "      <td>114.23</td>\n",
       "      <td>113.20</td>\n",
       "      <td>113.54</td>\n",
       "      <td>26419300</td>\n",
       "    </tr>\n",
       "    <tr>\n",
       "      <th>5</th>\n",
       "      <td>AAPL</td>\n",
       "      <td>20161028</td>\n",
       "      <td>113.87</td>\n",
       "      <td>115.21</td>\n",
       "      <td>113.45</td>\n",
       "      <td>113.72</td>\n",
       "      <td>37861600</td>\n",
       "    </tr>\n",
       "  </tbody>\n",
       "</table>\n",
       "</div>"
      ],
      "text/plain": [
       "  Symbol      Date    Open    High     Low   Close    Volume\n",
       "6   AAPL  20161103  110.98  111.46  109.55  109.83  26120400\n",
       "4   AAPL  20161102  111.40  112.35  111.23  111.59  28331700\n",
       "5   AAPL  20161101  113.46  113.77  110.53  111.49  43825800\n",
       "5   AAPL  20161031  113.65  114.23  113.20  113.54  26419300\n",
       "5   AAPL  20161028  113.87  115.21  113.45  113.72  37861600"
      ]
     },
     "execution_count": 551,
     "metadata": {},
     "output_type": "execute_result"
    }
   ],
   "source": [
    "five_year_nasdaq_df[five_year_nasdaq_df['Symbol'] == 'AAPL'].sort_values(by=['Date'], ascending=False).head()"
   ]
  },
  {
   "cell_type": "code",
   "execution_count": null,
   "metadata": {
    "collapsed": false
   },
   "outputs": [],
   "source": [
    "tickers_in_df = five_year_nasdaq_df['Symbol'].unique().tolist()\n",
    "tickers_in_both = in_both(tickers_in_df, tickers)\n",
    "tickers_cik_in_both = cik_and_tickers[cik_and_tickers['symbol'].isin(tickers_in_both)]"
   ]
  },
  {
   "cell_type": "code",
   "execution_count": 356,
   "metadata": {
    "collapsed": false
   },
   "outputs": [],
   "source": [
    "filings = sql_to_df('select * from filings where cik in {};'.format(tuple(tickers_cik_in_both['cik'])), engine.connect())"
   ]
  },
  {
   "cell_type": "code",
   "execution_count": 358,
   "metadata": {
    "collapsed": false
   },
   "outputs": [
    {
     "data": {
      "text/plain": [
       "1297972"
      ]
     },
     "execution_count": 358,
     "metadata": {},
     "output_type": "execute_result"
    }
   ],
   "source": [
    "len(filings)"
   ]
  },
  {
   "cell_type": "code",
   "execution_count": null,
   "metadata": {
    "collapsed": false
   },
   "outputs": [],
   "source": [
    "tickers_cik = pd.DataFrame(tickers_cik_in_both, columns=['cik', 'symbol'])\n",
    "symbol_to_filings = pd.merge(left=filings, right=tickers_cik[tickers_cik['cik'].isin(\n",
    "            tickers_cik['cik'].unique())], left_on='cik', right_on='cik')\n",
    "symbol_to_filings = pd.DataFrame(symbol_to_filings, columns=['cik', 'symbol', 'company_name', 'type', 'date', 'path'])"
   ]
  },
  {
   "cell_type": "code",
   "execution_count": 389,
   "metadata": {
    "collapsed": false
   },
   "outputs": [
    {
     "data": {
      "text/html": [
       "<div>\n",
       "<table border=\"1\" class=\"dataframe\">\n",
       "  <thead>\n",
       "    <tr style=\"text-align: right;\">\n",
       "      <th></th>\n",
       "      <th>cik</th>\n",
       "      <th>symbol</th>\n",
       "      <th>company_name</th>\n",
       "      <th>type</th>\n",
       "      <th>date</th>\n",
       "      <th>path</th>\n",
       "    </tr>\n",
       "  </thead>\n",
       "  <tbody>\n",
       "    <tr>\n",
       "      <th>0</th>\n",
       "      <td>1357450</td>\n",
       "      <td>HOLI</td>\n",
       "      <td>HLS SYSTEMS INTERNATIONAL LTD</td>\n",
       "      <td>20-F</td>\n",
       "      <td>20081212</td>\n",
       "      <td>edgar/data/1357450/0001204459-08-002410.txt</td>\n",
       "    </tr>\n",
       "    <tr>\n",
       "      <th>1</th>\n",
       "      <td>1357450</td>\n",
       "      <td>HOLI</td>\n",
       "      <td>HLS SYSTEMS INTERNATIONAL LTD</td>\n",
       "      <td>424B4</td>\n",
       "      <td>20070814</td>\n",
       "      <td>edgar/data/1357450/0001144204-07-042666.txt</td>\n",
       "    </tr>\n",
       "    <tr>\n",
       "      <th>2</th>\n",
       "      <td>1357450</td>\n",
       "      <td>HOLI</td>\n",
       "      <td>HLS SYSTEMS INTERNATIONAL LTD</td>\n",
       "      <td>425</td>\n",
       "      <td>20060403</td>\n",
       "      <td>edgar/data/1357450/0001144204-06-013505.txt</td>\n",
       "    </tr>\n",
       "    <tr>\n",
       "      <th>3</th>\n",
       "      <td>1357450</td>\n",
       "      <td>HOLI</td>\n",
       "      <td>HLS SYSTEMS INTERNATIONAL LTD</td>\n",
       "      <td>6-K</td>\n",
       "      <td>20080129</td>\n",
       "      <td>edgar/data/1357450/0001144204-08-004735.txt</td>\n",
       "    </tr>\n",
       "    <tr>\n",
       "      <th>4</th>\n",
       "      <td>1357450</td>\n",
       "      <td>HOLI</td>\n",
       "      <td>HLS SYSTEMS INTERNATIONAL LTD</td>\n",
       "      <td>6-K</td>\n",
       "      <td>20080220</td>\n",
       "      <td>edgar/data/1357450/0001144204-08-010616.txt</td>\n",
       "    </tr>\n",
       "  </tbody>\n",
       "</table>\n",
       "</div>"
      ],
      "text/plain": [
       "       cik symbol                   company_name   type      date  \\\n",
       "0  1357450   HOLI  HLS SYSTEMS INTERNATIONAL LTD   20-F  20081212   \n",
       "1  1357450   HOLI  HLS SYSTEMS INTERNATIONAL LTD  424B4  20070814   \n",
       "2  1357450   HOLI  HLS SYSTEMS INTERNATIONAL LTD    425  20060403   \n",
       "3  1357450   HOLI  HLS SYSTEMS INTERNATIONAL LTD    6-K  20080129   \n",
       "4  1357450   HOLI  HLS SYSTEMS INTERNATIONAL LTD    6-K  20080220   \n",
       "\n",
       "                                          path  \n",
       "0  edgar/data/1357450/0001204459-08-002410.txt  \n",
       "1  edgar/data/1357450/0001144204-07-042666.txt  \n",
       "2  edgar/data/1357450/0001144204-06-013505.txt  \n",
       "3  edgar/data/1357450/0001144204-08-004735.txt  \n",
       "4  edgar/data/1357450/0001144204-08-010616.txt  "
      ]
     },
     "execution_count": 389,
     "metadata": {},
     "output_type": "execute_result"
    }
   ],
   "source": [
    "symbol_to_filings.head()"
   ]
  },
  {
   "cell_type": "code",
   "execution_count": null,
   "metadata": {
    "collapsed": false
   },
   "outputs": [],
   "source": [
    "def symbol_to_path(symbol, base_dir=\"data\"):\n",
    "    \"\"\"Return CSV file path given ticker symbol.\"\"\"\n",
    "    return os.path.join(base_dir, \"{}.csv\".format(str(symbol)))\n",
    "\n",
    "\n",
    "def get_data(symbols, dates):\n",
    "    \"\"\"Read stock data (adjusted close) for given symbols from CSV files.\"\"\"\n",
    "    df = pd.DataFrame(index=dates)\n",
    "    if 'SPY' not in symbols:  # add SPY for reference, if absent\n",
    "        symbols.insert(0, 'SPY')\n",
    "    count = 0\n",
    "    for symbol in symbols:\n",
    "        # TODO: Read and join data for each symbol\n",
    "        path = symbol_to_path(symbol)\n",
    "        temp_df = pd.read_csv(path, index_col='Date', \n",
    "                             parse_dates=True, usecols=['Date', 'Adj Close'], na_values=['nan'])\n",
    "        temp_df = temp_df.rename(columns={'Adj Close': symbol})\n",
    "        df = df.join(temp_df)\n",
    "        if symbol == 'SPY':\n",
    "            df = df.dropna()\n",
    "    return df\n",
    "\n",
    "\n",
    "def test_run():\n",
    "    # Read data\n",
    "    dates = pd.date_range('2012-01-01', '2012-12-31')\n",
    "    symbols = ['SPY']\n",
    "    df = get_data(symbols, dates)\n",
    "    \n",
    "    # Plot SPY data, retain matplotlib axis object\n",
    "    ax = df['SPY'].plot(title='SPY rolling mean', label='SPY')\n",
    "    \n",
    "    # Compute the rolling mean using a 20 day window\n",
    "    rm_SPY = pd.rolling_mean(df['SPY'], window=20)\n",
    "    \n",
    "    # Add rolling mean to same plot\n",
    "    rm_SPY.plot(label='Rolling mean', ax=ax)\n",
    "    \n",
    "    # Add axis labels and legend\n",
    "    ax.set_xlabel('Date')\n",
    "    ax.set_ylabel('Price')\n",
    "    ax.legend(loc='upper left')\n",
    "    plt.show()\n",
    "    \n",
    "    \n",
    "    \n",
    "if __name__ == \"__main__\":\n",
    "    test_run()"
   ]
  },
  {
   "cell_type": "code",
   "execution_count": 571,
   "metadata": {
    "collapsed": false
   },
   "outputs": [],
   "source": [
    "#pd.read_csv('data/5_YEAR_NASDAQ/NASDAQ_2011/NASDAQ_20110103.csv', parse_dates=True)\n",
    "\n",
    "temp_df = pd.read_csv('data/5_YEAR_NASDAQ/NASDAQ_2011/NASDAQ_20110103.csv', index_col='Date', \n",
    "                             parse_dates=True)#, usecols=['Date', 'Close'], na_values=['nan'])"
   ]
  },
  {
   "cell_type": "code",
   "execution_count": 579,
   "metadata": {
    "collapsed": false
   },
   "outputs": [],
   "source": [
    "temp_fil = pd.DataFrame(filings)"
   ]
  },
  {
   "cell_type": "code",
   "execution_count": 586,
   "metadata": {
    "collapsed": false
   },
   "outputs": [],
   "source": [
    "#ht = sql_to_df('select * from temp_table;', engine.connect(), index_col='date')"
   ]
  },
  {
   "cell_type": "code",
   "execution_count": 588,
   "metadata": {
    "collapsed": false
   },
   "outputs": [],
   "source": [
    "\n",
    "daily_files = hlp.generate_daily_file_paths()\n",
    "\n",
    "last_date_in_db = int(hlp.latest_index_in_db('filings', hlp.db())[0])\n",
    "\n"
   ]
  },
  {
   "cell_type": "code",
   "execution_count": null,
   "metadata": {
    "collapsed": false
   },
   "outputs": [
    {
     "name": "stdout",
     "output_type": "stream",
     "text": [
      "Latest File in DB: 20161104\n",
      "edgar/daily-index/master.20161003.idx already loaded\n",
      "edgar/daily-index/master.20161004.idx already loaded\n",
      "edgar/daily-index/master.20161005.idx already loaded\n",
      "edgar/daily-index/master.20161006.idx already loaded\n",
      "edgar/daily-index/master.20161007.idx already loaded\n",
      "edgar/daily-index/master.20161011.idx already loaded\n",
      "edgar/daily-index/master.20161012.idx already loaded\n",
      "edgar/daily-index/master.20161013.idx already loaded\n",
      "edgar/daily-index/master.20161014.idx already loaded\n",
      "edgar/daily-index/master.20161017.idx already loaded\n",
      "edgar/daily-index/master.20161018.idx already loaded\n",
      "edgar/daily-index/master.20161019.idx already loaded\n",
      "edgar/daily-index/master.20161020.idx already loaded\n",
      "edgar/daily-index/master.20161021.idx already loaded\n",
      "edgar/daily-index/master.20161024.idx already loaded\n",
      "edgar/daily-index/master.20161025.idx already loaded\n",
      "edgar/daily-index/master.20161026.idx already loaded\n",
      "edgar/daily-index/master.20161027.idx already loaded\n",
      "edgar/daily-index/master.20161028.idx already loaded\n",
      "edgar/daily-index/master.20161031.idx already loaded\n",
      "edgar/daily-index/master.20161101.idx already loaded\n",
      "edgar/daily-index/master.20161102.idx already loaded\n",
      "edgar/daily-index/master.20161103.idx already loaded\n",
      "edgar/daily-index/master.20161104.idx already loaded\n",
      "Successful binary retrieveal on try # 1 for edgar/daily-index/master.20161107.idx\n",
      "INSERT 0 1\n",
      "Successful binary retrieveal on try # 1 for edgar/daily-index/master.20161108.idx\n",
      "INSERT 0 1\n"
     ]
    }
   ],
   "source": [
    "hlp.load_latest_files(daily_files, last_date=last_date_in_db)"
   ]
  },
  {
   "cell_type": "code",
   "execution_count": 595,
   "metadata": {
    "collapsed": false
   },
   "outputs": [],
   "source": [
    "last_date_in_db = 20161104"
   ]
  },
  {
   "cell_type": "code",
   "execution_count": null,
   "metadata": {
    "collapsed": false
   },
   "outputs": [],
   "source": []
  },
  {
   "cell_type": "code",
   "execution_count": null,
   "metadata": {
    "collapsed": true
   },
   "outputs": [],
   "source": []
  },
  {
   "cell_type": "code",
   "execution_count": null,
   "metadata": {
    "collapsed": true
   },
   "outputs": [],
   "source": []
  },
  {
   "cell_type": "code",
   "execution_count": null,
   "metadata": {
    "collapsed": true
   },
   "outputs": [],
   "source": []
  },
  {
   "cell_type": "code",
   "execution_count": null,
   "metadata": {
    "collapsed": true
   },
   "outputs": [],
   "source": []
  },
  {
   "cell_type": "code",
   "execution_count": null,
   "metadata": {
    "collapsed": true
   },
   "outputs": [],
   "source": []
  },
  {
   "cell_type": "code",
   "execution_count": null,
   "metadata": {
    "collapsed": true
   },
   "outputs": [],
   "source": []
  },
  {
   "cell_type": "code",
   "execution_count": null,
   "metadata": {
    "collapsed": true
   },
   "outputs": [],
   "source": []
  },
  {
   "cell_type": "code",
   "execution_count": null,
   "metadata": {
    "collapsed": true
   },
   "outputs": [],
   "source": []
  },
  {
   "cell_type": "code",
   "execution_count": null,
   "metadata": {
    "collapsed": true
   },
   "outputs": [],
   "source": []
  },
  {
   "cell_type": "code",
   "execution_count": null,
   "metadata": {
    "collapsed": true
   },
   "outputs": [],
   "source": []
  },
  {
   "cell_type": "code",
   "execution_count": null,
   "metadata": {
    "collapsed": true
   },
   "outputs": [],
   "source": []
  },
  {
   "cell_type": "code",
   "execution_count": null,
   "metadata": {
    "collapsed": true
   },
   "outputs": [],
   "source": []
  },
  {
   "cell_type": "code",
   "execution_count": null,
   "metadata": {
    "collapsed": true
   },
   "outputs": [],
   "source": []
  }
 ],
 "metadata": {
  "kernelspec": {
   "display_name": "Python 3",
   "language": "python",
   "name": "python3"
  },
  "language_info": {
   "codemirror_mode": {
    "name": "ipython",
    "version": 3
   },
   "file_extension": ".py",
   "mimetype": "text/x-python",
   "name": "python",
   "nbconvert_exporter": "python",
   "pygments_lexer": "ipython3",
   "version": "3.5.1"
  }
 },
 "nbformat": 4,
 "nbformat_minor": 1
}
