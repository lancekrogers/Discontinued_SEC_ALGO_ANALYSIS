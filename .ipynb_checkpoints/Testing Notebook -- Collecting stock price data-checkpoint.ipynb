{
 "cells": [
  {
   "cell_type": "markdown",
   "metadata": {},
   "source": [
    "S&P500 stock data:\n",
    "http://pages.swcp.com/stocks/\n",
    "\n",
    "\n",
    "n = pd.read_csv('http://chart.finance.yahoo.com/table.csv?s=ACIU&a=7&b=9&c=1996&d=10&e=19&f=2016&g=d&ignore=.csv')\n",
    "\n",
    "http://www.eoddata.com/download.aspx\n",
    "\n",
    "<p>SEC new https url format:</p>\n",
    "https://www.sec.gov/Archives/edgar/data/320193/0000000000-11-005950.txt"
   ]
  },
  {
   "cell_type": "code",
   "execution_count": 1,
   "metadata": {
    "collapsed": true
   },
   "outputs": [],
   "source": [
    "from sqlalchemy.orm import sessionmaker\n",
    "from sqlalchemy import Table\n",
    "from sqlalchemy import create_engine, inspect\n",
    "from sqlalchemy import MetaData\n",
    "from edgerdb import helper_functions as hlp\n",
    "import pandas as pd\n",
    "import numpy as np\n",
    "import matplotlib.pyplot as plt\n",
    "import os\n",
    "import requests\n",
    "from yahoo_finance import Share\n",
    "from pprint import pprint\n",
    "\n",
    "\n",
    "meta = MetaData()\n",
    "\n",
    "engine = create_engine('postgresql://analyst:@localhost:5432/edgar')\n",
    "\n",
    "messages = Table('filings', meta, autoload=True, autoload_with=engine)\n",
    "\n",
    "def sql_to_df(query, connection, *args, **kwargs):\n",
    "    df = pd.read_sql(query, connection, *args, **kwargs)\n",
    "    connection.close()\n",
    "    return df"
   ]
  },
  {
   "cell_type": "code",
   "execution_count": 2,
   "metadata": {
    "collapsed": true
   },
   "outputs": [],
   "source": [
    "%matplotlib inline"
   ]
  },
  {
   "cell_type": "markdown",
   "metadata": {},
   "source": [
    "<h2>Load table containing cik_symbol matches from database</h2>"
   ]
  },
  {
   "cell_type": "code",
   "execution_count": 3,
   "metadata": {
    "collapsed": false
   },
   "outputs": [],
   "source": [
    "cik_and_tickers = sql_to_df('select * from temp_cik_to_ticker;', engine.connect()).set_index(keys='index')"
   ]
  },
  {
   "cell_type": "code",
   "execution_count": 4,
   "metadata": {
    "collapsed": false
   },
   "outputs": [
    {
     "data": {
      "text/html": [
       "<div>\n",
       "<table border=\"1\" class=\"dataframe\">\n",
       "  <thead>\n",
       "    <tr style=\"text-align: right;\">\n",
       "      <th></th>\n",
       "      <th>cik</th>\n",
       "      <th>company_name</th>\n",
       "      <th>exchange</th>\n",
       "      <th>isactive</th>\n",
       "      <th>symbol</th>\n",
       "    </tr>\n",
       "    <tr>\n",
       "      <th>index</th>\n",
       "      <th></th>\n",
       "      <th></th>\n",
       "      <th></th>\n",
       "      <th></th>\n",
       "      <th></th>\n",
       "    </tr>\n",
       "  </thead>\n",
       "  <tbody>\n",
       "    <tr>\n",
       "      <th>0</th>\n",
       "      <td>1591890</td>\n",
       "      <td>1347 PROPERTY INSURANCE HOLDINGS, INC.</td>\n",
       "      <td>NASDAQ</td>\n",
       "      <td>1</td>\n",
       "      <td>PIH</td>\n",
       "    </tr>\n",
       "    <tr>\n",
       "      <th>1</th>\n",
       "      <td>1508475</td>\n",
       "      <td>21VIANET GROUP, INC.</td>\n",
       "      <td>NASDAQ</td>\n",
       "      <td>1</td>\n",
       "      <td>VNET</td>\n",
       "    </tr>\n",
       "    <tr>\n",
       "      <th>2</th>\n",
       "      <td>1459417</td>\n",
       "      <td>2U, INC.</td>\n",
       "      <td>NASDAQ</td>\n",
       "      <td>1</td>\n",
       "      <td>TWOU</td>\n",
       "    </tr>\n",
       "    <tr>\n",
       "      <th>3</th>\n",
       "      <td>1295484</td>\n",
       "      <td>51JOB, INC.</td>\n",
       "      <td>NASDAQ</td>\n",
       "      <td>1</td>\n",
       "      <td>JOBS</td>\n",
       "    </tr>\n",
       "    <tr>\n",
       "      <th>4</th>\n",
       "      <td>1295484</td>\n",
       "      <td>51JOB, INC.</td>\n",
       "      <td>NASDAQ</td>\n",
       "      <td>1</td>\n",
       "      <td>JOBS</td>\n",
       "    </tr>\n",
       "  </tbody>\n",
       "</table>\n",
       "</div>"
      ],
      "text/plain": [
       "           cik                            company_name exchange  isactive  \\\n",
       "index                                                                       \n",
       "0      1591890  1347 PROPERTY INSURANCE HOLDINGS, INC.   NASDAQ         1   \n",
       "1      1508475                    21VIANET GROUP, INC.   NASDAQ         1   \n",
       "2      1459417                                2U, INC.   NASDAQ         1   \n",
       "3      1295484                             51JOB, INC.   NASDAQ         1   \n",
       "4      1295484                             51JOB, INC.   NASDAQ         1   \n",
       "\n",
       "      symbol  \n",
       "index         \n",
       "0        PIH  \n",
       "1       VNET  \n",
       "2       TWOU  \n",
       "3       JOBS  \n",
       "4       JOBS  "
      ]
     },
     "execution_count": 4,
     "metadata": {},
     "output_type": "execute_result"
    }
   ],
   "source": [
    "cik_and_tickers.head()"
   ]
  },
  {
   "cell_type": "markdown",
   "metadata": {
    "collapsed": true
   },
   "source": [
    "<h2>The below cell is for storing functions</h2>"
   ]
  },
  {
   "cell_type": "code",
   "execution_count": 5,
   "metadata": {
    "collapsed": false
   },
   "outputs": [],
   "source": [
    "def in_both(first_li, second_li):\n",
    "    both = []\n",
    "    for x in second_li:\n",
    "        if x in first_li:\n",
    "            both.append(x)\n",
    "    return both\n",
    "\n",
    "\n",
    "def find_csv_files_in_dir(directory):\n",
    "    paths = []\n",
    "    for subdir, dirs, files in os.walk(directory):\n",
    "        for file in files:\n",
    "            filepath = subdir + os.sep + file\n",
    "            if filepath.endswith(\".csv\"):\n",
    "                paths.append(filepath)\n",
    "    return paths\n",
    "\n",
    "\n",
    "def concat_eod_data(list_of_paths):\n",
    "    '''\n",
    "        This functions takes as input a list of paths to csv files containg eod stock data and join the files\n",
    "        into a single dataframe.\n",
    "    '''\n",
    "    df = pd.DataFrame(columns=['Symbol', 'Open', 'High', 'Low', 'Close', 'Volume'])\n",
    "    for path in list_of_paths:\n",
    "        temp_df = pd.read_csv(path, index_col='Date',\n",
    "                             parse_dates=True)\n",
    "        df = pd.concat([df, temp_df])\n",
    "    return df\n",
    "\n",
    "\n",
    "def insert(df, entries):\n",
    "    \"\"\"\n",
    "        Takes a set of values and inserts them into a dataframe sequentially where the index is\n",
    "        sequential and continuous.\n",
    "    \"\"\"\n",
    "    try:\n",
    "        df.loc[max(df.index) + 1] = entries\n",
    "    except ValueError:\n",
    "        df.loc[0] = entries\n",
    "        \n",
    "        \n",
    "def create_spy_df(start_date, end_date, file=None):\n",
    "    if file == None:\n",
    "        spy = Share('SPY')\n",
    "        spy_5_year = spy.get_historical(start_date, end_date)        \n",
    "        spy_df = pd.DataFrame(columns=['Low', 'Date', 'Adj_Close', 'Volume', 'Close', 'Open', 'Symbol', 'High'])\n",
    "\n",
    "        for val in range(len(spy_5_year)):\n",
    "            values = []\n",
    "            for x in spy_5_year[val]:\n",
    "                values.append(spy_5_year[val][x])\n",
    "            insert(spy_df, values)\n",
    "\n",
    "        spy_df = spy_df.set_index(spy_df['Date'])\n",
    "        spy_df = spy_df[['Symbol', 'Open', 'High', 'Low', 'Adj_Close', 'Volume']]\n",
    "        spy_df = spy_df.rename(columns={'Adj_Close': 'Close'})\n",
    "        return spy_df\n",
    "    else:\n",
    "        df = pd.read_csv(file)"
   ]
  },
  {
   "cell_type": "markdown",
   "metadata": {},
   "source": [
    "<h2> Create spy_df from yahoo data </h2>"
   ]
  },
  {
   "cell_type": "code",
   "execution_count": 6,
   "metadata": {
    "collapsed": true
   },
   "outputs": [],
   "source": [
    "try:\n",
    "    spy_df = pd.read_csv('data/spy2011-2016.csv', index_col='Date', parse_dates=True)\n",
    "except:\n",
    "    spy_df = create_spy_df('2011-01-01', '2016-11-03')\n",
    "    spy_df.to_csv('data/spy2011-2016.csv')"
   ]
  },
  {
   "cell_type": "markdown",
   "metadata": {},
   "source": [
    "<h2>Create five_year_nasdaq_df from directory of csv's</h2>"
   ]
  },
  {
   "cell_type": "code",
   "execution_count": 7,
   "metadata": {
    "collapsed": false
   },
   "outputs": [],
   "source": [
    "five_year_nasdaq_files = find_csv_files_in_dir('data/5_YEAR_NASDAQ')\n",
    "five_year_nasdaq_df = concat_eod_data(five_year_nasdaq_files)\n",
    "#five_year_nasdaq_df['Date'] = five_year_nasdaq_df['Date'].apply(lambda x: x.replace(x[3:6], months[x[3:6]]))\n",
    "#five_year_nasdaq_df['Date'] = five_year_nasdaq_df['Date'].apply(lambda x: x.split('-')[2] + x.split('-')[1] + x.split('-')[0])\n"
   ]
  },
  {
   "cell_type": "markdown",
   "metadata": {},
   "source": [
    "<h2>Add SPY data to five_year_nasdaq_df as a baseline</h2>"
   ]
  },
  {
   "cell_type": "code",
   "execution_count": 8,
   "metadata": {
    "collapsed": false
   },
   "outputs": [
    {
     "data": {
      "text/html": [
       "<div>\n",
       "<table border=\"1\" class=\"dataframe\">\n",
       "  <thead>\n",
       "    <tr style=\"text-align: right;\">\n",
       "      <th></th>\n",
       "      <th>symbol</th>\n",
       "      <th>open</th>\n",
       "      <th>high</th>\n",
       "      <th>low</th>\n",
       "      <th>close</th>\n",
       "      <th>volume</th>\n",
       "    </tr>\n",
       "  </thead>\n",
       "  <tbody>\n",
       "    <tr>\n",
       "      <th>2016-11-03</th>\n",
       "      <td>SPY</td>\n",
       "      <td>209.990005</td>\n",
       "      <td>210.240005</td>\n",
       "      <td>208.460007</td>\n",
       "      <td>208.779999</td>\n",
       "      <td>88939300</td>\n",
       "    </tr>\n",
       "    <tr>\n",
       "      <th>2016-11-02</th>\n",
       "      <td>SPY</td>\n",
       "      <td>210.649994</td>\n",
       "      <td>211.100006</td>\n",
       "      <td>209.229996</td>\n",
       "      <td>209.740005</td>\n",
       "      <td>103330800</td>\n",
       "    </tr>\n",
       "    <tr>\n",
       "      <th>2016-11-01</th>\n",
       "      <td>SPY</td>\n",
       "      <td>212.929993</td>\n",
       "      <td>212.990005</td>\n",
       "      <td>209.600006</td>\n",
       "      <td>211.009995</td>\n",
       "      <td>122781800</td>\n",
       "    </tr>\n",
       "    <tr>\n",
       "      <th>2016-10-31</th>\n",
       "      <td>SPY</td>\n",
       "      <td>212.929993</td>\n",
       "      <td>213.190002</td>\n",
       "      <td>212.360001</td>\n",
       "      <td>212.550003</td>\n",
       "      <td>61272500</td>\n",
       "    </tr>\n",
       "    <tr>\n",
       "      <th>2016-10-28</th>\n",
       "      <td>SPY</td>\n",
       "      <td>213.139999</td>\n",
       "      <td>213.929993</td>\n",
       "      <td>211.710007</td>\n",
       "      <td>212.539993</td>\n",
       "      <td>140623200</td>\n",
       "    </tr>\n",
       "  </tbody>\n",
       "</table>\n",
       "</div>"
      ],
      "text/plain": [
       "           symbol        open        high         low       close     volume\n",
       "2016-11-03    SPY  209.990005  210.240005  208.460007  208.779999   88939300\n",
       "2016-11-02    SPY  210.649994  211.100006  209.229996  209.740005  103330800\n",
       "2016-11-01    SPY  212.929993  212.990005  209.600006  211.009995  122781800\n",
       "2016-10-31    SPY  212.929993  213.190002  212.360001  212.550003   61272500\n",
       "2016-10-28    SPY  213.139999  213.929993  211.710007  212.539993  140623200"
      ]
     },
     "execution_count": 8,
     "metadata": {},
     "output_type": "execute_result"
    }
   ],
   "source": [
    "five_year_nasdaq_df = pd.concat([five_year_nasdaq_df, spy_df])\n",
    "five_year_nasdaq_df.columns = map(str.lower, five_year_nasdaq_df.columns)\n",
    "five_year_nasdaq_df[five_year_nasdaq_df['symbol'] == 'SPY'].head()\n"
   ]
  },
  {
   "cell_type": "markdown",
   "metadata": {},
   "source": [
    "<h2>Look for tickers in both cik_symbol list and nasdaq_df</h2>\n",
    "\n",
    "<p>This will help to narrow down data to use when running analysis on the filings.</p>"
   ]
  },
  {
   "cell_type": "code",
   "execution_count": 10,
   "metadata": {
    "collapsed": false
   },
   "outputs": [],
   "source": [
    "tickers = cik_and_tickers['symbol'].tolist()\n",
    "tickers_in_df = five_year_nasdaq_df['symbol'].unique().tolist()\n",
    "tickers_in_both = in_both(tickers_in_df, tickers)\n",
    "tickers_cik_in_both = cik_and_tickers[cik_and_tickers['symbol'].isin(tickers_in_both)]"
   ]
  },
  {
   "cell_type": "markdown",
   "metadata": {},
   "source": [
    "<h2>Load filings table to a pandas dataframe</h2>"
   ]
  },
  {
   "cell_type": "code",
   "execution_count": 11,
   "metadata": {
    "collapsed": false
   },
   "outputs": [],
   "source": [
    "filings = sql_to_df('select * from filings where cik in {};'.format(tuple(tickers_cik_in_both['cik'])), engine.connect(), index_col='date')\n",
    "#filings.index = filings.index.map(lambda x: x[0:4] + '-' + x[4:6] + '-' + x[6:8])"
   ]
  },
  {
   "cell_type": "code",
   "execution_count": 12,
   "metadata": {
    "collapsed": false
   },
   "outputs": [
    {
     "data": {
      "text/plain": [
       "1307357"
      ]
     },
     "execution_count": 12,
     "metadata": {},
     "output_type": "execute_result"
    }
   ],
   "source": [
    "len(filings)"
   ]
  },
  {
   "cell_type": "markdown",
   "metadata": {},
   "source": [
    "<h2>Create dataframe of both companies in both sets of data</h2>\n",
    "\n",
    "<p>This will need to be corrected because the data is useless without a date.</p>"
   ]
  },
  {
   "cell_type": "code",
   "execution_count": 13,
   "metadata": {
    "collapsed": false
   },
   "outputs": [],
   "source": [
    "tickers_cik = pd.DataFrame(tickers_cik_in_both, columns=['cik', 'symbol'])\n",
    "symbol_to_filings = pd.merge(left=filings, right=tickers_cik[tickers_cik['cik'].isin(\n",
    "            tickers_cik['cik'].unique())], left_on='cik', right_on='cik')\n",
    "#symbol_to_filings = pd.DataFrame(symbol_to_filings, columns=['cik', 'symbol', 'company_name', 'type', 'date', 'path'])"
   ]
  },
  {
   "cell_type": "code",
   "execution_count": 14,
   "metadata": {
    "collapsed": false
   },
   "outputs": [
    {
     "data": {
      "text/html": [
       "<div>\n",
       "<table border=\"1\" class=\"dataframe\">\n",
       "  <thead>\n",
       "    <tr style=\"text-align: right;\">\n",
       "      <th></th>\n",
       "      <th>cik</th>\n",
       "      <th>company_name</th>\n",
       "      <th>type</th>\n",
       "      <th>path</th>\n",
       "      <th>symbol</th>\n",
       "    </tr>\n",
       "  </thead>\n",
       "  <tbody>\n",
       "    <tr>\n",
       "      <th>0</th>\n",
       "      <td>2034</td>\n",
       "      <td>ACETO CORP</td>\n",
       "      <td>10-K</td>\n",
       "      <td>edgar/data/2034/0000002034-95-000005.txt</td>\n",
       "      <td>ACET</td>\n",
       "    </tr>\n",
       "    <tr>\n",
       "      <th>1</th>\n",
       "      <td>2034</td>\n",
       "      <td>ACETO CORP</td>\n",
       "      <td>10-K</td>\n",
       "      <td>edgar/data/2034/0000002034-96-000004.txt</td>\n",
       "      <td>ACET</td>\n",
       "    </tr>\n",
       "    <tr>\n",
       "      <th>2</th>\n",
       "      <td>2034</td>\n",
       "      <td>ACETO CORP</td>\n",
       "      <td>10-K</td>\n",
       "      <td>edgar/data/2034/0000002034-97-000005.txt</td>\n",
       "      <td>ACET</td>\n",
       "    </tr>\n",
       "    <tr>\n",
       "      <th>3</th>\n",
       "      <td>2034</td>\n",
       "      <td>ACETO CORP</td>\n",
       "      <td>10-K</td>\n",
       "      <td>edgar/data/2034/0000002034-98-000003.txt</td>\n",
       "      <td>ACET</td>\n",
       "    </tr>\n",
       "    <tr>\n",
       "      <th>4</th>\n",
       "      <td>2034</td>\n",
       "      <td>ACETO CORP</td>\n",
       "      <td>10-K</td>\n",
       "      <td>edgar/data/2034/0000002034-99-000008.txt</td>\n",
       "      <td>ACET</td>\n",
       "    </tr>\n",
       "  </tbody>\n",
       "</table>\n",
       "</div>"
      ],
      "text/plain": [
       "    cik company_name  type                                      path symbol\n",
       "0  2034   ACETO CORP  10-K  edgar/data/2034/0000002034-95-000005.txt   ACET\n",
       "1  2034   ACETO CORP  10-K  edgar/data/2034/0000002034-96-000004.txt   ACET\n",
       "2  2034   ACETO CORP  10-K  edgar/data/2034/0000002034-97-000005.txt   ACET\n",
       "3  2034   ACETO CORP  10-K  edgar/data/2034/0000002034-98-000003.txt   ACET\n",
       "4  2034   ACETO CORP  10-K  edgar/data/2034/0000002034-99-000008.txt   ACET"
      ]
     },
     "execution_count": 14,
     "metadata": {},
     "output_type": "execute_result"
    }
   ],
   "source": [
    "symbol_to_filings.head()"
   ]
  },
  {
   "cell_type": "markdown",
   "metadata": {},
   "source": [
    "<h2>Example of date splicing</h2>"
   ]
  },
  {
   "cell_type": "code",
   "execution_count": 15,
   "metadata": {
    "collapsed": false
   },
   "outputs": [
    {
     "data": {
      "text/html": [
       "<div>\n",
       "<table border=\"1\" class=\"dataframe\">\n",
       "  <thead>\n",
       "    <tr style=\"text-align: right;\">\n",
       "      <th></th>\n",
       "      <th>cik</th>\n",
       "      <th>company_name</th>\n",
       "      <th>type</th>\n",
       "      <th>path</th>\n",
       "    </tr>\n",
       "  </thead>\n",
       "  <tbody>\n",
       "    <tr>\n",
       "      <th>1994-01-24</th>\n",
       "      <td>813828</td>\n",
       "      <td>VIACOM INC</td>\n",
       "      <td>SC 14D1/A</td>\n",
       "      <td>edgar/data/813828/0000950112-94-000152.txt</td>\n",
       "    </tr>\n",
       "    <tr>\n",
       "      <th>1994-01-24</th>\n",
       "      <td>813828</td>\n",
       "      <td>VIACOM INC</td>\n",
       "      <td>SC 14D1/A</td>\n",
       "      <td>edgar/data/813828/0000950112-94-000159.txt</td>\n",
       "    </tr>\n",
       "    <tr>\n",
       "      <th>1994-01-25</th>\n",
       "      <td>106040</td>\n",
       "      <td>WESTERN DIGITAL CORP</td>\n",
       "      <td>10-Q</td>\n",
       "      <td>edgar/data/106040/0000892569-94-000025.txt</td>\n",
       "    </tr>\n",
       "    <tr>\n",
       "      <th>1994-01-25</th>\n",
       "      <td>750577</td>\n",
       "      <td>HANCOCK HOLDING CO</td>\n",
       "      <td>PRE 14A</td>\n",
       "      <td>edgar/data/750577/0000950129-94-000042.txt</td>\n",
       "    </tr>\n",
       "    <tr>\n",
       "      <th>1994-01-25</th>\n",
       "      <td>813828</td>\n",
       "      <td>VIACOM INC</td>\n",
       "      <td>SC 14D1/A</td>\n",
       "      <td>edgar/data/813828/0000950112-94-000163.txt</td>\n",
       "    </tr>\n",
       "  </tbody>\n",
       "</table>\n",
       "</div>"
      ],
      "text/plain": [
       "               cik          company_name       type  \\\n",
       "1994-01-24  813828            VIACOM INC  SC 14D1/A   \n",
       "1994-01-24  813828            VIACOM INC  SC 14D1/A   \n",
       "1994-01-25  106040  WESTERN DIGITAL CORP       10-Q   \n",
       "1994-01-25  750577    HANCOCK HOLDING CO    PRE 14A   \n",
       "1994-01-25  813828            VIACOM INC  SC 14D1/A   \n",
       "\n",
       "                                                  path  \n",
       "1994-01-24  edgar/data/813828/0000950112-94-000152.txt  \n",
       "1994-01-24  edgar/data/813828/0000950112-94-000159.txt  \n",
       "1994-01-25  edgar/data/106040/0000892569-94-000025.txt  \n",
       "1994-01-25  edgar/data/750577/0000950129-94-000042.txt  \n",
       "1994-01-25  edgar/data/813828/0000950112-94-000163.txt  "
      ]
     },
     "execution_count": 15,
     "metadata": {},
     "output_type": "execute_result"
    }
   ],
   "source": [
    "dates = pd.date_range('1994-01-22', '1994-04-26')\n",
    "df = pd.DataFrame(index=dates)\n",
    "temp_df = pd.DataFrame(filings)\n",
    "df = df.join(temp_df)\n",
    "df = df.dropna()\n",
    "df.head()"
   ]
  },
  {
   "cell_type": "code",
   "execution_count": 147,
   "metadata": {
    "collapsed": false
   },
   "outputs": [
    {
     "data": {
      "text/html": [
       "<div>\n",
       "<table border=\"1\" class=\"dataframe\">\n",
       "  <thead>\n",
       "    <tr style=\"text-align: right;\">\n",
       "      <th></th>\n",
       "      <th>symbol</th>\n",
       "      <th>open</th>\n",
       "      <th>high</th>\n",
       "      <th>low</th>\n",
       "      <th>close</th>\n",
       "      <th>volume</th>\n",
       "    </tr>\n",
       "  </thead>\n",
       "  <tbody>\n",
       "    <tr>\n",
       "      <th>2011-01-03</th>\n",
       "      <td>AAPL</td>\n",
       "      <td>46.5200</td>\n",
       "      <td>47.1800</td>\n",
       "      <td>46.4057</td>\n",
       "      <td>47.0814</td>\n",
       "      <td>15897200</td>\n",
       "    </tr>\n",
       "    <tr>\n",
       "      <th>2011-01-04</th>\n",
       "      <td>AAPL</td>\n",
       "      <td>47.4914</td>\n",
       "      <td>47.5000</td>\n",
       "      <td>46.8786</td>\n",
       "      <td>47.3271</td>\n",
       "      <td>11048100</td>\n",
       "    </tr>\n",
       "    <tr>\n",
       "      <th>2011-01-05</th>\n",
       "      <td>AAPL</td>\n",
       "      <td>47.0786</td>\n",
       "      <td>47.7629</td>\n",
       "      <td>47.0714</td>\n",
       "      <td>47.7143</td>\n",
       "      <td>9125500</td>\n",
       "    </tr>\n",
       "    <tr>\n",
       "      <th>2011-01-06</th>\n",
       "      <td>AAPL</td>\n",
       "      <td>47.8157</td>\n",
       "      <td>47.8929</td>\n",
       "      <td>47.5571</td>\n",
       "      <td>47.6757</td>\n",
       "      <td>10729500</td>\n",
       "    </tr>\n",
       "    <tr>\n",
       "      <th>2011-01-07</th>\n",
       "      <td>AAPL</td>\n",
       "      <td>47.7129</td>\n",
       "      <td>48.0500</td>\n",
       "      <td>47.4143</td>\n",
       "      <td>48.0171</td>\n",
       "      <td>11140300</td>\n",
       "    </tr>\n",
       "  </tbody>\n",
       "</table>\n",
       "</div>"
      ],
      "text/plain": [
       "           symbol     open     high      low    close    volume\n",
       "2011-01-03   AAPL  46.5200  47.1800  46.4057  47.0814  15897200\n",
       "2011-01-04   AAPL  47.4914  47.5000  46.8786  47.3271  11048100\n",
       "2011-01-05   AAPL  47.0786  47.7629  47.0714  47.7143   9125500\n",
       "2011-01-06   AAPL  47.8157  47.8929  47.5571  47.6757  10729500\n",
       "2011-01-07   AAPL  47.7129  48.0500  47.4143  48.0171  11140300"
      ]
     },
     "execution_count": 147,
     "metadata": {},
     "output_type": "execute_result"
    }
   ],
   "source": [
    "five_year_nasdaq_df[five_year_nasdaq_df['symbol'] == 'AAPL'].head()"
   ]
  },
  {
   "cell_type": "markdown",
   "metadata": {},
   "source": [
    "<h2>Example analysis with AAPL</h2>"
   ]
  },
  {
   "cell_type": "code",
   "execution_count": 21,
   "metadata": {
    "collapsed": false
   },
   "outputs": [
    {
     "data": {
      "text/html": [
       "<div>\n",
       "<table border=\"1\" class=\"dataframe\">\n",
       "  <thead>\n",
       "    <tr style=\"text-align: right;\">\n",
       "      <th></th>\n",
       "      <th>close</th>\n",
       "    </tr>\n",
       "  </thead>\n",
       "  <tbody>\n",
       "    <tr>\n",
       "      <th>2011-01-03</th>\n",
       "      <td>47.0814</td>\n",
       "    </tr>\n",
       "    <tr>\n",
       "      <th>2011-01-04</th>\n",
       "      <td>47.3271</td>\n",
       "    </tr>\n",
       "    <tr>\n",
       "      <th>2011-01-05</th>\n",
       "      <td>47.7143</td>\n",
       "    </tr>\n",
       "    <tr>\n",
       "      <th>2011-01-06</th>\n",
       "      <td>47.6757</td>\n",
       "    </tr>\n",
       "    <tr>\n",
       "      <th>2011-01-07</th>\n",
       "      <td>48.0171</td>\n",
       "    </tr>\n",
       "  </tbody>\n",
       "</table>\n",
       "</div>"
      ],
      "text/plain": [
       "              close\n",
       "2011-01-03  47.0814\n",
       "2011-01-04  47.3271\n",
       "2011-01-05  47.7143\n",
       "2011-01-06  47.6757\n",
       "2011-01-07  48.0171"
      ]
     },
     "execution_count": 21,
     "metadata": {},
     "output_type": "execute_result"
    }
   ],
   "source": [
    "dates = pd.date_range('2011-01-02', '2011-01-26')\n",
    "aapl_stock_price = pd.DataFrame(index=dates)\n",
    "temp_df = pd.DataFrame(five_year_nasdaq_df[five_year_nasdaq_df['symbol'] ==\"AAPL\"], columns=['close'])\n",
    "aapl_stock_price = aapl_stock_price.join(temp_df)\n",
    "aapl_stock_price = aapl_stock_price.dropna()\n",
    "aapl_stock_price.head()"
   ]
  },
  {
   "cell_type": "code",
   "execution_count": 22,
   "metadata": {
    "collapsed": false
   },
   "outputs": [
    {
     "name": "stdout",
     "output_type": "stream",
     "text": [
      "          cik company_name exchange  isactive symbol\n",
      "index                                               \n",
      "6580   320193    APPLE INC   NASDAQ         1   AAPL\n"
     ]
    }
   ],
   "source": [
    "aapl_cik = cik_and_tickers[cik_and_tickers['symbol'] == 'AAPL']\n",
    "print(aapl_cik)"
   ]
  },
  {
   "cell_type": "code",
   "execution_count": 23,
   "metadata": {
    "collapsed": false
   },
   "outputs": [
    {
     "data": {
      "text/html": [
       "<div>\n",
       "<table border=\"1\" class=\"dataframe\">\n",
       "  <thead>\n",
       "    <tr style=\"text-align: right;\">\n",
       "      <th></th>\n",
       "      <th>cik</th>\n",
       "      <th>company_name</th>\n",
       "      <th>type</th>\n",
       "      <th>path</th>\n",
       "    </tr>\n",
       "  </thead>\n",
       "  <tbody>\n",
       "    <tr>\n",
       "      <th>2011-01-07</th>\n",
       "      <td>320193</td>\n",
       "      <td>APPLE INC</td>\n",
       "      <td>DEF 14A</td>\n",
       "      <td>edgar/data/320193/0001193125-11-003231.txt</td>\n",
       "    </tr>\n",
       "    <tr>\n",
       "      <th>2011-01-07</th>\n",
       "      <td>320193</td>\n",
       "      <td>APPLE INC</td>\n",
       "      <td>DEFA14A</td>\n",
       "      <td>edgar/data/320193/0001193125-11-003232.txt</td>\n",
       "    </tr>\n",
       "    <tr>\n",
       "      <th>2011-01-12</th>\n",
       "      <td>320193</td>\n",
       "      <td>APPLE INC</td>\n",
       "      <td>4</td>\n",
       "      <td>edgar/data/320193/0001181431-11-003352.txt</td>\n",
       "    </tr>\n",
       "    <tr>\n",
       "      <th>2011-01-18</th>\n",
       "      <td>320193</td>\n",
       "      <td>APPLE INC</td>\n",
       "      <td>8-K</td>\n",
       "      <td>edgar/data/320193/0001181431-11-003847.txt</td>\n",
       "    </tr>\n",
       "    <tr>\n",
       "      <th>2011-01-18</th>\n",
       "      <td>320193</td>\n",
       "      <td>APPLE INC</td>\n",
       "      <td>8-K</td>\n",
       "      <td>edgar/data/320193/0001193125-11-009392.txt</td>\n",
       "    </tr>\n",
       "  </tbody>\n",
       "</table>\n",
       "</div>"
      ],
      "text/plain": [
       "               cik company_name     type  \\\n",
       "2011-01-07  320193    APPLE INC  DEF 14A   \n",
       "2011-01-07  320193    APPLE INC  DEFA14A   \n",
       "2011-01-12  320193    APPLE INC        4   \n",
       "2011-01-18  320193    APPLE INC      8-K   \n",
       "2011-01-18  320193    APPLE INC      8-K   \n",
       "\n",
       "                                                  path  \n",
       "2011-01-07  edgar/data/320193/0001193125-11-003231.txt  \n",
       "2011-01-07  edgar/data/320193/0001193125-11-003232.txt  \n",
       "2011-01-12  edgar/data/320193/0001181431-11-003352.txt  \n",
       "2011-01-18  edgar/data/320193/0001181431-11-003847.txt  \n",
       "2011-01-18  edgar/data/320193/0001193125-11-009392.txt  "
      ]
     },
     "execution_count": 23,
     "metadata": {},
     "output_type": "execute_result"
    }
   ],
   "source": [
    "dates = pd.date_range('2011-01-02', '2016-11-03')\n",
    "aapl_filings = pd.DataFrame(index=dates)\n",
    "temp_df = pd.DataFrame(filings[filings['cik'] ==\"320193\"])\n",
    "aapl_filings = aapl_filings.join(temp_df)\n",
    "aapl_filings = aapl_filings.dropna()\n",
    "aapl_filings.head()"
   ]
  },
  {
   "cell_type": "code",
   "execution_count": 249,
   "metadata": {
    "collapsed": false
   },
   "outputs": [],
   "source": [
    "def compute_daily_returns(df):\n",
    "    \"\"\"Compute daily return values\"\"\"\n",
    "    daily_returns = df.copy()\n",
    "    daily_returns[1:] = (df[1:] / df[:-1].values) -1\n",
    "    daily_returns.ix[0, :] = 0\n",
    "    return daily_returns\n",
    "\n",
    "def three_day_close(stock_data, symbol):\n",
    "    copy = stock_data[stock_data['symbol'] == '{}'.format(symbol)].copy()\n",
    "    new_frame = pd.DataFrame(copy)\n",
    "    new_frame['close'] = copy['close'].values\n",
    "    new_frame['next day close'] = copy['close'].shift(-1)\n",
    "    new_frame['previous close'] = copy['close'].shift(1)\n",
    "    new_frame = new_frame[['open', \n",
    "                           'high', \n",
    "                           'low', \n",
    "                           'previous close', \n",
    "                           'close', \n",
    "                           'next day close', \n",
    "                           'volume']].dropna()\n",
    "    return new_frame\n",
    "\n",
    "def stock_data_filings(startdate, enddate, symbol, cik_symbol_match_df, stock_data_df, window=20):\n",
    "    \"\"\"\n",
    "    Returns two dataframes. The first contains the eod stock price and the other\n",
    "    the filings for the given date period.\n",
    "    \"\"\"\n",
    "    dates = pd.date_range(startdate, enddate)\n",
    "    try:\n",
    "        cik = cik_symbol_match_df[cik_symbol_match_df['symbol'] == symbol]['cik'].values[0]\n",
    "        stock_price = pd.DataFrame(index=dates)\n",
    "        temp_df = pd.DataFrame(three_day_close(stock_data_df, symbol), columns=['previous close', \n",
    "                                                                                 'close', \n",
    "                                                                                 'next day close', \n",
    "                                                                                 'volume'])\n",
    "        stock_price = stock_price.join(temp_df)\n",
    "        stock_price = stock_price.dropna()\n",
    "        this_filings = pd.DataFrame(index=dates)\n",
    "        temp_df2 = pd.DataFrame(filings[filings['cik'] == cik])\n",
    "        this_filings = this_filings.join(temp_df2)\n",
    "        this_filings = this_filings.dropna()\n",
    "        fil_price = this_filings.join(stock_price)\n",
    "        daily_return = compute_daily_returns(pd.DataFrame(stock_data_df[five_year_nasdaq_df['symbol'] == symbol]['close']))\n",
    "        daily_return = daily_return.rename(columns={'close': 'daily_return'})\n",
    "        fil_price = fil_price.join(daily_return)\n",
    "        fil_price['{} Day Average Daily Return'.format(window)] = pd.rolling_mean(fil_price['daily_return'], window=window)\n",
    "        fil_price['{} Day Average Close'.format(window)] = pd.rolling_mean(fil_price['close'], window=window)\n",
    "        fil_price['{} Day STD'.format(window)] = pd.rolling_std(fil_price['close'], window=window)\n",
    "        fil_price = fil_price.dropna()\n",
    "        return fil_price\n",
    "    except IndexError:\n",
    "        return 'Symbol not located in dataset.'\n",
    "    \n"
   ]
  },
  {
   "cell_type": "markdown",
   "metadata": {
    "collapsed": false
   },
   "source": [
    "<h2>The below dataframe will be used to determine which forms are most relevant.</h2>\n"
   ]
  },
  {
   "cell_type": "code",
   "execution_count": 247,
   "metadata": {
    "collapsed": false
   },
   "outputs": [],
   "source": [
    "aapl_data = stock_data_filings('2011-01-02', '2016-11-03', 'AAPL', cik_and_tickers, five_year_nasdaq_df)"
   ]
  },
  {
   "cell_type": "code",
   "execution_count": 248,
   "metadata": {
    "collapsed": false
   },
   "outputs": [
    {
     "data": {
      "text/html": [
       "<div>\n",
       "<table border=\"1\" class=\"dataframe\">\n",
       "  <thead>\n",
       "    <tr style=\"text-align: right;\">\n",
       "      <th></th>\n",
       "      <th>cik</th>\n",
       "      <th>company_name</th>\n",
       "      <th>type</th>\n",
       "      <th>path</th>\n",
       "      <th>previous close</th>\n",
       "      <th>close</th>\n",
       "      <th>next day close</th>\n",
       "      <th>volume</th>\n",
       "      <th>daily_return</th>\n",
       "      <th>20 Day Average Daily Return</th>\n",
       "      <th>20 Day Average Close</th>\n",
       "      <th>20 Day STD</th>\n",
       "    </tr>\n",
       "  </thead>\n",
       "  <tbody>\n",
       "    <tr>\n",
       "      <th>2011-02-04</th>\n",
       "      <td>320193</td>\n",
       "      <td>APPLE INC</td>\n",
       "      <td>4</td>\n",
       "      <td>edgar/data/320193/0001181431-11-007610.txt</td>\n",
       "      <td>49.0629</td>\n",
       "      <td>49.5000</td>\n",
       "      <td>50.2686</td>\n",
       "      <td>11494200</td>\n",
       "      <td>0.008909</td>\n",
       "      <td>-0.003488</td>\n",
       "      <td>48.868310</td>\n",
       "      <td>0.429552</td>\n",
       "    </tr>\n",
       "    <tr>\n",
       "      <th>2011-02-04</th>\n",
       "      <td>320193</td>\n",
       "      <td>APPLE INC</td>\n",
       "      <td>4</td>\n",
       "      <td>edgar/data/320193/0001181431-11-007612.txt</td>\n",
       "      <td>49.0629</td>\n",
       "      <td>49.5000</td>\n",
       "      <td>50.2686</td>\n",
       "      <td>11494200</td>\n",
       "      <td>0.008909</td>\n",
       "      <td>-0.003401</td>\n",
       "      <td>48.942455</td>\n",
       "      <td>0.401989</td>\n",
       "    </tr>\n",
       "    <tr>\n",
       "      <th>2011-02-07</th>\n",
       "      <td>320193</td>\n",
       "      <td>APPLE INC</td>\n",
       "      <td>4</td>\n",
       "      <td>edgar/data/320193/0001181431-11-007640.txt</td>\n",
       "      <td>49.5000</td>\n",
       "      <td>50.2686</td>\n",
       "      <td>50.7429</td>\n",
       "      <td>17322100</td>\n",
       "      <td>0.015527</td>\n",
       "      <td>-0.002983</td>\n",
       "      <td>49.055030</td>\n",
       "      <td>0.442435</td>\n",
       "    </tr>\n",
       "    <tr>\n",
       "      <th>2011-02-08</th>\n",
       "      <td>320193</td>\n",
       "      <td>APPLE INC</td>\n",
       "      <td>CORRESP</td>\n",
       "      <td>edgar/data/320193/0001193125-11-027619.txt</td>\n",
       "      <td>50.2686</td>\n",
       "      <td>50.7429</td>\n",
       "      <td>51.1657</td>\n",
       "      <td>13608500</td>\n",
       "      <td>0.009435</td>\n",
       "      <td>-0.002918</td>\n",
       "      <td>49.132030</td>\n",
       "      <td>0.581635</td>\n",
       "    </tr>\n",
       "    <tr>\n",
       "      <th>2011-02-09</th>\n",
       "      <td>320193</td>\n",
       "      <td>APPLE INC</td>\n",
       "      <td>4</td>\n",
       "      <td>edgar/data/320193/0001181431-11-008761.txt</td>\n",
       "      <td>50.7429</td>\n",
       "      <td>51.1657</td>\n",
       "      <td>50.6486</td>\n",
       "      <td>17240800</td>\n",
       "      <td>0.008332</td>\n",
       "      <td>-0.001378</td>\n",
       "      <td>49.257100</td>\n",
       "      <td>0.726632</td>\n",
       "    </tr>\n",
       "  </tbody>\n",
       "</table>\n",
       "</div>"
      ],
      "text/plain": [
       "               cik company_name     type  \\\n",
       "2011-02-04  320193    APPLE INC        4   \n",
       "2011-02-04  320193    APPLE INC        4   \n",
       "2011-02-07  320193    APPLE INC        4   \n",
       "2011-02-08  320193    APPLE INC  CORRESP   \n",
       "2011-02-09  320193    APPLE INC        4   \n",
       "\n",
       "                                                  path  previous close  \\\n",
       "2011-02-04  edgar/data/320193/0001181431-11-007610.txt         49.0629   \n",
       "2011-02-04  edgar/data/320193/0001181431-11-007612.txt         49.0629   \n",
       "2011-02-07  edgar/data/320193/0001181431-11-007640.txt         49.5000   \n",
       "2011-02-08  edgar/data/320193/0001193125-11-027619.txt         50.2686   \n",
       "2011-02-09  edgar/data/320193/0001181431-11-008761.txt         50.7429   \n",
       "\n",
       "              close  next day close    volume  daily_return  \\\n",
       "2011-02-04  49.5000         50.2686  11494200      0.008909   \n",
       "2011-02-04  49.5000         50.2686  11494200      0.008909   \n",
       "2011-02-07  50.2686         50.7429  17322100      0.015527   \n",
       "2011-02-08  50.7429         51.1657  13608500      0.009435   \n",
       "2011-02-09  51.1657         50.6486  17240800      0.008332   \n",
       "\n",
       "            20 Day Average Daily Return  20 Day Average Close  20 Day STD  \n",
       "2011-02-04                    -0.003488             48.868310    0.429552  \n",
       "2011-02-04                    -0.003401             48.942455    0.401989  \n",
       "2011-02-07                    -0.002983             49.055030    0.442435  \n",
       "2011-02-08                    -0.002918             49.132030    0.581635  \n",
       "2011-02-09                    -0.001378             49.257100    0.726632  "
      ]
     },
     "execution_count": 248,
     "metadata": {},
     "output_type": "execute_result"
    }
   ],
   "source": [
    "# Add previous close and next day close to the dataframe\n",
    "aapl_data.head()"
   ]
  },
  {
   "cell_type": "markdown",
   "metadata": {},
   "source": [
    "<h2>AAPL Rolling Mean</h2>"
   ]
  },
  {
   "cell_type": "code",
   "execution_count": 30,
   "metadata": {
    "collapsed": false
   },
   "outputs": [
    {
     "data": {
      "image/png": "[encoded data removed]",
      "text/plain": [
       "<matplotlib.figure.Figure at 0x1508c39b0>"
      ]
     },
     "metadata": {},
     "output_type": "display_data"
    }
   ],
   "source": [
    "def get_data(symbols, dates, eod_df):\n",
    "    \"\"\"Read stock data (adjusted close) for given symbols from CSV files.\"\"\"\n",
    "    df = pd.DataFrame(index=dates)\n",
    "    count = 0\n",
    "    for symbol in symbols:\n",
    "        # TODO: Read and join data for each symbol\n",
    "        temp_df = pd.DataFrame(eod_df[eod_df['symbol'] == symbol], columns=['close'])\n",
    "        temp_df = temp_df.rename(columns={'close': symbol})\n",
    "        df = df.join(temp_df)\n",
    "        df = df.dropna()\n",
    "    return df\n",
    "\n",
    "\n",
    "def plot_data(df, title='Stock Prices', ylabel=\"Price\", xlabel=\"Date\"):\n",
    "    \"\"\"Plot stock prices with a custom title and meaningful axis labels.\"\"\"\n",
    "    ax = df.plot(title=title, fontsize=12)\n",
    "    ax.set_xlabel(xlabel)\n",
    "    ax.set_ylabel(ylabel)\n",
    "    plt.show()\n",
    "    \n",
    "    \n",
    "def test_run():\n",
    "    # Read data\n",
    "    dates = pd.date_range('2011-01-01', '2016-12-31')\n",
    "    symbols = ['AAPL']\n",
    "    df = get_data(symbols, dates, five_year_nasdaq_df)\n",
    "    \n",
    "    # Plot SPY data, retain matplotlib axis object\n",
    "    ax = df['AAPL'].plot(title='2012 Apple rolling mean', label='AAPL')\n",
    "    \n",
    "    # Compute the rolling mean using a 20 day window\n",
    "    rm_AAPL = pd.rolling_mean(df['AAPL'], window=20)\n",
    "    \n",
    "    # Add rolling mean to same plot\n",
    "    rm_AAPL.plot(label='Rolling mean', ax=ax)\n",
    "    \n",
    "    # Add axis labels and legend\n",
    "    ax.set_xlabel('Date')\n",
    "    ax.set_ylabel('Price')\n",
    "    ax.legend(loc='upper left')\n",
    "    plt.show()\n",
    "    \n",
    "    \n",
    "    \n",
    "if __name__ == \"__main__\":\n",
    "    test_run()"
   ]
  },
  {
   "cell_type": "code",
   "execution_count": 31,
   "metadata": {
    "collapsed": false
   },
   "outputs": [
    {
     "data": {
      "text/html": [
       "<div>\n",
       "<table border=\"1\" class=\"dataframe\">\n",
       "  <thead>\n",
       "    <tr style=\"text-align: right;\">\n",
       "      <th></th>\n",
       "      <th>AAPL</th>\n",
       "      <th>ACET</th>\n",
       "    </tr>\n",
       "  </thead>\n",
       "  <tbody>\n",
       "    <tr>\n",
       "      <th>2011-01-24</th>\n",
       "      <td>48.2071</td>\n",
       "      <td>9.02</td>\n",
       "    </tr>\n",
       "    <tr>\n",
       "      <th>2011-01-25</th>\n",
       "      <td>48.7714</td>\n",
       "      <td>9.07</td>\n",
       "    </tr>\n",
       "    <tr>\n",
       "      <th>2011-01-26</th>\n",
       "      <td>49.1214</td>\n",
       "      <td>8.98</td>\n",
       "    </tr>\n",
       "    <tr>\n",
       "      <th>2011-01-27</th>\n",
       "      <td>49.0300</td>\n",
       "      <td>9.03</td>\n",
       "    </tr>\n",
       "    <tr>\n",
       "      <th>2011-01-28</th>\n",
       "      <td>48.0143</td>\n",
       "      <td>8.57</td>\n",
       "    </tr>\n",
       "  </tbody>\n",
       "</table>\n",
       "</div>"
      ],
      "text/plain": [
       "               AAPL  ACET\n",
       "2011-01-24  48.2071  9.02\n",
       "2011-01-25  48.7714  9.07\n",
       "2011-01-26  49.1214  8.98\n",
       "2011-01-27  49.0300  9.03\n",
       "2011-01-28  48.0143  8.57"
      ]
     },
     "execution_count": 31,
     "metadata": {},
     "output_type": "execute_result"
    }
   ],
   "source": [
    "dates = pd.date_range('2011-01-22', '2011-04-26')\n",
    "get_data(['AAPL', 'ACET'], dates, five_year_nasdaq_df).head()"
   ]
  },
  {
   "cell_type": "code",
   "execution_count": null,
   "metadata": {
    "collapsed": false
   },
   "outputs": [],
   "source": []
  },
  {
   "cell_type": "markdown",
   "metadata": {},
   "source": [
    "<h2>Goal:</h2>\n",
    "\n",
    "<p>\n",
    "The goal is to find out which forms affect stock price.  My idea is to to look at the price the day before and day of a form being filed.  To do this start with one stock, make it work then switch to many stocks.  To meausre the change in price to the the mean error (standard deviation).\n",
    "</p>"
   ]
  },
  {
   "cell_type": "code",
   "execution_count": 32,
   "metadata": {
    "collapsed": false
   },
   "outputs": [],
   "source": [
    "first_day = 70\n",
    "second_day = 56\n",
    "change = pow(second_day - first_day, 2)\n"
   ]
  },
  {
   "cell_type": "code",
   "execution_count": 35,
   "metadata": {
    "collapsed": false
   },
   "outputs": [],
   "source": [
    "mean = five_year_nasdaq_df[five_year_nasdaq_df['symbol'] =='AAME']['close'].mean()\n",
    "std = five_year_nasdaq_df[five_year_nasdaq_df['symbol'] =='AAME']['close'].std()"
   ]
  },
  {
   "cell_type": "code",
   "execution_count": 36,
   "metadata": {
    "collapsed": false
   },
   "outputs": [
    {
     "data": {
      "text/plain": [
       "2011-01-03    2.06\n",
       "2011-01-04    2.07\n",
       "2011-01-05    2.06\n",
       "2011-01-06    2.10\n",
       "2011-01-07    2.06\n",
       "2011-01-10    2.06\n",
       "2011-01-11    1.98\n",
       "2011-01-12    2.00\n",
       "2011-01-13    2.00\n",
       "2011-01-14    2.19\n",
       "Name: close, dtype: float64"
      ]
     },
     "execution_count": 36,
     "metadata": {},
     "output_type": "execute_result"
    }
   ],
   "source": [
    "five_year_nasdaq_df[five_year_nasdaq_df['symbol'] =='AAME']['close'][0:10]"
   ]
  },
  {
   "cell_type": "code",
   "execution_count": 250,
   "metadata": {
    "collapsed": false
   },
   "outputs": [
    {
     "data": {
      "text/html": [
       "<div>\n",
       "<table border=\"1\" class=\"dataframe\">\n",
       "  <thead>\n",
       "    <tr style=\"text-align: right;\">\n",
       "      <th></th>\n",
       "      <th>symbol</th>\n",
       "      <th>open</th>\n",
       "      <th>high</th>\n",
       "      <th>low</th>\n",
       "      <th>close</th>\n",
       "      <th>volume</th>\n",
       "    </tr>\n",
       "  </thead>\n",
       "  <tbody>\n",
       "    <tr>\n",
       "      <th>2011-01-03</th>\n",
       "      <td>AAME</td>\n",
       "      <td>2.060000</td>\n",
       "      <td>2.060000</td>\n",
       "      <td>2.060000</td>\n",
       "      <td>2.060000</td>\n",
       "      <td>1400</td>\n",
       "    </tr>\n",
       "    <tr>\n",
       "      <th>2011-01-03</th>\n",
       "      <td>AAON</td>\n",
       "      <td>8.462200</td>\n",
       "      <td>8.616300</td>\n",
       "      <td>8.450300</td>\n",
       "      <td>8.595500</td>\n",
       "      <td>103000</td>\n",
       "    </tr>\n",
       "    <tr>\n",
       "      <th>2011-01-03</th>\n",
       "      <td>AAPL</td>\n",
       "      <td>46.520000</td>\n",
       "      <td>47.180000</td>\n",
       "      <td>46.405700</td>\n",
       "      <td>47.081400</td>\n",
       "      <td>15897200</td>\n",
       "    </tr>\n",
       "    <tr>\n",
       "      <th>2011-01-03</th>\n",
       "      <td>AAWW</td>\n",
       "      <td>56.120000</td>\n",
       "      <td>57.090000</td>\n",
       "      <td>55.790000</td>\n",
       "      <td>55.860000</td>\n",
       "      <td>250400</td>\n",
       "    </tr>\n",
       "    <tr>\n",
       "      <th>2011-01-03</th>\n",
       "      <td>AAXJ</td>\n",
       "      <td>64.600000</td>\n",
       "      <td>64.820000</td>\n",
       "      <td>64.500000</td>\n",
       "      <td>64.580000</td>\n",
       "      <td>181600</td>\n",
       "    </tr>\n",
       "    <tr>\n",
       "      <th>2011-01-03</th>\n",
       "      <td>ABAX</td>\n",
       "      <td>27.020000</td>\n",
       "      <td>27.460000</td>\n",
       "      <td>26.900000</td>\n",
       "      <td>27.130000</td>\n",
       "      <td>87200</td>\n",
       "    </tr>\n",
       "    <tr>\n",
       "      <th>2011-01-03</th>\n",
       "      <td>ABCB</td>\n",
       "      <td>10.650000</td>\n",
       "      <td>11.060000</td>\n",
       "      <td>10.650000</td>\n",
       "      <td>10.850000</td>\n",
       "      <td>129100</td>\n",
       "    </tr>\n",
       "    <tr>\n",
       "      <th>2011-01-03</th>\n",
       "      <td>ABCD</td>\n",
       "      <td>3.380000</td>\n",
       "      <td>3.470000</td>\n",
       "      <td>3.380000</td>\n",
       "      <td>3.450000</td>\n",
       "      <td>15300</td>\n",
       "    </tr>\n",
       "    <tr>\n",
       "      <th>2011-01-03</th>\n",
       "      <td>ABCO</td>\n",
       "      <td>24.175000</td>\n",
       "      <td>24.220000</td>\n",
       "      <td>23.890000</td>\n",
       "      <td>23.945000</td>\n",
       "      <td>55300</td>\n",
       "    </tr>\n",
       "    <tr>\n",
       "      <th>2011-01-03</th>\n",
       "      <td>ABIO</td>\n",
       "      <td>133.560000</td>\n",
       "      <td>134.400000</td>\n",
       "      <td>131.040000</td>\n",
       "      <td>132.300000</td>\n",
       "      <td>35300</td>\n",
       "    </tr>\n",
       "    <tr>\n",
       "      <th>2011-01-03</th>\n",
       "      <td>ABMD</td>\n",
       "      <td>9.720000</td>\n",
       "      <td>9.870000</td>\n",
       "      <td>9.590000</td>\n",
       "      <td>9.800000</td>\n",
       "      <td>189600</td>\n",
       "    </tr>\n",
       "    <tr>\n",
       "      <th>2011-01-03</th>\n",
       "      <td>ABTL</td>\n",
       "      <td>4.300000</td>\n",
       "      <td>4.400000</td>\n",
       "      <td>4.100000</td>\n",
       "      <td>4.400000</td>\n",
       "      <td>247500</td>\n",
       "    </tr>\n",
       "    <tr>\n",
       "      <th>2011-01-03</th>\n",
       "      <td>ACAD</td>\n",
       "      <td>1.190000</td>\n",
       "      <td>1.270000</td>\n",
       "      <td>1.130000</td>\n",
       "      <td>1.220000</td>\n",
       "      <td>977300</td>\n",
       "    </tr>\n",
       "    <tr>\n",
       "      <th>2011-01-03</th>\n",
       "      <td>ACAS</td>\n",
       "      <td>7.670000</td>\n",
       "      <td>7.960000</td>\n",
       "      <td>7.650000</td>\n",
       "      <td>7.900000</td>\n",
       "      <td>3083300</td>\n",
       "    </tr>\n",
       "    <tr>\n",
       "      <th>2011-01-03</th>\n",
       "      <td>ACAT</td>\n",
       "      <td>14.790000</td>\n",
       "      <td>15.230000</td>\n",
       "      <td>14.670000</td>\n",
       "      <td>14.680000</td>\n",
       "      <td>139500</td>\n",
       "    </tr>\n",
       "    <tr>\n",
       "      <th>2011-01-03</th>\n",
       "      <td>ACET</td>\n",
       "      <td>9.130000</td>\n",
       "      <td>9.310000</td>\n",
       "      <td>9.040000</td>\n",
       "      <td>9.230000</td>\n",
       "      <td>202200</td>\n",
       "    </tr>\n",
       "    <tr>\n",
       "      <th>2011-01-03</th>\n",
       "      <td>ACFC</td>\n",
       "      <td>1.750000</td>\n",
       "      <td>1.850000</td>\n",
       "      <td>1.750000</td>\n",
       "      <td>1.850000</td>\n",
       "      <td>600</td>\n",
       "    </tr>\n",
       "    <tr>\n",
       "      <th>2011-01-03</th>\n",
       "      <td>ACGL</td>\n",
       "      <td>29.566700</td>\n",
       "      <td>29.566700</td>\n",
       "      <td>29.336700</td>\n",
       "      <td>29.496700</td>\n",
       "      <td>446200</td>\n",
       "    </tr>\n",
       "    <tr>\n",
       "      <th>2011-01-03</th>\n",
       "      <td>ACHN</td>\n",
       "      <td>4.160000</td>\n",
       "      <td>4.290000</td>\n",
       "      <td>4.020000</td>\n",
       "      <td>4.100000</td>\n",
       "      <td>278700</td>\n",
       "    </tr>\n",
       "    <tr>\n",
       "      <th>2011-01-03</th>\n",
       "      <td>ACIW</td>\n",
       "      <td>9.063300</td>\n",
       "      <td>9.283300</td>\n",
       "      <td>8.956700</td>\n",
       "      <td>9.150000</td>\n",
       "      <td>80500</td>\n",
       "    </tr>\n",
       "    <tr>\n",
       "      <th>2011-01-03</th>\n",
       "      <td>ACLS</td>\n",
       "      <td>14.200000</td>\n",
       "      <td>14.880000</td>\n",
       "      <td>14.040000</td>\n",
       "      <td>14.480000</td>\n",
       "      <td>1193900</td>\n",
       "    </tr>\n",
       "    <tr>\n",
       "      <th>2011-01-03</th>\n",
       "      <td>ACNB</td>\n",
       "      <td>15.500000</td>\n",
       "      <td>15.500000</td>\n",
       "      <td>15.200000</td>\n",
       "      <td>15.250000</td>\n",
       "      <td>8400</td>\n",
       "    </tr>\n",
       "    <tr>\n",
       "      <th>2011-01-03</th>\n",
       "      <td>ACOR</td>\n",
       "      <td>27.410000</td>\n",
       "      <td>27.540000</td>\n",
       "      <td>26.940000</td>\n",
       "      <td>27.000000</td>\n",
       "      <td>467000</td>\n",
       "    </tr>\n",
       "    <tr>\n",
       "      <th>2011-01-03</th>\n",
       "      <td>ACPW</td>\n",
       "      <td>12.650000</td>\n",
       "      <td>13.000000</td>\n",
       "      <td>12.350000</td>\n",
       "      <td>12.850000</td>\n",
       "      <td>740000</td>\n",
       "    </tr>\n",
       "    <tr>\n",
       "      <th>2011-01-03</th>\n",
       "      <td>ACTG</td>\n",
       "      <td>25.970000</td>\n",
       "      <td>26.400000</td>\n",
       "      <td>25.750000</td>\n",
       "      <td>25.770000</td>\n",
       "      <td>281000</td>\n",
       "    </tr>\n",
       "    <tr>\n",
       "      <th>2011-01-03</th>\n",
       "      <td>ACTS</td>\n",
       "      <td>2.150000</td>\n",
       "      <td>2.190000</td>\n",
       "      <td>2.140000</td>\n",
       "      <td>2.150000</td>\n",
       "      <td>170000</td>\n",
       "    </tr>\n",
       "    <tr>\n",
       "      <th>2011-01-03</th>\n",
       "      <td>ACUR</td>\n",
       "      <td>3.360000</td>\n",
       "      <td>3.570000</td>\n",
       "      <td>3.350000</td>\n",
       "      <td>3.460000</td>\n",
       "      <td>98300</td>\n",
       "    </tr>\n",
       "    <tr>\n",
       "      <th>2011-01-03</th>\n",
       "      <td>ACWI</td>\n",
       "      <td>47.160000</td>\n",
       "      <td>47.370000</td>\n",
       "      <td>47.140000</td>\n",
       "      <td>47.160000</td>\n",
       "      <td>521900</td>\n",
       "    </tr>\n",
       "    <tr>\n",
       "      <th>2011-01-03</th>\n",
       "      <td>ACWX</td>\n",
       "      <td>44.370000</td>\n",
       "      <td>44.530000</td>\n",
       "      <td>44.300000</td>\n",
       "      <td>44.410000</td>\n",
       "      <td>135800</td>\n",
       "    </tr>\n",
       "    <tr>\n",
       "      <th>2011-01-03</th>\n",
       "      <td>ACXM</td>\n",
       "      <td>17.360000</td>\n",
       "      <td>17.770000</td>\n",
       "      <td>17.360000</td>\n",
       "      <td>17.630000</td>\n",
       "      <td>330500</td>\n",
       "    </tr>\n",
       "    <tr>\n",
       "      <th>...</th>\n",
       "      <td>...</td>\n",
       "      <td>...</td>\n",
       "      <td>...</td>\n",
       "      <td>...</td>\n",
       "      <td>...</td>\n",
       "      <td>...</td>\n",
       "    </tr>\n",
       "    <tr>\n",
       "      <th>2011-02-14</th>\n",
       "      <td>SPY</td>\n",
       "      <td>133.029999</td>\n",
       "      <td>133.539993</td>\n",
       "      <td>132.880005</td>\n",
       "      <td>118.598387</td>\n",
       "      <td>101690700</td>\n",
       "    </tr>\n",
       "    <tr>\n",
       "      <th>2011-02-11</th>\n",
       "      <td>SPY</td>\n",
       "      <td>131.800003</td>\n",
       "      <td>133.279999</td>\n",
       "      <td>131.770004</td>\n",
       "      <td>118.313964</td>\n",
       "      <td>137710300</td>\n",
       "    </tr>\n",
       "    <tr>\n",
       "      <th>2011-02-10</th>\n",
       "      <td>SPY</td>\n",
       "      <td>131.600006</td>\n",
       "      <td>132.470001</td>\n",
       "      <td>131.300003</td>\n",
       "      <td>117.611783</td>\n",
       "      <td>162708500</td>\n",
       "    </tr>\n",
       "    <tr>\n",
       "      <th>2011-02-09</th>\n",
       "      <td>SPY</td>\n",
       "      <td>132.210007</td>\n",
       "      <td>132.630005</td>\n",
       "      <td>131.610001</td>\n",
       "      <td>117.567338</td>\n",
       "      <td>146436700</td>\n",
       "    </tr>\n",
       "    <tr>\n",
       "      <th>2011-02-08</th>\n",
       "      <td>SPY</td>\n",
       "      <td>132.089996</td>\n",
       "      <td>132.639999</td>\n",
       "      <td>131.729996</td>\n",
       "      <td>117.833994</td>\n",
       "      <td>99072800</td>\n",
       "    </tr>\n",
       "    <tr>\n",
       "      <th>2011-02-07</th>\n",
       "      <td>SPY</td>\n",
       "      <td>131.440002</td>\n",
       "      <td>132.399994</td>\n",
       "      <td>131.429993</td>\n",
       "      <td>117.300683</td>\n",
       "      <td>112439100</td>\n",
       "    </tr>\n",
       "    <tr>\n",
       "      <th>2011-02-04</th>\n",
       "      <td>SPY</td>\n",
       "      <td>130.830002</td>\n",
       "      <td>131.199997</td>\n",
       "      <td>130.229996</td>\n",
       "      <td>116.571824</td>\n",
       "      <td>134634800</td>\n",
       "    </tr>\n",
       "    <tr>\n",
       "      <th>2011-02-03</th>\n",
       "      <td>SPY</td>\n",
       "      <td>130.259995</td>\n",
       "      <td>130.979996</td>\n",
       "      <td>129.570007</td>\n",
       "      <td>116.242957</td>\n",
       "      <td>145886700</td>\n",
       "    </tr>\n",
       "    <tr>\n",
       "      <th>2011-02-02</th>\n",
       "      <td>SPY</td>\n",
       "      <td>130.399994</td>\n",
       "      <td>130.839996</td>\n",
       "      <td>130.330002</td>\n",
       "      <td>115.985198</td>\n",
       "      <td>118323600</td>\n",
       "    </tr>\n",
       "    <tr>\n",
       "      <th>2011-02-01</th>\n",
       "      <td>SPY</td>\n",
       "      <td>129.460007</td>\n",
       "      <td>130.970001</td>\n",
       "      <td>129.380005</td>\n",
       "      <td>116.207409</td>\n",
       "      <td>167194300</td>\n",
       "    </tr>\n",
       "    <tr>\n",
       "      <th>2011-01-31</th>\n",
       "      <td>SPY</td>\n",
       "      <td>128.070007</td>\n",
       "      <td>128.779999</td>\n",
       "      <td>127.750000</td>\n",
       "      <td>114.376380</td>\n",
       "      <td>149249200</td>\n",
       "    </tr>\n",
       "    <tr>\n",
       "      <th>2011-01-28</th>\n",
       "      <td>SPY</td>\n",
       "      <td>130.139999</td>\n",
       "      <td>130.350006</td>\n",
       "      <td>127.510002</td>\n",
       "      <td>113.523098</td>\n",
       "      <td>295637300</td>\n",
       "    </tr>\n",
       "    <tr>\n",
       "      <th>2011-01-27</th>\n",
       "      <td>SPY</td>\n",
       "      <td>129.699997</td>\n",
       "      <td>130.210007</td>\n",
       "      <td>129.470001</td>\n",
       "      <td>115.540776</td>\n",
       "      <td>123302700</td>\n",
       "    </tr>\n",
       "    <tr>\n",
       "      <th>2011-01-26</th>\n",
       "      <td>SPY</td>\n",
       "      <td>129.490005</td>\n",
       "      <td>130.050003</td>\n",
       "      <td>129.229996</td>\n",
       "      <td>115.256340</td>\n",
       "      <td>141281500</td>\n",
       "    </tr>\n",
       "    <tr>\n",
       "      <th>2011-01-25</th>\n",
       "      <td>SPY</td>\n",
       "      <td>128.759995</td>\n",
       "      <td>129.279999</td>\n",
       "      <td>128.110001</td>\n",
       "      <td>114.811918</td>\n",
       "      <td>167552200</td>\n",
       "    </tr>\n",
       "    <tr>\n",
       "      <th>2011-01-24</th>\n",
       "      <td>SPY</td>\n",
       "      <td>128.289993</td>\n",
       "      <td>129.250000</td>\n",
       "      <td>128.259995</td>\n",
       "      <td>114.749706</td>\n",
       "      <td>113715500</td>\n",
       "    </tr>\n",
       "    <tr>\n",
       "      <th>2011-01-21</th>\n",
       "      <td>SPY</td>\n",
       "      <td>128.880005</td>\n",
       "      <td>129.169998</td>\n",
       "      <td>128.229996</td>\n",
       "      <td>114.100840</td>\n",
       "      <td>151462900</td>\n",
       "    </tr>\n",
       "    <tr>\n",
       "      <th>2011-01-20</th>\n",
       "      <td>SPY</td>\n",
       "      <td>127.959999</td>\n",
       "      <td>128.399994</td>\n",
       "      <td>127.129997</td>\n",
       "      <td>113.843082</td>\n",
       "      <td>175745700</td>\n",
       "    </tr>\n",
       "    <tr>\n",
       "      <th>2011-01-19</th>\n",
       "      <td>SPY</td>\n",
       "      <td>129.410004</td>\n",
       "      <td>129.539993</td>\n",
       "      <td>127.910004</td>\n",
       "      <td>113.994184</td>\n",
       "      <td>151958400</td>\n",
       "    </tr>\n",
       "    <tr>\n",
       "      <th>2011-01-18</th>\n",
       "      <td>SPY</td>\n",
       "      <td>129.179993</td>\n",
       "      <td>129.639999</td>\n",
       "      <td>129.029999</td>\n",
       "      <td>115.123019</td>\n",
       "      <td>114401300</td>\n",
       "    </tr>\n",
       "    <tr>\n",
       "      <th>2011-01-14</th>\n",
       "      <td>SPY</td>\n",
       "      <td>128.190002</td>\n",
       "      <td>129.330002</td>\n",
       "      <td>128.100006</td>\n",
       "      <td>114.927472</td>\n",
       "      <td>117677900</td>\n",
       "    </tr>\n",
       "    <tr>\n",
       "      <th>2011-01-13</th>\n",
       "      <td>SPY</td>\n",
       "      <td>128.630005</td>\n",
       "      <td>128.690002</td>\n",
       "      <td>128.050003</td>\n",
       "      <td>114.100840</td>\n",
       "      <td>129048400</td>\n",
       "    </tr>\n",
       "    <tr>\n",
       "      <th>2011-01-12</th>\n",
       "      <td>SPY</td>\n",
       "      <td>128.210007</td>\n",
       "      <td>128.720001</td>\n",
       "      <td>127.459999</td>\n",
       "      <td>114.287504</td>\n",
       "      <td>107929200</td>\n",
       "    </tr>\n",
       "    <tr>\n",
       "      <th>2011-01-11</th>\n",
       "      <td>SPY</td>\n",
       "      <td>127.440002</td>\n",
       "      <td>127.739998</td>\n",
       "      <td>126.949997</td>\n",
       "      <td>113.265332</td>\n",
       "      <td>110287000</td>\n",
       "    </tr>\n",
       "    <tr>\n",
       "      <th>2011-01-10</th>\n",
       "      <td>SPY</td>\n",
       "      <td>126.580002</td>\n",
       "      <td>127.160004</td>\n",
       "      <td>126.199997</td>\n",
       "      <td>112.865355</td>\n",
       "      <td>122401700</td>\n",
       "    </tr>\n",
       "    <tr>\n",
       "      <th>2011-01-07</th>\n",
       "      <td>SPY</td>\n",
       "      <td>127.559998</td>\n",
       "      <td>127.769997</td>\n",
       "      <td>126.150002</td>\n",
       "      <td>113.007567</td>\n",
       "      <td>156034600</td>\n",
       "    </tr>\n",
       "    <tr>\n",
       "      <th>2011-01-06</th>\n",
       "      <td>SPY</td>\n",
       "      <td>127.690002</td>\n",
       "      <td>127.830002</td>\n",
       "      <td>127.010002</td>\n",
       "      <td>113.229778</td>\n",
       "      <td>122519000</td>\n",
       "    </tr>\n",
       "    <tr>\n",
       "      <th>2011-01-05</th>\n",
       "      <td>SPY</td>\n",
       "      <td>126.580002</td>\n",
       "      <td>127.720001</td>\n",
       "      <td>126.459999</td>\n",
       "      <td>113.451988</td>\n",
       "      <td>133975300</td>\n",
       "    </tr>\n",
       "    <tr>\n",
       "      <th>2011-01-04</th>\n",
       "      <td>SPY</td>\n",
       "      <td>127.330002</td>\n",
       "      <td>127.370003</td>\n",
       "      <td>126.190002</td>\n",
       "      <td>112.865355</td>\n",
       "      <td>137409700</td>\n",
       "    </tr>\n",
       "    <tr>\n",
       "      <th>2011-01-03</th>\n",
       "      <td>SPY</td>\n",
       "      <td>126.709999</td>\n",
       "      <td>127.599998</td>\n",
       "      <td>125.699997</td>\n",
       "      <td>112.927574</td>\n",
       "      <td>138725200</td>\n",
       "    </tr>\n",
       "  </tbody>\n",
       "</table>\n",
       "<p>3341359 rows × 6 columns</p>\n",
       "</div>"
      ],
      "text/plain": [
       "           symbol        open        high         low       close     volume\n",
       "2011-01-03   AAME    2.060000    2.060000    2.060000    2.060000       1400\n",
       "2011-01-03   AAON    8.462200    8.616300    8.450300    8.595500     103000\n",
       "2011-01-03   AAPL   46.520000   47.180000   46.405700   47.081400   15897200\n",
       "2011-01-03   AAWW   56.120000   57.090000   55.790000   55.860000     250400\n",
       "2011-01-03   AAXJ   64.600000   64.820000   64.500000   64.580000     181600\n",
       "2011-01-03   ABAX   27.020000   27.460000   26.900000   27.130000      87200\n",
       "2011-01-03   ABCB   10.650000   11.060000   10.650000   10.850000     129100\n",
       "2011-01-03   ABCD    3.380000    3.470000    3.380000    3.450000      15300\n",
       "2011-01-03   ABCO   24.175000   24.220000   23.890000   23.945000      55300\n",
       "2011-01-03   ABIO  133.560000  134.400000  131.040000  132.300000      35300\n",
       "2011-01-03   ABMD    9.720000    9.870000    9.590000    9.800000     189600\n",
       "2011-01-03   ABTL    4.300000    4.400000    4.100000    4.400000     247500\n",
       "2011-01-03   ACAD    1.190000    1.270000    1.130000    1.220000     977300\n",
       "2011-01-03   ACAS    7.670000    7.960000    7.650000    7.900000    3083300\n",
       "2011-01-03   ACAT   14.790000   15.230000   14.670000   14.680000     139500\n",
       "2011-01-03   ACET    9.130000    9.310000    9.040000    9.230000     202200\n",
       "2011-01-03   ACFC    1.750000    1.850000    1.750000    1.850000        600\n",
       "2011-01-03   ACGL   29.566700   29.566700   29.336700   29.496700     446200\n",
       "2011-01-03   ACHN    4.160000    4.290000    4.020000    4.100000     278700\n",
       "2011-01-03   ACIW    9.063300    9.283300    8.956700    9.150000      80500\n",
       "2011-01-03   ACLS   14.200000   14.880000   14.040000   14.480000    1193900\n",
       "2011-01-03   ACNB   15.500000   15.500000   15.200000   15.250000       8400\n",
       "2011-01-03   ACOR   27.410000   27.540000   26.940000   27.000000     467000\n",
       "2011-01-03   ACPW   12.650000   13.000000   12.350000   12.850000     740000\n",
       "2011-01-03   ACTG   25.970000   26.400000   25.750000   25.770000     281000\n",
       "2011-01-03   ACTS    2.150000    2.190000    2.140000    2.150000     170000\n",
       "2011-01-03   ACUR    3.360000    3.570000    3.350000    3.460000      98300\n",
       "2011-01-03   ACWI   47.160000   47.370000   47.140000   47.160000     521900\n",
       "2011-01-03   ACWX   44.370000   44.530000   44.300000   44.410000     135800\n",
       "2011-01-03   ACXM   17.360000   17.770000   17.360000   17.630000     330500\n",
       "...           ...         ...         ...         ...         ...        ...\n",
       "2011-02-14    SPY  133.029999  133.539993  132.880005  118.598387  101690700\n",
       "2011-02-11    SPY  131.800003  133.279999  131.770004  118.313964  137710300\n",
       "2011-02-10    SPY  131.600006  132.470001  131.300003  117.611783  162708500\n",
       "2011-02-09    SPY  132.210007  132.630005  131.610001  117.567338  146436700\n",
       "2011-02-08    SPY  132.089996  132.639999  131.729996  117.833994   99072800\n",
       "2011-02-07    SPY  131.440002  132.399994  131.429993  117.300683  112439100\n",
       "2011-02-04    SPY  130.830002  131.199997  130.229996  116.571824  134634800\n",
       "2011-02-03    SPY  130.259995  130.979996  129.570007  116.242957  145886700\n",
       "2011-02-02    SPY  130.399994  130.839996  130.330002  115.985198  118323600\n",
       "2011-02-01    SPY  129.460007  130.970001  129.380005  116.207409  167194300\n",
       "2011-01-31    SPY  128.070007  128.779999  127.750000  114.376380  149249200\n",
       "2011-01-28    SPY  130.139999  130.350006  127.510002  113.523098  295637300\n",
       "2011-01-27    SPY  129.699997  130.210007  129.470001  115.540776  123302700\n",
       "2011-01-26    SPY  129.490005  130.050003  129.229996  115.256340  141281500\n",
       "2011-01-25    SPY  128.759995  129.279999  128.110001  114.811918  167552200\n",
       "2011-01-24    SPY  128.289993  129.250000  128.259995  114.749706  113715500\n",
       "2011-01-21    SPY  128.880005  129.169998  128.229996  114.100840  151462900\n",
       "2011-01-20    SPY  127.959999  128.399994  127.129997  113.843082  175745700\n",
       "2011-01-19    SPY  129.410004  129.539993  127.910004  113.994184  151958400\n",
       "2011-01-18    SPY  129.179993  129.639999  129.029999  115.123019  114401300\n",
       "2011-01-14    SPY  128.190002  129.330002  128.100006  114.927472  117677900\n",
       "2011-01-13    SPY  128.630005  128.690002  128.050003  114.100840  129048400\n",
       "2011-01-12    SPY  128.210007  128.720001  127.459999  114.287504  107929200\n",
       "2011-01-11    SPY  127.440002  127.739998  126.949997  113.265332  110287000\n",
       "2011-01-10    SPY  126.580002  127.160004  126.199997  112.865355  122401700\n",
       "2011-01-07    SPY  127.559998  127.769997  126.150002  113.007567  156034600\n",
       "2011-01-06    SPY  127.690002  127.830002  127.010002  113.229778  122519000\n",
       "2011-01-05    SPY  126.580002  127.720001  126.459999  113.451988  133975300\n",
       "2011-01-04    SPY  127.330002  127.370003  126.190002  112.865355  137409700\n",
       "2011-01-03    SPY  126.709999  127.599998  125.699997  112.927574  138725200\n",
       "\n",
       "[3341359 rows x 6 columns]"
      ]
     },
     "execution_count": 250,
     "metadata": {},
     "output_type": "execute_result"
    }
   ],
   "source": [
    "five_year_nasdaq_df"
   ]
  },
  {
   "cell_type": "code",
   "execution_count": null,
   "metadata": {
    "collapsed": false
   },
   "outputs": [],
   "source": []
  },
  {
   "cell_type": "code",
   "execution_count": null,
   "metadata": {
    "collapsed": false
   },
   "outputs": [],
   "source": []
  },
  {
   "cell_type": "code",
   "execution_count": null,
   "metadata": {
    "collapsed": false
   },
   "outputs": [],
   "source": []
  },
  {
   "cell_type": "code",
   "execution_count": null,
   "metadata": {
    "collapsed": false
   },
   "outputs": [],
   "source": []
  },
  {
   "cell_type": "code",
   "execution_count": null,
   "metadata": {
    "collapsed": false
   },
   "outputs": [],
   "source": []
  },
  {
   "cell_type": "code",
   "execution_count": null,
   "metadata": {
    "collapsed": false
   },
   "outputs": [],
   "source": []
  },
  {
   "cell_type": "code",
   "execution_count": null,
   "metadata": {
    "collapsed": false
   },
   "outputs": [],
   "source": []
  },
  {
   "cell_type": "code",
   "execution_count": null,
   "metadata": {
    "collapsed": false
   },
   "outputs": [],
   "source": []
  },
  {
   "cell_type": "code",
   "execution_count": null,
   "metadata": {
    "collapsed": true
   },
   "outputs": [],
   "source": []
  },
  {
   "cell_type": "code",
   "execution_count": null,
   "metadata": {
    "collapsed": true
   },
   "outputs": [],
   "source": []
  },
  {
   "cell_type": "code",
   "execution_count": null,
   "metadata": {
    "collapsed": true
   },
   "outputs": [],
   "source": []
  },
  {
   "cell_type": "code",
   "execution_count": null,
   "metadata": {
    "collapsed": true
   },
   "outputs": [],
   "source": []
  },
  {
   "cell_type": "code",
   "execution_count": null,
   "metadata": {
    "collapsed": true
   },
   "outputs": [],
   "source": []
  },
  {
   "cell_type": "code",
   "execution_count": null,
   "metadata": {
    "collapsed": true
   },
   "outputs": [],
   "source": []
  },
  {
   "cell_type": "code",
   "execution_count": null,
   "metadata": {
    "collapsed": true
   },
   "outputs": [],
   "source": []
  },
  {
   "cell_type": "code",
   "execution_count": null,
   "metadata": {
    "collapsed": true
   },
   "outputs": [],
   "source": []
  },
  {
   "cell_type": "code",
   "execution_count": null,
   "metadata": {
    "collapsed": true
   },
   "outputs": [],
   "source": []
  },
  {
   "cell_type": "code",
   "execution_count": null,
   "metadata": {
    "collapsed": false
   },
   "outputs": [],
   "source": [
    "\n"
   ]
  },
  {
   "cell_type": "code",
   "execution_count": null,
   "metadata": {
    "collapsed": true
   },
   "outputs": [],
   "source": []
  },
  {
   "cell_type": "code",
   "execution_count": null,
   "metadata": {
    "collapsed": true
   },
   "outputs": [],
   "source": []
  },
  {
   "cell_type": "code",
   "execution_count": null,
   "metadata": {
    "collapsed": true
   },
   "outputs": [],
   "source": []
  },
  {
   "cell_type": "code",
   "execution_count": null,
   "metadata": {
    "collapsed": true
   },
   "outputs": [],
   "source": []
  },
  {
   "cell_type": "code",
   "execution_count": null,
   "metadata": {
    "collapsed": true
   },
   "outputs": [],
   "source": []
  },
  {
   "cell_type": "code",
   "execution_count": null,
   "metadata": {
    "collapsed": true
   },
   "outputs": [],
   "source": []
  }
 ],
 "metadata": {
  "kernelspec": {
   "display_name": "Python 3",
   "language": "python",
   "name": "python3"
  },
  "language_info": {
   "codemirror_mode": {
    "name": "ipython",
    "version": 3
   },
   "file_extension": ".py",
   "mimetype": "text/x-python",
   "name": "python",
   "nbconvert_exporter": "python",
   "pygments_lexer": "ipython3",
   "version": "3.5.1"
  }
 },
 "nbformat": 4,
 "nbformat_minor": 1
}
