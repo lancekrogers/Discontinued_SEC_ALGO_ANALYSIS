{
 "cells": [
  {
   "cell_type": "code",
   "execution_count": 3,
   "metadata": {
    "collapsed": true
   },
   "outputs": [],
   "source": [
    "from sqlalchemy.orm import sessionmaker\n",
    "from sqlalchemy import Table\n",
    "from sqlalchemy import create_engine, inspect\n",
    "from sqlalchemy import MetaData\n",
    "from edgerdb import helper_functions as hlp\n",
    "import pandas as pd\n",
    "import numpy as np\n",
    "from fuzzywuzzy import fuzz, process\n",
    "import re\n",
    "from requests import get"
   ]
  },
  {
   "cell_type": "code",
   "execution_count": 2,
   "metadata": {
    "collapsed": true
   },
   "outputs": [],
   "source": [
    "meta = MetaData()\n",
    "\n",
    "engine = create_engine('postgresql://analyst:@localhost:5432/edgar')\n",
    "\n",
    "messages = Table('filings', meta, autoload=True, autoload_with=engine)\n",
    "\n",
    "def sql_to_df(query, connection):\n",
    "    df = pd.read_sql(query, connection)\n",
    "    connection.close()\n",
    "    return df\n"
   ]
  },
  {
   "cell_type": "code",
   "execution_count": null,
   "metadata": {
    "collapsed": true
   },
   "outputs": [],
   "source": [
    "def create_csi_data_table(engine):\n",
    "    '''\n",
    "    Creates a table with the data from csidata.com\n",
    "    '''\n",
    "    conn = engine.connect()\n",
    "    csi_stock_data = pd.read_csv('http://www.csidata.com/factsheets.php?type=stock&format=csv')\n",
    "    csi_stock_data.columns = map(str.lower, csi_stock_data.columns)\n",
    "    csi_stock_data = csi_stock_data.rename(columns={'name': 'company_name'})\n",
    "    csi_stock_data['company_name'] = csi_stock_data['company_name'].str.upper()\n",
    "    csi_stock_data['company_name'] = csi_stock_data['company_name'].str.strip()\n",
    "    csi_stock_data = csi_stock_data.fillna(value=\"NONE\")\n",
    "    csi_stock_data.to_sql('csi_stock_data', engine)\n",
    "    conn.close()\n",
    "    \n",
    "def create_table_with_cik_and_csi_data():\n",
    "    '''\n",
    "        Creates a table called cik_to_csi by joining filings and csi_stock_data tables on company_name\n",
    "    '''\n",
    "    join_ticker_to_cik = \"\"\"select * into temp_cik_to_csi from (select fil.cik, fil.company_name,\n",
    "                            csi.symbol, csi.exchange,\n",
    "                            csi.isactive, csi.startdate, csi.enddate\n",
    "                            from filings fil\n",
    "                            join csi_stock_data csi on fil.company_name = csi.company_name) as foo;\"\"\"\n",
    "    clean_ticker_to_cik_table = \"\"\"select * into cik_to_csi\n",
    "    from (select distinct cik, c.company_name, c.symbol, c.exchange, c.isactive, c.startdate, c.enddate  from temp_cik_to_csi c) as foo;\"\"\"\n",
    "    hlp.clear_sessions('edgar', hlp.db())\n",
    "    hlp.statement(join_ticker_to_cik, hlp.db(), output=False, commit=True)\n",
    "    hlp.statement(clean_ticker_to_cik_table, hlp.db(), output=False, commit=True)\n",
    "    hlp.statement(\"drop table temp_cik_to_csi;\", hlp.db(), output=False, commit=True)\n",
    "    \n"
   ]
  },
  {
   "cell_type": "code",
   "execution_count": 1,
   "metadata": {
    "collapsed": false
   },
   "outputs": [],
   "source": [
    "def tickers_to_cik(list_of_tickers):\n",
    "    URL = 'http://www.sec.gov/cgi-bin/browse-edgar?CIK={}&Find=Search&owner=exclude&action=getcompany'\n",
    "    CIK_RE = re.compile('.*CIK=(\\d{10}).*')\n",
    "\n",
    "    cik_dict = {}\n",
    "    for ticker in list_of_tickers:\n",
    "        results = CIK_RE.findall(get(URL.format(ticker)).text)\n",
    "        if len(results):\n",
    "            cik_dict[str(ticker).upper()] = str(results[0]).lstrip('0')\n",
    "        else:\n",
    "            no_matches.append(str(ticker).upper())\n",
    "    return cik_dict\n",
    "\n",
    "def new_nasdaq_tickers_and_names(engine):\n",
    "    \"\"\"\n",
    "        This function queries the cik_to_csi table and returns a dataframe of tickers and company names for companies\n",
    "        not found in our data.\n",
    "    \"\"\"\n",
    "    nasdaq_companies = pd.read_csv(\"data/nasdaqcompanylist.csv\")\n",
    "    amex_companies = pd.read_csv(\"data/amexcompanylist.csv\")\n",
    "    nyse_companies = pd.read_csv(\"data/nysecompanylist.csv\")\n",
    "    nasdaq_name_and_ticker = pd.DataFrame(nasdaq_companies, columns=['Symbol', 'Name'])\n",
    "    nasdaq_name_and_ticker['exchange'] = 'NASDAQ'\n",
    "    amex_name_and_ticker = pd.DataFrame(amex_companies, columns=['Symbol', 'Name'])\n",
    "    amex_name_and_ticker['exchange'] = 'AMEX'\n",
    "    nyse_name_and_ticker = pd.DataFrame(nyse_companies, columns=['Symbol', 'Name'])\n",
    "    nyse_name_and_ticker['exchange'] ='NYSE'\n",
    "    companies_and_symbols = pd.concat([nasdaq_name_and_ticker, amex_name_and_ticker, nyse_name_and_ticker])\n",
    "    companies_and_tickers = companies_and_symbols.rename(columns={'Symbol': 'symbol', \"Name\": \"name\"})\n",
    "    companies_and_tickers['isactive'] = 1\n",
    "    list_of_tickers_from_nasdaq = companies_and_tickers['symbol'].values.tolist()\n",
    "    list_of_tickers_in_cik_to_csi_table = pd.read_sql_query('select distinct symbol from cik_to_csi;',con=engine)['symbol'].values.tolist()\n",
    "    not_found_in_db = []\n",
    "    for x in list_of_tickers_from_nasdaq:\n",
    "        if x not in list_of_tickers_in_cik_to_csi_table and x not in not_found_in_db:\n",
    "            not_found_in_db.append(x)\n",
    "    return companies_and_tickers[companies_and_tickers['symbol'].isin(not_found_in_db)]\n",
    "\n",
    "def return_matches(first_li, second_li):\n",
    "    return set(first_li) & set(second_li)\n",
    "\n",
    "def insert(df, entries):\n",
    "    \"\"\"\n",
    "        Takes a set of values and inserts them into a dataframe sequentially where the index is\n",
    "        sequential and continuous.\n",
    "    \"\"\"\n",
    "    try:\n",
    "        df.loc[max(df.index) + 1] = entries\n",
    "    except ValueError:\n",
    "        df.loc[0] = entries\n",
    "        \n",
    "def make_list_of_tickers(csi_dataframe, engine):\n",
    "    tickers_from_nasdaq_site = new_nasdaq_tickers_and_names(engine)\n",
    "    ticker_list1 = tickers_from_nasdaq_site['symbol'].values.tolist()\n",
    "    ticker_list2 = csi_dataframe['symbol'].values.tolist()\n",
    "    return list(set(ticker_list1 + ticker_list2))"
   ]
  },
  {
   "cell_type": "code",
   "execution_count": null,
   "metadata": {
    "collapsed": true
   },
   "outputs": [],
   "source": [
    "# Create a filings dataframe from the edgar database filings table\n",
    "filings_data = pd.read_sql_query('select * from filings;', con=engine)\n",
    "filings_data = filings_data.rename(columns={'company': 'company_name'})\n"
   ]
  },
  {
   "cell_type": "code",
   "execution_count": 4,
   "metadata": {
    "collapsed": false
   },
   "outputs": [],
   "source": [
    "# Create a csi_data datagrame from csidata.com\n",
    "csi_stock_data = pd.read_csv('http://www.csidata.com/factsheets.php?type=stock&format=csv')\n",
    "csi_data = pd.DataFrame(csi_stock_data, columns=['csinumber', 'symbol', 'company_name', 'exchange', 'isactive', 'startdate', 'enddate'])\n",
    "csi_data = csi_data.dropna()"
   ]
  },
  {
   "cell_type": "code",
   "execution_count": null,
   "metadata": {
    "collapsed": true
   },
   "outputs": [],
   "source": [
    "ticker_list = make_list_of_tickers(csi_data, engine)\n",
    "ticker_cik_dict, no_matches = tickers_to_cik(ticker_list[1:10])"
   ]
  },
  {
   "cell_type": "code",
   "execution_count": null,
   "metadata": {
    "collapsed": true
   },
   "outputs": [],
   "source": [
    "\n"
   ]
  },
  {
   "cell_type": "code",
   "execution_count": null,
   "metadata": {
    "collapsed": true
   },
   "outputs": [],
   "source": []
  },
  {
   "cell_type": "code",
   "execution_count": null,
   "metadata": {
    "collapsed": true
   },
   "outputs": [],
   "source": []
  },
  {
   "cell_type": "code",
   "execution_count": null,
   "metadata": {
    "collapsed": true
   },
   "outputs": [],
   "source": []
  },
  {
   "cell_type": "code",
   "execution_count": null,
   "metadata": {
    "collapsed": true
   },
   "outputs": [],
   "source": []
  },
  {
   "cell_type": "code",
   "execution_count": null,
   "metadata": {
    "collapsed": true
   },
   "outputs": [],
   "source": []
  },
  {
   "cell_type": "code",
   "execution_count": null,
   "metadata": {
    "collapsed": true
   },
   "outputs": [],
   "source": []
  },
  {
   "cell_type": "code",
   "execution_count": null,
   "metadata": {
    "collapsed": true
   },
   "outputs": [],
   "source": []
  },
  {
   "cell_type": "code",
   "execution_count": null,
   "metadata": {
    "collapsed": true
   },
   "outputs": [],
   "source": []
  },
  {
   "cell_type": "code",
   "execution_count": null,
   "metadata": {
    "collapsed": true
   },
   "outputs": [],
   "source": []
  }
 ],
 "metadata": {
  "kernelspec": {
   "display_name": "Python 3",
   "language": "python",
   "name": "python3"
  },
  "language_info": {
   "codemirror_mode": {
    "name": "ipython",
    "version": 3
   },
   "file_extension": ".py",
   "mimetype": "text/x-python",
   "name": "python",
   "nbconvert_exporter": "python",
   "pygments_lexer": "ipython3",
   "version": "3.5.1"
  }
 },
 "nbformat": 4,
 "nbformat_minor": 1
}
