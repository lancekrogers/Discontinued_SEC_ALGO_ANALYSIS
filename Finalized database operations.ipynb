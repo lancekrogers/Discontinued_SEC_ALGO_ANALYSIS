{
 "cells": [
  {
   "cell_type": "code",
   "execution_count": 1,
   "metadata": {
    "collapsed": true
   },
   "outputs": [],
   "source": [
    "from sqlalchemy.orm import sessionmaker\n",
    "from sqlalchemy import Table\n",
    "from sqlalchemy import create_engine, inspect\n",
    "from sqlalchemy import MetaData\n",
    "from edgerdb import helper_functions as hlp\n",
    "import pandas as pd\n",
    "import numpy as np\n",
    "from fuzzywuzzy import fuzz, process\n",
    "import re\n",
    "from requests import get"
   ]
  },
  {
   "cell_type": "code",
   "execution_count": 2,
   "metadata": {
    "collapsed": false
   },
   "outputs": [
    {
     "name": "stdout",
     "output_type": "stream",
     "text": [
      "Latest File in DB: 20161122\n",
      "edgar/daily-index/master.20161003.idx already loaded\n",
      "edgar/daily-index/master.20161004.idx already loaded\n",
      "edgar/daily-index/master.20161005.idx already loaded\n",
      "edgar/daily-index/master.20161006.idx already loaded\n",
      "edgar/daily-index/master.20161007.idx already loaded\n",
      "edgar/daily-index/master.20161011.idx already loaded\n",
      "edgar/daily-index/master.20161012.idx already loaded\n",
      "edgar/daily-index/master.20161013.idx already loaded\n",
      "edgar/daily-index/master.20161014.idx already loaded\n",
      "edgar/daily-index/master.20161017.idx already loaded\n",
      "edgar/daily-index/master.20161018.idx already loaded\n",
      "edgar/daily-index/master.20161019.idx already loaded\n",
      "edgar/daily-index/master.20161020.idx already loaded\n",
      "edgar/daily-index/master.20161021.idx already loaded\n",
      "edgar/daily-index/master.20161024.idx already loaded\n",
      "edgar/daily-index/master.20161025.idx already loaded\n",
      "edgar/daily-index/master.20161026.idx already loaded\n",
      "edgar/daily-index/master.20161027.idx already loaded\n",
      "edgar/daily-index/master.20161028.idx already loaded\n",
      "edgar/daily-index/master.20161031.idx already loaded\n",
      "edgar/daily-index/master.20161101.idx already loaded\n",
      "edgar/daily-index/master.20161102.idx already loaded\n",
      "edgar/daily-index/master.20161103.idx already loaded\n",
      "edgar/daily-index/master.20161104.idx already loaded\n",
      "edgar/daily-index/master.20161107.idx already loaded\n",
      "edgar/daily-index/master.20161108.idx already loaded\n",
      "edgar/daily-index/master.20161109.idx already loaded\n",
      "edgar/daily-index/master.20161110.idx already loaded\n",
      "edgar/daily-index/master.20161114.idx already loaded\n",
      "edgar/daily-index/master.20161115.idx already loaded\n",
      "edgar/daily-index/master.20161116.idx already loaded\n",
      "edgar/daily-index/master.20161117.idx already loaded\n",
      "edgar/daily-index/master.20161118.idx already loaded\n",
      "edgar/daily-index/master.20161121.idx already loaded\n",
      "edgar/daily-index/master.20161122.idx already loaded\n",
      "Successful binary retrieveal on try # 1 for edgar/daily-index/master.20161123.idx\n",
      "INSERT 0 1\n",
      "Successful binary retrieveal on try # 1 for edgar/daily-index/master.20161125.idx\n",
      "INSERT 0 1\n",
      "Successful binary retrieveal on try # 1 for edgar/daily-index/master.20161128.idx\n",
      "INSERT 0 1\n",
      "Successful binary retrieveal on try # 1 for edgar/daily-index/master.20161129.idx\n",
      "INSERT 0 1\n",
      "Successful binary retrieveal on try # 1 for edgar/daily-index/master.20161130.idx\n",
      "INSERT 0 1\n",
      "Successful binary retrieveal on try # 1 for edgar/daily-index/master.20161201.idx\n",
      "INSERT 0 1\n",
      "Successful binary retrieveal on try # 1 for edgar/daily-index/master.20161202.idx\n",
      "INSERT 0 1\n",
      "Successful binary retrieveal on try # 1 for edgar/daily-index/master.20161205.idx\n",
      "INSERT 0 1\n",
      "Successful binary retrieveal on try # 1 for edgar/daily-index/master.20161206.idx\n",
      "INSERT 0 1\n",
      "Successful binary retrieveal on try # 1 for edgar/daily-index/master.20161207.idx\n",
      "INSERT 0 1\n",
      "Successful binary retrieveal on try # 1 for edgar/daily-index/master.20161208.idx\n",
      "INSERT 0 1\n",
      "Successful binary retrieveal on try # 1 for edgar/daily-index/master.20161209.idx\n",
      "INSERT 0 1\n",
      "Successful binary retrieveal on try # 1 for edgar/daily-index/master.20161212.idx\n",
      "INSERT 0 1\n",
      "Successful binary retrieveal on try # 1 for edgar/daily-index/master.20161213.idx\n",
      "INSERT 0 1\n",
      "Successful binary retrieveal on try # 1 for edgar/daily-index/master.20161214.idx\n",
      "INSERT 0 1\n",
      "Successful binary retrieveal on try # 1 for edgar/daily-index/master.20161215.idx\n",
      "INSERT 0 1\n",
      "Successful binary retrieveal on try # 1 for edgar/daily-index/master.20161216.idx\n",
      "INSERT 0 1\n",
      "Successful binary retrieveal on try # 1 for edgar/daily-index/master.20161219.idx\n",
      "INSERT 0 1\n"
     ]
    }
   ],
   "source": [
    "daily_files = hlp.generate_daily_file_paths()\n",
    "\n",
    "last_date_in_db = int(hlp.latest_index_in_db('filings', hlp.db())[0])\n",
    "\n",
    "hlp.load_latest_files(daily_files, last_date=last_date_in_db)"
   ]
  },
  {
   "cell_type": "code",
   "execution_count": 5,
   "metadata": {
    "collapsed": true
   },
   "outputs": [],
   "source": [
    "meta = MetaData()\n",
    "\n",
    "engine = create_engine('postgresql://analyst:@localhost:5432/edgar')\n",
    "\n",
    "messages = Table('filings', meta, autoload=True, autoload_with=engine)\n",
    "\n",
    "def sql_to_df(query, connection):\n",
    "    df = pd.read_sql(query, connection)\n",
    "    connection.close()\n",
    "    return df\n"
   ]
  },
  {
   "cell_type": "code",
   "execution_count": 6,
   "metadata": {
    "collapsed": true
   },
   "outputs": [],
   "source": [
    "def create_csi_data_table(engine):\n",
    "    '''\n",
    "    Creates a table with the data from csidata.com\n",
    "    '''\n",
    "    conn = engine.connect()\n",
    "    csi_stock_data = pd.read_csv('http://www.csidata.com/factsheets.php?type=stock&format=csv')\n",
    "    csi_stock_data.columns = map(str.lower, csi_stock_data.columns)\n",
    "    csi_stock_data = csi_stock_data.rename(columns={'name': 'company_name'})\n",
    "    csi_stock_data['company_name'] = csi_stock_data['company_name'].str.upper()\n",
    "    csi_stock_data['company_name'] = csi_stock_data['company_name'].str.strip()\n",
    "    csi_stock_data = csi_stock_data.fillna(value=\"NONE\")\n",
    "    csi_stock_data.to_sql('csi_stock_data', engine)\n",
    "    conn.close()\n",
    "    \n",
    "def create_table_with_cik_and_csi_data():\n",
    "    '''\n",
    "        Creates a table called cik_to_csi by joining filings and csi_stock_data tables on company_name\n",
    "    '''\n",
    "    join_ticker_to_cik = \"\"\"select * into temp_cik_to_csi from (select fil.cik, fil.company_name,\n",
    "                            csi.symbol, csi.exchange,\n",
    "                            csi.isactive, csi.startdate, csi.enddate\n",
    "                            from filings fil\n",
    "                            join csi_stock_data csi on fil.company_name = csi.company_name) as foo;\"\"\"\n",
    "    clean_ticker_to_cik_table = \"\"\"select * into cik_to_csi\n",
    "    from (select distinct cik, c.company_name, c.symbol, c.exchange, c.isactive, c.startdate, c.enddate  from temp_cik_to_csi c) as foo;\"\"\"\n",
    "    hlp.clear_sessions('edgar', hlp.db())\n",
    "    hlp.statement(join_ticker_to_cik, hlp.db(), output=False, commit=True)\n",
    "    hlp.statement(clean_ticker_to_cik_table, hlp.db(), output=False, commit=True)\n",
    "    hlp.statement(\"drop table temp_cik_to_csi;\", hlp.db(), output=False, commit=True)\n",
    "    \n"
   ]
  },
  {
   "cell_type": "code",
   "execution_count": 14,
   "metadata": {
    "collapsed": false
   },
   "outputs": [],
   "source": [
    "def tickers_to_cik(list_of_tickers):\n",
    "    URL = 'http://www.sec.gov/cgi-bin/browse-edgar?CIK={}&Find=Search&owner=exclude&action=getcompany'\n",
    "    CIK_RE = re.compile('.*CIK=(\\d{10}).*')\n",
    "\n",
    "    cik_dict = {}\n",
    "    for ticker in list_of_tickers:\n",
    "        results = CIK_RE.findall(get(URL.format(ticker)).text)\n",
    "        if len(results):\n",
    "            cik_dict[str(ticker).upper()] = str(results[0]).lstrip('0')\n",
    "        else:\n",
    "            no_matches.append(str(ticker).upper())\n",
    "    return cik_dict\n",
    "\n",
    "def new_nasdaq_tickers_and_names(engine):\n",
    "    \"\"\"\n",
    "        This function queries the cik_to_csi table and returns a dataframe of tickers and company names for companies\n",
    "        not found in our data.\n",
    "    \"\"\"\n",
    "    nasdaq_companies = pd.read_csv(\"http://www.nasdaq.com/screening/companies-by-industry.aspx?exchange=NASDAQ&render=download\")\n",
    "    amex_companies = pd.read_csv(\"http://www.nasdaq.com/screening/companies-by-industry.aspx?exchange=AMEX&render=download\")\n",
    "    nyse_companies = pd.read_csv(\"http://www.nasdaq.com/screening/companies-by-industry.aspx?exchange=NYSE&render=download\")\n",
    "    nasdaq_name_and_ticker = pd.DataFrame(nasdaq_companies, columns=['Symbol', 'Name'])\n",
    "    nasdaq_name_and_ticker['exchange'] = 'NASDAQ'\n",
    "    amex_name_and_ticker = pd.DataFrame(amex_companies, columns=['Symbol', 'Name'])\n",
    "    amex_name_and_ticker['exchange'] = 'AMEX'\n",
    "    nyse_name_and_ticker = pd.DataFrame(nyse_companies, columns=['Symbol', 'Name'])\n",
    "    nyse_name_and_ticker['exchange'] ='NYSE'\n",
    "    companies_and_symbols = pd.concat([nasdaq_name_and_ticker, amex_name_and_ticker, nyse_name_and_ticker])\n",
    "    companies_and_tickers = companies_and_symbols.rename(columns={'Symbol': 'symbol', \"Name\": \"name\"})\n",
    "    companies_and_tickers['isactive'] = 1\n",
    "    list_of_tickers_from_nasdaq = companies_and_tickers['symbol'].values.tolist()\n",
    "    list_of_tickers_in_cik_to_csi_table = pd.read_sql_query('select distinct symbol from cik_to_csi;',con=engine)['symbol'].values.tolist()\n",
    "    not_found_in_db = []\n",
    "    for x in list_of_tickers_from_nasdaq:\n",
    "        if x not in list_of_tickers_in_cik_to_csi_table and x not in not_found_in_db:\n",
    "            not_found_in_db.append(x)\n",
    "    return companies_and_tickers[companies_and_tickers['symbol'].isin(not_found_in_db)]\n",
    "\n",
    "def return_matches(first_li, second_li):\n",
    "    return set(first_li) & set(second_li)\n",
    "\n",
    "def insert(df, entries):\n",
    "    \"\"\"\n",
    "        Takes a set of values and inserts them into a dataframe sequentially where the index is\n",
    "        sequential and continuous.\n",
    "    \"\"\"\n",
    "    try:\n",
    "        df.loc[max(df.index) + 1] = entries\n",
    "    except ValueError:\n",
    "        df.loc[0] = entries\n",
    "        \n",
    "def make_list_of_tickers(csi_dataframe, engine):\n",
    "    tickers_from_nasdaq_site = new_nasdaq_tickers_and_names(engine)\n",
    "    ticker_list1 = tickers_from_nasdaq_site['symbol'].values.tolist()\n",
    "    ticker_list2 = csi_dataframe['symbol'].values.tolist()\n",
    "    return list(set(ticker_list1 + ticker_list2))"
   ]
  },
  {
   "cell_type": "code",
   "execution_count": 3,
   "metadata": {
    "collapsed": false
   },
   "outputs": [
    {
     "ename": "NameError",
     "evalue": "name 'pd' is not defined",
     "output_type": "error",
     "traceback": [
      "\u001b[0;31m---------------------------------------------------------------------------\u001b[0m",
      "\u001b[0;31mNameError\u001b[0m                                 Traceback (most recent call last)",
      "\u001b[0;32m<ipython-input-3-00c44aa2ff4b>\u001b[0m in \u001b[0;36m<module>\u001b[0;34m()\u001b[0m\n\u001b[1;32m      1\u001b[0m \u001b[0;31m# Create a filings dataframe from the edgar database filings table\u001b[0m\u001b[0;34m\u001b[0m\u001b[0;34m\u001b[0m\u001b[0m\n\u001b[0;32m----> 2\u001b[0;31m \u001b[0mfilings_data\u001b[0m \u001b[0;34m=\u001b[0m \u001b[0mpd\u001b[0m\u001b[0;34m.\u001b[0m\u001b[0mread_sql_query\u001b[0m\u001b[0;34m(\u001b[0m\u001b[0;34m'select * from filings;'\u001b[0m\u001b[0;34m,\u001b[0m \u001b[0mcon\u001b[0m\u001b[0;34m=\u001b[0m\u001b[0mengine\u001b[0m\u001b[0;34m)\u001b[0m\u001b[0;34m\u001b[0m\u001b[0m\n\u001b[0m\u001b[1;32m      3\u001b[0m \u001b[0mfilings_data\u001b[0m \u001b[0;34m=\u001b[0m \u001b[0mfilings_data\u001b[0m\u001b[0;34m.\u001b[0m\u001b[0mrename\u001b[0m\u001b[0;34m(\u001b[0m\u001b[0mcolumns\u001b[0m\u001b[0;34m=\u001b[0m\u001b[0;34m{\u001b[0m\u001b[0;34m'company'\u001b[0m\u001b[0;34m:\u001b[0m \u001b[0;34m'company_name'\u001b[0m\u001b[0;34m}\u001b[0m\u001b[0;34m)\u001b[0m\u001b[0;34m\u001b[0m\u001b[0m\n",
      "\u001b[0;31mNameError\u001b[0m: name 'pd' is not defined"
     ]
    }
   ],
   "source": [
    "# Create a filings dataframe from the edgar database filings table\n",
    "filings_data = pd.read_sql_query('select * from filings;', con=engine)\n",
    "filings_data = filings_data.rename(columns={'company': 'company_name'})\n"
   ]
  },
  {
   "cell_type": "code",
   "execution_count": 8,
   "metadata": {
    "collapsed": false
   },
   "outputs": [],
   "source": [
    "# Create a csi_data datagrame from csidata.com\n",
    "csi_stock_data = pd.read_csv('http://www.csidata.com/factsheets.php?type=stock&format=csv')\n",
    "csi_data = pd.DataFrame(csi_stock_data, columns=['csinumber', 'symbol', 'company_name', 'exchange', 'isactive', 'startdate', 'enddate'])\n",
    "csi_data = csi_data.dropna()"
   ]
  },
  {
   "cell_type": "code",
   "execution_count": null,
   "metadata": {
    "collapsed": true
   },
   "outputs": [],
   "source": [
    "tickers_from_nasdaq_site = new_nasdaq_tickers_and_names(engine)\n",
    "tickers_from_nasdaq_site = tickers_from_nasdaq_site.rename(columns={\"name\": \"company_name\"})\n",
    "tickers_from_nasdaq_site['company_name'] = tickers_from_nasdaq_site['company_name'].str.upper()\n",
    "matches_from_exchange_list= pd.merge(left=tickers_from_nasdaq_site, right=filings_df, right_on='company_name', left_on='company_name')\n",
    "conn = engine.connect()\n",
    "csi_to_cik_tick_matches = sql_to_df(\"select cik, company_name, symbol, exchange, isactive from cik_to_csi;\",conn)\n",
    "conn.close()\n",
    "cik_to_ticker = pd.concat([matches_from_exchange_list, csi_to_cik_tick_matches])\n",
    "print(len(cik_to_ticker))\n",
    "cik_to_ticker.head()"
   ]
  },
  {
   "cell_type": "code",
   "execution_count": 13,
   "metadata": {
    "collapsed": false
   },
   "outputs": [],
   "source": [
    "import multiprocessing as mp\n",
    "from requests import get\n",
    "import json\n",
    "\n",
    "ticker_list = make_list_of_tickers(csi_data, engine)\n",
    "\n",
    "\n",
    "chunks = lambda lst, sz: [lst[i:i+sz] for i in range(0, len(lst), sz)]\n",
    "        \n",
    "def worker(inq,outq):\n",
    "    list_of_tickers = inq.get()\n",
    "    URL = 'http://www.sec.gov/cgi-bin/browse-edgar?CIK={}&Find=Search&owner=exclude&action=getcompany'\n",
    "    CIK_RE = re.compile('.*CIK=(\\d{10}).*')\n",
    "    no_matches = []\n",
    "    cik_dict = {}\n",
    "    for ticker in list_of_tickers:\n",
    "        results = CIK_RE.findall(get(URL.format(ticker), timeout=(3.05, 27)).text)\n",
    "        if len(results):\n",
    "            cik_dict[str(ticker).upper()] = str(results[0]).lstrip('0')\n",
    "        else:\n",
    "            no_matches.append(str(ticker).upper())\n",
    "    cik_dict['no_matches'] = no_matches\n",
    "    outq.put(cik_dict)\n",
    "\n",
    "def make_ticker_cik_file(ticker_list, n_processes=3):\n",
    "    processes = n_processes\n",
    "    tick_list = ticker_list\n",
    "    chunk_list = chunks(tick_list, int(len(tick_list) / processes))\n",
    "    results_dict = {}\n",
    "    no_matches = []\n",
    "    \n",
    "    for chu in chunk_list:\n",
    "        inq = mp.Queue()\n",
    "        outq = mp.Queue()\n",
    "        p = mp.Process(target=worker, args=(inq,outq))\n",
    "        p.start()\n",
    "    \n",
    "        inq.put(chu)\n",
    "\n",
    "        # Wait for the worker to finish\n",
    "        p.join()\n",
    "        result = outq.get()\n",
    "        for tic in result['no_matches']:\n",
    "            no_matches.append(tic)\n",
    "        result.pop('no_matches')\n",
    "        results_dict.update(result)\n",
    "        p.terminate()\n",
    "    with open('data/ticker_to_cik.json', 'w') as f:\n",
    "        f.write(json.dumps(results_dict))\n",
    "        f.close()\n",
    "    with open('data/no_cik_matches.json', 'w') as f:\n",
    "        f.write(json.dumps({'no_matches': no_matches}))\n",
    "        f.close()"
   ]
  },
  {
   "cell_type": "code",
   "execution_count": 10,
   "metadata": {
    "collapsed": true
   },
   "outputs": [],
   "source": [
    "ticker_list = make_list_of_tickers(csi_data, engine)\n"
   ]
  },
  {
   "cell_type": "code",
   "execution_count": 12,
   "metadata": {
    "collapsed": false
   },
   "outputs": [
    {
     "name": "stderr",
     "output_type": "stream",
     "text": [
      "Process Process-588:\n",
      "Traceback (most recent call last):\n",
      "  File \"/Users/lancerogers/Developer/Python/algo_analysis/.direnv/python-3.5.1/lib/python3.5/site-packages/requests/packages/urllib3/connection.py\", line 142, in _new_conn\n",
      "    (self.host, self.port), self.timeout, **extra_kw)\n",
      "  File \"/Users/lancerogers/Developer/Python/algo_analysis/.direnv/python-3.5.1/lib/python3.5/site-packages/requests/packages/urllib3/util/connection.py\", line 98, in create_connection\n",
      "    raise err\n",
      "  File \"/Users/lancerogers/Developer/Python/algo_analysis/.direnv/python-3.5.1/lib/python3.5/site-packages/requests/packages/urllib3/util/connection.py\", line 88, in create_connection\n",
      "    sock.connect(sa)\n",
      "OSError: [Errno 65] No route to host\n",
      "\n",
      "During handling of the above exception, another exception occurred:\n",
      "\n",
      "Traceback (most recent call last):\n",
      "  File \"/Users/lancerogers/Developer/Python/algo_analysis/.direnv/python-3.5.1/lib/python3.5/site-packages/requests/packages/urllib3/connectionpool.py\", line 595, in urlopen\n",
      "    chunked=chunked)\n",
      "  File \"/Users/lancerogers/Developer/Python/algo_analysis/.direnv/python-3.5.1/lib/python3.5/site-packages/requests/packages/urllib3/connectionpool.py\", line 352, in _make_request\n",
      "    self._validate_conn(conn)\n",
      "  File \"/Users/lancerogers/Developer/Python/algo_analysis/.direnv/python-3.5.1/lib/python3.5/site-packages/requests/packages/urllib3/connectionpool.py\", line 831, in _validate_conn\n",
      "    conn.connect()\n",
      "  File \"/Users/lancerogers/Developer/Python/algo_analysis/.direnv/python-3.5.1/lib/python3.5/site-packages/requests/packages/urllib3/connection.py\", line 254, in connect\n",
      "    conn = self._new_conn()\n",
      "  File \"/Users/lancerogers/Developer/Python/algo_analysis/.direnv/python-3.5.1/lib/python3.5/site-packages/requests/packages/urllib3/connection.py\", line 151, in _new_conn\n",
      "    self, \"Failed to establish a new connection: %s\" % e)\n",
      "requests.packages.urllib3.exceptions.NewConnectionError: <requests.packages.urllib3.connection.VerifiedHTTPSConnection object at 0x1094f9198>: Failed to establish a new connection: [Errno 65] No route to host\n",
      "\n",
      "During handling of the above exception, another exception occurred:\n",
      "\n",
      "Traceback (most recent call last):\n",
      "  File \"/Users/lancerogers/Developer/Python/algo_analysis/.direnv/python-3.5.1/lib/python3.5/site-packages/requests/adapters.py\", line 423, in send\n",
      "    timeout=timeout\n",
      "  File \"/Users/lancerogers/Developer/Python/algo_analysis/.direnv/python-3.5.1/lib/python3.5/site-packages/requests/packages/urllib3/connectionpool.py\", line 640, in urlopen\n",
      "    _stacktrace=sys.exc_info()[2])\n",
      "  File \"/Users/lancerogers/Developer/Python/algo_analysis/.direnv/python-3.5.1/lib/python3.5/site-packages/requests/packages/urllib3/util/retry.py\", line 287, in increment\n",
      "    raise MaxRetryError(_pool, url, error or ResponseError(cause))\n",
      "requests.packages.urllib3.exceptions.MaxRetryError: HTTPSConnectionPool(host='www.sec.gov', port=443): Max retries exceeded with url: /cgi-bin/browse-edgar?CIK=FFBC&Find=Search&owner=exclude&action=getcompany (Caused by NewConnectionError('<requests.packages.urllib3.connection.VerifiedHTTPSConnection object at 0x1094f9198>: Failed to establish a new connection: [Errno 65] No route to host',))\n",
      "\n",
      "During handling of the above exception, another exception occurred:\n",
      "\n",
      "Traceback (most recent call last):\n",
      "  File \"/Library/Frameworks/Python.framework/Versions/3.5/lib/python3.5/multiprocessing/process.py\", line 254, in _bootstrap\n",
      "    self.run()\n",
      "  File \"/Library/Frameworks/Python.framework/Versions/3.5/lib/python3.5/multiprocessing/process.py\", line 93, in run\n",
      "    self._target(*self._args, **self._kwargs)\n",
      "  File \"<ipython-input-9-468fdca91347>\", line 16, in worker\n",
      "    results = CIK_RE.findall(get(URL.format(ticker)).text)\n",
      "  File \"/Users/lancerogers/Developer/Python/algo_analysis/.direnv/python-3.5.1/lib/python3.5/site-packages/requests/api.py\", line 70, in get\n",
      "    return request('get', url, params=params, **kwargs)\n",
      "  File \"/Users/lancerogers/Developer/Python/algo_analysis/.direnv/python-3.5.1/lib/python3.5/site-packages/requests/api.py\", line 56, in request\n",
      "    return session.request(method=method, url=url, **kwargs)\n",
      "  File \"/Users/lancerogers/Developer/Python/algo_analysis/.direnv/python-3.5.1/lib/python3.5/site-packages/requests/sessions.py\", line 475, in request\n",
      "    resp = self.send(prep, **send_kwargs)\n",
      "  File \"/Users/lancerogers/Developer/Python/algo_analysis/.direnv/python-3.5.1/lib/python3.5/site-packages/requests/sessions.py\", line 617, in send\n",
      "    history = [resp for resp in gen] if allow_redirects else []\n",
      "  File \"/Users/lancerogers/Developer/Python/algo_analysis/.direnv/python-3.5.1/lib/python3.5/site-packages/requests/sessions.py\", line 617, in <listcomp>\n",
      "    history = [resp for resp in gen] if allow_redirects else []\n",
      "  File \"/Users/lancerogers/Developer/Python/algo_analysis/.direnv/python-3.5.1/lib/python3.5/site-packages/requests/sessions.py\", line 177, in resolve_redirects\n",
      "    **adapter_kwargs\n",
      "  File \"/Users/lancerogers/Developer/Python/algo_analysis/.direnv/python-3.5.1/lib/python3.5/site-packages/requests/sessions.py\", line 596, in send\n",
      "    r = adapter.send(request, **kwargs)\n",
      "  File \"/Users/lancerogers/Developer/Python/algo_analysis/.direnv/python-3.5.1/lib/python3.5/site-packages/requests/adapters.py\", line 487, in send\n",
      "    raise ConnectionError(e, request=request)\n",
      "requests.exceptions.ConnectionError: HTTPSConnectionPool(host='www.sec.gov', port=443): Max retries exceeded with url: /cgi-bin/browse-edgar?CIK=FFBC&Find=Search&owner=exclude&action=getcompany (Caused by NewConnectionError('<requests.packages.urllib3.connection.VerifiedHTTPSConnection object at 0x1094f9198>: Failed to establish a new connection: [Errno 65] No route to host',))\n"
     ]
    },
    {
     "ename": "KeyboardInterrupt",
     "evalue": "",
     "output_type": "error",
     "traceback": [
      "\u001b[0;31m---------------------------------------------------------------------------\u001b[0m",
      "\u001b[0;31mKeyboardInterrupt\u001b[0m                         Traceback (most recent call last)",
      "\u001b[0;32m<ipython-input-12-072945909db3>\u001b[0m in \u001b[0;36m<module>\u001b[0;34m()\u001b[0m\n\u001b[0;32m----> 1\u001b[0;31m \u001b[0mget_ipython\u001b[0m\u001b[0;34m(\u001b[0m\u001b[0;34m)\u001b[0m\u001b[0;34m.\u001b[0m\u001b[0mrun_cell_magic\u001b[0m\u001b[0;34m(\u001b[0m\u001b[0;34m'time'\u001b[0m\u001b[0;34m,\u001b[0m \u001b[0;34m''\u001b[0m\u001b[0;34m,\u001b[0m \u001b[0;34m'make_ticker_cik_file(ticker_list, n_processes=1000)'\u001b[0m\u001b[0;34m)\u001b[0m\u001b[0;34m\u001b[0m\u001b[0m\n\u001b[0m",
      "\u001b[0;32m/Users/lancerogers/Developer/Python/algo_analysis/.direnv/python-3.5.1/lib/python3.5/site-packages/IPython/core/interactiveshell.py\u001b[0m in \u001b[0;36mrun_cell_magic\u001b[0;34m(self, magic_name, line, cell)\u001b[0m\n\u001b[1;32m   2113\u001b[0m             \u001b[0mmagic_arg_s\u001b[0m \u001b[0;34m=\u001b[0m \u001b[0mself\u001b[0m\u001b[0;34m.\u001b[0m\u001b[0mvar_expand\u001b[0m\u001b[0;34m(\u001b[0m\u001b[0mline\u001b[0m\u001b[0;34m,\u001b[0m \u001b[0mstack_depth\u001b[0m\u001b[0;34m)\u001b[0m\u001b[0;34m\u001b[0m\u001b[0m\n\u001b[1;32m   2114\u001b[0m             \u001b[0;32mwith\u001b[0m \u001b[0mself\u001b[0m\u001b[0;34m.\u001b[0m\u001b[0mbuiltin_trap\u001b[0m\u001b[0;34m:\u001b[0m\u001b[0;34m\u001b[0m\u001b[0m\n\u001b[0;32m-> 2115\u001b[0;31m                 \u001b[0mresult\u001b[0m \u001b[0;34m=\u001b[0m \u001b[0mfn\u001b[0m\u001b[0;34m(\u001b[0m\u001b[0mmagic_arg_s\u001b[0m\u001b[0;34m,\u001b[0m \u001b[0mcell\u001b[0m\u001b[0;34m)\u001b[0m\u001b[0;34m\u001b[0m\u001b[0m\n\u001b[0m\u001b[1;32m   2116\u001b[0m             \u001b[0;32mreturn\u001b[0m \u001b[0mresult\u001b[0m\u001b[0;34m\u001b[0m\u001b[0m\n\u001b[1;32m   2117\u001b[0m \u001b[0;34m\u001b[0m\u001b[0m\n",
      "\u001b[0;32m<decorator-gen-59>\u001b[0m in \u001b[0;36mtime\u001b[0;34m(self, line, cell, local_ns)\u001b[0m\n",
      "\u001b[0;32m/Users/lancerogers/Developer/Python/algo_analysis/.direnv/python-3.5.1/lib/python3.5/site-packages/IPython/core/magic.py\u001b[0m in \u001b[0;36m<lambda>\u001b[0;34m(f, *a, **k)\u001b[0m\n\u001b[1;32m    186\u001b[0m     \u001b[0;31m# but it's overkill for just that one bit of state.\u001b[0m\u001b[0;34m\u001b[0m\u001b[0;34m\u001b[0m\u001b[0m\n\u001b[1;32m    187\u001b[0m     \u001b[0;32mdef\u001b[0m \u001b[0mmagic_deco\u001b[0m\u001b[0;34m(\u001b[0m\u001b[0marg\u001b[0m\u001b[0;34m)\u001b[0m\u001b[0;34m:\u001b[0m\u001b[0;34m\u001b[0m\u001b[0m\n\u001b[0;32m--> 188\u001b[0;31m         \u001b[0mcall\u001b[0m \u001b[0;34m=\u001b[0m \u001b[0;32mlambda\u001b[0m \u001b[0mf\u001b[0m\u001b[0;34m,\u001b[0m \u001b[0;34m*\u001b[0m\u001b[0ma\u001b[0m\u001b[0;34m,\u001b[0m \u001b[0;34m**\u001b[0m\u001b[0mk\u001b[0m\u001b[0;34m:\u001b[0m \u001b[0mf\u001b[0m\u001b[0;34m(\u001b[0m\u001b[0;34m*\u001b[0m\u001b[0ma\u001b[0m\u001b[0;34m,\u001b[0m \u001b[0;34m**\u001b[0m\u001b[0mk\u001b[0m\u001b[0;34m)\u001b[0m\u001b[0;34m\u001b[0m\u001b[0m\n\u001b[0m\u001b[1;32m    189\u001b[0m \u001b[0;34m\u001b[0m\u001b[0m\n\u001b[1;32m    190\u001b[0m         \u001b[0;32mif\u001b[0m \u001b[0mcallable\u001b[0m\u001b[0;34m(\u001b[0m\u001b[0marg\u001b[0m\u001b[0;34m)\u001b[0m\u001b[0;34m:\u001b[0m\u001b[0;34m\u001b[0m\u001b[0m\n",
      "\u001b[0;32m/Users/lancerogers/Developer/Python/algo_analysis/.direnv/python-3.5.1/lib/python3.5/site-packages/IPython/core/magics/execution.py\u001b[0m in \u001b[0;36mtime\u001b[0;34m(self, line, cell, local_ns)\u001b[0m\n\u001b[1;32m   1174\u001b[0m         \u001b[0;32mif\u001b[0m \u001b[0mmode\u001b[0m\u001b[0;34m==\u001b[0m\u001b[0;34m'eval'\u001b[0m\u001b[0;34m:\u001b[0m\u001b[0;34m\u001b[0m\u001b[0m\n\u001b[1;32m   1175\u001b[0m             \u001b[0mst\u001b[0m \u001b[0;34m=\u001b[0m \u001b[0mclock2\u001b[0m\u001b[0;34m(\u001b[0m\u001b[0;34m)\u001b[0m\u001b[0;34m\u001b[0m\u001b[0m\n\u001b[0;32m-> 1176\u001b[0;31m             \u001b[0mout\u001b[0m \u001b[0;34m=\u001b[0m \u001b[0meval\u001b[0m\u001b[0;34m(\u001b[0m\u001b[0mcode\u001b[0m\u001b[0;34m,\u001b[0m \u001b[0mglob\u001b[0m\u001b[0;34m,\u001b[0m \u001b[0mlocal_ns\u001b[0m\u001b[0;34m)\u001b[0m\u001b[0;34m\u001b[0m\u001b[0m\n\u001b[0m\u001b[1;32m   1177\u001b[0m             \u001b[0mend\u001b[0m \u001b[0;34m=\u001b[0m \u001b[0mclock2\u001b[0m\u001b[0;34m(\u001b[0m\u001b[0;34m)\u001b[0m\u001b[0;34m\u001b[0m\u001b[0m\n\u001b[1;32m   1178\u001b[0m         \u001b[0;32melse\u001b[0m\u001b[0;34m:\u001b[0m\u001b[0;34m\u001b[0m\u001b[0m\n",
      "\u001b[0;32m<timed eval>\u001b[0m in \u001b[0;36m<module>\u001b[0;34m()\u001b[0m\n",
      "\u001b[0;32m<ipython-input-9-468fdca91347>\u001b[0m in \u001b[0;36mmake_ticker_cik_file\u001b[0;34m(ticker_list, n_processes)\u001b[0m\n\u001b[1;32m     39\u001b[0m         \u001b[0;31m# Wait for the worker to finish\u001b[0m\u001b[0;34m\u001b[0m\u001b[0;34m\u001b[0m\u001b[0m\n\u001b[1;32m     40\u001b[0m         \u001b[0mp\u001b[0m\u001b[0;34m.\u001b[0m\u001b[0mjoin\u001b[0m\u001b[0;34m(\u001b[0m\u001b[0;34m)\u001b[0m\u001b[0;34m\u001b[0m\u001b[0m\n\u001b[0;32m---> 41\u001b[0;31m         \u001b[0mresult\u001b[0m \u001b[0;34m=\u001b[0m \u001b[0moutq\u001b[0m\u001b[0;34m.\u001b[0m\u001b[0mget\u001b[0m\u001b[0;34m(\u001b[0m\u001b[0;34m)\u001b[0m\u001b[0;34m\u001b[0m\u001b[0m\n\u001b[0m\u001b[1;32m     42\u001b[0m         \u001b[0;32mfor\u001b[0m \u001b[0mtic\u001b[0m \u001b[0;32min\u001b[0m \u001b[0mresult\u001b[0m\u001b[0;34m[\u001b[0m\u001b[0;34m'no_matches'\u001b[0m\u001b[0;34m]\u001b[0m\u001b[0;34m:\u001b[0m\u001b[0;34m\u001b[0m\u001b[0m\n\u001b[1;32m     43\u001b[0m             \u001b[0mno_matches\u001b[0m\u001b[0;34m.\u001b[0m\u001b[0mappend\u001b[0m\u001b[0;34m(\u001b[0m\u001b[0mtic\u001b[0m\u001b[0;34m)\u001b[0m\u001b[0;34m\u001b[0m\u001b[0m\n",
      "\u001b[0;32m/Library/Frameworks/Python.framework/Versions/3.5/lib/python3.5/multiprocessing/queues.py\u001b[0m in \u001b[0;36mget\u001b[0;34m(self, block, timeout)\u001b[0m\n\u001b[1;32m     92\u001b[0m         \u001b[0;32mif\u001b[0m \u001b[0mblock\u001b[0m \u001b[0;32mand\u001b[0m \u001b[0mtimeout\u001b[0m \u001b[0;32mis\u001b[0m \u001b[0;32mNone\u001b[0m\u001b[0;34m:\u001b[0m\u001b[0;34m\u001b[0m\u001b[0m\n\u001b[1;32m     93\u001b[0m             \u001b[0;32mwith\u001b[0m \u001b[0mself\u001b[0m\u001b[0;34m.\u001b[0m\u001b[0m_rlock\u001b[0m\u001b[0;34m:\u001b[0m\u001b[0;34m\u001b[0m\u001b[0m\n\u001b[0;32m---> 94\u001b[0;31m                 \u001b[0mres\u001b[0m \u001b[0;34m=\u001b[0m \u001b[0mself\u001b[0m\u001b[0;34m.\u001b[0m\u001b[0m_recv_bytes\u001b[0m\u001b[0;34m(\u001b[0m\u001b[0;34m)\u001b[0m\u001b[0;34m\u001b[0m\u001b[0m\n\u001b[0m\u001b[1;32m     95\u001b[0m             \u001b[0mself\u001b[0m\u001b[0;34m.\u001b[0m\u001b[0m_sem\u001b[0m\u001b[0;34m.\u001b[0m\u001b[0mrelease\u001b[0m\u001b[0;34m(\u001b[0m\u001b[0;34m)\u001b[0m\u001b[0;34m\u001b[0m\u001b[0m\n\u001b[1;32m     96\u001b[0m         \u001b[0;32melse\u001b[0m\u001b[0;34m:\u001b[0m\u001b[0;34m\u001b[0m\u001b[0m\n",
      "\u001b[0;32m/Library/Frameworks/Python.framework/Versions/3.5/lib/python3.5/multiprocessing/connection.py\u001b[0m in \u001b[0;36mrecv_bytes\u001b[0;34m(self, maxlength)\u001b[0m\n\u001b[1;32m    214\u001b[0m         \u001b[0;32mif\u001b[0m \u001b[0mmaxlength\u001b[0m \u001b[0;32mis\u001b[0m \u001b[0;32mnot\u001b[0m \u001b[0;32mNone\u001b[0m \u001b[0;32mand\u001b[0m \u001b[0mmaxlength\u001b[0m \u001b[0;34m<\u001b[0m \u001b[0;36m0\u001b[0m\u001b[0;34m:\u001b[0m\u001b[0;34m\u001b[0m\u001b[0m\n\u001b[1;32m    215\u001b[0m             \u001b[0;32mraise\u001b[0m \u001b[0mValueError\u001b[0m\u001b[0;34m(\u001b[0m\u001b[0;34m\"negative maxlength\"\u001b[0m\u001b[0;34m)\u001b[0m\u001b[0;34m\u001b[0m\u001b[0m\n\u001b[0;32m--> 216\u001b[0;31m         \u001b[0mbuf\u001b[0m \u001b[0;34m=\u001b[0m \u001b[0mself\u001b[0m\u001b[0;34m.\u001b[0m\u001b[0m_recv_bytes\u001b[0m\u001b[0;34m(\u001b[0m\u001b[0mmaxlength\u001b[0m\u001b[0;34m)\u001b[0m\u001b[0;34m\u001b[0m\u001b[0m\n\u001b[0m\u001b[1;32m    217\u001b[0m         \u001b[0;32mif\u001b[0m \u001b[0mbuf\u001b[0m \u001b[0;32mis\u001b[0m \u001b[0;32mNone\u001b[0m\u001b[0;34m:\u001b[0m\u001b[0;34m\u001b[0m\u001b[0m\n\u001b[1;32m    218\u001b[0m             \u001b[0mself\u001b[0m\u001b[0;34m.\u001b[0m\u001b[0m_bad_message_length\u001b[0m\u001b[0;34m(\u001b[0m\u001b[0;34m)\u001b[0m\u001b[0;34m\u001b[0m\u001b[0m\n",
      "\u001b[0;32m/Library/Frameworks/Python.framework/Versions/3.5/lib/python3.5/multiprocessing/connection.py\u001b[0m in \u001b[0;36m_recv_bytes\u001b[0;34m(self, maxsize)\u001b[0m\n\u001b[1;32m    405\u001b[0m \u001b[0;34m\u001b[0m\u001b[0m\n\u001b[1;32m    406\u001b[0m     \u001b[0;32mdef\u001b[0m \u001b[0m_recv_bytes\u001b[0m\u001b[0;34m(\u001b[0m\u001b[0mself\u001b[0m\u001b[0;34m,\u001b[0m \u001b[0mmaxsize\u001b[0m\u001b[0;34m=\u001b[0m\u001b[0;32mNone\u001b[0m\u001b[0;34m)\u001b[0m\u001b[0;34m:\u001b[0m\u001b[0;34m\u001b[0m\u001b[0m\n\u001b[0;32m--> 407\u001b[0;31m         \u001b[0mbuf\u001b[0m \u001b[0;34m=\u001b[0m \u001b[0mself\u001b[0m\u001b[0;34m.\u001b[0m\u001b[0m_recv\u001b[0m\u001b[0;34m(\u001b[0m\u001b[0;36m4\u001b[0m\u001b[0;34m)\u001b[0m\u001b[0;34m\u001b[0m\u001b[0m\n\u001b[0m\u001b[1;32m    408\u001b[0m         \u001b[0msize\u001b[0m\u001b[0;34m,\u001b[0m \u001b[0;34m=\u001b[0m \u001b[0mstruct\u001b[0m\u001b[0;34m.\u001b[0m\u001b[0munpack\u001b[0m\u001b[0;34m(\u001b[0m\u001b[0;34m\"!i\"\u001b[0m\u001b[0;34m,\u001b[0m \u001b[0mbuf\u001b[0m\u001b[0;34m.\u001b[0m\u001b[0mgetvalue\u001b[0m\u001b[0;34m(\u001b[0m\u001b[0;34m)\u001b[0m\u001b[0;34m)\u001b[0m\u001b[0;34m\u001b[0m\u001b[0m\n\u001b[1;32m    409\u001b[0m         \u001b[0;32mif\u001b[0m \u001b[0mmaxsize\u001b[0m \u001b[0;32mis\u001b[0m \u001b[0;32mnot\u001b[0m \u001b[0;32mNone\u001b[0m \u001b[0;32mand\u001b[0m \u001b[0msize\u001b[0m \u001b[0;34m>\u001b[0m \u001b[0mmaxsize\u001b[0m\u001b[0;34m:\u001b[0m\u001b[0;34m\u001b[0m\u001b[0m\n",
      "\u001b[0;32m/Library/Frameworks/Python.framework/Versions/3.5/lib/python3.5/multiprocessing/connection.py\u001b[0m in \u001b[0;36m_recv\u001b[0;34m(self, size, read)\u001b[0m\n\u001b[1;32m    377\u001b[0m         \u001b[0mremaining\u001b[0m \u001b[0;34m=\u001b[0m \u001b[0msize\u001b[0m\u001b[0;34m\u001b[0m\u001b[0m\n\u001b[1;32m    378\u001b[0m         \u001b[0;32mwhile\u001b[0m \u001b[0mremaining\u001b[0m \u001b[0;34m>\u001b[0m \u001b[0;36m0\u001b[0m\u001b[0;34m:\u001b[0m\u001b[0;34m\u001b[0m\u001b[0m\n\u001b[0;32m--> 379\u001b[0;31m             \u001b[0mchunk\u001b[0m \u001b[0;34m=\u001b[0m \u001b[0mread\u001b[0m\u001b[0;34m(\u001b[0m\u001b[0mhandle\u001b[0m\u001b[0;34m,\u001b[0m \u001b[0mremaining\u001b[0m\u001b[0;34m)\u001b[0m\u001b[0;34m\u001b[0m\u001b[0m\n\u001b[0m\u001b[1;32m    380\u001b[0m             \u001b[0mn\u001b[0m \u001b[0;34m=\u001b[0m \u001b[0mlen\u001b[0m\u001b[0;34m(\u001b[0m\u001b[0mchunk\u001b[0m\u001b[0;34m)\u001b[0m\u001b[0;34m\u001b[0m\u001b[0m\n\u001b[1;32m    381\u001b[0m             \u001b[0;32mif\u001b[0m \u001b[0mn\u001b[0m \u001b[0;34m==\u001b[0m \u001b[0;36m0\u001b[0m\u001b[0;34m:\u001b[0m\u001b[0;34m\u001b[0m\u001b[0m\n",
      "\u001b[0;31mKeyboardInterrupt\u001b[0m: "
     ]
    }
   ],
   "source": [
    "%%time\n",
    "make_ticker_cik_file(ticker_list, n_processes=1000)\n"
   ]
  },
  {
   "cell_type": "code",
   "execution_count": null,
   "metadata": {
    "collapsed": true
   },
   "outputs": [],
   "source": []
  },
  {
   "cell_type": "code",
   "execution_count": null,
   "metadata": {
    "collapsed": true
   },
   "outputs": [],
   "source": []
  },
  {
   "cell_type": "code",
   "execution_count": null,
   "metadata": {
    "collapsed": true
   },
   "outputs": [],
   "source": []
  },
  {
   "cell_type": "code",
   "execution_count": null,
   "metadata": {
    "collapsed": true
   },
   "outputs": [],
   "source": []
  },
  {
   "cell_type": "code",
   "execution_count": null,
   "metadata": {
    "collapsed": true
   },
   "outputs": [],
   "source": []
  },
  {
   "cell_type": "code",
   "execution_count": null,
   "metadata": {
    "collapsed": true
   },
   "outputs": [],
   "source": []
  },
  {
   "cell_type": "code",
   "execution_count": null,
   "metadata": {
    "collapsed": true
   },
   "outputs": [],
   "source": []
  },
  {
   "cell_type": "code",
   "execution_count": null,
   "metadata": {
    "collapsed": true
   },
   "outputs": [],
   "source": []
  },
  {
   "cell_type": "code",
   "execution_count": null,
   "metadata": {
    "collapsed": true
   },
   "outputs": [],
   "source": []
  }
 ],
 "metadata": {
  "kernelspec": {
   "display_name": "Python 3",
   "language": "python",
   "name": "python3"
  },
  "language_info": {
   "codemirror_mode": {
    "name": "ipython",
    "version": 3
   },
   "file_extension": ".py",
   "mimetype": "text/x-python",
   "name": "python",
   "nbconvert_exporter": "python",
   "pygments_lexer": "ipython3",
   "version": "3.5.1"
  }
 },
 "nbformat": 4,
 "nbformat_minor": 1
}
