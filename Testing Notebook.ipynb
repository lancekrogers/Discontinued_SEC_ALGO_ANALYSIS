{
 "cells": [
  {
   "cell_type": "markdown",
   "metadata": {},
   "source": [
    "<h3>The Below 3 Cells Use SQLAlchemy and Pandas to create a table based on the above datafram</h3>"
   ]
  },
  {
   "cell_type": "code",
   "execution_count": 577,
   "metadata": {
    "collapsed": false
   },
   "outputs": [],
   "source": [
    "from sqlalchemy.orm import sessionmaker\n",
    "from sqlalchemy import Table\n",
    "from sqlalchemy import create_engine, inspect\n",
    "from sqlalchemy import MetaData\n",
    "from edgerdb import helper_functions as hlp\n",
    "import pandas as pd\n",
    "import numpy as np\n",
    "from fuzzywuzzy import fuzz, process\n",
    "\n",
    "\n",
    "meta = MetaData()\n",
    "\n",
    "engine = create_engine('postgresql://analyst:@localhost:5432/edgar')\n",
    "\n",
    "messages = Table('filings', meta, autoload=True, autoload_with=engine)\n",
    "\n",
    "def sql_to_df(query, connection):\n",
    "    df = pd.read_sql(query, connection)\n",
    "    connection.close()\n",
    "    return df"
   ]
  },
  {
   "cell_type": "code",
   "execution_count": 394,
   "metadata": {
    "collapsed": false
   },
   "outputs": [],
   "source": [
    "conn = engine.connect()\n",
    "conn.close()\n"
   ]
  },
  {
   "cell_type": "code",
   "execution_count": 395,
   "metadata": {
    "collapsed": true
   },
   "outputs": [],
   "source": [
    "def create_csi_data_table(engine):\n",
    "    '''\n",
    "    Creates a table with the data from csidata.com\n",
    "    '''\n",
    "    conn = engine.connect()\n",
    "    csi_stock_data = pd.read_csv('http://www.csidata.com/factsheets.php?type=stock&format=csv')\n",
    "    csi_stock_data.columns = map(str.lower, csi_stock_data.columns)\n",
    "    csi_stock_data = csi_stock_data.rename(columns={'name': 'company_name'})\n",
    "    csi_stock_data['company_name'] = csi_stock_data['company_name'].str.upper()\n",
    "    csi_stock_data['company_name'] = csi_stock_data['company_name'].str.strip()\n",
    "    csi_stock_data = csi_stock_data.fillna(value=\"NONE\")\n",
    "    csi_stock_data.to_sql('csi_stock_data', engine)\n",
    "    conn.close()\n",
    "    "
   ]
  },
  {
   "cell_type": "code",
   "execution_count": 14,
   "metadata": {
    "collapsed": true
   },
   "outputs": [],
   "source": [
    "def create_table_with_cik_and_csi_data():\n",
    "    '''\n",
    "        Creates a table called cik_to_csi by joining filings and csi_stock_data tables on company_name\n",
    "    '''\n",
    "    join_ticker_to_cik = \"\"\"select * into temp_cik_to_csi from (select fil.cik, fil.company_name,\n",
    "                            csi.symbol, csi.exchange,\n",
    "                            csi.isactive, csi.startdate, csi.enddate\n",
    "                            from filings fil\n",
    "                            join csi_stock_data csi on fil.company_name = csi.company_name) as foo;\"\"\"\n",
    "    clean_ticker_to_cik_table = \"\"\"select * into cik_to_csi\n",
    "    from (select distinct cik, c.company_name, c.symbol, c.exchange, c.isactive, c.startdate, c.enddate  from temp_cik_to_csi c) as foo;\"\"\"\n",
    "    hlp.clear_sessions('edgar', hlp.db())\n",
    "    hlp.statement(join_ticker_to_cik, hlp.db(), output=False, commit=True)\n",
    "    hlp.statement(clean_ticker_to_cik_table, hlp.db(), output=False, commit=True)\n",
    "    hlp.statement(\"drop table temp_cik_to_csi;\", hlp.db(), output=False, commit=True)\n",
    "    "
   ]
  },
  {
   "cell_type": "code",
   "execution_count": 15,
   "metadata": {
    "collapsed": false
   },
   "outputs": [
    {
     "data": {
      "text/html": [
       "<div>\n",
       "<table border=\"1\" class=\"dataframe\">\n",
       "  <thead>\n",
       "    <tr style=\"text-align: right;\">\n",
       "      <th></th>\n",
       "      <th>csinumber</th>\n",
       "      <th>symbol</th>\n",
       "      <th>company_name</th>\n",
       "      <th>exchange</th>\n",
       "      <th>isactive</th>\n",
       "      <th>startdate</th>\n",
       "      <th>enddate</th>\n",
       "    </tr>\n",
       "  </thead>\n",
       "  <tbody>\n",
       "    <tr>\n",
       "      <th>0</th>\n",
       "      <td>1001</td>\n",
       "      <td>DPS</td>\n",
       "      <td>DR PEPPER/7UP</td>\n",
       "      <td>NYSE</td>\n",
       "      <td>0</td>\n",
       "      <td>1993-01-27</td>\n",
       "      <td>1995-06-06</td>\n",
       "    </tr>\n",
       "    <tr>\n",
       "      <th>1</th>\n",
       "      <td>1002</td>\n",
       "      <td>PTB</td>\n",
       "      <td>PARAGON TRADE BRANDS INC</td>\n",
       "      <td>NYSE</td>\n",
       "      <td>0</td>\n",
       "      <td>1993-01-27</td>\n",
       "      <td>1999-07-07</td>\n",
       "    </tr>\n",
       "    <tr>\n",
       "      <th>2</th>\n",
       "      <td>1003</td>\n",
       "      <td>WLP</td>\n",
       "      <td>WELLPOINT HEALTH NETWORKS INC</td>\n",
       "      <td>NYSE</td>\n",
       "      <td>0</td>\n",
       "      <td>1993-01-28</td>\n",
       "      <td>2004-12-02</td>\n",
       "    </tr>\n",
       "    <tr>\n",
       "      <th>3</th>\n",
       "      <td>1004</td>\n",
       "      <td>ARN</td>\n",
       "      <td>AMERICAN RE CORP</td>\n",
       "      <td>NYSE</td>\n",
       "      <td>0</td>\n",
       "      <td>1993-01-29</td>\n",
       "      <td>1996-11-25</td>\n",
       "    </tr>\n",
       "    <tr>\n",
       "      <th>4</th>\n",
       "      <td>1005</td>\n",
       "      <td>BWS</td>\n",
       "      <td>BETA WELL SERVICES</td>\n",
       "      <td>AMEX</td>\n",
       "      <td>0</td>\n",
       "      <td>1993-02-01</td>\n",
       "      <td>1994-11-30</td>\n",
       "    </tr>\n",
       "  </tbody>\n",
       "</table>\n",
       "</div>"
      ],
      "text/plain": [
       "   csinumber symbol                   company_name exchange  isactive  \\\n",
       "0       1001    DPS                  DR PEPPER/7UP     NYSE         0   \n",
       "1       1002    PTB       PARAGON TRADE BRANDS INC     NYSE         0   \n",
       "2       1003    WLP  WELLPOINT HEALTH NETWORKS INC     NYSE         0   \n",
       "3       1004    ARN               AMERICAN RE CORP     NYSE         0   \n",
       "4       1005    BWS             BETA WELL SERVICES     AMEX         0   \n",
       "\n",
       "    startdate     enddate  \n",
       "0  1993-01-27  1995-06-06  \n",
       "1  1993-01-27  1999-07-07  \n",
       "2  1993-01-28  2004-12-02  \n",
       "3  1993-01-29  1996-11-25  \n",
       "4  1993-02-01  1994-11-30  "
      ]
     },
     "execution_count": 15,
     "metadata": {},
     "output_type": "execute_result"
    }
   ],
   "source": [
    "filings_data = pd.read_sql_query('select * from filings;', con=engine)\n",
    "temp_csi_data = pd.read_sql_query('select * from csi_stock_data;', index_col='index',con=engine)\n",
    "temp_csi_data = temp_csi_data.rename(columns={'name': 'company_name'})\n",
    "filings_data = filings_data.rename(columns={'company': 'company_name'})\n",
    "csi_data = pd.DataFrame(csi_stock_data, columns=['csinumber', 'symbol', 'company_name', 'exchange', 'isactive', 'startdate', 'enddate'])\n",
    "csi_data = csi_data.dropna()\n",
    "csi_data.head()"
   ]
  },
  {
   "cell_type": "code",
   "execution_count": 80,
   "metadata": {
    "collapsed": false
   },
   "outputs": [
    {
     "data": {
      "text/html": [
       "<div>\n",
       "<table border=\"1\" class=\"dataframe\">\n",
       "  <thead>\n",
       "    <tr style=\"text-align: right;\">\n",
       "      <th></th>\n",
       "      <th>csinumber</th>\n",
       "      <th>symbol</th>\n",
       "      <th>company_name</th>\n",
       "      <th>exchange</th>\n",
       "      <th>isactive</th>\n",
       "      <th>startdate</th>\n",
       "      <th>enddate</th>\n",
       "    </tr>\n",
       "  </thead>\n",
       "  <tbody>\n",
       "    <tr>\n",
       "      <th>11</th>\n",
       "      <td>1012</td>\n",
       "      <td>ELS</td>\n",
       "      <td>EQUITY LIFESTYLE PROPERTIES INC</td>\n",
       "      <td>NYSE</td>\n",
       "      <td>1</td>\n",
       "      <td>1993-02-25</td>\n",
       "      <td>2016-10-28</td>\n",
       "    </tr>\n",
       "    <tr>\n",
       "      <th>89</th>\n",
       "      <td>1090</td>\n",
       "      <td>EQR</td>\n",
       "      <td>EQUITY RESIDENTIAL</td>\n",
       "      <td>NYSE</td>\n",
       "      <td>1</td>\n",
       "      <td>1993-08-12</td>\n",
       "      <td>2016-10-28</td>\n",
       "    </tr>\n",
       "    <tr>\n",
       "      <th>254</th>\n",
       "      <td>1255</td>\n",
       "      <td>TYW</td>\n",
       "      <td>TAIWAN EQUITY FUND</td>\n",
       "      <td>NYSE</td>\n",
       "      <td>0</td>\n",
       "      <td>1994-07-19</td>\n",
       "      <td>2000-05-05</td>\n",
       "    </tr>\n",
       "    <tr>\n",
       "      <th>273</th>\n",
       "      <td>1274</td>\n",
       "      <td>KEF</td>\n",
       "      <td>KOREA EQUITY FUND INC</td>\n",
       "      <td>NYSE</td>\n",
       "      <td>1</td>\n",
       "      <td>1994-09-19</td>\n",
       "      <td>2016-10-28</td>\n",
       "    </tr>\n",
       "    <tr>\n",
       "      <th>411</th>\n",
       "      <td>1412</td>\n",
       "      <td>EQU</td>\n",
       "      <td>EQUITY CP INTL</td>\n",
       "      <td>NYSE</td>\n",
       "      <td>0</td>\n",
       "      <td>1994-10-19</td>\n",
       "      <td>1999-01-19</td>\n",
       "    </tr>\n",
       "  </tbody>\n",
       "</table>\n",
       "</div>"
      ],
      "text/plain": [
       "     csinumber symbol                     company_name exchange  isactive  \\\n",
       "11        1012    ELS  EQUITY LIFESTYLE PROPERTIES INC     NYSE         1   \n",
       "89        1090    EQR               EQUITY RESIDENTIAL     NYSE         1   \n",
       "254       1255    TYW               TAIWAN EQUITY FUND     NYSE         0   \n",
       "273       1274    KEF            KOREA EQUITY FUND INC     NYSE         1   \n",
       "411       1412    EQU                   EQUITY CP INTL     NYSE         0   \n",
       "\n",
       "      startdate     enddate  \n",
       "11   1993-02-25  2016-10-28  \n",
       "89   1993-08-12  2016-10-28  \n",
       "254  1994-07-19  2000-05-05  \n",
       "273  1994-09-19  2016-10-28  \n",
       "411  1994-10-19  1999-01-19  "
      ]
     },
     "execution_count": 80,
     "metadata": {},
     "output_type": "execute_result"
    }
   ],
   "source": [
    "csi_data[csi_data['company_name'].str.contains('EQUITY')].head()"
   ]
  },
  {
   "cell_type": "code",
   "execution_count": 19,
   "metadata": {
    "collapsed": false
   },
   "outputs": [],
   "source": [
    "#new_df = csi_data.join(filings_data, on='company_name', how='inner')\n"
   ]
  },
  {
   "cell_type": "code",
   "execution_count": 17,
   "metadata": {
    "collapsed": false
   },
   "outputs": [],
   "source": [
    "engine = create_engine('postgresql://analyst:@localhost:5432/edgar')\n",
    "\n",
    "conn = engine.connect()\n",
    "\n",
    "cik_to_csi_df = pd.read_sql_table('cik_to_csi', conn)\n",
    "conn.close()"
   ]
  },
  {
   "cell_type": "code",
   "execution_count": 18,
   "metadata": {
    "collapsed": false
   },
   "outputs": [
    {
     "data": {
      "text/html": [
       "<div>\n",
       "<table border=\"1\" class=\"dataframe\">\n",
       "  <thead>\n",
       "    <tr style=\"text-align: right;\">\n",
       "      <th></th>\n",
       "      <th>cik</th>\n",
       "      <th>company_name</th>\n",
       "      <th>symbol</th>\n",
       "      <th>exchange</th>\n",
       "      <th>isactive</th>\n",
       "      <th>startdate</th>\n",
       "      <th>enddate</th>\n",
       "    </tr>\n",
       "  </thead>\n",
       "  <tbody>\n",
       "    <tr>\n",
       "      <th>1</th>\n",
       "      <td>1000045</td>\n",
       "      <td>NICHOLAS FINANCIAL INC</td>\n",
       "      <td>NICK</td>\n",
       "      <td>NASDAQ</td>\n",
       "      <td>1</td>\n",
       "      <td>1997-12-29</td>\n",
       "      <td>2016-10-19</td>\n",
       "    </tr>\n",
       "    <tr>\n",
       "      <th>2</th>\n",
       "      <td>1000045</td>\n",
       "      <td>NICHOLAS FINANCIAL INC</td>\n",
       "      <td>NICU</td>\n",
       "      <td>VSE</td>\n",
       "      <td>0</td>\n",
       "      <td>1996-08-08</td>\n",
       "      <td>1998-03-11</td>\n",
       "    </tr>\n",
       "  </tbody>\n",
       "</table>\n",
       "</div>"
      ],
      "text/plain": [
       "       cik            company_name symbol exchange  isactive   startdate  \\\n",
       "1  1000045  NICHOLAS FINANCIAL INC   NICK   NASDAQ         1  1997-12-29   \n",
       "2  1000045  NICHOLAS FINANCIAL INC   NICU      VSE         0  1996-08-08   \n",
       "\n",
       "      enddate  \n",
       "1  2016-10-19  \n",
       "2  1998-03-11  "
      ]
     },
     "execution_count": 18,
     "metadata": {},
     "output_type": "execute_result"
    }
   ],
   "source": [
    "# Equivelent of sql where clause\n",
    "cik_to_csi_df[cik_to_csi_df['cik']  == '1000045']"
   ]
  },
  {
   "cell_type": "code",
   "execution_count": 19,
   "metadata": {
    "collapsed": true
   },
   "outputs": [],
   "source": [
    "# What you need to do is figure out which stocks are in the csi data but did not map to a company name from the sec\n",
    "# Some of the names may have been entered different\n",
    "# Natural language processing may help"
   ]
  },
  {
   "cell_type": "code",
   "execution_count": 20,
   "metadata": {
    "collapsed": false
   },
   "outputs": [],
   "source": [
    "def sql_to_df(query, connection):\n",
    "    df = pd.read_sql(query, connection)\n",
    "    connection.close()\n",
    "    return df"
   ]
  },
  {
   "cell_type": "code",
   "execution_count": 21,
   "metadata": {
    "collapsed": false
   },
   "outputs": [],
   "source": [
    "cik_to_csi_symbols = sql_to_df(\"select symbol from cik_to_csi;\", engine.connect())['symbol'].values.tolist()\n"
   ]
  },
  {
   "cell_type": "code",
   "execution_count": 22,
   "metadata": {
    "collapsed": false
   },
   "outputs": [],
   "source": [
    "# Create a table to \n",
    "csi_stock_data_not_found_in_filings = sql_to_df(\"\"\"select distinct symbol, \n",
    "                                company_name, exchange, isactive, \n",
    "                                startdate, enddate \n",
    "                                from csi_stock_data where symbol not in {};\"\"\".format(tuple(cik_to_csi_symbols)), \n",
    "                           engine.connect())"
   ]
  },
  {
   "cell_type": "code",
   "execution_count": 23,
   "metadata": {
    "collapsed": false
   },
   "outputs": [],
   "source": [
    "# Creates a table of the unmatching companies\n",
    "#csi_stock_data_not_found_in_filings.to_sql('unmatching_csi_data', engine)"
   ]
  },
  {
   "cell_type": "code",
   "execution_count": 24,
   "metadata": {
    "collapsed": true
   },
   "outputs": [],
   "source": [
    "csi_stock_data = sql_to_df(\"select * from cik_to_csi;\", engine.connect())"
   ]
  },
  {
   "cell_type": "code",
   "execution_count": 357,
   "metadata": {
    "collapsed": false
   },
   "outputs": [
    {
     "data": {
      "text/html": [
       "<div>\n",
       "<table border=\"1\" class=\"dataframe\">\n",
       "  <thead>\n",
       "    <tr style=\"text-align: right;\">\n",
       "      <th></th>\n",
       "      <th>cik</th>\n",
       "      <th>company_name</th>\n",
       "      <th>symbol</th>\n",
       "      <th>exchange</th>\n",
       "      <th>isactive</th>\n",
       "      <th>startdate</th>\n",
       "      <th>enddate</th>\n",
       "    </tr>\n",
       "  </thead>\n",
       "  <tbody>\n",
       "    <tr>\n",
       "      <th>0</th>\n",
       "      <td>1000015</td>\n",
       "      <td>META GROUP INC</td>\n",
       "      <td>METG</td>\n",
       "      <td>NASDAQ</td>\n",
       "      <td>0</td>\n",
       "      <td>1995-12-01</td>\n",
       "      <td>2005-03-31</td>\n",
       "    </tr>\n",
       "    <tr>\n",
       "      <th>1</th>\n",
       "      <td>1000045</td>\n",
       "      <td>NICHOLAS FINANCIAL INC</td>\n",
       "      <td>NICK</td>\n",
       "      <td>NASDAQ</td>\n",
       "      <td>1</td>\n",
       "      <td>1997-12-29</td>\n",
       "      <td>2016-10-19</td>\n",
       "    </tr>\n",
       "    <tr>\n",
       "      <th>2</th>\n",
       "      <td>1000045</td>\n",
       "      <td>NICHOLAS FINANCIAL INC</td>\n",
       "      <td>NICU</td>\n",
       "      <td>VSE</td>\n",
       "      <td>0</td>\n",
       "      <td>1996-08-08</td>\n",
       "      <td>1998-03-11</td>\n",
       "    </tr>\n",
       "    <tr>\n",
       "      <th>3</th>\n",
       "      <td>1000048</td>\n",
       "      <td>TECHNOLOGY FLAVORS &amp; FRAGRANCES INC</td>\n",
       "      <td>TFF</td>\n",
       "      <td>AMEX</td>\n",
       "      <td>0</td>\n",
       "      <td>1999-07-12</td>\n",
       "      <td>2005-06-28</td>\n",
       "    </tr>\n",
       "    <tr>\n",
       "      <th>4</th>\n",
       "      <td>1000048</td>\n",
       "      <td>TECHNOLOGY FLAVORS &amp; FRAGRANCES INC</td>\n",
       "      <td>TFF</td>\n",
       "      <td>TSX</td>\n",
       "      <td>0</td>\n",
       "      <td>1996-08-13</td>\n",
       "      <td>2002-11-15</td>\n",
       "    </tr>\n",
       "  </tbody>\n",
       "</table>\n",
       "</div>"
      ],
      "text/plain": [
       "       cik                         company_name symbol exchange  isactive  \\\n",
       "0  1000015                       META GROUP INC   METG   NASDAQ         0   \n",
       "1  1000045               NICHOLAS FINANCIAL INC   NICK   NASDAQ         1   \n",
       "2  1000045               NICHOLAS FINANCIAL INC   NICU      VSE         0   \n",
       "3  1000048  TECHNOLOGY FLAVORS & FRAGRANCES INC    TFF     AMEX         0   \n",
       "4  1000048  TECHNOLOGY FLAVORS & FRAGRANCES INC    TFF      TSX         0   \n",
       "\n",
       "    startdate     enddate  \n",
       "0  1995-12-01  2005-03-31  \n",
       "1  1997-12-29  2016-10-19  \n",
       "2  1996-08-08  1998-03-11  \n",
       "3  1999-07-12  2005-06-28  \n",
       "4  1996-08-13  2002-11-15  "
      ]
     },
     "execution_count": 357,
     "metadata": {},
     "output_type": "execute_result"
    }
   ],
   "source": [
    "csi_stock_data.head()"
   ]
  },
  {
   "cell_type": "code",
   "execution_count": 30,
   "metadata": {
    "collapsed": false
   },
   "outputs": [
    {
     "data": {
      "text/html": [
       "<div>\n",
       "<table border=\"1\" class=\"dataframe\">\n",
       "  <thead>\n",
       "    <tr style=\"text-align: right;\">\n",
       "      <th></th>\n",
       "      <th>symbol</th>\n",
       "      <th>company_name</th>\n",
       "      <th>exchange</th>\n",
       "      <th>isactive</th>\n",
       "      <th>startdate</th>\n",
       "      <th>enddate</th>\n",
       "    </tr>\n",
       "  </thead>\n",
       "  <tbody>\n",
       "    <tr>\n",
       "      <th>0</th>\n",
       "      <td>&amp;AGIN</td>\n",
       "      <td>AGI NORTH AMERICA</td>\n",
       "      <td>INDEX</td>\n",
       "      <td>0</td>\n",
       "      <td>2007-06-27</td>\n",
       "      <td>2013-03-21</td>\n",
       "    </tr>\n",
       "    <tr>\n",
       "      <th>1</th>\n",
       "      <td>&amp;AGIZL</td>\n",
       "      <td>ARDOUR GLOBAL INDEX EXTRA LIQUID</td>\n",
       "      <td>INDEX</td>\n",
       "      <td>1</td>\n",
       "      <td>2007-06-27</td>\n",
       "      <td>2016-10-19</td>\n",
       "    </tr>\n",
       "    <tr>\n",
       "      <th>2</th>\n",
       "      <td>&amp;CRSPSCT</td>\n",
       "      <td>CRSP US SMALL CAP TR INDEX</td>\n",
       "      <td>INDEX</td>\n",
       "      <td>1</td>\n",
       "      <td>2015-10-23</td>\n",
       "      <td>2016-10-19</td>\n",
       "    </tr>\n",
       "    <tr>\n",
       "      <th>3</th>\n",
       "      <td>&amp;GSM</td>\n",
       "      <td>S&amp;P GSTI SEMICONDUCTOR INDEX</td>\n",
       "      <td>INDEX</td>\n",
       "      <td>1</td>\n",
       "      <td>1996-07-08</td>\n",
       "      <td>2016-03-04</td>\n",
       "    </tr>\n",
       "    <tr>\n",
       "      <th>4</th>\n",
       "      <td>&amp;GSO</td>\n",
       "      <td>S&amp;P GSTI SOFTWARE INDEX</td>\n",
       "      <td>INDEX</td>\n",
       "      <td>1</td>\n",
       "      <td>1996-07-08</td>\n",
       "      <td>2016-10-19</td>\n",
       "    </tr>\n",
       "  </tbody>\n",
       "</table>\n",
       "</div>"
      ],
      "text/plain": [
       "     symbol                      company_name exchange  isactive   startdate  \\\n",
       "0     &AGIN                 AGI NORTH AMERICA    INDEX         0  2007-06-27   \n",
       "1    &AGIZL  ARDOUR GLOBAL INDEX EXTRA LIQUID    INDEX         1  2007-06-27   \n",
       "2  &CRSPSCT        CRSP US SMALL CAP TR INDEX    INDEX         1  2015-10-23   \n",
       "3      &GSM      S&P GSTI SEMICONDUCTOR INDEX    INDEX         1  1996-07-08   \n",
       "4      &GSO           S&P GSTI SOFTWARE INDEX    INDEX         1  1996-07-08   \n",
       "\n",
       "      enddate  \n",
       "0  2013-03-21  \n",
       "1  2016-10-19  \n",
       "2  2016-10-19  \n",
       "3  2016-03-04  \n",
       "4  2016-10-19  "
      ]
     },
     "execution_count": 30,
     "metadata": {},
     "output_type": "execute_result"
    }
   ],
   "source": [
    "csi_stock_data_not_found_in_filings.head()"
   ]
  },
  {
   "cell_type": "code",
   "execution_count": 27,
   "metadata": {
    "collapsed": false
   },
   "outputs": [],
   "source": [
    "filings_df = sql_to_df(\"select distinct company_name, cik from filings;\", engine.connect())\n",
    "filings_df['company_name'] = filings_df['company_name'].str.upper()\n",
    "filings_df = filings_df[filings_df['company_name'] != \"\"]"
   ]
  },
  {
   "cell_type": "code",
   "execution_count": null,
   "metadata": {
    "collapsed": false
   },
   "outputs": [],
   "source": [
    "%%time\n",
    "\n",
    "import re\n",
    "from pickle import dump\n",
    "from requests import get\n",
    "\n",
    "\n",
    "def tickers_to_cik(list_of_tickers):\n",
    "    URL = 'http://www.sec.gov/cgi-bin/browse-edgar?CIK={}&Find=Search&owner=exclude&action=getcompany'\n",
    "    CIK_RE = re.compile('.*CIK=(\\d{10}).*')\n",
    "\n",
    "    cik_dict = {}\n",
    "    for ticker in list_of_tickers:\n",
    "        results = CIK_RE.findall(get(URL.format(ticker)).text)\n",
    "        if len(results):\n",
    "            cik_dict[str(ticker).upper()] = str(results[0]).lstrip('0')\n",
    "        else:\n",
    "            no_matches.append(str(ticker).upper())\n",
    "    return cik_dict\n",
    "\n",
    "def new_nasdaq_tickers_and_names(engine):\n",
    "    \"\"\"\n",
    "        This function queries the cik_to_csi table and returns a dataframe of tickers and company names for companies\n",
    "        not found in our data.\n",
    "    \"\"\"\n",
    "    nasdaq_companies = pd.read_csv(\"data/nasdaqcompanylist.csv\")\n",
    "    amex_companies = pd.read_csv(\"data/amexcompanylist.csv\")\n",
    "    nyse_companies = pd.read_csv(\"data/nysecompanylist.csv\")\n",
    "    nasdaq_name_and_ticker = pd.DataFrame(nasdaq_companies, columns=['Symbol', 'Name'])\n",
    "    nasdaq_name_and_ticker['exchange'] = 'NASDAQ'\n",
    "    amex_name_and_ticker = pd.DataFrame(amex_companies, columns=['Symbol', 'Name'])\n",
    "    amex_name_and_ticker['exchange'] = 'AMEX'\n",
    "    nyse_name_and_ticker = pd.DataFrame(nyse_companies, columns=['Symbol', 'Name'])\n",
    "    nyse_name_and_ticker['exchange'] ='NYSE'\n",
    "    companies_and_symbols = pd.concat([nasdaq_name_and_ticker, amex_name_and_ticker, nyse_name_and_ticker])\n",
    "    companies_and_tickers = companies_and_symbols.rename(columns={'Symbol': 'symbol', \"Name\": \"name\"})\n",
    "    companies_and_tickers['isactive'] = 1\n",
    "    list_of_tickers_from_nasdaq = companies_and_tickers['symbol'].values.tolist()\n",
    "    list_of_tickers_in_cik_to_csi_table = pd.read_sql_query('select distinct symbol from cik_to_csi;',con=engine)['symbol'].values.tolist()\n",
    "    not_found_in_db = []\n",
    "    for x in list_of_tickers_from_nasdaq:\n",
    "        if x not in list_of_tickers_in_cik_to_csi_table and x not in not_found_in_db:\n",
    "            not_found_in_db.append(x)\n",
    "    return companies_and_tickers[companies_and_tickers['symbol'].isin(not_found_in_db)]\n",
    "\n",
    "\n",
    "def return_matches(first_li, second_li):\n",
    "    return set(first_li) & set(second_li)\n",
    "\n",
    "\n",
    "def remove_ending(company_name, ending):\n",
    "    \"\"\"\n",
    "        Provide a company name and the phrase you are looking to end at.\n",
    "    \"\"\"\n",
    "    a, b, c = company_name.partition(ending)\n",
    "    return a + b\n",
    "\n",
    "def remove_unimportant_characters(company_name):\n",
    "    company_name = re.sub(r'\\([^)]*\\)', '', company_name)\n",
    "    word_list = ['GROUP', 'INC', 'CORP', 'FUND', 'INTERNATIONAL']\n",
    "    for word in word_list:\n",
    "        company_name = re.sub(r'\\b{}\\b'.format(word), '', company_name)\n",
    "    p = re.compile(\"&|-|\\)|\\(\")\n",
    "    company_name = p.sub('', company_name)\n",
    "    return company_name\n",
    "    \n",
    "def normalized_company_namelist(df):\n",
    "    company_names = {}\n",
    "    common_phrases = []#['GROUP', 'INC', 'CORP', 'FUND', 'INTERNATIONAL']\n",
    "    for x in df['company_name'].index:\n",
    "        name = df['company_name'][x]\n",
    "        for word in common_phrases:\n",
    "            if word in name:\n",
    "                no_inc = remove_ending(name, word)\n",
    "                company_names[remove_unimportant_characters(no_inc)] = name\n",
    "            else:\n",
    "                pass\n",
    "        company_names[remove_unimportant_characters(name)] = name\n",
    "        \n",
    "    return company_names\n",
    "\n",
    "\n",
    "def insert(df, entries):\n",
    "    \"\"\"\n",
    "        Takes a set of values and inserts them into a dataframe sequentially where the index is\n",
    "        sequential and continuous.\n",
    "    \"\"\"\n",
    "    try:\n",
    "        df.loc[max(df.index) + 1] = entries\n",
    "    except ValueError:\n",
    "        df.loc[0] = entries\n",
    "        \n",
    "        \n",
    "def shorten_to_match(dic, matches):\n",
    "    new_dict = dic.copy()\n",
    "    for key in dic.keys():\n",
    "        if key not in matches:\n",
    "            new_dict.pop(key)\n",
    "    return new_dict\n",
    "    \n",
    "\n",
    "def matches_to_frame():\n",
    "    normalized_csi = normalized_company_namelist(csi_stock_data_not_found_in_filings)\n",
    "    normalized_filings = normalized_company_namelist(filings_df)\n",
    "    new_matches = return_matches(list(normalized_csi.keys()), list(normalized_filings.keys()))\n",
    "    matched_csi = shorten_to_match(normalized_csi, new_matches)\n",
    "    matched_filings = shorten_to_match(normalized_filings, new_matches)\n",
    "    \n",
    "    new_matches_df = pd.DataFrame(columns=['filings_name', 'csi_name', 'match'])\n",
    "    \n",
    "    for val in new_matches:\n",
    "        insert(new_matches_df, [matched_filings[val], matched_csi[val], val])\n",
    "        \n",
    "            \n",
    "    return new_matches_df\n",
    "    \n",
    "def create_matches_dataframe(): \n",
    "    \"\"\"\n",
    "        This function creates a dataframe that finds new ticker matches from the csi data using fuzzystring algorithms.\n",
    "        This method isn't very accurate but it's a start.\n",
    "    \"\"\"\n",
    "    new_matches_df = matches_to_frame()\n",
    "    merged_filings = pd.merge(left=new_matches_df, right=filings_df, right_on='company_name', left_on='filings_name')\n",
    "    merged_filings = pd.DataFrame(merged_filings, columns=['filings_name', 'csi_name', 'match', 'cik'])\n",
    "    merged_ticker = pd.merge(left= merged_filings, right=csi_stock_data_not_found_in_filings, right_on='company_name', left_on='csi_name')\n",
    "    merged_ticker =  pd.DataFrame(merged_ticker, columns=['filings_name', 'csi_name', 'match','percent_match', 'cik', 'symbol'])\n",
    "\n",
    "    def update_percent_match(merged_ticker):\n",
    "        for x in range(len(merged_ticker)):\n",
    "            merged_ticker.loc[x, ('percent_match')] = fuzz.ratio(merged_ticker.loc[x]['filings_name'], merged_ticker.loc[x]['csi_name'])\n",
    "        \n",
    "        return merged_ticker \n",
    "\n",
    "    merging_new_cik_csi = update_percent_match(merged_ticker)\n",
    "    return merging_new_cik_csi\n",
    "\n"
   ]
  },
  {
   "cell_type": "markdown",
   "metadata": {
    "collapsed": false
   },
   "source": [
    "<h2>The Goal In The Next Section Is To Add as Many Tickers To CIK Id's as Possible</h2>\n",
    "\n",
    "<ul>\n",
    "    <li>Find as many matching tickers as possible</li>\n",
    "    <li>Take the matching tickers, cik, and company names from all datasources and create a new table.</li>\n",
    "    <li>Write a code that will automate this process</li>\n",
    "</ul>"
   ]
  },
  {
   "cell_type": "code",
   "execution_count": 739,
   "metadata": {
    "collapsed": false
   },
   "outputs": [
    {
     "data": {
      "text/plain": [
       "2203"
      ]
     },
     "execution_count": 739,
     "metadata": {},
     "output_type": "execute_result"
    }
   ],
   "source": [
    "# This function will find mathces based on fuzzy string algorithms\n",
    "matches_df = create_matches_dataframe()\n",
    "len(matches_df)"
   ]
  },
  {
   "cell_type": "code",
   "execution_count": 682,
   "metadata": {
    "collapsed": false
   },
   "outputs": [
    {
     "data": {
      "text/html": [
       "<div>\n",
       "<table border=\"1\" class=\"dataframe\">\n",
       "  <thead>\n",
       "    <tr style=\"text-align: right;\">\n",
       "      <th></th>\n",
       "      <th>symbol</th>\n",
       "      <th>company_name</th>\n",
       "      <th>exchange</th>\n",
       "      <th>isactive</th>\n",
       "    </tr>\n",
       "  </thead>\n",
       "  <tbody>\n",
       "    <tr>\n",
       "      <th>0</th>\n",
       "      <td>PIH</td>\n",
       "      <td>1347 PROPERTY INSURANCE HOLDINGS, INC.</td>\n",
       "      <td>NASDAQ</td>\n",
       "      <td>1</td>\n",
       "    </tr>\n",
       "    <tr>\n",
       "      <th>1</th>\n",
       "      <td>FLWS</td>\n",
       "      <td>1-800 FLOWERS.COM, INC.</td>\n",
       "      <td>NASDAQ</td>\n",
       "      <td>1</td>\n",
       "    </tr>\n",
       "    <tr>\n",
       "      <th>2</th>\n",
       "      <td>FCCY</td>\n",
       "      <td>1ST CONSTITUTION BANCORP (NJ)</td>\n",
       "      <td>NASDAQ</td>\n",
       "      <td>1</td>\n",
       "    </tr>\n",
       "    <tr>\n",
       "      <th>4</th>\n",
       "      <td>VNET</td>\n",
       "      <td>21VIANET GROUP, INC.</td>\n",
       "      <td>NASDAQ</td>\n",
       "      <td>1</td>\n",
       "    </tr>\n",
       "    <tr>\n",
       "      <th>5</th>\n",
       "      <td>TWOU</td>\n",
       "      <td>2U, INC.</td>\n",
       "      <td>NASDAQ</td>\n",
       "      <td>1</td>\n",
       "    </tr>\n",
       "  </tbody>\n",
       "</table>\n",
       "</div>"
      ],
      "text/plain": [
       "  symbol                            company_name exchange  isactive\n",
       "0    PIH  1347 PROPERTY INSURANCE HOLDINGS, INC.   NASDAQ         1\n",
       "1   FLWS                 1-800 FLOWERS.COM, INC.   NASDAQ         1\n",
       "2   FCCY           1ST CONSTITUTION BANCORP (NJ)   NASDAQ         1\n",
       "4   VNET                    21VIANET GROUP, INC.   NASDAQ         1\n",
       "5   TWOU                                2U, INC.   NASDAQ         1"
      ]
     },
     "execution_count": 682,
     "metadata": {},
     "output_type": "execute_result"
    }
   ],
   "source": [
    "# This function finds tickers listed on the nasdaq website it should be 100% \n",
    "# correct and the company names match very closely to the sec filings\n",
    "tickers_from_nasdaq_site = new_nasdaq_tickers_and_names(engine)\n",
    "tickers_from_nasdaq_site = tickers_from_nasdaq_site.rename(columns={\"name\": \"company_name\"})\n",
    "tickers_from_nasdaq_site['company_name'] = tickers_from_nasdaq_site['company_name'].str.upper()\n",
    "tickers_from_nasdaq_site.head()\n"
   ]
  },
  {
   "cell_type": "code",
   "execution_count": 683,
   "metadata": {
    "collapsed": false
   },
   "outputs": [
    {
     "name": "stdout",
     "output_type": "stream",
     "text": [
      "tickers_from_nasdaq_site: 3909\n",
      "Filings_df: 640632\n"
     ]
    }
   ],
   "source": [
    "print(\"tickers_from_nasdaq_site: {}\".format(len(tickers_from_nasdaq_site)))\n",
    "print(\"Filings_df: {}\".format(len(filings_df)))\n"
   ]
  },
  {
   "cell_type": "code",
   "execution_count": 684,
   "metadata": {
    "collapsed": false
   },
   "outputs": [
    {
     "data": {
      "text/html": [
       "<div>\n",
       "<table border=\"1\" class=\"dataframe\">\n",
       "  <thead>\n",
       "    <tr style=\"text-align: right;\">\n",
       "      <th></th>\n",
       "      <th>company_name</th>\n",
       "      <th>cik</th>\n",
       "    </tr>\n",
       "  </thead>\n",
       "  <tbody>\n",
       "    <tr>\n",
       "      <th>1</th>\n",
       "      <td>!J INC</td>\n",
       "      <td>1438823</td>\n",
       "    </tr>\n",
       "    <tr>\n",
       "      <th>2</th>\n",
       "      <td>#1 A LIFESAFER HOLDINGS, INC.</td>\n",
       "      <td>1509607</td>\n",
       "    </tr>\n",
       "    <tr>\n",
       "      <th>3</th>\n",
       "      <td>#1 ARIZONA DISCOUNT PROPERTIES LLC</td>\n",
       "      <td>1457512</td>\n",
       "    </tr>\n",
       "    <tr>\n",
       "      <th>4</th>\n",
       "      <td>#1 PAINTBALL CORP</td>\n",
       "      <td>1433777</td>\n",
       "    </tr>\n",
       "    <tr>\n",
       "      <th>5</th>\n",
       "      <td>$ LLC</td>\n",
       "      <td>1427189</td>\n",
       "    </tr>\n",
       "  </tbody>\n",
       "</table>\n",
       "</div>"
      ],
      "text/plain": [
       "                         company_name      cik\n",
       "1                              !J INC  1438823\n",
       "2       #1 A LIFESAFER HOLDINGS, INC.  1509607\n",
       "3  #1 ARIZONA DISCOUNT PROPERTIES LLC  1457512\n",
       "4                   #1 PAINTBALL CORP  1433777\n",
       "5                               $ LLC  1427189"
      ]
     },
     "execution_count": 684,
     "metadata": {},
     "output_type": "execute_result"
    }
   ],
   "source": [
    "filings_df.head()\n"
   ]
  },
  {
   "cell_type": "code",
   "execution_count": 685,
   "metadata": {
    "collapsed": false
   },
   "outputs": [],
   "source": [
    "# There was a loss of 2000 securities during this operation\n",
    "matches_from_exchange_list= pd.merge(left=tickers_from_nasdaq_site, right=filings_df, right_on='company_name', left_on='company_name')"
   ]
  },
  {
   "cell_type": "code",
   "execution_count": 691,
   "metadata": {
    "collapsed": false
   },
   "outputs": [
    {
     "name": "stdout",
     "output_type": "stream",
     "text": [
      "1933\n"
     ]
    }
   ],
   "source": [
    "print(len(matches_from_exchange_list))\n"
   ]
  },
  {
   "cell_type": "code",
   "execution_count": 754,
   "metadata": {
    "collapsed": false
   },
   "outputs": [],
   "source": [
    "#tickers_to_cik(['TWLO', 'BAC', 'AAPL'])\n",
    "def make_list_of_tickers():\n",
    "    ticker_list = []\n",
    "    ticker_list = tickers_from_nasdaq_site['symbol'].values.tolist()\n",
    "    csi_data_symbols = csi_data['symbol'].values.tolist()\n",
    "    for tick in csi_data_symbols:\n",
    "    #for tick in cik_to_csi_df['symbol'].values.tolist():\n",
    "        if tick not in ticker_list:\n",
    "            ticker_list.append(tick)\n",
    "    return ticker_list"
   ]
  },
  {
   "cell_type": "code",
   "execution_count": 755,
   "metadata": {
    "collapsed": false
   },
   "outputs": [],
   "source": [
    "ticker_list = make_list_of_tickers()\n",
    "ticker_cik_dict = tickers_to_cik(ticker_list[1:10])"
   ]
  },
  {
   "cell_type": "code",
   "execution_count": 756,
   "metadata": {
    "collapsed": false
   },
   "outputs": [
    {
     "name": "stdout",
     "output_type": "stream",
     "text": [
      "99343\n"
     ]
    },
    {
     "data": {
      "text/plain": [
       "{'abeo': '318306',\n",
       " 'avhi': '39677',\n",
       " 'cafd': '1635581',\n",
       " 'fccy': '1141807',\n",
       " 'flws': '1084869',\n",
       " 'jobs': '1295484',\n",
       " 'shlm': '87565',\n",
       " 'twou': '1459417',\n",
       " 'vnet': '1508475'}"
      ]
     },
     "execution_count": 756,
     "metadata": {},
     "output_type": "execute_result"
    }
   ],
   "source": [
    "ticker_list = make_list_of_tickers()\n",
    "ticker_cik_dict = tickers_to_cik(ticker_list[1:10])\n",
    "print(len(ticker_list))\n",
    "ticker_cik_dict\n"
   ]
  },
  {
   "cell_type": "code",
   "execution_count": 580,
   "metadata": {
    "collapsed": false
   },
   "outputs": [],
   "source": [
    "conn = engine.connect()\n",
    "csi_to_cik_tick_matches = sql_to_df(\"select cik, company_name, symbol, exchange, isactive from cik_to_csi;\",conn)\n",
    "conn.close()"
   ]
  },
  {
   "cell_type": "code",
   "execution_count": 692,
   "metadata": {
    "collapsed": false
   },
   "outputs": [
    {
     "data": {
      "text/html": [
       "<div>\n",
       "<table border=\"1\" class=\"dataframe\">\n",
       "  <thead>\n",
       "    <tr style=\"text-align: right;\">\n",
       "      <th></th>\n",
       "      <th>cik</th>\n",
       "      <th>company_name</th>\n",
       "      <th>symbol</th>\n",
       "      <th>exchange</th>\n",
       "      <th>isactive</th>\n",
       "    </tr>\n",
       "  </thead>\n",
       "  <tbody>\n",
       "    <tr>\n",
       "      <th>0</th>\n",
       "      <td>1000015</td>\n",
       "      <td>META GROUP INC</td>\n",
       "      <td>METG</td>\n",
       "      <td>NASDAQ</td>\n",
       "      <td>0</td>\n",
       "    </tr>\n",
       "    <tr>\n",
       "      <th>1</th>\n",
       "      <td>1000045</td>\n",
       "      <td>NICHOLAS FINANCIAL INC</td>\n",
       "      <td>NICK</td>\n",
       "      <td>NASDAQ</td>\n",
       "      <td>1</td>\n",
       "    </tr>\n",
       "    <tr>\n",
       "      <th>2</th>\n",
       "      <td>1000045</td>\n",
       "      <td>NICHOLAS FINANCIAL INC</td>\n",
       "      <td>NICU</td>\n",
       "      <td>VSE</td>\n",
       "      <td>0</td>\n",
       "    </tr>\n",
       "    <tr>\n",
       "      <th>3</th>\n",
       "      <td>1000048</td>\n",
       "      <td>TECHNOLOGY FLAVORS &amp; FRAGRANCES INC</td>\n",
       "      <td>TFF</td>\n",
       "      <td>AMEX</td>\n",
       "      <td>0</td>\n",
       "    </tr>\n",
       "    <tr>\n",
       "      <th>4</th>\n",
       "      <td>1000048</td>\n",
       "      <td>TECHNOLOGY FLAVORS &amp; FRAGRANCES INC</td>\n",
       "      <td>TFF</td>\n",
       "      <td>TSX</td>\n",
       "      <td>0</td>\n",
       "    </tr>\n",
       "  </tbody>\n",
       "</table>\n",
       "</div>"
      ],
      "text/plain": [
       "       cik                         company_name symbol exchange  isactive\n",
       "0  1000015                       META GROUP INC   METG   NASDAQ         0\n",
       "1  1000045               NICHOLAS FINANCIAL INC   NICK   NASDAQ         1\n",
       "2  1000045               NICHOLAS FINANCIAL INC   NICU      VSE         0\n",
       "3  1000048  TECHNOLOGY FLAVORS & FRAGRANCES INC    TFF     AMEX         0\n",
       "4  1000048  TECHNOLOGY FLAVORS & FRAGRANCES INC    TFF      TSX         0"
      ]
     },
     "execution_count": 692,
     "metadata": {},
     "output_type": "execute_result"
    }
   ],
   "source": [
    "csi_to_cik_tick_matches.head()"
   ]
  },
  {
   "cell_type": "code",
   "execution_count": 694,
   "metadata": {
    "collapsed": false
   },
   "outputs": [
    {
     "name": "stdout",
     "output_type": "stream",
     "text": [
      "13909\n"
     ]
    },
    {
     "data": {
      "text/html": [
       "<div>\n",
       "<table border=\"1\" class=\"dataframe\">\n",
       "  <thead>\n",
       "    <tr style=\"text-align: right;\">\n",
       "      <th></th>\n",
       "      <th>cik</th>\n",
       "      <th>company_name</th>\n",
       "      <th>exchange</th>\n",
       "      <th>isactive</th>\n",
       "      <th>symbol</th>\n",
       "    </tr>\n",
       "  </thead>\n",
       "  <tbody>\n",
       "    <tr>\n",
       "      <th>0</th>\n",
       "      <td>1591890</td>\n",
       "      <td>1347 PROPERTY INSURANCE HOLDINGS, INC.</td>\n",
       "      <td>NASDAQ</td>\n",
       "      <td>1</td>\n",
       "      <td>PIH</td>\n",
       "    </tr>\n",
       "    <tr>\n",
       "      <th>1</th>\n",
       "      <td>1508475</td>\n",
       "      <td>21VIANET GROUP, INC.</td>\n",
       "      <td>NASDAQ</td>\n",
       "      <td>1</td>\n",
       "      <td>VNET</td>\n",
       "    </tr>\n",
       "    <tr>\n",
       "      <th>2</th>\n",
       "      <td>1459417</td>\n",
       "      <td>2U, INC.</td>\n",
       "      <td>NASDAQ</td>\n",
       "      <td>1</td>\n",
       "      <td>TWOU</td>\n",
       "    </tr>\n",
       "    <tr>\n",
       "      <th>3</th>\n",
       "      <td>1295484</td>\n",
       "      <td>51JOB, INC.</td>\n",
       "      <td>NASDAQ</td>\n",
       "      <td>1</td>\n",
       "      <td>JOBS</td>\n",
       "    </tr>\n",
       "    <tr>\n",
       "      <th>4</th>\n",
       "      <td>1295484</td>\n",
       "      <td>51JOB, INC.</td>\n",
       "      <td>NASDAQ</td>\n",
       "      <td>1</td>\n",
       "      <td>JOBS</td>\n",
       "    </tr>\n",
       "  </tbody>\n",
       "</table>\n",
       "</div>"
      ],
      "text/plain": [
       "       cik                            company_name exchange  isactive symbol\n",
       "0  1591890  1347 PROPERTY INSURANCE HOLDINGS, INC.   NASDAQ         1    PIH\n",
       "1  1508475                    21VIANET GROUP, INC.   NASDAQ         1   VNET\n",
       "2  1459417                                2U, INC.   NASDAQ         1   TWOU\n",
       "3  1295484                             51JOB, INC.   NASDAQ         1   JOBS\n",
       "4  1295484                             51JOB, INC.   NASDAQ         1   JOBS"
      ]
     },
     "execution_count": 694,
     "metadata": {},
     "output_type": "execute_result"
    }
   ],
   "source": [
    "cik_to_ticker = pd.concat([matches_from_exchange_list, csi_to_cik_tick_matches])\n",
    "print(len(cik_to_ticker))\n",
    "cik_to_ticker.head()"
   ]
  },
  {
   "cell_type": "code",
   "execution_count": 753,
   "metadata": {
    "collapsed": false
   },
   "outputs": [],
   "source": [
    "csi_data_symbols = csi_data['symbol'].values.tolist()"
   ]
  },
  {
   "cell_type": "code",
   "execution_count": null,
   "metadata": {
    "collapsed": false
   },
   "outputs": [],
   "source": []
  },
  {
   "cell_type": "code",
   "execution_count": null,
   "metadata": {
    "collapsed": false
   },
   "outputs": [],
   "source": []
  },
  {
   "cell_type": "code",
   "execution_count": 334,
   "metadata": {
    "collapsed": false
   },
   "outputs": [],
   "source": [
    "# The goal here is to write an algorithm that will find keys that mostly match in both list\n",
    "def hash_list(li):\n",
    "    dic = {}\n",
    "    for x in li:\n",
    "        dic[x] = x.split(\" \")\n",
    "    return dic\n",
    "\n",
    "#return_matches(normalized_csi.keys(), normalized_filings.keys())\n",
    "def check_for_matching_phrases(df, list1, list2):\n",
    "    '''\n",
    "        This function takes in two dictionaries and checks which keys contain similar values. \n",
    "        The match percentage is found by dividing the length of the minimum set of values by \n",
    "        the matches. Always put the largest dictionary first.\n",
    "    '''\n",
    "    #df = pd.DataFrame(columns=['filings_name', 'no_match_name', 'percent_match'])\n",
    "    for value1 in list1:\n",
    "        for value2 in list2:\n",
    "            match_ratio = fuzz.ratio(value1, value2)\n",
    "            partial_match_ratio = fuzz.partial_ratio(value1, value2)\n",
    "            insert(df, [value1, value2, match_ratio, partial_match_ratio])\n",
    "    return df\n",
    "\n"
   ]
  },
  {
   "cell_type": "code",
   "execution_count": 385,
   "metadata": {
    "collapsed": false
   },
   "outputs": [
    {
     "name": "stdout",
     "output_type": "stream",
     "text": [
      "CPU times: user 2 µs, sys: 1 µs, total: 3 µs\n",
      "Wall time: 5.96 µs\n"
     ]
    }
   ],
   "source": [
    "%%time\n",
    "# This ran for 8 hours and was only half way finished with 343324 rows in the dataframe\n",
    "#df = pd.DataFrame(columns=['filings_name', 'no_match_name', 'percent_match'])\n",
    "#matching_phrases = check_for_matching_phrases(df, hashed_comp_fil, hashed_no_match)"
   ]
  },
  {
   "cell_type": "code",
   "execution_count": 330,
   "metadata": {
    "collapsed": false
   },
   "outputs": [
    {
     "data": {
      "text/plain": [
       "2665"
      ]
     },
     "execution_count": 330,
     "metadata": {},
     "output_type": "execute_result"
    }
   ],
   "source": [
    "len(df)"
   ]
  },
  {
   "cell_type": "code",
   "execution_count": 384,
   "metadata": {
    "collapsed": false
   },
   "outputs": [],
   "source": [
    "#df[df['percent_match'] > .9]"
   ]
  },
  {
   "cell_type": "code",
   "execution_count": null,
   "metadata": {
    "collapsed": false
   },
   "outputs": [],
   "source": []
  },
  {
   "cell_type": "code",
   "execution_count": 355,
   "metadata": {
    "collapsed": false
   },
   "outputs": [],
   "source": [
    "\n"
   ]
  },
  {
   "cell_type": "code",
   "execution_count": 549,
   "metadata": {
    "collapsed": false
   },
   "outputs": [
    {
     "data": {
      "text/plain": [
       "(None, None)"
      ]
     },
     "execution_count": 549,
     "metadata": {},
     "output_type": "execute_result"
    }
   ],
   "source": [
    "import pyximport; pyximport.install()\n",
    "pyximport.install(pyimport = True)"
   ]
  },
  {
   "cell_type": "code",
   "execution_count": 360,
   "metadata": {
    "collapsed": false
   },
   "outputs": [],
   "source": [
    "from CheckMatches import check_matches as cm"
   ]
  },
  {
   "cell_type": "code",
   "execution_count": 386,
   "metadata": {
    "collapsed": false
   },
   "outputs": [
    {
     "name": "stdout",
     "output_type": "stream",
     "text": [
      "CPU times: user 3 µs, sys: 0 ns, total: 3 µs\n",
      "Wall time: 7.15 µs\n"
     ]
    }
   ],
   "source": [
    "%%time\n",
    "# This should be importing everything in as Cython now\n",
    "\n",
    "df = pd.DataFrame(columns=['filings_name', 'no_match_name', 'percent_match'])\n",
    "matching_phrases = check_for_matching_phrases(df, hashed_comp_fil, hashed_no_match)"
   ]
  },
  {
   "cell_type": "code",
   "execution_count": 553,
   "metadata": {
    "collapsed": false
   },
   "outputs": [],
   "source": [
    "\n",
    "\n",
    "def check_for_matching_phrases(df, list1, list2):\n",
    "    '''\n",
    "        This function takes in two dictionaries and checks which keys contain similar values. \n",
    "        The match percentage is found by dividing the length of the minimum set of values by \n",
    "        the matches. Always put the largest dictionary first.\n",
    "    '''\n",
    "    #df = pd.DataFrame(columns=['filings_name', 'no_match_name', 'percent_match'])\n",
    "    for value1 in list1:\n",
    "        for value2 in list2:\n",
    "            match_ratio = fuzz.ratio(value1, value2)\n",
    "            partial_match_ratio = fuzz.partial_ratio(value1, value2)\n",
    "            insert(df, [value1, value2, match_ratio, partial_match_ratio])\n",
    "    return df\n"
   ]
  },
  {
   "cell_type": "markdown",
   "metadata": {
    "collapsed": false
   },
   "source": [
    "<h2>Look into difflib from the standard library and possibly fuzzywuzzy to look for similar names</h2>\n",
    "\n",
    "<a href='http://stackoverflow.com/questions/10383044/fuzzy-string-comparison'>Stack Overflow Answer</a>\n",
    "\n",
    "<a href='https://en.wikipedia.org/wiki/Approximate_string_matching'>Aproximate String Algorithms</a>\n",
    "<a href='http://www.nasdaq.com/screening/company-list.aspx'>Nasdaq Company List</a>\n",
    "<p>Look at selenium library to do operations that need to be done in a browser</p>\n",
    "\n",
    "\n",
    "<pre>\n",
    "    # Add column example\n",
    "    \n",
    "    df = pd.DataFrame(columns=['col1', 'col2'])\n",
    "    \n",
    "    # This creates a dataframe with two columns\n",
    "    # to add a third column simply use:\n",
    "    \n",
    "    df['col3'] = 'NaN'\n",
    "    \n",
    "    # This will create the third column and initialize it with the NaN value.\n",
    "    # The new column can be initialized with any value you want\n",
    "   \n",
    "\n",
    "</pre>\n"
   ]
  },
  {
   "cell_type": "code",
   "execution_count": 368,
   "metadata": {
    "collapsed": false
   },
   "outputs": [],
   "source": [
    "#temp_filings = pd.DataFrame(filings_df)\n",
    "\n",
    "#temp_csi = pd.DataFrame(csi_data)\n",
    "\n",
    "#df = pd.DataFrame(columns=['filings_name', 'no_match_name', 'match_ratio', 'partial_match_ratio'])\n",
    "#matching_phrases = check_for_matching_phrases(df, temp_filings['company_name'].values.tolist(), temp_csi['company_name'].values.tolist())"
   ]
  },
  {
   "cell_type": "code",
   "execution_count": 369,
   "metadata": {
    "collapsed": false
   },
   "outputs": [],
   "source": [
    "#df2 = df.sort_values(by=['match_ratio', 'partial_match_ratio'], ascending=False)\n",
    "#df.sort_values(by=['percent_match'], ascending=False)"
   ]
  },
  {
   "cell_type": "code",
   "execution_count": 370,
   "metadata": {
    "collapsed": false
   },
   "outputs": [],
   "source": [
    "#df[df['partial_match_ratio'] >= 60]"
   ]
  },
  {
   "cell_type": "code",
   "execution_count": 386,
   "metadata": {
    "collapsed": true
   },
   "outputs": [],
   "source": [
    "nasdaq_companies = pd.read_csv(\"data/nasdaqcompanylist.csv\")\n",
    "amex_companies = pd.read_csv(\"data/amexcompanylist.csv\")\n",
    "nyse_companies = pd.read_csv(\"data/nysecompanylist.csv\")"
   ]
  },
  {
   "cell_type": "code",
   "execution_count": null,
   "metadata": {
    "collapsed": false
   },
   "outputs": [],
   "source": []
  },
  {
   "cell_type": "code",
   "execution_count": 423,
   "metadata": {
    "collapsed": false
   },
   "outputs": [],
   "source": [
    "nasdaq_name_and_ticker = pd.DataFrame(nasdaq_companies, columns=['Symbol', 'Name'])\n",
    "amex_name_and_ticker = pd.DataFrame(amex_companies, columns=['Symbol', 'Name'])\n",
    "nyse_name_and_ticker = pd.DataFrame(nyse_companies, columns=['Symbol', 'Name'])\n",
    "companies_and_symbols = pd.concat([nasdaq_name_and_ticker, amex_name_and_ticker, nyse_name_and_ticker])\n",
    "companies_and_tickers = companies_and_symbols.rename(columns={'Symbol': 'ticker', \"Name\": \"name\"})"
   ]
  },
  {
   "cell_type": "code",
   "execution_count": 424,
   "metadata": {
    "collapsed": false
   },
   "outputs": [
    {
     "data": {
      "text/html": [
       "<div>\n",
       "<table border=\"1\" class=\"dataframe\">\n",
       "  <thead>\n",
       "    <tr style=\"text-align: right;\">\n",
       "      <th></th>\n",
       "      <th>ticker</th>\n",
       "      <th>name</th>\n",
       "    </tr>\n",
       "  </thead>\n",
       "  <tbody>\n",
       "    <tr>\n",
       "      <th>0</th>\n",
       "      <td>PIH</td>\n",
       "      <td>1347 Property Insurance Holdings, Inc.</td>\n",
       "    </tr>\n",
       "    <tr>\n",
       "      <th>1</th>\n",
       "      <td>FLWS</td>\n",
       "      <td>1-800 FLOWERS.COM, Inc.</td>\n",
       "    </tr>\n",
       "    <tr>\n",
       "      <th>2</th>\n",
       "      <td>FCCY</td>\n",
       "      <td>1st Constitution Bancorp (NJ)</td>\n",
       "    </tr>\n",
       "    <tr>\n",
       "      <th>3</th>\n",
       "      <td>SRCE</td>\n",
       "      <td>1st Source Corporation</td>\n",
       "    </tr>\n",
       "    <tr>\n",
       "      <th>4</th>\n",
       "      <td>VNET</td>\n",
       "      <td>21Vianet Group, Inc.</td>\n",
       "    </tr>\n",
       "  </tbody>\n",
       "</table>\n",
       "</div>"
      ],
      "text/plain": [
       "  ticker                                    name\n",
       "0    PIH  1347 Property Insurance Holdings, Inc.\n",
       "1   FLWS                 1-800 FLOWERS.COM, Inc.\n",
       "2   FCCY           1st Constitution Bancorp (NJ)\n",
       "3   SRCE                  1st Source Corporation\n",
       "4   VNET                    21Vianet Group, Inc."
      ]
     },
     "execution_count": 424,
     "metadata": {},
     "output_type": "execute_result"
    }
   ],
   "source": [
    "companies_and_tickers.head()"
   ]
  },
  {
   "cell_type": "code",
   "execution_count": 458,
   "metadata": {
    "collapsed": false
   },
   "outputs": [],
   "source": [
    "list_of_tickers_from_nasdaq = companies_and_tickers['ticker'].values.tolist()\n",
    "list_of_tickers_in_cik_to_csi_table = pd.read_sql_query('select distinct symbol from cik_to_csi;',con=engine)['symbol'].values.tolist()\n"
   ]
  },
  {
   "cell_type": "code",
   "execution_count": 842,
   "metadata": {
    "collapsed": false
   },
   "outputs": [
    {
     "name": "stdout",
     "output_type": "stream",
     "text": [
      "5\n",
      "CPU times: user 624 ms, sys: 38.3 ms, total: 663 ms\n",
      "Wall time: 19.3 s\n"
     ]
    }
   ],
   "source": [
    "%%time\n",
    "#ticker_list = make_list_of_tickers()\n",
    "\n",
    "def tickers_to_cik(list_of_tickers):\n",
    "    URL = 'http://www.sec.gov/cgi-bin/browse-edgar?CIK={}&Find=Search&owner=exclude&action=getcompany'\n",
    "    CIK_RE = re.compile('.*CIK=(\\d{10}).*')\n",
    "    no_matches = []\n",
    "    cik_dict = {}\n",
    "    for ticker in list_of_tickers:\n",
    "        results = CIK_RE.findall(get(URL.format(ticker)).text)\n",
    "        if len(results):\n",
    "            cik_dict[str(ticker).upper()] = str(results[0]).lstrip('0')\n",
    "        else:\n",
    "            no_matches.append(str(ticker).upper())\n",
    "    return cik_dict, no_matches\n",
    "ticker_cik_dict, no_matches = tickers_to_cik(list(set(ticker_list)))\n",
    "print(len(ticker_cik_dict))"
   ]
  },
  {
   "cell_type": "code",
   "execution_count": 860,
   "metadata": {
    "collapsed": false
   },
   "outputs": [
    {
     "data": {
      "text/plain": [
       "['VIN', 'PXLG', 'CDSUI', 'BCGR', 'TCHSF']"
      ]
     },
     "execution_count": 860,
     "metadata": {},
     "output_type": "execute_result"
    }
   ],
   "source": [
    "no_matches"
   ]
  },
  {
   "cell_type": "code",
   "execution_count": 853,
   "metadata": {
    "collapsed": false
   },
   "outputs": [],
   "source": [
    "import json"
   ]
  },
  {
   "cell_type": "code",
   "execution_count": 856,
   "metadata": {
    "collapsed": false
   },
   "outputs": [
    {
     "data": {
      "text/plain": [
       "\"\\nwith open('data/ticker_to_cik.json', 'w') as f:\\n    f.write(json.dumps(str(ticker_cik_dict)))\\n    f.close()\\nwith open('data/tickers_no_cik.txt', 'w') as f:    \\n    f.write(str(no_matches))\\n    f.close()\\n\""
      ]
     },
     "execution_count": 856,
     "metadata": {},
     "output_type": "execute_result"
    }
   ],
   "source": [
    "'''\n",
    "with open('data/ticker_to_cik.json', 'w') as f:\n",
    "    f.write(json.dumps(str(ticker_cik_dict)))\n",
    "    f.close()\n",
    "with open('data/tickers_no_cik.txt', 'w') as f:    \n",
    "    f.write(str(no_matches))\n",
    "    f.close()\n",
    "'''"
   ]
  },
  {
   "cell_type": "code",
   "execution_count": 871,
   "metadata": {
    "collapsed": false
   },
   "outputs": [],
   "source": [
    "from urllib.parse import urlparse\n",
    "from threading import Thread\n",
    "import http.client as httplib \n",
    "import sys\n",
    "from queue import Queue\n",
    "\n",
    "\n",
    "def tickers_to_cik(list_of_tickers):\n",
    "    concurrent = 200\n",
    "\n",
    "    def doWork():\n",
    "        while True:\n",
    "            url = q.get()\n",
    "            status, url = getStatus(url)\n",
    "            doSomethingWithResult(status, url)\n",
    "            q.task_done()\n",
    "\n",
    "    def getStatus(ourl):\n",
    "        try:\n",
    "            url = urlparse(ourl)\n",
    "            conn = httplib.HTTPConnection(url.netloc)   \n",
    "            conn.request(\"HEAD\", url.path)\n",
    "            res = conn.getresponse()\n",
    "            return res.status, ourl\n",
    "        except:\n",
    "            return \"error\", ourl\n",
    "\n",
    "    def doSomethingWithResult(status, url):\n",
    "        #print(status, url)\n",
    "        pass\n",
    "\n",
    "    q = Queue(concurrent * 2)\n",
    "    for i in range(concurrent):\n",
    "        t = Thread(target=doWork)\n",
    "        t.daemon = True\n",
    "        t.start()\n",
    "\n",
    "\n",
    "    try:    \n",
    "        URL = 'http://www.sec.gov/cgi-bin/browse-edgar?CIK={}&Find=Search&owner=exclude&action=getcompany'\n",
    "        CIK_RE = re.compile('.*CIK=(\\d{10}).*')\n",
    "        no_matches = []\n",
    "        cik_dict = {}\n",
    "        for ticker in list_of_tickers:\n",
    "            results = CIK_RE.findall(get(URL.format(ticker)).text)\n",
    "            q.put(results)\n",
    "            if len(results):\n",
    "                cik_dict[str(ticker).upper()] = str(results[0]).lstrip('0')\n",
    "            else:\n",
    "                no_matches.append(str(ticker).upper())\n",
    "        q.join()\n",
    "\n",
    "\n",
    "    except KeyboardInterrupt:\n",
    "        sys.exit(1)\n",
    "    return cik_dict, no_matches"
   ]
  },
  {
   "cell_type": "code",
   "execution_count": 882,
   "metadata": {
    "collapsed": false
   },
   "outputs": [
    {
     "data": {
      "text/plain": [
       "99340"
      ]
     },
     "execution_count": 882,
     "metadata": {},
     "output_type": "execute_result"
    }
   ],
   "source": [
    "ticker_list = make_list_of_tickers()\n",
    "len(list(set(ticker_list)))"
   ]
  },
  {
   "cell_type": "code",
   "execution_count": null,
   "metadata": {
    "collapsed": false
   },
   "outputs": [],
   "source": [
    "matches, non_matches = tickers_to_cik(ticker_list)"
   ]
  },
  {
   "cell_type": "code",
   "execution_count": null,
   "metadata": {
    "collapsed": false
   },
   "outputs": [],
   "source": []
  },
  {
   "cell_type": "code",
   "execution_count": null,
   "metadata": {
    "collapsed": true
   },
   "outputs": [],
   "source": []
  },
  {
   "cell_type": "code",
   "execution_count": null,
   "metadata": {
    "collapsed": true
   },
   "outputs": [],
   "source": []
  },
  {
   "cell_type": "code",
   "execution_count": null,
   "metadata": {
    "collapsed": true
   },
   "outputs": [],
   "source": []
  },
  {
   "cell_type": "code",
   "execution_count": null,
   "metadata": {
    "collapsed": true
   },
   "outputs": [],
   "source": []
  },
  {
   "cell_type": "code",
   "execution_count": null,
   "metadata": {
    "collapsed": true
   },
   "outputs": [],
   "source": []
  },
  {
   "cell_type": "code",
   "execution_count": null,
   "metadata": {
    "collapsed": true
   },
   "outputs": [],
   "source": []
  },
  {
   "cell_type": "code",
   "execution_count": null,
   "metadata": {
    "collapsed": true
   },
   "outputs": [],
   "source": []
  },
  {
   "cell_type": "code",
   "execution_count": null,
   "metadata": {
    "collapsed": true
   },
   "outputs": [],
   "source": []
  },
  {
   "cell_type": "code",
   "execution_count": null,
   "metadata": {
    "collapsed": true
   },
   "outputs": [],
   "source": []
  },
  {
   "cell_type": "code",
   "execution_count": null,
   "metadata": {
    "collapsed": true
   },
   "outputs": [],
   "source": []
  }
 ],
 "metadata": {
  "kernelspec": {
   "display_name": "Python 3",
   "language": "python",
   "name": "python3"
  },
  "language_info": {
   "codemirror_mode": {
    "name": "ipython",
    "version": 3
   },
   "file_extension": ".py",
   "mimetype": "text/x-python",
   "name": "python",
   "nbconvert_exporter": "python",
   "pygments_lexer": "ipython3",
   "version": "3.5.1"
  }
 },
 "nbformat": 4,
 "nbformat_minor": 1
}
