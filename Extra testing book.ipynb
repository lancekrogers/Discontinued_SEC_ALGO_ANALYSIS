{
 "cells": [
  {
   "cell_type": "code",
   "execution_count": 1,
   "metadata": {
    "collapsed": false
   },
   "outputs": [],
   "source": [
    "import pandas as pd\n",
    "import numpy as np\n",
    "from fuzzywuzzy import fuzz, process\n",
    "import difflib\n"
   ]
  },
  {
   "cell_type": "code",
   "execution_count": 3,
   "metadata": {
    "collapsed": false
   },
   "outputs": [],
   "source": [
    "x = \"MOUNTAIN VIEW MOFFETT FLD NAS\""
   ]
  },
  {
   "cell_type": "code",
   "execution_count": 4,
   "metadata": {
    "collapsed": false
   },
   "outputs": [],
   "source": [
    "y = \"MOUNTAIN VIEW MOFFETT FLD NAS\""
   ]
  },
  {
   "cell_type": "code",
   "execution_count": 5,
   "metadata": {
    "collapsed": false
   },
   "outputs": [],
   "source": [
    "assert x == y"
   ]
  },
  {
   "cell_type": "code",
   "execution_count": 12,
   "metadata": {
    "collapsed": false
   },
   "outputs": [
    {
     "data": {
      "text/plain": [
       "73"
      ]
     },
     "execution_count": 12,
     "metadata": {},
     "output_type": "execute_result"
    }
   ],
   "source": [
    "fuzz.ratio(\"Twilio Inc.\", \"Twilio Inc. Class A\")"
   ]
  },
  {
   "cell_type": "code",
   "execution_count": 13,
   "metadata": {
    "collapsed": false
   },
   "outputs": [
    {
     "data": {
      "text/plain": [
       "100"
      ]
     },
     "execution_count": 13,
     "metadata": {},
     "output_type": "execute_result"
    }
   ],
   "source": [
    "fuzz.partial_ratio(\"Twilio Inc.\", \"Twilio Inc. Class A\")"
   ]
  },
  {
   "cell_type": "code",
   "execution_count": 14,
   "metadata": {
    "collapsed": false
   },
   "outputs": [
    {
     "data": {
      "text/plain": [
       "[('New York Jets', 100), ('New York Giants', 79)]"
      ]
     },
     "execution_count": 14,
     "metadata": {},
     "output_type": "execute_result"
    }
   ],
   "source": [
    "choices = [\"Atlanta Falcons\", \"New York Jets\", \"New York Giants\", \"Dallas Cowboys\"]\n",
    "process.extract(\"new york jets\", choices, limit=2)\n"
   ]
  },
  {
   "cell_type": "code",
   "execution_count": 15,
   "metadata": {
    "collapsed": false
   },
   "outputs": [
    {
     "data": {
      "text/plain": [
       "('Dallas Cowboys', 90)"
      ]
     },
     "execution_count": 15,
     "metadata": {},
     "output_type": "execute_result"
    }
   ],
   "source": [
    "process.extractOne(\"cowboys\", choices)"
   ]
  },
  {
   "cell_type": "code",
   "execution_count": 30,
   "metadata": {
    "collapsed": false
   },
   "outputs": [],
   "source": [
    "def lev(a, b):\n",
    "    if not a: return len(b)\n",
    "    if not b: return len(a)\n",
    "    return min(lev(a[1:], b[1:])+(a[0] != b[0]), lev(a[1:], b)+1, lev(a, b[1:])+1)"
   ]
  },
  {
   "cell_type": "code",
   "execution_count": 46,
   "metadata": {
    "collapsed": false
   },
   "outputs": [],
   "source": [
    "nasdaq_companies = pd.read_csv(\"data/nasdaqcompanylist.csv\")\n",
    "amex_companies = pd.read_csv(\"data/amexcompanylist.csv\")\n",
    "nyse_companies = pd.read_csv(\"data/nysecompanylist.csv\")\n"
   ]
  },
  {
   "cell_type": "code",
   "execution_count": 52,
   "metadata": {
    "collapsed": false
   },
   "outputs": [],
   "source": [
    "import xml.etree.ElementTree as ET\n",
    "import request"
   ]
  },
  {
   "cell_type": "code",
   "execution_count": 50,
   "metadata": {
    "collapsed": false
   },
   "outputs": [
    {
     "ename": "FileNotFoundError",
     "evalue": "[Errno 2] No such file or directory: 'https://www.sec.gov/edgar/searchedgar/companysearch.html'",
     "output_type": "error",
     "traceback": [
      "\u001b[0;31m---------------------------------------------------------------------------\u001b[0m",
      "\u001b[0;31mFileNotFoundError\u001b[0m                         Traceback (most recent call last)",
      "\u001b[0;32m<ipython-input-50-3edd490e92ba>\u001b[0m in \u001b[0;36m<module>\u001b[0;34m()\u001b[0m\n\u001b[0;32m----> 1\u001b[0;31m \u001b[0mtree\u001b[0m \u001b[0;34m=\u001b[0m \u001b[0mET\u001b[0m\u001b[0;34m.\u001b[0m\u001b[0mparse\u001b[0m\u001b[0;34m(\u001b[0m\u001b[0;34m'https://www.sec.gov/edgar/searchedgar/companysearch.html'\u001b[0m\u001b[0;34m)\u001b[0m\u001b[0;34m\u001b[0m\u001b[0m\n\u001b[0m\u001b[1;32m      2\u001b[0m \u001b[0mroot\u001b[0m \u001b[0;34m=\u001b[0m \u001b[0mtree\u001b[0m\u001b[0;34m.\u001b[0m\u001b[0mgetRoot\u001b[0m\u001b[0;34m(\u001b[0m\u001b[0;34m)\u001b[0m\u001b[0;34m\u001b[0m\u001b[0m\n",
      "\u001b[0;32m/Library/Frameworks/Python.framework/Versions/3.5/lib/python3.5/xml/etree/ElementTree.py\u001b[0m in \u001b[0;36mparse\u001b[0;34m(source, parser)\u001b[0m\n\u001b[1;32m   1180\u001b[0m     \"\"\"\n\u001b[1;32m   1181\u001b[0m     \u001b[0mtree\u001b[0m \u001b[0;34m=\u001b[0m \u001b[0mElementTree\u001b[0m\u001b[0;34m(\u001b[0m\u001b[0;34m)\u001b[0m\u001b[0;34m\u001b[0m\u001b[0m\n\u001b[0;32m-> 1182\u001b[0;31m     \u001b[0mtree\u001b[0m\u001b[0;34m.\u001b[0m\u001b[0mparse\u001b[0m\u001b[0;34m(\u001b[0m\u001b[0msource\u001b[0m\u001b[0;34m,\u001b[0m \u001b[0mparser\u001b[0m\u001b[0;34m)\u001b[0m\u001b[0;34m\u001b[0m\u001b[0m\n\u001b[0m\u001b[1;32m   1183\u001b[0m     \u001b[0;32mreturn\u001b[0m \u001b[0mtree\u001b[0m\u001b[0;34m\u001b[0m\u001b[0m\n\u001b[1;32m   1184\u001b[0m \u001b[0;34m\u001b[0m\u001b[0m\n",
      "\u001b[0;32m/Library/Frameworks/Python.framework/Versions/3.5/lib/python3.5/xml/etree/ElementTree.py\u001b[0m in \u001b[0;36mparse\u001b[0;34m(self, source, parser)\u001b[0m\n\u001b[1;32m    581\u001b[0m         \u001b[0mclose_source\u001b[0m \u001b[0;34m=\u001b[0m \u001b[0;32mFalse\u001b[0m\u001b[0;34m\u001b[0m\u001b[0m\n\u001b[1;32m    582\u001b[0m         \u001b[0;32mif\u001b[0m \u001b[0;32mnot\u001b[0m \u001b[0mhasattr\u001b[0m\u001b[0;34m(\u001b[0m\u001b[0msource\u001b[0m\u001b[0;34m,\u001b[0m \u001b[0;34m\"read\"\u001b[0m\u001b[0;34m)\u001b[0m\u001b[0;34m:\u001b[0m\u001b[0;34m\u001b[0m\u001b[0m\n\u001b[0;32m--> 583\u001b[0;31m             \u001b[0msource\u001b[0m \u001b[0;34m=\u001b[0m \u001b[0mopen\u001b[0m\u001b[0;34m(\u001b[0m\u001b[0msource\u001b[0m\u001b[0;34m,\u001b[0m \u001b[0;34m\"rb\"\u001b[0m\u001b[0;34m)\u001b[0m\u001b[0;34m\u001b[0m\u001b[0m\n\u001b[0m\u001b[1;32m    584\u001b[0m             \u001b[0mclose_source\u001b[0m \u001b[0;34m=\u001b[0m \u001b[0;32mTrue\u001b[0m\u001b[0;34m\u001b[0m\u001b[0m\n\u001b[1;32m    585\u001b[0m         \u001b[0;32mtry\u001b[0m\u001b[0;34m:\u001b[0m\u001b[0;34m\u001b[0m\u001b[0m\n",
      "\u001b[0;31mFileNotFoundError\u001b[0m: [Errno 2] No such file or directory: 'https://www.sec.gov/edgar/searchedgar/companysearch.html'"
     ]
    }
   ],
   "source": [
    "tree = ET.parse('https://www.sec.gov/edgar/searchedgar/companysearch.html')\n",
    "root = tree.getRoot()"
   ]
  },
  {
   "cell_type": "code",
   "execution_count": 103,
   "metadata": {
    "collapsed": false
   },
   "outputs": [],
   "source": [
    "\n",
    "import re\n",
    "from pickle import dump\n",
    "from requests import get\n",
    "\n",
    "\n",
    "def tickers_to_cik(list_of_tickers):\n",
    "    URL = 'http://www.sec.gov/cgi-bin/browse-edgar?CIK={}&Find=Search&owner=exclude&action=getcompany'\n",
    "    CIK_RE = re.compile(b'.*CIK=(\\d{10}).*')\n",
    "\n",
    "    cik_dict = {}\n",
    "    for ticker in list_of_tickers:\n",
    "        results = CIK_RE.findall(get(URL.format(ticker)).content)\n",
    "        if len(results):\n",
    "            cik_dict[str(ticker).lower()] = str(results[0])\n",
    "    f = open('cik_dict', 'wb')\n",
    "    dump(cik_dict, f)\n",
    "    return cik_dict\n",
    "\n"
   ]
  },
  {
   "cell_type": "code",
   "execution_count": 105,
   "metadata": {
    "collapsed": false
   },
   "outputs": [],
   "source": [
    "ticks = ['aapl', 'twlo', 'T']\n",
    "di = tickers_to_cik(ticks)"
   ]
  },
  {
   "cell_type": "code",
   "execution_count": 106,
   "metadata": {
    "collapsed": false
   },
   "outputs": [
    {
     "data": {
      "text/plain": [
       "{'aapl': \"b'0000320193'\", 't': \"b'0000732717'\", 'twlo': \"b'0000101704'\"}"
      ]
     },
     "execution_count": 106,
     "metadata": {},
     "output_type": "execute_result"
    }
   ],
   "source": [
    "di\n"
   ]
  },
  {
   "cell_type": "code",
   "execution_count": 145,
   "metadata": {
    "collapsed": false
   },
   "outputs": [
    {
     "name": "stdout",
     "output_type": "stream",
     "text": [
      "CIK=0000101830\n"
     ]
    }
   ],
   "source": [
    "import urllib\n",
    "import time\n",
    "ticker = 'BAC'\n",
    "string_match = 'rel=\"alternate\"'\n",
    "url = 'http://www.sec.gov/cgi-bin/browse-edgar?company=&match=&CIK=%s&owner=exclude&Find=Find+Companies&action=getcompany'.format(ticker)\n",
    "response = urllib.request.urlopen(url)\n",
    "\n",
    "\n",
    "for line in response:\n",
    "    if string_match.encode() in line:\n",
    "        for element in  line.decode().split(';'):\n",
    "            if 'CIK' in element:\n",
    "                cik = element.replace('&amp','')\n",
    "                print(cik)"
   ]
  },
  {
   "cell_type": "code",
   "execution_count": 2,
   "metadata": {
    "collapsed": false
   },
   "outputs": [],
   "source": [
    "cik_dict = {'AAASX': '95603',\n",
    " 'AAINX': '811869',\n",
    " 'AAT': '1500217',\n",
    " 'ABPYX': '812015',\n",
    " 'ABRFX': '1539996',\n",
    " 'ABSYX': '809593',\n",
    " 'ACDVX': '105377',\n",
    " 'ACREX': '921770',\n",
    " 'ADVC': '925043',\n",
    " 'AEIBX': '830744',\n",
    " 'AESAX': '877233',\n",
    " 'AEVNX': '827060',\n",
    " 'AFCSX': '872825',\n",
    " 'AGBVX': '880268',\n",
    " 'AIOIX': '872825',\n",
    " 'AKBA': '1517022',\n",
    " 'ALUIX': '778202',\n",
    " 'AMAB': '1040491',\n",
    " 'AMDSX': '912036',\n",
    " 'AMRBX': '5138',\n",
    " 'AMUAX': '81443',\n",
    " 'ANIP': '1023024',\n",
    " 'ANMGX': '867297',\n",
    " 'AOMAX': '878719',\n",
    " 'AORMX': '1293210',\n",
    " 'ARGRX': '1293210',\n",
    " 'ASEYX': '809593',\n",
    " 'ASMTX': '705318',\n",
    " 'AVGR': '1506928',\n",
    " 'AVH': '1575969',\n",
    " 'AWPAX': '920701',\n",
    " 'AXC': '1374796',\n",
    " 'AXGAX': '1140531',\n",
    " 'AXTI': '1051627',\n",
    " 'BABY': '878526',\n",
    " 'BAYRY': '1144145',\n",
    " 'BBAGX': '811869',\n",
    " 'BBVLX': '1567101',\n",
    " 'BGCP': '1094831',\n",
    " 'BMTL': '1443062',\n",
    " 'BNVAX': '886244',\n",
    " 'BONA': '1504796',\n",
    " 'BOTSX': '916006',\n",
    " 'BRGPX': '844779',\n",
    " 'BRID': '14177',\n",
    " 'BSGRX': '710124',\n",
    " 'BTDG': '725929',\n",
    " 'BTSAX': '1314414',\n",
    " 'BTSCX': '1314414',\n",
    " 'BTSMX': '882748',\n",
    " 'BX': '1393818',\n",
    " 'CAGAX': '2110',\n",
    " 'CBAYX': '356682',\n",
    " 'CBOAX': '826813',\n",
    " 'CBSRX': '69752',\n",
    " 'CCCFF': '889329',\n",
    " 'CCHEX': '826732',\n",
    " 'CEFC': '828535',\n",
    " 'CFCI': '949859',\n",
    " 'CFCOU': '1668428',\n",
    " 'CGQRX': '1352280',\n",
    " 'CHTMX': '912036',\n",
    " 'CIBRX': '773757',\n",
    " 'CIHYX': '826732',\n",
    " 'CITP': '948850',\n",
    " 'CLNH': '1043325',\n",
    " 'CLRBW': '1279704',\n",
    " 'CNPEX': '71516',\n",
    " 'COLLX': '1314414',\n",
    " 'CORSQ': '51939',\n",
    " 'COSMX': '854126',\n",
    " 'CPVRX': '1352280',\n",
    " 'CRAY': '949158',\n",
    " 'CRLCX': '1352280',\n",
    " 'CSNIX': '946110',\n",
    " 'CSRVX': '1308336',\n",
    " 'CSTL': '908605',\n",
    " 'CTOT': '1087455',\n",
    " 'CTPRX': '1352280',\n",
    " 'CUNB': '1543643',\n",
    " 'DAYFX': '52136',\n",
    " 'DDFAX': '27825',\n",
    " 'DDFRX': '105377',\n",
    " 'DEUBX': '910682',\n",
    " 'DEUFX': '851680',\n",
    " 'DGCBX': '27825',\n",
    " 'DGSNX': '867297',\n",
    " 'DGYIX': '1111178',\n",
    " 'DHAPX': '1517238',\n",
    " 'DIGIX': '1004784',\n",
    " 'DISEX': '1004784',\n",
    " 'DPCCX': '881773',\n",
    " 'DRFAX': '71701',\n",
    " 'DRUG': '1075206',\n",
    " 'DTMEX': '355437',\n",
    " 'DTRX': '28372',\n",
    " 'DVA': '927066',\n",
    " 'DVFAX': '1307144',\n",
    " 'DWUGX': '831114',\n",
    " 'EAGWX': '783740',\n",
    " 'ECCGX': '102816',\n",
    " 'ECRBX': '63075',\n",
    " 'EGLBX': '817656',\n",
    " 'EGORX': '1081400',\n",
    " 'EILGX': '102816',\n",
    " 'ELTTY': '1492261',\n",
    " 'EPHO': '1085082',\n",
    " 'ESST': '907410',\n",
    " 'EVSBX': '1046026',\n",
    " 'EVVV': '1318310',\n",
    " 'FABFX': '872625',\n",
    " 'FASGX': '354046',\n",
    " 'FAVTX': '722574',\n",
    " 'FBREX': '912291',\n",
    " 'FCNIX': '315700',\n",
    " 'FDIAX': '795422',\n",
    " 'FDMAX': '315700',\n",
    " 'FECAX': '744822',\n",
    " 'FECLX': '49905',\n",
    " 'FEVIX': '906352',\n",
    " 'FFHFX': '225322',\n",
    " 'FFIOX': '1518042',\n",
    " 'FIVMX': '744822',\n",
    " 'FJCTX': '820892',\n",
    " 'FJTSY': '1003811',\n",
    " 'FKBSX': '745968',\n",
    " 'FKTFX': '225375',\n",
    " 'FLOBX': '1018972',\n",
    " 'FMJWX': '700859',\n",
    " 'FPOAX': '1552947',\n",
    " 'FRCBX': '773478',\n",
    " 'FRURX': '38721',\n",
    " 'FSDCX': '320351',\n",
    " 'FSHSX': '353101',\n",
    " 'FSNGX': '320351',\n",
    " 'FSTEX': '725781',\n",
    " 'FUBIX': '751199',\n",
    " 'GARMX': '822977',\n",
    " 'GATMX': '822977',\n",
    " 'GBLMX': '1314414',\n",
    " 'GCFIX': '822977',\n",
    " 'GECFX': '1388485',\n",
    " 'GFGSX': '822977',\n",
    " 'GGBZX': '1131013',\n",
    " 'GGSCX': '822977',\n",
    " 'GGTRX': '1048702',\n",
    " 'GHCIX': '1537140',\n",
    " 'GIDRX': '1521894',\n",
    " 'GIEZX': '1131013',\n",
    " 'GIFLX': '822977',\n",
    " 'GIJIX': '88525',\n",
    " 'GLCUX': '822977',\n",
    " 'GLLCX': '1048702',\n",
    " 'GMVIX': '822977',\n",
    " 'GOTTQ': '790414',\n",
    " 'GRSH': '1655506',\n",
    " 'GTIM': '825324',\n",
    " 'GTMWX': '1557156',\n",
    " 'GULIX': '1048702',\n",
    " 'HCABX': '811527',\n",
    " 'HDSAX': '1217286',\n",
    " 'HEDYY': '1123455',\n",
    " 'HENLX': '891944',\n",
    " 'HIMGX': '793769',\n",
    " 'HITCX': '811527',\n",
    " 'HLETX': '1006415',\n",
    " 'HMTBX': '810695',\n",
    " 'HPEAX': '891079',\n",
    " 'HRBR': '899394',\n",
    " 'HRTVX': '809586',\n",
    " 'HUBB': '48898',\n",
    " 'HVOIX': '49905',\n",
    " 'HWAFX': '810695',\n",
    " 'HXBM': '831749',\n",
    " 'IAPSX': '1039001',\n",
    " 'ICCC': '811641',\n",
    " 'ICGIX': '1039001',\n",
    " 'ICL': '941221',\n",
    " 'ICSRX': '1469192',\n",
    " 'IDICX': '842790',\n",
    " 'IDXQX': '1039001',\n",
    " 'IESYX': '1352280',\n",
    " 'IFIWX': '895430',\n",
    " 'IGEIX': '895430',\n",
    " 'IJCTX': '837276',\n",
    " 'ILFLX': '1010481',\n",
    " 'IMCI': '884650',\n",
    " 'IMGAX': '837276',\n",
    " 'IMHCX': '883622',\n",
    " 'IMIBX': '895430',\n",
    " 'IMUCX': '787623',\n",
    " 'INIFX': '750022',\n",
    " 'INNDX': '49717',\n",
    " 'INPBX': '1537151',\n",
    " 'IRSMX': '1392116',\n",
    " 'ITKG': '1018281',\n",
    " 'IVKPX': '837276',\n",
    " 'IVKSX': '1039001',\n",
    " 'IVLBX': '1063946',\n",
    " 'IVVIX': '883622',\n",
    " 'IZSRX': '880859',\n",
    " 'JBAFX': '22370',\n",
    " 'JBL': '898293',\n",
    " 'JDAZX': '949512',\n",
    " 'JGRMX': '1217286',\n",
    " 'JLKPX': '1331971',\n",
    " 'JMF': '1502711',\n",
    " 'JMOAX': '277751',\n",
    " 'JPDVX': '1217286',\n",
    " 'JRBSX': '1217286',\n",
    " 'JRISX': '1331971',\n",
    " 'JRNCX': '1217286',\n",
    " 'JRTLX': '1331971',\n",
    " 'KDSBX': '825062',\n",
    " 'KHYKX': '1554495',\n",
    " 'KOGRX': '1022661',\n",
    " 'LAIDX': '898031',\n",
    " 'LAUYX': '911507',\n",
    " 'LBNDX': '60365',\n",
    " 'LCVFX': '898031',\n",
    " 'LECO': '59527',\n",
    " 'LGGAX': '1474103',\n",
    " 'LLMRX': '880366',\n",
    " 'LMMRX': '880366',\n",
    " 'LPLCX': '1314414',\n",
    " 'LSPAX': '1506768',\n",
    " 'LTTSX': '1330967',\n",
    " 'LVLRX': '826644',\n",
    " 'MADOX': '710977',\n",
    " 'MAIBX': '889366',\n",
    " 'MAPAX': '787441',\n",
    " 'MBCAX': '751656',\n",
    " 'MBDIX': '63075',\n",
    " 'MBSGX': '1040612',\n",
    " 'MEVOX': '874964',\n",
    " 'MFEGX': '798250',\n",
    " 'MFTAX': '1314414',\n",
    " 'MGCEX': '1489215',\n",
    " 'MGGBX': '720309',\n",
    " 'MGTCX': '787623',\n",
    " 'MGZCX': '1581466',\n",
    " 'MHIGX': '225604',\n",
    " 'MISGX': '745467',\n",
    " 'MITFX': '889366',\n",
    " 'MKHCX': '787441',\n",
    " 'MLAR': '1102276',\n",
    " 'MLVFX': '916053',\n",
    " 'MLVTX': '798244',\n",
    " 'MMAFX': '882443',\n",
    " 'MMCTX': '787441',\n",
    " 'MMXZX': '916053',\n",
    " 'MNHCX': '751173',\n",
    " 'MO': '764180',\n",
    " 'MPGNX': '927972',\n",
    " 'MPSTX': '1111565',\n",
    " 'MSLDX': '913534',\n",
    " 'MSLV': '916704',\n",
    " 'MSRRX': '200489',\n",
    " 'MSSVX': '882443',\n",
    " 'MSVHX': '783740',\n",
    " 'MTRBX': '200489',\n",
    " 'MVCJX': '911637',\n",
    " 'MVRTX': '787441',\n",
    " 'MVSTX': '830744',\n",
    " 'MWE': '1166036',\n",
    " 'MXBFX': '356476',\n",
    " 'MXHRX': '356476',\n",
    " 'MYSWX': '1469192',\n",
    " 'NACMX': '1097519',\n",
    " 'NBDCX': '1576367',\n",
    " 'NBSCX': '1020861',\n",
    " 'NCX+': '922960',\n",
    " 'NDNIX': '1314414',\n",
    " 'NEOMX': '1215880',\n",
    " 'NGUAX': '44402',\n",
    " 'NIGIX': '1013881',\n",
    " 'NISVX': '831114',\n",
    " 'NITNX': '1020660',\n",
    " 'NOVSP': '1025953',\n",
    " 'NPVAX': '1048702',\n",
    " 'NTSMX': '311101',\n",
    " 'NWJPX': '1048702',\n",
    " 'NWWFX': '1048702',\n",
    " 'NYBAX': '1048702',\n",
    " 'NYMTP': '1273685',\n",
    " 'OCLFX': '775180',\n",
    " 'OFAIX': '1027596',\n",
    " 'OLVCX': '763852',\n",
    " 'ONGAX': '763852',\n",
    " 'ORA': '1296445',\n",
    " 'OWNUX': '909994',\n",
    " 'PABFX': '949512',\n",
    " 'PAGVX': '759827',\n",
    " 'PANC': '1040017',\n",
    " 'PCTPX': '810893',\n",
    " 'PEBLX': '810893',\n",
    " 'PEIQX': '898745',\n",
    " 'PEQDX': '1479360',\n",
    " 'PEYAX': '216934',\n",
    " 'PFIS': '1056943',\n",
    " 'PFSB': '920945',\n",
    " 'PGAPX': '810893',\n",
    " 'PGL': '77385',\n",
    " 'PHIR': '1050686',\n",
    " 'PHIV': '1111882',\n",
    " 'PHLY': '909109',\n",
    " 'PHREX': '1576367',\n",
    " 'PIICX': '930007',\n",
    " 'PIPGX': '1484961',\n",
    " 'PJDZX': '1090155',\n",
    " 'PLOAX': '778202',\n",
    " 'PLPC': '80035',\n",
    " 'PLTPX': '810893',\n",
    " 'PPIMX': '898745',\n",
    " 'PSPYX': '1039949',\n",
    " 'PSRRX': '810893',\n",
    " 'PTP': '1171500',\n",
    " 'PTSAX': '810893',\n",
    " 'PTSRX': '810893',\n",
    " 'PUCAX': '1104631',\n",
    " 'PWEI': '852426',\n",
    " 'PWJCX': '741350',\n",
    " 'PXADX': '810893',\n",
    " 'PYMCX': '810893',\n",
    " 'PYTO': '1002422',\n",
    " 'QCOR': '891288',\n",
    " 'QEPM': '1576044',\n",
    " 'QSFT': '1088033',\n",
    " 'QUERX': '1444822',\n",
    " 'RACWX': '1352280',\n",
    " 'RCETX': '1380175',\n",
    " 'RCL+': '884887',\n",
    " 'RDIB': '716634',\n",
    " 'RECTX': '1380175',\n",
    " 'REINX': '842790',\n",
    " 'RELAX': '1602508',\n",
    " 'RIMKX': '1057120',\n",
    " 'ROWSX': '351601',\n",
    " 'RPRCX': '709364',\n",
    " 'RRECX': '831025',\n",
    " 'RRPAX': '939934',\n",
    " 'RRTPX': '1177017',\n",
    " 'RSEDX': '1352280',\n",
    " 'RSPP': '1588216',\n",
    " 'RTEIX': '880934',\n",
    " 'RVGIX': '1352280',\n",
    " 'RYI': '1481582',\n",
    " 'RYISX': '899148',\n",
    " 'RYVIX': '899148',\n",
    " 'SAPIF': '1177650',\n",
    " 'SAR': '1377936',\n",
    " 'SBUX': '829224',\n",
    " 'SCHLX': '88048',\n",
    " 'SCRA': '1045942',\n",
    " 'SCSCX': '225843',\n",
    " 'SEAKX': '92500',\n",
    " 'SEEDX': '1318342',\n",
    " 'SEMMX': '1027596',\n",
    " 'SEPKX': '1081400',\n",
    " 'SFITX': '93715',\n",
    " 'SGHIX': '811860',\n",
    " 'SHGOX': '881466',\n",
    " 'SHLMX': '1391673',\n",
    " 'SHLO': '904979',\n",
    " 'SIBKX': '1107414',\n",
    " 'SIGM': '790715',\n",
    " 'SITRX': '225843',\n",
    " 'SMTC': '88941',\n",
    " 'SNC': '1610793',\n",
    " 'SNTS': '1172480',\n",
    " 'SOUAX': '809593',\n",
    " 'SPGRX': '926425',\n",
    " 'SPIDX': '1112996',\n",
    " 'SPNE': '1637761',\n",
    " 'SQUM': '1123606',\n",
    " 'SRNN': '946453',\n",
    " 'SRTBX': '837529',\n",
    " 'SRYP': '784932',\n",
    " 'SSKEX': '1107414',\n",
    " 'SSSGX': '225843',\n",
    " 'STBBX': '1286364',\n",
    " 'STKL': '351834',\n",
    " 'STMP': '1082923',\n",
    " 'STRA': '1013934',\n",
    " 'SWANX': '904333',\n",
    " 'SYT': '1123661',\n",
    " 'TBTI': '726451',\n",
    " 'TCS': '1411688',\n",
    " 'TDC': '816761',\n",
    " 'TDDAX': '81443',\n",
    " 'TFEQX': '865722',\n",
    " 'TGIAX': '916490',\n",
    " 'TGIRX': '816153',\n",
    " 'TGWIX': '892071',\n",
    " 'TIIUX': '875186',\n",
    " 'TINY': '893739',\n",
    " 'TMSIX': '811869',\n",
    " 'TNEYX': '202032',\n",
    " 'TPEIX': '811869',\n",
    " 'TRQ': '1158041',\n",
    " 'TSDAX': '914243',\n",
    " 'TSFIX': '914243',\n",
    " 'TWQAX': '787623',\n",
    " 'UBGCX': '1047712',\n",
    " 'UBSI': '729986',\n",
    " 'UISCX': '908695',\n",
    " 'USDC': '943895',\n",
    " 'VALEX': '1518042',\n",
    " 'VCFAX': '1392116',\n",
    " 'VCIX': '1028718',\n",
    " 'VCO': '930543',\n",
    " 'VDGAX': '802716',\n",
    " 'VGECX': '1005020',\n",
    " 'VGRIX': '1217286',\n",
    " 'VIEIX': '36405',\n",
    " 'VKPCX': '1112996',\n",
    " 'VLY': '714310',\n",
    " 'VNOM': '1602065',\n",
    " 'VPG': '1487952',\n",
    " 'VPGYX': '802716',\n",
    " 'VSEVX': '799127',\n",
    " 'VSPGX': '891190',\n",
    " 'VYRNX': '1039001',\n",
    " 'WAOCX': '863520',\n",
    " 'WASCX': '883622',\n",
    " 'WC': '1184702',\n",
    " 'WFABX': '1081400',\n",
    " 'WFDCX': '1067479',\n",
    " 'WGVYX': '1072962',\n",
    " 'WHGIX': '878719',\n",
    " 'WHYMX': '1081400',\n",
    " 'WLBPZ': '106455',\n",
    " 'WMNCX': '1081400',\n",
    " 'WOOOX': '763852',\n",
    " 'WPFIX': '1046068',\n",
    " 'WPOIX': '1257927'}"
   ]
  },
  {
   "cell_type": "code",
   "execution_count": 9,
   "metadata": {
    "collapsed": false
   },
   "outputs": [],
   "source": [
    "ticker_list = list(cik_dict.keys())"
   ]
  },
  {
   "cell_type": "code",
   "execution_count": 26,
   "metadata": {
    "collapsed": false
   },
   "outputs": [],
   "source": [
    "class unicode(type):\n",
    "    \n",
    "    def __str__():\n",
    "        return 'unicode'"
   ]
  },
  {
   "cell_type": "code",
   "execution_count": 27,
   "metadata": {
    "collapsed": false
   },
   "outputs": [],
   "source": [
    "n = unicode\n"
   ]
  },
  {
   "cell_type": "code",
   "execution_count": null,
   "metadata": {
    "collapsed": false
   },
   "outputs": [],
   "source": []
  },
  {
   "cell_type": "code",
   "execution_count": null,
   "metadata": {
    "collapsed": true
   },
   "outputs": [],
   "source": []
  },
  {
   "cell_type": "code",
   "execution_count": null,
   "metadata": {
    "collapsed": true
   },
   "outputs": [],
   "source": []
  },
  {
   "cell_type": "code",
   "execution_count": null,
   "metadata": {
    "collapsed": true
   },
   "outputs": [],
   "source": []
  },
  {
   "cell_type": "code",
   "execution_count": null,
   "metadata": {
    "collapsed": true
   },
   "outputs": [],
   "source": []
  },
  {
   "cell_type": "code",
   "execution_count": null,
   "metadata": {
    "collapsed": true
   },
   "outputs": [],
   "source": []
  },
  {
   "cell_type": "code",
   "execution_count": null,
   "metadata": {
    "collapsed": true
   },
   "outputs": [],
   "source": []
  },
  {
   "cell_type": "code",
   "execution_count": null,
   "metadata": {
    "collapsed": true
   },
   "outputs": [],
   "source": []
  },
  {
   "cell_type": "code",
   "execution_count": null,
   "metadata": {
    "collapsed": true
   },
   "outputs": [],
   "source": []
  },
  {
   "cell_type": "code",
   "execution_count": null,
   "metadata": {
    "collapsed": true
   },
   "outputs": [],
   "source": [
    "\n"
   ]
  },
  {
   "cell_type": "code",
   "execution_count": null,
   "metadata": {
    "collapsed": true
   },
   "outputs": [],
   "source": []
  }
 ],
 "metadata": {
  "kernelspec": {
   "display_name": "Python 3",
   "language": "python",
   "name": "python3"
  },
  "language_info": {
   "codemirror_mode": {
    "name": "ipython",
    "version": 3
   },
   "file_extension": ".py",
   "mimetype": "text/x-python",
   "name": "python",
   "nbconvert_exporter": "python",
   "pygments_lexer": "ipython3",
   "version": "3.5.1"
  }
 },
 "nbformat": 4,
 "nbformat_minor": 1
}
